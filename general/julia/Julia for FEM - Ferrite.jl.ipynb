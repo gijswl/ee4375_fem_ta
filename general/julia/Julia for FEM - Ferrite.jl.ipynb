{
 "cells": [
  {
   "cell_type": "markdown",
   "id": "expired-aspect",
   "metadata": {},
   "source": [
    "# Julia for FEM: ``Ferrite.jl``\n",
    "Ferrite is a finite element toolbox that provides functionalities to implement finite element analysis in Julia. The aim is to be general and to keep mathematical abstractions. The main functionalities of the package include:\n",
    "- Facilitate integration using different quadrature rules.\n",
    "- Define different finite element interpolations.\n",
    "- Evaluate shape functions, derivatives of shape functions etc. for the different interpolations and quadrature rules.\n",
    "- Evaluate functions and derivatives in the finite element space.\n",
    "- Generate simple grids.\n",
    "- Export grids and solutions to VTK.\n",
    "\n",
    "This package used to be called ``JuAFEM.jl``."
   ]
  },
  {
   "cell_type": "markdown",
   "id": "provincial-opportunity",
   "metadata": {},
   "source": [
    "## Installation\n",
    "You can install Ferrite from the Pkg REPL (press ``]`` in the Julia REPL to enter ``pkg>`` mode):\n",
    "```\n",
    "pkg> add Ferrite\n",
    "```"
   ]
  },
  {
   "cell_type": "markdown",
   "id": "resistant-software",
   "metadata": {},
   "source": [
    "## Documentation & Tutorials"
   ]
  },
  {
   "cell_type": "markdown",
   "id": "interested-collar",
   "metadata": {},
   "source": [
    "## Integration with ``Gmsh``\n",
    "\n",
    "```julia\n",
    "using Ferrite, FerriteGmsh\n",
    "\n",
    "saved_file_to_grid(\"path/to/model.msh\")\n",
    "```"
   ]
  },
  {
   "cell_type": "markdown",
   "id": "veterinary-spring",
   "metadata": {},
   "source": [
    "## Visualization"
   ]
  },
  {
   "cell_type": "markdown",
   "id": "deluxe-ceremony",
   "metadata": {},
   "source": [
    "# Example"
   ]
  },
  {
   "cell_type": "code",
   "execution_count": null,
   "id": "sapphire-digest",
   "metadata": {},
   "outputs": [],
   "source": [
    "using gmsh\n",
    "\n",
    "using Ferrite, FerriteGmsh\n",
    "using SparseArrays"
   ]
  },
  {
   "cell_type": "code",
   "execution_count": null,
   "id": "appointed-point",
   "metadata": {},
   "outputs": [],
   "source": [
    "R_cond = 19.1e-3;\n",
    "R_ins  = 18.4e-3;\n",
    "R_sh   = 1e-3;\n",
    "R_jac  = 8e-3;\n",
    "\n",
    "r_cond = R_cond;             # Conductor\n",
    "r_ins  = r_cond + R_cond;    # Insulator\n",
    "r_sh   = r_ins + R_sh;       # Sheath\n",
    "r_jac  = r_sh + R_jac;       # Jacket\n",
    "\n",
    "V = 245e3 * sqrt(2 / 3); # Operating voltage\n",
    "\n",
    "# Mesh density\n",
    "mshd_cond = R_cond / 20; \n",
    "mshd_ins  = R_ins / 10;\n",
    "mshd_sh   = R_sh / 2;\n",
    "mshd_jac  = R_jac / 2;"
   ]
  },
  {
   "cell_type": "code",
   "execution_count": null,
   "id": "boring-sender",
   "metadata": {},
   "outputs": [],
   "source": [
    "#gmsh.finalize()\n",
    "gmsh.initialize()\n",
    "gmsh.option.setNumber(\"General.Terminal\", 1)\n",
    "gmsh.model.add(\"ferrite_example\")\n",
    "\n",
    "geo = gmsh.model.geo;\n",
    "\n",
    "## Points\n",
    "geo.addPoint(0, 0, 0, 1, 1)\n",
    "geo.addPoint(+r_cond, 0, 0, mshd_cond, 2)\n",
    "geo.addPoint(-r_cond, 0, 0, mshd_cond, 3)\n",
    "geo.addPoint(+r_ins, 0, 0, mshd_sh, 4)\n",
    "geo.addPoint(-r_ins, 0, 0, mshd_sh, 5)\n",
    "geo.addPoint(+r_sh, 0, 0, mshd_sh, 6)\n",
    "geo.addPoint(-r_sh, 0, 0, mshd_sh, 7)\n",
    "geo.addPoint(+r_jac, 0, 0, mshd_jac, 8)\n",
    "geo.addPoint(-r_jac, 0, 0, mshd_jac, 9)\n",
    "\n",
    "## Curves\n",
    "geo.addCircleArc(2, 1, 3, 1)\n",
    "geo.addCircleArc(3, 1, 2, 2)\n",
    "geo.addCircleArc(4, 1, 5, 3)\n",
    "geo.addCircleArc(5, 1, 4, 4)\n",
    "geo.addCircleArc(6, 1, 7, 5)\n",
    "geo.addCircleArc(7, 1, 6, 6)\n",
    "geo.addCircleArc(8, 1, 9, 7)\n",
    "geo.addCircleArc(9, 1, 8, 8)\n",
    "\n",
    "## Surfaces\n",
    "geo.addCurveLoop([1, 2], 1)\n",
    "geo.addCurveLoop([3, 4], 2)\n",
    "geo.addCurveLoop([5, 6], 3)\n",
    "geo.addCurveLoop([7, 8], 4)\n",
    "\n",
    "geo.addPlaneSurface([1], 1)\n",
    "geo.addPlaneSurface([2, 1], 2)\n",
    "geo.addPlaneSurface([3, 1, 2], 3)\n",
    "geo.addPlaneSurface([4, 1, 2, 3], 4)\n",
    "\n",
    "## Define domains\n",
    "geo.addPhysicalGroup(2, [1], 1) # Conductor\n",
    "geo.addPhysicalGroup(2, [2], 2) # Dielectric\n",
    "geo.addPhysicalGroup(2, [3], 3) # Sheath\n",
    "geo.addPhysicalGroup(2, [4], 4) # Jacket\n",
    "gmsh.model.setPhysicalName(2, 1, \"Dielectric\")\n",
    "gmsh.model.setPhysicalName(2, 2, \"Conductor\")\n",
    "gmsh.model.setPhysicalName(2, 3, \"Sheath\")\n",
    "gmsh.model.setPhysicalName(2, 4, \"Jacket\")\n",
    "\n",
    "geo.addPhysicalGroup(1, [1, 2], 1) # Conductor boundary\n",
    "geo.addPhysicalGroup(1, [3, 4], 2) # Sheath boundary\n",
    "geo.addPhysicalGroup(0, [2, 3], 1) # Conductor nodes\n",
    "geo.addPhysicalGroup(0, [4, 5], 2) # Sheath nodes\n",
    "\n",
    "gmsh.model.setPhysicalName(1, 1, \"D1\")\n",
    "gmsh.model.setPhysicalName(1, 2, \"D2\")\n",
    "gmsh.model.setPhysicalName(0, 1, \"D1p\")\n",
    "gmsh.model.setPhysicalName(0, 2, \"D2p\")\n",
    "\n",
    "# Generate mesh and save\n",
    "gmsh.model.geo.synchronize()\n",
    "gmsh.model.mesh.generate(2)\n",
    "\n",
    "gmsh.write(\"geo/ferrite_example.msh\")"
   ]
  },
  {
   "cell_type": "markdown",
   "id": "absent-scholarship",
   "metadata": {},
   "source": [
    "## Ferrite"
   ]
  },
  {
   "cell_type": "code",
   "execution_count": null,
   "id": "satellite-palmer",
   "metadata": {},
   "outputs": [],
   "source": [
    "# Load the mesh using FerriteGmsh\n",
    "grid = saved_file_to_grid(\"geo/ferrite_example.msh\");"
   ]
  },
  {
   "cell_type": "code",
   "execution_count": null,
   "id": "adopted-discussion",
   "metadata": {},
   "outputs": [],
   "source": [
    "# Create finite element interpolation and quadrature rule\n",
    "dim = 2\n",
    "ip_fe  = Lagrange{dim, RefTetrahedron, 2}()\n",
    "ip_geo = Lagrange{dim, RefTetrahedron, 1}()\n",
    "qr = QuadratureRule{dim, RefTetrahedron}(2)\n",
    "cellvalues = CellScalarValues(qr, ip_fe, ip_geo);\n",
    "\n",
    "# Create handler for the degrees of freedom, and define the scalar potential field\n",
    "dh   = DofHandler(grid);\n",
    "push!(dh, :V, 1, ip_fe)\n",
    "close!(dh)"
   ]
  },
  {
   "cell_type": "code",
   "execution_count": null,
   "id": "spanish-ready",
   "metadata": {},
   "outputs": [],
   "source": [
    "# Define the boundary conditions using a constraint handler\n",
    "ch = ConstraintHandler(dh);\n",
    "\n",
    "dbc_V = Dirichlet(\n",
    "    :V,\n",
    "    getfaceset(grid, \"D1\"),\n",
    "    (x,t) -> V;\n",
    ");\n",
    "dbc_0 = Dirichlet(\n",
    "    :V,\n",
    "    getfaceset(grid, \"D2\"),\n",
    "    (x,t) -> 0;\n",
    ")\n",
    "\n",
    "add!(ch, dbc_V)\n",
    "add!(ch, dbc_0)\n",
    "\n",
    "close!(ch)\n",
    "update!(ch, 0.0); # Since the BCs do not depend on time, update them once at t = 0.0"
   ]
  },
  {
   "cell_type": "code",
   "execution_count": null,
   "id": "funny-measure",
   "metadata": {},
   "outputs": [],
   "source": [
    "# Element assembly: computes the elementary matrix contributions Ke and fe\n",
    "function assemble_element!(Ke::Matrix, fe::Vector, cellvalues::CellScalarValues)\n",
    "    n_basefuncs = getnbasefunctions(cellvalues)\n",
    "    # Reset to 0\n",
    "    fill!(Ke, 0)\n",
    "    fill!(fe, 0)\n",
    "    # Loop over quadrature points\n",
    "    for q_point in 1:getnquadpoints(cellvalues)\n",
    "        # Get the quadrature weight\n",
    "        dΩ = getdetJdV(cellvalues, q_point)\n",
    "        # Loop over test shape functions\n",
    "        for i in 1:n_basefuncs\n",
    "            v  = shape_value(cellvalues, q_point, i)\n",
    "            ∇v = shape_gradient(cellvalues, q_point, i)\n",
    "            \n",
    "            # Add contribution to fe\n",
    "            #fe[i] += 0 * δu * dΩ\n",
    "            \n",
    "            # Loop over trial shape functions\n",
    "            for j in 1:n_basefuncs\n",
    "                ∇u = shape_gradient(cellvalues, q_point, j)\n",
    "                # Add contribution to Ke\n",
    "                Ke[i, j] += (∇v ⋅ ∇u) * dΩ\n",
    "            end\n",
    "        end\n",
    "    end\n",
    "    return Ke, fe\n",
    "end\n",
    "\n",
    "# Global assembly: computes global matrix K and f using element contributions\n",
    "#  This is quite fast because of the use of a pre-allocated sparse matrix pattern.\n",
    "function assemble_global(cellvalues::CellScalarValues, K::SparseMatrixCSC, dh::DofHandler)\n",
    "    # Allocate the element stiffness matrix and element force vector\n",
    "    n_basefuncs = getnbasefunctions(cellvalues)\n",
    "    Ke = zeros(n_basefuncs, n_basefuncs)\n",
    "    fe = zeros(n_basefuncs)\n",
    "    # Allocate global force vector f\n",
    "    f = zeros(ndofs(dh))\n",
    "    \n",
    "    # Create an assembler\n",
    "    assembler = start_assemble(K, f)\n",
    "    # Loop over all cels\n",
    "    for cell in CellIterator(dh)\n",
    "        # Reinitialize cellvalues for this cell\n",
    "        reinit!(cellvalues, cell)\n",
    "        # Compute element contribution\n",
    "        assemble_element!(Ke, fe, cellvalues)\n",
    "        \n",
    "        # Assemble Ke and fe into K and f\n",
    "        assemble!(assembler, celldofs(cell), Ke, fe)\n",
    "    end\n",
    "    return K, f\n",
    "end"
   ]
  },
  {
   "cell_type": "code",
   "execution_count": null,
   "id": "varying-dressing",
   "metadata": {},
   "outputs": [],
   "source": [
    "# Create sparsity pattern from mesh data and assemble the linear system\n",
    "K = create_sparsity_pattern(dh);\n",
    "K, f = assemble_global(cellvalues, K, dh);\n",
    "\n",
    "# Apply the boundary conditions\n",
    "apply!(K, f, ch)\n",
    "\n",
    "# Solve the linear system\n",
    "u = K \\ f;"
   ]
  },
  {
   "cell_type": "markdown",
   "id": "theoretical-robinson",
   "metadata": {},
   "source": [
    "## Post-processing"
   ]
  },
  {
   "cell_type": "code",
   "execution_count": null,
   "id": "attractive-bicycle",
   "metadata": {},
   "outputs": [],
   "source": [
    "function compute_E(cellvalues::CellScalarValues{dim,T}, dh::DofHandler, a) where {dim,T}\n",
    "    n = getnbasefunctions(cellvalues)\n",
    "    cell_dofs = zeros(Int, n)\n",
    "    nqp = getnquadpoints(cellvalues)\n",
    "\n",
    "    # Allocate storage for the fluxes to store\n",
    "    E = [Ferrite.Vec{2,T}[] for _ in 1:getncells(dh.grid)]\n",
    "\n",
    "    for (cell_num, cell) in enumerate(CellIterator(dh))\n",
    "        E_cell = E[cell_num]\n",
    "        celldofs!(cell_dofs, dh, cell_num)\n",
    "        ae = a[cell_dofs]\n",
    "        reinit!(cellvalues, cell)\n",
    "\n",
    "        for E_point in 1:nqp\n",
    "            E_qp = - function_gradient(cellvalues, E_point, ae)\n",
    "            push!(E_cell, E_qp)\n",
    "        end\n",
    "    end\n",
    "    return E\n",
    "end\n",
    "\n",
    "E_gp = compute_E(cellvalues, dh, u);\n",
    "E = collect(mean(norm.(E_gp[i])) for i = 1:getncells(dh.grid));"
   ]
  },
  {
   "cell_type": "code",
   "execution_count": null,
   "id": "ongoing-catholic",
   "metadata": {},
   "outputs": [],
   "source": [
    "vtk_grid(\"images/ferrite_example\", dh) do vtk\n",
    "    vtk_point_data(vtk, dh, u)\n",
    "    vtk_cell_data(vtk, E, \"E\")\n",
    "end"
   ]
  },
  {
   "cell_type": "markdown",
   "id": "dietary-workshop",
   "metadata": {},
   "source": [
    "## Electric Potential\n",
    "![Results: Electric Potential](images/ferrite_ex_V.png)"
   ]
  },
  {
   "cell_type": "markdown",
   "id": "earlier-imaging",
   "metadata": {},
   "source": [
    "## Electric Field Strength\n",
    "![Results: Electric Field Strength](images/ferrite_ex_E.png)"
   ]
  }
 ],
 "metadata": {
  "kernelspec": {
   "display_name": "Julia 1.7.1",
   "language": "julia",
   "name": "julia-1.7"
  },
  "language_info": {
   "file_extension": ".jl",
   "mimetype": "application/julia",
   "name": "julia",
   "version": "1.7.1"
  }
 },
 "nbformat": 4,
 "nbformat_minor": 5
}
