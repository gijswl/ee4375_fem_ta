{
 "cells": [
  {
   "cell_type": "code",
   "execution_count": 3,
   "id": "characteristic-instrumentation",
   "metadata": {},
   "outputs": [],
   "source": [
    "using NLsolve\n",
    "using ForwardDiff\n",
    "\n",
    "using Plots"
   ]
  },
  {
   "cell_type": "markdown",
   "id": "educational-gravity",
   "metadata": {},
   "source": [
    "## Non-Linear Equations"
   ]
  },
  {
   "cell_type": "markdown",
   "id": "brief-selection",
   "metadata": {},
   "source": [
    "### With Manual Derivative"
   ]
  },
  {
   "cell_type": "code",
   "execution_count": 16,
   "id": "suspended-better",
   "metadata": {},
   "outputs": [
    {
     "name": "stdout",
     "output_type": "stream",
     "text": [
      "Iter     f(x) inf-norm    Step 2-norm \n",
      "------   --------------   --------------\n",
      "     0     4.301898e+00              NaN\n",
      "     1     1.699185e+00     9.341453e-02\n",
      "     2     5.033297e-01     1.000192e-01\n",
      "     3     8.037653e-02     6.022897e-02\n",
      "     4     2.954048e-03     1.367417e-02\n",
      "     5     4.348215e-06     5.417657e-04\n",
      "     6     9.453327e-12     7.998059e-07\n"
     ]
    },
    {
     "data": {
      "text/plain": [
       "Results of Nonlinear Solver Algorithm\n",
       " * Algorithm: Trust-region with dogleg and autoscaling\n",
       " * Starting Point: [1.1]\n",
       " * Zero: [1.3678794411697035]\n",
       " * Inf-norm of residuals: 0.000000\n",
       " * Iterations: 6\n",
       " * Convergence: true\n",
       "   * |x - x'| < 0.0e+00: false\n",
       "   * |f(x)| < 1.0e-08: true\n",
       " * Function Calls (f): 7\n",
       " * Jacobian Calls (df/dx): 7"
      ]
     },
     "execution_count": 16,
     "metadata": {},
     "output_type": "execute_result"
    }
   ],
   "source": [
    "# Define residual and jacobian\n",
    "function res!(F, x) \n",
    "    F[1] = log(x[1] - 1)^2 - 1;\n",
    "end\n",
    "\n",
    "function jac!(J, x) \n",
    "    J[1] = 2 * log(x[1] - 1) / (x[1] - 1);\n",
    "end\n",
    "\n",
    "r = nlsolve(res!, jac!, [1.1], show_trace = true)"
   ]
  },
  {
   "cell_type": "markdown",
   "id": "bacterial-fabric",
   "metadata": {},
   "source": [
    "### Using Automatic Differentiation"
   ]
  },
  {
   "cell_type": "code",
   "execution_count": 22,
   "id": "latter-windsor",
   "metadata": {},
   "outputs": [
    {
     "name": "stdout",
     "output_type": "stream",
     "text": [
      "Iter     f(x) inf-norm    Step 2-norm \n",
      "------   --------------   --------------\n",
      "     0     4.301898e+00              NaN\n",
      "     1     1.699185e+00     9.341453e-02\n",
      "     2     5.033297e-01     1.000192e-01\n",
      "     3     8.037653e-02     6.022897e-02\n",
      "     4     2.954048e-03     1.367417e-02\n",
      "     5     4.348215e-06     5.417657e-04\n",
      "     6     9.453327e-12     7.998059e-07\n"
     ]
    },
    {
     "data": {
      "text/plain": [
       "Results of Nonlinear Solver Algorithm\n",
       " * Algorithm: Trust-region with dogleg and autoscaling\n",
       " * Starting Point: [1.1]\n",
       " * Zero: [1.3678794411697035]\n",
       " * Inf-norm of residuals: 0.000000\n",
       " * Iterations: 6\n",
       " * Convergence: true\n",
       "   * |x - x'| < 0.0e+00: false\n",
       "   * |f(x)| < 1.0e-08: true\n",
       " * Function Calls (f): 7\n",
       " * Jacobian Calls (df/dx): 7"
      ]
     },
     "execution_count": 22,
     "metadata": {},
     "output_type": "execute_result"
    }
   ],
   "source": [
    "# Define only the residual\n",
    "function res!(F, x) \n",
    "    F[1] = log(x[1] - 1)^2 - 1;\n",
    "end\n",
    "\n",
    "r = nlsolve(res!, [1.1], show_trace = true, autodiff = :forward)"
   ]
  },
  {
   "cell_type": "markdown",
   "id": "popular-candidate",
   "metadata": {},
   "source": [
    "## Non-Linear Systems of Equations"
   ]
  },
  {
   "cell_type": "code",
   "execution_count": 40,
   "id": "lined-easter",
   "metadata": {},
   "outputs": [
    {
     "name": "stdout",
     "output_type": "stream",
     "text": [
      "Iter     f(x) inf-norm    Step 2-norm \n",
      "------   --------------   --------------\n",
      "     0     1.875000e+01              NaN\n",
      "     1     5.312500e+01     5.312500e+01\n",
      "     2     9.031250e+00     9.031250e+00\n",
      "     3     5.991807e-01     5.991807e-01\n",
      "     4     3.506143e-03     3.506143e-03\n",
      "     5     1.229131e-07     1.229131e-07\n",
      "     6     3.552714e-15     1.510764e-16\n"
     ]
    },
    {
     "data": {
      "text/plain": [
       "Results of Nonlinear Solver Algorithm\n",
       " * Algorithm: Newton with line-search\n",
       " * Starting Point: [0.0, -2.5]\n",
       " * Zero: [-3.5355339059327378, -3.5355339059327378]\n",
       " * Inf-norm of residuals: 0.000000\n",
       " * Iterations: 6\n",
       " * Convergence: true\n",
       "   * |x - x'| < 0.0e+00: false\n",
       "   * |f(x)| < 1.0e-08: true\n",
       " * Function Calls (f): 7\n",
       " * Jacobian Calls (df/dx): 7"
      ]
     },
     "execution_count": 40,
     "metadata": {},
     "output_type": "execute_result"
    }
   ],
   "source": [
    "function res!(F, x) \n",
    "    F[1] = x[1]^2 + x[2]^2 - 5^2;\n",
    "    F[2] = x[2] - x[1];\n",
    "end\n",
    "\n",
    "r = nlsolve(res!, [0.0, -2.5], show_trace = true, autodiff = :forward, method = :newton)"
   ]
  },
  {
   "cell_type": "code",
   "execution_count": null,
   "id": "dress-receiver",
   "metadata": {},
   "outputs": [],
   "source": []
  }
 ],
 "metadata": {
  "kernelspec": {
   "display_name": "Julia 1.7.1",
   "language": "julia",
   "name": "julia-1.7"
  },
  "language_info": {
   "file_extension": ".jl",
   "mimetype": "application/julia",
   "name": "julia",
   "version": "1.7.1"
  }
 },
 "nbformat": 4,
 "nbformat_minor": 5
}
