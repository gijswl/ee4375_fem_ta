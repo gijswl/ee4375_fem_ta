{
 "cells": [
  {
   "cell_type": "markdown",
   "id": "hungry-nightmare",
   "metadata": {},
   "source": [
    "# The Julia Programming Language"
   ]
  },
  {
   "cell_type": "markdown",
   "id": "refined-pavilion",
   "metadata": {},
   "source": [
    "## Multiple Dispatch\n",
    "Multiple dispatch is a fundamental paradigm of the Julia programming language. It is the selection of a function implementation based on the (_dynamic_) types of each argument of the function. It is not only a nice notation to remove a long list of “case” statements, but it is part of the reason for Julia’s speed.\n",
    "You can read more about multiple dispatch in general, and its implementation in Julia here:\n",
    " - Julia: A fresh approach to numerical computing ([arXiv paper](https://arxiv.org/pdf/1411.1607.pdf))\n",
    " - [Wikipedia](https://en.wikipedia.org/wiki/Multiple_dispatch)\n",
    " - The Julia documentation on [Methods](https://docs.julialang.org/en/v1/manual/methods/)\n",
    " - [Video \"The Unreasonable Effectiveness of Multiple Dispatch\" by Stefan Karpinski](https://www.youtube.com/watch?v=kc9HwsxE1OY)\n",
    "\n",
    "Other flavours of dispatch are:\n",
    "- Static single dispatch: not implemented in practice.\n",
    "- Static multiple dispatch: this implementation is common in statically typed languages (e.g., overloading in C++).\n",
    "- Dynamic single dispatch: in languages like MATLAB and Python.\n",
    "- Dynamic multiple dispatch: this is the implementation in Julia, typically referred to as \"multiple dispatch\"."
   ]
  },
  {
   "cell_type": "markdown",
   "id": "atlantic-constitution",
   "metadata": {},
   "source": [
    "### Example 1: "
   ]
  },
  {
   "cell_type": "code",
   "execution_count": null,
   "id": "raised-monroe",
   "metadata": {},
   "outputs": [],
   "source": []
  },
  {
   "cell_type": "markdown",
   "id": "listed-bench",
   "metadata": {},
   "source": [
    "### Example 2:"
   ]
  },
  {
   "cell_type": "code",
   "execution_count": null,
   "id": "dense-reverse",
   "metadata": {},
   "outputs": [],
   "source": []
  },
  {
   "cell_type": "markdown",
   "id": "duplicate-specialist",
   "metadata": {},
   "source": [
    "## Lazy Evaluation\n",
    "Lazy evaluation is the cornerstone of many functional programming languages. The key concept is as follows: when an operation such as a functional call is performed, we do not evaluate the result immediately (that would be _eager_ evaluation). Instead, the operation is postponed until the result is actually necessary, i.e., it is evaluated _lazily_.\n",
    "\n",
    "Laziness is exploited in several packages in Julia: ``Lazy.jl``, ``LazyArrays.jl``, and many others (see https://www.juliapackages.com/packages?search=lazy). The finite element method package ``Gridap.jl`` also makes use of laziness to achieve very high performance."
   ]
  },
  {
   "cell_type": "markdown",
   "id": "assigned-exclusive",
   "metadata": {},
   "source": [
    "### Laziness in Julia\n",
    "Even without using any additional packages, laziness is incorporated into several aspects of Julia:\n",
    " - Generators and ranges\n",
    " - "
   ]
  },
  {
   "cell_type": "markdown",
   "id": "interpreted-component",
   "metadata": {},
   "source": [
    "### Example: Ranges\n",
    "When using ranges or generators, the result will not be evaluated immediately. Instead, lazy evaluation is used to reduce computation time and storage until (part of) the result is necessary. This is illustrated using a range of integers in this example."
   ]
  },
  {
   "cell_type": "code",
   "execution_count": 3,
   "id": "pressing-convention",
   "metadata": {},
   "outputs": [],
   "source": [
    "using BenchmarkTools"
   ]
  },
  {
   "cell_type": "code",
   "execution_count": 5,
   "id": "qualified-retirement",
   "metadata": {},
   "outputs": [
    {
     "name": "stdout",
     "output_type": "stream",
     "text": [
      "  0.001 ns (0 allocations: 0 bytes)\n",
      "  13.264 ms (2 allocations: 76.29 MiB)\n"
     ]
    },
    {
     "data": {
      "text/plain": [
       "10000000-element Vector{Int64}:\n",
       "        1\n",
       "        2\n",
       "        3\n",
       "        4\n",
       "        5\n",
       "        6\n",
       "        7\n",
       "        8\n",
       "        9\n",
       "       10\n",
       "       11\n",
       "       12\n",
       "       13\n",
       "        ⋮\n",
       "  9999989\n",
       "  9999990\n",
       "  9999991\n",
       "  9999992\n",
       "  9999993\n",
       "  9999994\n",
       "  9999995\n",
       "  9999996\n",
       "  9999997\n",
       "  9999998\n",
       "  9999999\n",
       " 10000000"
      ]
     },
     "execution_count": 5,
     "metadata": {},
     "output_type": "execute_result"
    }
   ],
   "source": [
    "@btime 1:10000000\n",
    "@btime collect(1:10000000)"
   ]
  },
  {
   "cell_type": "markdown",
   "id": "surrounded-removal",
   "metadata": {},
   "source": [
    "### ``LazyArrays.jl``\n",
    "Lazy arrays allow for the lazy evaluation of operations on arrays and matrices. This includes specific algebraic operations, matrix solve, kronecker product, broadcasting, etc.\n",
    "The big advantage is that operations can be _compounded_ by not evaluating them immediately, but keeping track of which operations are to be performed on the array. \n",
    "- This allows for optimizations to be applied for certain compound operations that can be much faster than if every operation was evaluated eagerly.\n",
    "- Additionally, memory usage can often be kept low when using lazy arrays: there is no need to allocate any memory for the result because it is not computed immediately. Only when the result is actually needed, it will be computed on-demand."
   ]
  },
  {
   "cell_type": "code",
   "execution_count": 2,
   "id": "emerging-funds",
   "metadata": {},
   "outputs": [],
   "source": [
    "using LazyArrays"
   ]
  },
  {
   "cell_type": "markdown",
   "id": "verified-family",
   "metadata": {},
   "source": [
    "### Example 1: Optimized Matrix Operations"
   ]
  },
  {
   "cell_type": "code",
   "execution_count": 3,
   "id": "cellular-debut",
   "metadata": {},
   "outputs": [
    {
     "name": "stdout",
     "output_type": "stream",
     "text": [
      "  95.158 ns (0 allocations: 0 bytes)\n",
      "  207.719 ns (3 allocations: 288 bytes)\n"
     ]
    },
    {
     "data": {
      "text/plain": [
       "true"
      ]
     },
     "execution_count": 3,
     "metadata": {},
     "output_type": "execute_result"
    }
   ],
   "source": [
    "N = 5;\n",
    "A = randn(N,N); x = randn(N); y = randn(N); z1 = similar(y); z2 = similar(y);\n",
    "\n",
    "function fun(A, x, y, z)\n",
    "    z .= @~ 2.0 * A * x + 3.0 * y\n",
    "end\n",
    "z1 = @btime fun(A, x, y, z1)       # Optimized\n",
    "z2 = @btime 2.0 * A * x + 3.0 * y  # Not optimized\n",
    "\n",
    "z1 ≈ z2      # But the result is the same"
   ]
  },
  {
   "cell_type": "markdown",
   "id": "conceptual-offer",
   "metadata": {},
   "source": [
    "### Laziness in ``Gridap.jl``\n",
    "Laziness is used extensively in ``Gridap.jl``, and is the one of the reasons for its excellent performance. Lazy arrays play a fundamental role in the implementation of the finite element method in Gridap (how it works is explained in https://gridap.github.io/Tutorials/dev/pages/t013_poisson_dev_fe/).\n",
    "A large amount of code is devoted to lazy operations in Gridap, mostly centered around the ``lazy_map`` function. It creates a ``LazyArray`` that conceptually applies the mapping function to an array, but does not actually execute this until it is necessary. Large and complex 'compound' operations are built in this way. Eventually, the mapping may be evaluated at a set of points using evaluate.\n",
    "\n",
    "Lazy objects constructed in this way provide the following advantages in Gridap:\n",
    " - Memory allocation (and consumption) is kept at very low levels, since ``lazy_map`` will never return an array that stores the result at all cells at once.\n",
    " - Computation can be done in an efficient way (e.g., using cache to store the entry-wise data without the need to allocate memory each time we access the ``LazyArray``).\n",
    " - The recursive application of ``lazy_map`` lets us build complex operation trees among arrays of ``Maps`` as the ones required for the implementation of variational forms. While building these trees, by virtue of Julia support for multiple type dispatching, there are plenty of opportunities for optimization by changing the order in which the operations are performed.\n",
    " - Using ``lazy_map`` we are hiding thousands of cell loops across the code. As a result, Gridap is much more expressive for cell-wise implementations.\n",
    " - ``lazy_map`` allows for very expressive code that reads much like the original mathematical formulation both internally (e.g., in pretty much every aspect of low-level Gridap code) and externally (e.g., the definition of the variational form, shown below)."
   ]
  },
  {
   "cell_type": "code",
   "execution_count": null,
   "id": "close-spread",
   "metadata": {},
   "outputs": [],
   "source": [
    "res(u, v) = ∫( ∇(u) ⋅ ∇(v) )dΩ - ∫( fsource * v  )dΩ;"
   ]
  },
  {
   "cell_type": "markdown",
   "id": "southwest-zoning",
   "metadata": {},
   "source": [
    "Compare this to the original mathematical expression:\n",
    "$$ \\int \\nabla u \\cdot \\nabla v d\\Omega = \\int f v d\\Omega $$"
   ]
  },
  {
   "cell_type": "markdown",
   "id": "known-poland",
   "metadata": {},
   "source": [
    "The computational back-end of Gridap is discussed in the following paper: https://www.researchgate.net/publication/354890339_The_software_design_of_Gridap_a_Finite_Element_package_based_on_the_Julia_JIT_compiler"
   ]
  },
  {
   "cell_type": "markdown",
   "id": "german-reference",
   "metadata": {},
   "source": [
    "## Callable Structs"
   ]
  },
  {
   "cell_type": "markdown",
   "id": "divided-marker",
   "metadata": {},
   "source": [
    "## Automatic Differentiation\n",
    "In general, automatic differentiation (AD) is a set of techniques to evaluate the derivative of a function specified by a computer program. By applying the chain rule repeatedly to these operations, derivatives of arbitrary order can be computed automatically, accurately to working precision, and using at most a small constant factor more arithmetic operations than the original program [[Wikipedia](https://en.wikipedia.org/wiki/Automatic_differentiation)].\n",
    "\n",
    "Several Julia packages have been written that are related to automatic differentiation:\n",
    " - Zygote.jl\n",
    " - Enzyme.jl\n",
    " - ChainRules.jl"
   ]
  },
  {
   "cell_type": "markdown",
   "id": "accessory-adobe",
   "metadata": {},
   "source": [
    "### Example ``Zygote.jl``"
   ]
  },
  {
   "cell_type": "markdown",
   "id": "capital-domestic",
   "metadata": {},
   "source": [
    "### Example ``ChainRules.jl``"
   ]
  },
  {
   "cell_type": "markdown",
   "id": "blank-poetry",
   "metadata": {},
   "source": [
    "## Map, Filter, and Reduce\n",
    "The functions `map`, `filter`, and `reduce` are not exclusive to Julia, but are an important part of any functional programming language. They are so-called _higher-order functions_, which means that they can take other functions as arguments. Using these functions, very expressive code can be written (which typically means for-loops can be avoided).\n",
    "\n",
    "Note that these functions perform very well in conjuction with the lazy evaluation concept discussed above.\n",
    "\n",
    "### Map\n",
    "`map` applies a function `f` to every element of a collection `c` and returns a collection containing the results. The syntax is\n",
    "```julia\n",
    "map(f, c...)        # Apply 'f' to 'c' and return a new collection\n",
    "map!(f, dest, c)    # Apply 'f' to 'c' and store the result in 'dest'\n",
    "```\n",
    "For example, if we want to multiply all odd numbers in an array by $3$, this can be easily achieved using a `map`."
   ]
  },
  {
   "cell_type": "code",
   "execution_count": 4,
   "id": "prompt-situation",
   "metadata": {},
   "outputs": [
    {
     "name": "stdout",
     "output_type": "stream",
     "text": [
      "[1, 2, 3, 4, 5, 6, 7, 8, 9, 10, 11, 12, 13, 14, 15, 16, 17, 18, 19, 20]\n",
      "[3, 2, 9, 4, 15, 6, 21, 8, 27, 10, 33, 12, 39, 14, 45, 16, 51, 18, 57, 20]\n"
     ]
    }
   ],
   "source": [
    "a = collect(1:20);                      # Input collection of numbers\n",
    "b = map(a) do elem                      # Perform a map on the collection a\n",
    "    isodd(elem) ? 3 * elem : elem;      #    for each element: return 3 * elem  if it is odd, \n",
    "end;                                    #                      or         elem  if it is even\n",
    "\n",
    "print(a, \"\\n\")\n",
    "print(b, \"\\n\")"
   ]
  },
  {
   "cell_type": "markdown",
   "id": "waiting-harassment",
   "metadata": {},
   "source": [
    "### Filter\n",
    "`filter` returns a copy of a collection `a`, removing the elements for which a function `f` is false.\n",
    "```julia\n",
    "filter(f, a)    # Return a copy of 'a' containing only the elements for which 'f' is true\n",
    "```"
   ]
  },
  {
   "cell_type": "code",
   "execution_count": 5,
   "id": "cubic-watson",
   "metadata": {},
   "outputs": [
    {
     "name": "stdout",
     "output_type": "stream",
     "text": [
      "[1, 2, 3, 4, 5, 6, 7, 8, 9, 10]\n",
      "[1, 3, 5, 7, 9]\n"
     ]
    }
   ],
   "source": [
    "a = collect(1:10);        # Input collection of numbers\n",
    "b = filter(isodd, a);     # Return only those elements which are odd\n",
    "\n",
    "print(a, \"\\n\")\n",
    "print(b, \"\\n\")"
   ]
  },
  {
   "cell_type": "markdown",
   "id": "hydraulic-stereo",
   "metadata": {},
   "source": [
    "### Reduce\n",
    "`reduce` takes a collection of elements `itr` and reduces them to a single element, following the rule given by the operator `op`. The optional value `init` is returned for empty collections. It is often used to sum/multiply/subtract/divide, but could also be used to concatenate lists.\n",
    "```julia\n",
    "reduce(op, itr; [init])    # Reduce collection 'itr' using operator 'op' and return a new collection\n",
    "```\n",
    "The reduce operation is also known as `fold`. If associativity of the reduction must be guaranteed, the functions `foldl` and `foldr` can be used (for left or right associativity, respectively)."
   ]
  },
  {
   "cell_type": "code",
   "execution_count": 6,
   "id": "documentary-realtor",
   "metadata": {},
   "outputs": [
    {
     "name": "stdout",
     "output_type": "stream",
     "text": [
      "[1, 2, 3, 4, 5, 6, 7, 8, 9, 10]\n",
      "55\n"
     ]
    }
   ],
   "source": [
    "a = collect(1:10);        # Input collection of numbers\n",
    "b = reduce(+, a);         # Reduce the collection by adding all elements together\n",
    "\n",
    "print(a, \"\\n\")\n",
    "print(b, \"\\n\")"
   ]
  },
  {
   "cell_type": "markdown",
   "id": "olive-scale",
   "metadata": {},
   "source": [
    "The `map` and `reduce` actions can be combined in a single call to `mapreduce(f, op, itrs...)`, where `f` is applied to each element in `itrs` and the result is reduced using the binary function `op`."
   ]
  },
  {
   "cell_type": "code",
   "execution_count": 7,
   "id": "alpine-rogers",
   "metadata": {},
   "outputs": [],
   "source": [
    "# TODO mapreduce() example"
   ]
  }
 ],
 "metadata": {
  "kernelspec": {
   "display_name": "Julia 1.7.1",
   "language": "julia",
   "name": "julia-1.7"
  },
  "language_info": {
   "file_extension": ".jl",
   "mimetype": "application/julia",
   "name": "julia",
   "version": "1.7.1"
  }
 },
 "nbformat": 4,
 "nbformat_minor": 5
}
