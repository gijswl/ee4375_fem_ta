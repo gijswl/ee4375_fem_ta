{
 "cells": [
  {
   "cell_type": "markdown",
   "id": "premium-recall",
   "metadata": {},
   "source": [
    "# Julia for FEM: ``Gridap.jl``\n",
    "Gridap provides a set of tools for the grid-based approximation of partial differential equations (PDEs) written in the Julia programming language. The library currently supports linear and nonlinear PDE systems for scalar and vector fields, single and multi-field problems, conforming and nonconforming finite element (FE) discretizations, on structured and unstructured meshes of simplices and n-cubes. Gridap is extensible and modular. One can implement new FE spaces, new reference elements, use external mesh generators, linear solvers, post-processing tools, etc.\n",
    "\n",
    "More information is available at https://juliapackages.com/p/gridap."
   ]
  },
  {
   "cell_type": "markdown",
   "id": "collectible-desert",
   "metadata": {},
   "source": [
    "## Installation\n",
    "Gridap is a registered package in the official Julia package registry. Thus, the installation of Gridap is straight forward using the Julia's package manager. Open the Julia REPL, type ``]`` to enter package mode, and install as follows\n",
    "```\n",
    "pkg> add Gridap\n",
    "```"
   ]
  },
  {
   "cell_type": "markdown",
   "id": "timely-imperial",
   "metadata": {},
   "source": [
    "## Integration with ``Gmsh``\n",
    "We can directly use the geometries defined using ``Gmsh`` in ``Gridap.jl`` using the [GridapGmsh](https://github.com/gridap/GridapGmsh.jl) plugin. The model can be loaded directly with\n",
    "```julia\n",
    "using Gridap, GridapGmsh\n",
    "\n",
    "model = GmshDiscreteModel(\"path/to/model.msh\")\n",
    "```\n",
    "Named physical groups (e.g. domains or boundaries) can be accessed in ``Gridap`` to assign properties, such as material properties and boundary conditions. An example of this is given below."
   ]
  },
  {
   "cell_type": "markdown",
   "id": "rural-skating",
   "metadata": {},
   "source": [
    "## Visualization\n",
    "Visualization is very easy using ``Gridap``. There are two main possibilities:\n",
    "- Using an external program for viewing ``.vtk`` files such as [ParaView](https://www.paraview.org/)\n",
    "- Using the [GridapMakie.jl](https://github.com/gridap/GridapMakie.jl) plugin for plotting with [Makie.jl](https://github.com/JuliaPlots/Makie.jl)."
   ]
  },
  {
   "cell_type": "markdown",
   "id": "coordinated-brown",
   "metadata": {},
   "source": [
    "## Tutorials\n",
    "The github repository also has a set of tutorials for working with ``Gridap.jl``. This is mostly focussed on mechanical and fluid dynamic problems, but can be adapted for our power engineering purposes.\n",
    "- https://gridap.github.io/Tutorials/stable/\n",
    "- https://gridap.github.io/Tutorials/dev/"
   ]
  },
  {
   "cell_type": "markdown",
   "id": "further-recommendation",
   "metadata": {},
   "source": [
    "# Example: High-Voltage Cable"
   ]
  },
  {
   "cell_type": "code",
   "execution_count": null,
   "id": "nervous-writer",
   "metadata": {},
   "outputs": [],
   "source": [
    "using gmsh\n",
    "\n",
    "using Gridap, GridapGmsh"
   ]
  },
  {
   "cell_type": "markdown",
   "id": "electric-village",
   "metadata": {},
   "source": [
    "## Define Geometry"
   ]
  },
  {
   "cell_type": "code",
   "execution_count": null,
   "id": "corporate-blond",
   "metadata": {},
   "outputs": [],
   "source": [
    "R_cond = 19.1e-3;\n",
    "R_ins  = 18.4e-3;\n",
    "R_sh   = 1e-3;\n",
    "R_jac  = 8e-3;\n",
    "\n",
    "r_cond = R_cond;             # Conductor\n",
    "r_ins  = r_cond + R_cond;    # Insulator\n",
    "r_sh   = r_ins + R_sh;       # Sheath\n",
    "r_jac  = r_sh + R_jac;       # Jacket\n",
    "\n",
    "V = 245e3 * sqrt(2 / 3); # Operating voltage\n",
    "\n",
    "# Mesh density\n",
    "mshd_cond = R_cond / 10; \n",
    "mshd_ins  = R_ins / 10;\n",
    "mshd_sh   = R_sh / 5;\n",
    "mshd_jac  = R_jac / 2;"
   ]
  },
  {
   "cell_type": "code",
   "execution_count": null,
   "id": "excited-greek",
   "metadata": {},
   "outputs": [],
   "source": [
    "gmsh.finalize()\n",
    "gmsh.initialize()\n",
    "gmsh.option.setNumber(\"General.Terminal\", 1)\n",
    "gmsh.model.add(\"gridap_example\")\n",
    "\n",
    "geo = gmsh.model.geo;\n",
    "\n",
    "## Points\n",
    "geo.addPoint(0, 0, 0, 1, 1)\n",
    "geo.addPoint(+r_cond, 0, 0, mshd_cond, 2)\n",
    "geo.addPoint(-r_cond, 0, 0, mshd_cond, 3)\n",
    "geo.addPoint(+r_ins, 0, 0, mshd_sh, 4)\n",
    "geo.addPoint(-r_ins, 0, 0, mshd_sh, 5)\n",
    "geo.addPoint(+r_sh, 0, 0, mshd_sh, 6)\n",
    "geo.addPoint(-r_sh, 0, 0, mshd_sh, 7)\n",
    "geo.addPoint(+r_jac, 0, 0, mshd_jac, 8)\n",
    "geo.addPoint(-r_jac, 0, 0, mshd_jac, 9)\n",
    "\n",
    "## Curves\n",
    "geo.addCircleArc(2, 1, 3, 1)\n",
    "geo.addCircleArc(3, 1, 2, 2)\n",
    "geo.addCircleArc(4, 1, 5, 3)\n",
    "geo.addCircleArc(5, 1, 4, 4)\n",
    "geo.addCircleArc(6, 1, 7, 5)\n",
    "geo.addCircleArc(7, 1, 6, 6)\n",
    "geo.addCircleArc(8, 1, 9, 7)\n",
    "geo.addCircleArc(9, 1, 8, 8)\n",
    "\n",
    "## Surfaces\n",
    "geo.addCurveLoop([1, 2], 1)\n",
    "geo.addCurveLoop([3, 4], 2)\n",
    "geo.addCurveLoop([5, 6], 3)\n",
    "geo.addCurveLoop([7, 8], 4)\n",
    "\n",
    "geo.addPlaneSurface([1], 1)\n",
    "geo.addPlaneSurface([2, 1], 2)\n",
    "geo.addPlaneSurface([3, 1, 2], 3)\n",
    "geo.addPlaneSurface([4, 1, 2, 3], 4)\n",
    "\n",
    "## Define domains\n",
    "geo.addPhysicalGroup(2, [1], 1) # Conductor\n",
    "geo.addPhysicalGroup(2, [2], 2) # Dielectric\n",
    "geo.addPhysicalGroup(2, [3], 3) # Sheath\n",
    "geo.addPhysicalGroup(2, [4], 4) # Jacket\n",
    "gmsh.model.setPhysicalName(2, 1, \"Dielectric\")\n",
    "gmsh.model.setPhysicalName(2, 2, \"Conductor\")\n",
    "gmsh.model.setPhysicalName(2, 3, \"Sheath\")\n",
    "gmsh.model.setPhysicalName(2, 4, \"Jacket\")\n",
    "\n",
    "geo.addPhysicalGroup(1, [1, 2], 1) # Conductor boundary\n",
    "geo.addPhysicalGroup(1, [3, 4], 2) # Sheath boundary\n",
    "geo.addPhysicalGroup(0, [2, 3], 1) # Conductor nodes\n",
    "geo.addPhysicalGroup(0, [4, 5], 2) # Sheath nodes\n",
    "\n",
    "gmsh.model.setPhysicalName(1, 1, \"D1\")\n",
    "gmsh.model.setPhysicalName(1, 2, \"D2\")\n",
    "gmsh.model.setPhysicalName(0, 1, \"D1p\")\n",
    "gmsh.model.setPhysicalName(0, 2, \"D2p\")\n",
    "\n",
    "# Generate mesh and save\n",
    "gmsh.model.geo.synchronize()\n",
    "gmsh.model.mesh.generate(2)\n",
    "\n",
    "gmsh.write(\"geo/gridap_example.msh\")"
   ]
  },
  {
   "cell_type": "markdown",
   "id": "blocked-accreditation",
   "metadata": {},
   "source": [
    "## Gridap"
   ]
  },
  {
   "cell_type": "code",
   "execution_count": null,
   "id": "prompt-sunrise",
   "metadata": {},
   "outputs": [],
   "source": [
    "# Load geometry from gmsh\n",
    "model = GmshDiscreteModel(\"geo/gridap_example.msh\")\n",
    "\n",
    "# Create a reference finite element space to use for the construction of test space V0\n",
    "order = 2;\n",
    "reffe = ReferenceFE(lagrangian, Float64, order); # 2 = quadratic elements (P2)\n",
    "\n",
    "# The test space is created from the reference FE with\n",
    "#  conformity = H1: shape functions are continuous\n",
    "#  D1 and D2 being the boundary points with Dirichlet condition applied\n",
    "V0 = TestFESpace(model, reffe; conformity = :H1, dirichlet_tags = [\"D1\", \"D1p\", \"D2\", \"D2p\"]);\n",
    "\n",
    "# Trial space is constructed from the test space\n",
    "#  the array indicates the values of the Dirichlet condition at the ``dirichlet_tags``\n",
    "Ug = TrialFESpace(V0, [V, V, 0, 0]);\n",
    "\n",
    "# Triangulation of the domain\n",
    "#  degree must be at least 2 times the order of the reference space\n",
    "degree = 2 * order;\n",
    "Ω = Triangulation(model);\n",
    "dΩ = Measure(Ω, degree);"
   ]
  },
  {
   "cell_type": "code",
   "execution_count": null,
   "id": "crazy-edmonton",
   "metadata": {},
   "outputs": [],
   "source": [
    "# Construct weak form\n",
    "lhs(u,v) = ∫( ∇(v) ⋅ ∇(u) )dΩ;   # Bilinear term\n",
    "rhs(v)   = 0;                    # Linear term\n",
    "\n",
    "# Construct FE operator with LHS, RHS, and test and trial spaces\n",
    "#  This makes an affine mapping to the reference element\n",
    "op = AffineFEOperator(lhs, rhs, Ug, V0);\n",
    "\n",
    "# Solve the linear FE system with LU solver\n",
    "ls = LUSolver()\n",
    "solver = LinearFESolver(ls)\n",
    "uh = solve(solver, op);\n",
    "\n",
    "# Post-process for the electric field\n",
    "E = ∇(uh);"
   ]
  },
  {
   "cell_type": "markdown",
   "id": "handed-population",
   "metadata": {},
   "source": [
    "## Visualization"
   ]
  },
  {
   "cell_type": "code",
   "execution_count": null,
   "id": "final-landscape",
   "metadata": {},
   "outputs": [],
   "source": [
    "using CairoMakie\n",
    "using GridapMakie"
   ]
  },
  {
   "cell_type": "code",
   "execution_count": null,
   "id": "natural-graphic",
   "metadata": {},
   "outputs": [],
   "source": [
    "fig, ax , plt = plot(Ω, uh * 1e-3, colormap=:bluesreds)\n",
    "Colorbar(fig[1,2], plt, label = \"Electric Potential [kV]\")\n",
    "ax.aspect = AxisAspect(1)\n",
    "save(\"images/gridap_ex_V.png\", fig)\n",
    "current_figure()"
   ]
  },
  {
   "cell_type": "markdown",
   "id": "increasing-morgan",
   "metadata": {},
   "source": [
    "![Result: Electric Potential](images/gridap_ex_V.png)"
   ]
  },
  {
   "cell_type": "code",
   "execution_count": null,
   "id": "unable-disposition",
   "metadata": {},
   "outputs": [],
   "source": [
    "fig, ax , plt = plot(Ω, E * 1e-6, colormap=:bluesreds)\n",
    "Colorbar(fig[1,2], plt, label = \"Electric Field Strength [kV/mm]\")\n",
    "ax.aspect = AxisAspect(1)\n",
    "save(\"images/gridap_ex_E.png\", fig)\n",
    "current_figure()"
   ]
  },
  {
   "cell_type": "markdown",
   "id": "golden-prince",
   "metadata": {},
   "source": [
    "![Result: Electric Field Strength](images/gridap_ex_E.png)"
   ]
  }
 ],
 "metadata": {
  "kernelspec": {
   "display_name": "Julia 1.7.1",
   "language": "julia",
   "name": "julia-1.7"
  },
  "language_info": {
   "file_extension": ".jl",
   "mimetype": "application/julia",
   "name": "julia",
   "version": "1.7.1"
  }
 },
 "nbformat": 4,
 "nbformat_minor": 5
}
