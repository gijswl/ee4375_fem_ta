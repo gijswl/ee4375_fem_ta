{
 "cells": [
  {
   "cell_type": "code",
   "execution_count": null,
   "id": "silver-apple",
   "metadata": {},
   "outputs": [],
   "source": [
    "using gmsh"
   ]
  },
  {
   "cell_type": "code",
   "execution_count": null,
   "id": "herbal-level",
   "metadata": {},
   "outputs": [],
   "source": [
    "gmsh.finalize()\n",
    "gmsh.initialize()"
   ]
  },
  {
   "cell_type": "markdown",
   "id": "floating-limitation",
   "metadata": {},
   "source": [
    "# Exercise\n",
    "TODO: \n",
    " - Define geometry in an image with dimensions & other requirements\n",
    " - Define proper mesh densities for each of the nodes\n",
    "     - Add flexibility to rectangles, not every node should have the same density?"
   ]
  },
  {
   "cell_type": "markdown",
   "id": "indian-mainstream",
   "metadata": {},
   "source": [
    "# Geometry Definition"
   ]
  },
  {
   "cell_type": "code",
   "execution_count": null,
   "id": "compound-escape",
   "metadata": {},
   "outputs": [],
   "source": [
    "# Enclosure dimensions (enclosure is not centered, the core is)\n",
    "hencl1 = 65.5e-2;   # Height above the x-axis\n",
    "hencl2 = -53.5e-2;  # Height below the y-axis\n",
    "wencl  = 104e-2;    # Width\n",
    "\n",
    "# Core dimensions\n",
    "wcore = 84e-2;\n",
    "hcore = 100e-2;\n",
    "\n",
    "# Core gap dimensions (left and right are identical)\n",
    "wgap = 17e-2;\n",
    "hgap = 76e-2;\n",
    "mgap = 17e-2;\n",
    "\n",
    "# HV winding dimensions (all phases left/right are identical)\n",
    "wwhv = 3e-2;\n",
    "hwhv = 74e-2;\n",
    "mwhv = 14.75e-2;\n",
    "\n",
    "# LV winding dimensions (all phases left/right are identical)\n",
    "wwlv = 2e-2;\n",
    "hwlv = 74e-2;\n",
    "mwlv = 11.25e-2;\n",
    "\n",
    "# Mesh densities\n",
    "lc1 = 5e-2;      # Enclosure & core outer\n",
    "lc2 = 1e-2;      # Core inner\n",
    "lc3 = 1e-2;      # HV windings\n",
    "lc4 = 1e-2;      # LV windings"
   ]
  },
  {
   "cell_type": "code",
   "execution_count": null,
   "id": "written-front",
   "metadata": {},
   "outputs": [],
   "source": [
    "function gmsh_add_rectangle(mid, width, height, lc)\n",
    "    geo = gmsh.model.geo;\n",
    "    \n",
    "    # Corner points\n",
    "    p1 = geo.addPoint(mid[1] - width / 2, mid[2] - height / 2, 0, lc);\n",
    "    p2 = geo.addPoint(mid[1] + width / 2, mid[2] - height / 2, 0, lc);\n",
    "    p3 = geo.addPoint(mid[1] + width / 2, mid[2] + height / 2, 0, lc);\n",
    "    p4 = geo.addPoint(mid[1] - width / 2, mid[2] + height / 2, 0, lc);\n",
    "    points = [p1, p2, p3, p4];\n",
    "    \n",
    "    # Lines\n",
    "    l1 = geo.addLine(p1, p2);\n",
    "    l2 = geo.addLine(p2, p3);\n",
    "    l3 = geo.addLine(p3, p4);\n",
    "    l4 = geo.addLine(p4, p1);\n",
    "    lines = [l1, l2, l3, l4];\n",
    "    \n",
    "    # Curve loop\n",
    "    loop = geo.addCurveLoop(lines);\n",
    "    \n",
    "    return loop, lines, points;\n",
    "end"
   ]
  },
  {
   "cell_type": "code",
   "execution_count": null,
   "id": "stable-honduras",
   "metadata": {},
   "outputs": [],
   "source": [
    "function gmsh_add_rectangle(mid, width, height, lc, radius)\n",
    "    geo = gmsh.model.geo;\n",
    "    \n",
    "    # Corner points\n",
    "    p1 = geo.addPoint(mid[1] - width / 2 + radius, mid[2] - height / 2, 0, lc);\n",
    "    p2 = geo.addPoint(mid[1] + width / 2 - radius, mid[2] - height / 2, 0, lc);\n",
    "    p3 = geo.addPoint(mid[1] + width / 2         , mid[2] - height / 2 + radius, 0, lc);\n",
    "    p4 = geo.addPoint(mid[1] + width / 2         , mid[2] + height / 2 - radius, 0, lc);\n",
    "    p5 = geo.addPoint(mid[1] + width / 2 - radius, mid[2] + height / 2, 0, lc);\n",
    "    p6 = geo.addPoint(mid[1] - width / 2 + radius, mid[2] + height / 2, 0, lc);\n",
    "    p7 = geo.addPoint(mid[1] - width / 2         , mid[2] + height / 2 - radius, 0, lc);\n",
    "    p8 = geo.addPoint(mid[1] - width / 2         , mid[2] - height / 2 + radius, 0, lc);\n",
    "    \n",
    "    c1 = geo.addPoint(mid[1] - width / 2 + radius, mid[2] - height / 2 + radius, 0, 1);\n",
    "    c2 = geo.addPoint(mid[1] + width / 2 - radius, mid[2] - height / 2 + radius, 0, 1);\n",
    "    c3 = geo.addPoint(mid[1] + width / 2 - radius, mid[2] + height / 2 - radius, 0, 1);\n",
    "    c4 = geo.addPoint(mid[1] - width / 2 + radius, mid[2] + height / 2 - radius, 0, 1);\n",
    "    points = [p1, p2, p3, p4, p5, p6, p7, p8];\n",
    "    \n",
    "    # Lines\n",
    "    l1 = geo.addLine(p1, p2)\n",
    "    l2 = geo.addCircleArc(p2, c2, p3)\n",
    "    l3 = geo.addLine(p3, p4)\n",
    "    l4 = geo.addCircleArc(p4, c3, p5)\n",
    "    l5 = geo.addLine(p5, p6)\n",
    "    l6 = geo.addCircleArc(p6, c4, p7)\n",
    "    l7 = geo.addLine(p7, p8)\n",
    "    l8 = geo.addCircleArc(p8, c1, p1)\n",
    "    lines = [l1, l2, l3, l4, l5, l6, l7, l8]\n",
    "    \n",
    "    # Curve loop\n",
    "    loop = geo.addCurveLoop(lines);\n",
    "    \n",
    "    return loop, lines, points;\n",
    "end"
   ]
  },
  {
   "cell_type": "code",
   "execution_count": null,
   "id": "defined-postage",
   "metadata": {
    "scrolled": false
   },
   "outputs": [],
   "source": [
    "gmsh.model.add(\"transformer\")\n",
    "geo = gmsh.model.geo;\n",
    "\n",
    "## Enclosure\n",
    "enclosure_lp, _, _ = gmsh_add_rectangle([0, 0.5 * (hencl1 + hencl2)], wencl, hencl1 - hencl2, lc1)\n",
    "\n",
    "## Core \n",
    "core_lp, _, _  = gmsh_add_rectangle([0, 0], wcore, hcore, lc1)     # Core outline\n",
    "cgap1_lp, _, _ = gmsh_add_rectangle([-mgap, 0], wgap, hgap, lc2, 1.5e-2)   # Gap left\n",
    "cgap2_lp, _, _ = gmsh_add_rectangle([+mgap, 0], wgap, hgap, lc2, 1.5e-2)   # Gap right\n",
    "\n",
    "## HV windings\n",
    "xm = mgap + wgap / 2 + (wcore / 2 - mgap - wgap / 2) / 2;\n",
    "\n",
    "hv1l_lp, _, _ = gmsh_add_rectangle([-xm - mwhv, 0], wwhv, hwhv, lc3)\n",
    "hv1r_lp, _, _ = gmsh_add_rectangle([-xm + mwhv, 0], wwhv, hwhv, lc3)\n",
    "hv2l_lp, _, _ = gmsh_add_rectangle([    - mwhv, 0], wwhv, hwhv, lc3)\n",
    "hv2r_lp, _, _ = gmsh_add_rectangle([    + mwhv, 0], wwhv, hwhv, lc3)\n",
    "hv3l_lp, _, _ = gmsh_add_rectangle([+xm - mwhv, 0], wwhv, hwhv, lc3)\n",
    "hv3r_lp, _, _ = gmsh_add_rectangle([+xm + mwhv, 0], wwhv, hwhv, lc3)\n",
    "\n",
    "## LV windings\n",
    "xm = mgap + wgap / 2 + (wcore / 2 - mgap - wgap / 2) / 2;\n",
    "\n",
    "lv1l_lp, _, _ = gmsh_add_rectangle([-xm - mwlv, 0], wwlv, hwlv, lc4)\n",
    "lv1r_lp, _, _ = gmsh_add_rectangle([-xm + mwlv, 0], wwlv, hwlv, lc4)\n",
    "lv2l_lp, _, _ = gmsh_add_rectangle([    - mwlv, 0], wwlv, hwlv, lc4)\n",
    "lv2r_lp, _, _ = gmsh_add_rectangle([    + mwlv, 0], wwlv, hwlv, lc4)\n",
    "lv3l_lp, _, _ = gmsh_add_rectangle([+xm - mwlv, 0], wwlv, hwlv, lc4)\n",
    "lv3r_lp, _, _ = gmsh_add_rectangle([+xm + mwlv, 0], wwlv, hwlv, lc4)\n",
    "\n",
    "## Surfaces\n",
    "geo.addPlaneSurface([enclosure_lp, core_lp, hv1l_lp, lv1l_lp, hv3r_lp, lv3r_lp], 1)\n",
    "geo.addPlaneSurface([core_lp, cgap1_lp, cgap2_lp], 2)\n",
    "geo.addPlaneSurface([cgap1_lp, hv1r_lp, lv1r_lp, hv2l_lp, lv2l_lp], 3)\n",
    "geo.addPlaneSurface([cgap2_lp, hv2r_lp, lv2r_lp, hv3l_lp, lv3l_lp], 4)\n",
    "\n",
    "geo.addPlaneSurface([hv1l_lp], 5)\n",
    "geo.addPlaneSurface([hv1r_lp], 6)\n",
    "geo.addPlaneSurface([hv2l_lp], 7)\n",
    "geo.addPlaneSurface([hv2r_lp], 8)\n",
    "geo.addPlaneSurface([hv3l_lp], 9)\n",
    "geo.addPlaneSurface([hv3r_lp], 10)\n",
    "\n",
    "geo.addPlaneSurface([lv1l_lp], 11)\n",
    "geo.addPlaneSurface([lv1r_lp], 12)\n",
    "geo.addPlaneSurface([lv2l_lp], 13)\n",
    "geo.addPlaneSurface([lv2r_lp], 14)\n",
    "geo.addPlaneSurface([lv3l_lp], 15)\n",
    "geo.addPlaneSurface([lv3r_lp], 16)\n",
    "\n",
    "geo.synchronize()\n",
    "\n",
    "## Physical Groups\n",
    "geo.addPhysicalGroup(2, [1, 3, 4], 1)   # Transformer oil\n",
    "geo.addPhysicalGroup(2, [2], 2)         # Core\n",
    "geo.addPhysicalGroup(2, [5], 3)         # HV winding phase 1 left\n",
    "geo.addPhysicalGroup(2, [6], 4)         # HV winding phase 1 right\n",
    "geo.addPhysicalGroup(2, [7], 5)         # HV winding phase 2 left\n",
    "geo.addPhysicalGroup(2, [8], 6)         # HV winding phase 2 right\n",
    "geo.addPhysicalGroup(2, [9], 7)         # HV winding phase 3 left\n",
    "geo.addPhysicalGroup(2, [10], 8)        # HV winding phase 3 right\n",
    "\n",
    "geo.addPhysicalGroup(2, [11], 9)        # LV winding phase 1 left\n",
    "geo.addPhysicalGroup(2, [12], 10)       # LV winding phase 1 right\n",
    "geo.addPhysicalGroup(2, [13], 11)       # LV winding phase 2 left\n",
    "geo.addPhysicalGroup(2, [14], 12)       # LV winding phase 2 right\n",
    "geo.addPhysicalGroup(2, [15], 13)       # LV winding phase 3 left\n",
    "geo.addPhysicalGroup(2, [16], 14)       # LV winding phase 3 right\n",
    "\n",
    "geo.addPhysicalGroup(2, [5, 6, 7, 8, 9, 10], 15)\n",
    "geo.addPhysicalGroup(2, [11, 12, 13, 14, 15, 16], 16)\n",
    "\n",
    "# Generate Mesh\n",
    "geo.synchronize()\n",
    "gmsh.model.mesh.generate(2)\n",
    "\n",
    "gmsh.write(\"exercises/transformer_stedin.msh\")"
   ]
  },
  {
   "cell_type": "code",
   "execution_count": null,
   "id": "earlier-spotlight",
   "metadata": {},
   "outputs": [],
   "source": [
    "gmsh.fltk.run()"
   ]
  },
  {
   "cell_type": "markdown",
   "id": "fleet-cleaners",
   "metadata": {},
   "source": [
    "# Visualization"
   ]
  },
  {
   "cell_type": "code",
   "execution_count": null,
   "id": "metallic-actor",
   "metadata": {},
   "outputs": [],
   "source": [
    "using CairoMakie\n",
    "using GeometryBasics\n",
    "using Colors, ColorSchemes\n",
    "\n",
    "CairoMakie.activate!(type = \"svg\")"
   ]
  },
  {
   "cell_type": "code",
   "execution_count": null,
   "id": "fantastic-backing",
   "metadata": {},
   "outputs": [],
   "source": [
    "function get_cell_mesh(cell_val)\n",
    "    node_ids, node_coord, _ = gmsh.model.mesh.getNodes()\n",
    "    nNode = length(node_ids)\n",
    "\n",
    "    eType, eTag, eConn = gmsh.model.mesh.getElements(2);\n",
    "    nEl = length(eTag[1])\n",
    "    \n",
    "    points   = zeros(Point{2, Float64}, nEl * 3);   # Array of vertex coordinates (x,y)\n",
    "    trif     = zeros(TriangleFace{Int}, nEl);      # Array of triangular faces (n1, n2, n3)\n",
    "    node_val = zeros(Float64, nEl * 3);\n",
    "\n",
    "    for e = 1:nEl\n",
    "        n1idx = 3 * (e - 1) + 1; n1 = eConn[1][n1idx];\n",
    "        n2idx = 3 * (e - 1) + 2; n2 = eConn[1][n2idx];\n",
    "        n3idx = 3 * (e - 1) + 3; n3 = eConn[1][n3idx];\n",
    "\n",
    "        points[n1idx] = Point{2}(node_coord[3*(n1-1) + 1], node_coord[3*(n1-1) + 2])\n",
    "        points[n2idx] = Point{2}(node_coord[3*(n2-1) + 1], node_coord[3*(n2-1) + 2])\n",
    "        points[n3idx] = Point{2}(node_coord[3*(n3-1) + 1], node_coord[3*(n3-1) + 2])\n",
    "        \n",
    "        node_val[n1idx] = cell_val[e];\n",
    "        node_val[n2idx] = cell_val[e];\n",
    "        node_val[n3idx] = cell_val[e];\n",
    "\n",
    "        trif[e] = (n1idx, n2idx, n3idx);\n",
    "    end\n",
    "\n",
    "    msh = GeometryBasics.Mesh(points, trif);\n",
    "    \n",
    "    return msh, node_val\n",
    "end"
   ]
  },
  {
   "cell_type": "code",
   "execution_count": null,
   "id": "advisory-imaging",
   "metadata": {},
   "outputs": [],
   "source": [
    "gmsh.open(\"exercises/transformer_stedin.msh\")"
   ]
  },
  {
   "cell_type": "code",
   "execution_count": null,
   "id": "spanish-armenia",
   "metadata": {},
   "outputs": [],
   "source": [
    "#..4/12 Get the mesh elements\n",
    "#..observe that we get all the two-dimensional triangular elements from the mesh\n",
    "element_types, element_ids, element_connectivity = gmsh.model.mesh.getElements(2)\n",
    "nelements = length(element_ids[1])\n",
    "\n",
    "#..5/12 Create groups of elements for the subdomains\n",
    "#..for loop that creates a vector describing which physical group an element belongs to\n",
    "ngroup1 = gmsh.model.mesh.getNodesForPhysicalGroup(2, 1)\n",
    "ngroup2 = gmsh.model.mesh.getNodesForPhysicalGroup(2, 2)\n",
    "ngroup3 = gmsh.model.mesh.getNodesForPhysicalGroup(2, 15)[1]\n",
    "ngroup4 = gmsh.model.mesh.getNodesForPhysicalGroup(2, 16)[1]\n",
    "\n",
    "e_group = zeros(1,nelements)\n",
    "for element_id in 1:nelements\n",
    "    node1_id = element_connectivity[1][3*(element_id-1)+1]\n",
    "    node2_id = element_connectivity[1][3*(element_id-1)+2]\n",
    "    node3_id = element_connectivity[1][3*(element_id-1)+3]\n",
    "    G1 = sum(node1_id.== ngroup1[1])+sum(node2_id.== ngroup1[1])+sum(node3_id.== ngroup1[1]) # Transformer oil\n",
    "    G2 = sum(node1_id.== ngroup2[1])+sum(node2_id.== ngroup2[1])+sum(node3_id.== ngroup2[1]) # Core\n",
    "    G3 = sum(node1_id.== ngroup3)+sum(node2_id.== ngroup3)+sum(node3_id.== ngroup3) # HV windings\n",
    "    G4 = sum(node1_id.== ngroup4)+sum(node2_id.== ngroup4)+sum(node3_id.== ngroup4) # LV windings\n",
    "    if G1 == 3\n",
    "        e_group[element_id] = 1;\n",
    "    elseif G2 == 3\n",
    "        e_group[element_id] = 2;\n",
    "    elseif G3 == 3\n",
    "        e_group[element_id] = 3;\n",
    "    elseif G4 == 3\n",
    "        e_group[element_id] = 4;\n",
    "    end\n",
    "end"
   ]
  },
  {
   "cell_type": "markdown",
   "id": "paperback-convert",
   "metadata": {},
   "source": [
    "## Geometry"
   ]
  },
  {
   "cell_type": "code",
   "execution_count": null,
   "id": "disciplinary-warehouse",
   "metadata": {},
   "outputs": [],
   "source": [
    "cell_val = e_group;\n",
    "msh, colors = get_cell_mesh(cell_val);\n",
    "\n",
    "cmap = ColorScheme([RGB(0.788, 0.788, 0.784), RGB(0.592, 0.180, 0.996), RGB(1.0, 0.631, 0.216), RGB(0.671, 1.0, 0.224)])"
   ]
  },
  {
   "cell_type": "code",
   "execution_count": null,
   "id": "passive-announcement",
   "metadata": {},
   "outputs": [],
   "source": [
    "f, ax, pl = mesh(msh, color = colors, colormap = cmap, shading = false)\n",
    "ax.aspect = DataAspect()\n",
    "current_figure()"
   ]
  },
  {
   "cell_type": "code",
   "execution_count": null,
   "id": "least-express",
   "metadata": {},
   "outputs": [],
   "source": [
    "save(\"exercises/transformer_stedin.png\", f)"
   ]
  },
  {
   "cell_type": "markdown",
   "id": "scientific-pulse",
   "metadata": {},
   "source": [
    "![Geometry: Distribution Transformer Stedin](exercises/transformer_stedin.png)"
   ]
  },
  {
   "cell_type": "markdown",
   "id": "apart-chance",
   "metadata": {},
   "source": [
    "## Mesh"
   ]
  },
  {
   "cell_type": "code",
   "execution_count": null,
   "id": "tropical-vancouver",
   "metadata": {
    "scrolled": false
   },
   "outputs": [],
   "source": [
    "f, ax, pl = mesh(msh, color = colors, colormap = cmap, shading = false)\n",
    "wireframe!(ax, msh, color=(:black), linewidth=0.5, transparency=false)\n",
    "ax.aspect = DataAspect()\n",
    "current_figure()"
   ]
  },
  {
   "cell_type": "code",
   "execution_count": null,
   "id": "competent-recall",
   "metadata": {},
   "outputs": [],
   "source": [
    "save(\"exercises/transformer_stedin_mesh.png\", f)"
   ]
  },
  {
   "cell_type": "markdown",
   "id": "isolated-youth",
   "metadata": {},
   "source": [
    "![Mesh: Distribution Transformer Stedin](exercises/transformer_stedin_mesh.png)"
   ]
  }
 ],
 "metadata": {
  "kernelspec": {
   "display_name": "Julia 1.7.1",
   "language": "julia",
   "name": "julia-1.7"
  },
  "language_info": {
   "file_extension": ".jl",
   "mimetype": "application/julia",
   "name": "julia",
   "version": "1.7.1"
  }
 },
 "nbformat": 4,
 "nbformat_minor": 5
}
