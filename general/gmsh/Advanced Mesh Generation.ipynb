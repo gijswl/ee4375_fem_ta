{
 "cells": [
  {
   "cell_type": "markdown",
   "id": "particular-employer",
   "metadata": {},
   "source": [
    "# Advanced Mesh Generation"
   ]
  },
  {
   "cell_type": "markdown",
   "id": "satisfied-growing",
   "metadata": {},
   "source": [
    "## Structured Quad Meshes\n",
    "The triangular meshes generated until now were _unstructured_, that is, they did not have any uniform pattern. Sometimes it is desirable to generate a uniform pattern, in which case we use _structured_ meshes.\n",
    "\n",
    "To deal with eddy currents in our computation of magnetic fields, we wish to use quad meshes (specifically, using rectangular elements) for the conductive domains, and unstructured triangle meshes for the non-conducting domains. In this part, we focus on generating structured quad meshes with a controllable distribution of nodes.\n",
    "\n",
    "### Transfinite Meshing\n",
    "To generate structured meshes, we need some way to impose the desired structure. In Gmsh, we do this by specifying transfinite meshing constraints (`numNodes` nodes distributed according to `meshType` and `coef`) on the curves of the geometry.\n",
    "```julia\n",
    "gmsh.model.mesh.setTransfiniteCurve(tag, numNodes, meshType, coef)\n",
    "```\n",
    "Supported types are \"Progression\" (geometrical with power `coef`), \"Bump\" (refinement toward both extremities) and \"Beta\" (beta law). By using suitable number of nodes, mesh type, and coefficient, we can obtain the desired meshing detail.\n",
    "\n",
    "If we desire a surface to have a structured mesh, all of its curves should have defined transfinite meshing constraints, and the surface itself must be transfinite.\n",
    "```julia\n",
    "gmsh.model.mesh.setTransfiniteSurface(tag)\n",
    "```\n",
    "\n",
    "\n",
    "### Triangle to Quad Meshes\n",
    "By default, Gmsh meshes using triangular elements. We can construct a quad mesh from these triangular meshes using recombination, which turns two triangles into a quad element. Recombination is automatically done after meshing if we use `setRecombine`.\n",
    "```julia\n",
    "gmsh.model.mesh.setRecombine(dim, tag)\n",
    "```\n",
    "Currently only entities of dimension 2 (to recombine triangles into quadrangles) are supported."
   ]
  },
  {
   "cell_type": "code",
   "execution_count": 4,
   "id": "advisory-novelty",
   "metadata": {},
   "outputs": [
    {
     "data": {
      "text/latex": [
       "\\begin{verbatim}\n",
       "gmsh.model.mesh.setTransfiniteSurface(tag, arrangement = \"Left\", cornerTags = Cint[])\n",
       "\\end{verbatim}\n",
       "Set a transfinite meshing constraint on the surface \\texttt{tag}. \\texttt{arrangement} describes the arrangement of the triangles when the surface is not flagged as recombined: currently supported values are \"Left\", \"Right\", \"AlternateLeft\" and \"AlternateRight\". \\texttt{cornerTags} can be used to specify the (3 or 4) corners of the transfinite interpolation explicitly; specifying the corners explicitly is mandatory if the surface has more that 3 or 4 points on its boundary.\n",
       "\n"
      ],
      "text/markdown": [
       "```\n",
       "gmsh.model.mesh.setTransfiniteSurface(tag, arrangement = \"Left\", cornerTags = Cint[])\n",
       "```\n",
       "\n",
       "Set a transfinite meshing constraint on the surface `tag`. `arrangement` describes the arrangement of the triangles when the surface is not flagged as recombined: currently supported values are \"Left\", \"Right\", \"AlternateLeft\" and \"AlternateRight\". `cornerTags` can be used to specify the (3 or 4) corners of the transfinite interpolation explicitly; specifying the corners explicitly is mandatory if the surface has more that 3 or 4 points on its boundary.\n"
      ],
      "text/plain": [
       "\u001b[36m  gmsh.model.mesh.setTransfiniteSurface(tag, arrangement = \"Left\", cornerTags = Cint[])\u001b[39m\n",
       "\n",
       "  Set a transfinite meshing constraint on the surface \u001b[36mtag\u001b[39m. \u001b[36marrangement\u001b[39m\n",
       "  describes the arrangement of the triangles when the surface is not flagged\n",
       "  as recombined: currently supported values are \"Left\", \"Right\",\n",
       "  \"AlternateLeft\" and \"AlternateRight\". \u001b[36mcornerTags\u001b[39m can be used to specify the\n",
       "  (3 or 4) corners of the transfinite interpolation explicitly; specifying the\n",
       "  corners explicitly is mandatory if the surface has more that 3 or 4 points\n",
       "  on its boundary."
      ]
     },
     "execution_count": 4,
     "metadata": {},
     "output_type": "execute_result"
    }
   ],
   "source": [
    "?gmsh.model.mesh.setTransfiniteSurface"
   ]
  },
  {
   "cell_type": "markdown",
   "id": "suspected-buddy",
   "metadata": {},
   "source": [
    "### Examples"
   ]
  },
  {
   "cell_type": "code",
   "execution_count": 1,
   "id": "black-locator",
   "metadata": {},
   "outputs": [],
   "source": [
    "using gmsh"
   ]
  },
  {
   "cell_type": "code",
   "execution_count": null,
   "id": "fiscal-straight",
   "metadata": {},
   "outputs": [],
   "source": [
    "gmsh.initialize()\n",
    "gmsh.option.setNumber(\"General.Terminal\", 1)"
   ]
  },
  {
   "cell_type": "markdown",
   "id": "surgical-fifteen",
   "metadata": {},
   "source": [
    "### Unit Square\n",
    "Here, we aim to generate a quad mesh on the unit square with a finer mesh on the left side. To do so, we define a Progression, which increases the density of nodes on one side of the curve."
   ]
  },
  {
   "cell_type": "code",
   "execution_count": null,
   "id": "controlling-trader",
   "metadata": {},
   "outputs": [],
   "source": [
    "gmsh.model.add(\"quad_simple\") \n",
    "geo  = gmsh.model.geo;\n",
    "mesh = gmsh.model.mesh;\n",
    "\n",
    "geo.addPoint(0, 0, 0, 0.05, 1)\n",
    "geo.addPoint(1, 0, 0, 0.05, 2)\n",
    "geo.addPoint(1, 1, 0, 0.3, 3)\n",
    "geo.addPoint(0, 1, 0, 0.3, 4)\n",
    "\n",
    "geo.addLine(1, 2, 1)\n",
    "geo.addLine(2, 3, 2)\n",
    "geo.addLine(3, 4, 3)\n",
    "geo.addLine(4, 1, 4)\n",
    "\n",
    "geo.addCurveLoop([1,2,3,4], 1)\n",
    "geo.addPlaneSurface([1], 1)\n",
    "\n",
    "geo.synchronize()\n",
    "\n",
    "# Set the transfinite interpolations to generate a structured mesh\n",
    "mesh.setTransfiniteCurve(1, 30, \"Progression\", 1.1)\n",
    "mesh.setTransfiniteCurve(3, 30, \"Progression\", -1.1)   # Negative coefficient because curve 3 is oriented the opposite way\n",
    "mesh.setTransfiniteCurve(2, 7)\n",
    "mesh.setTransfiniteCurve(4, 7)\n",
    "mesh.setTransfiniteSurface(1, \"Left\")\n",
    "\n",
    "# Recombine triangles into quad elements\n",
    "mesh.setRecombine(2, 1)\n",
    "\n",
    "mesh.generate(2)\n",
    "\n",
    "gmsh.write(\"geo_files/square_quad.msh\")"
   ]
  },
  {
   "cell_type": "code",
   "execution_count": null,
   "id": "middle-replacement",
   "metadata": {},
   "outputs": [],
   "source": [
    "gmsh.fltk.run()"
   ]
  },
  {
   "cell_type": "markdown",
   "id": "cloudy-intranet",
   "metadata": {},
   "source": [
    "![Unit Square with Quad Mesh](figures/square_quad.png)"
   ]
  },
  {
   "cell_type": "markdown",
   "id": "direct-grain",
   "metadata": {},
   "source": [
    "### Hybrid Meshes\n",
    "By using `setRecombine` only on a part of the surfaces, we can effortlessly create hybrid meshes with quad and triangle elements. This is also possible if transfinite interpolations are _not_ used. In this case, a completely unstructured hybrid mesh will result.\n",
    "\n",
    "This is illustrated on a conductive magnetic core (e.g., Silicon steel or similar), which is meshed using structured quads to aid in eddy current computations. The computation domain and air inside the core are non-conductive, and hence meshed with unstructured triangles."
   ]
  },
  {
   "cell_type": "code",
   "execution_count": null,
   "id": "timely-logan",
   "metadata": {
    "scrolled": true
   },
   "outputs": [],
   "source": [
    "gmsh.model.add(\"quad_simple\") \n",
    "geo  = gmsh.model.geo;\n",
    "mesh = gmsh.model.mesh;\n",
    "\n",
    "# Points\n",
    "geo.addPoint(0, 0, 0, 0.1, 1)\n",
    "geo.addPoint(1, 0, 0, 0.1, 2)\n",
    "geo.addPoint(1, 1, 0, 0.1, 3)\n",
    "geo.addPoint(0, 1, 0, 0.1, 4)\n",
    "\n",
    "geo.addPoint(0.2, 0.2, 0, 0.1, 5)\n",
    "geo.addPoint(0.35, 0.2, 0, 0.1, 6)\n",
    "geo.addPoint(0.65, 0.2, 0, 0.1, 7)\n",
    "geo.addPoint(0.8, 0.2, 0, 0.1, 8)\n",
    "geo.addPoint(0.8, 0.35, 0, 0.1, 9)\n",
    "geo.addPoint(0.8, 0.65, 0, 0.1, 10)\n",
    "geo.addPoint(0.8, 0.8, 0, 0.1, 11)\n",
    "geo.addPoint(0.65, 0.8, 0, 0.1, 12)\n",
    "geo.addPoint(0.35, 0.8, 0, 0.1, 13)\n",
    "geo.addPoint(0.2, 0.8, 0, 0.1, 14)\n",
    "geo.addPoint(0.2, 0.65, 0, 0.1, 15)\n",
    "geo.addPoint(0.2, 0.35, 0, 0.1, 16)\n",
    "\n",
    "geo.addPoint(0.35, 0.35, 0, 0.1, 17)\n",
    "geo.addPoint(0.65, 0.35, 0, 0.1, 18)\n",
    "geo.addPoint(0.65, 0.65, 0, 0.1, 19)\n",
    "geo.addPoint(0.35, 0.65, 0, 0.1, 20)\n",
    "\n",
    "# Lines\n",
    "geo.addLine(1, 2, 1)\n",
    "geo.addLine(2, 3, 2)\n",
    "geo.addLine(3, 4, 3)\n",
    "geo.addLine(4, 1, 4)\n",
    "\n",
    "geo.addLine(5, 6, 5)\n",
    "geo.addLine(6, 7, 6)\n",
    "geo.addLine(7, 8, 7)\n",
    "geo.addLine(8, 9, 8)\n",
    "geo.addLine(9, 10, 9)\n",
    "geo.addLine(10, 11, 10)\n",
    "geo.addLine(11, 12, 11)\n",
    "geo.addLine(12, 13, 12)\n",
    "geo.addLine(13, 14, 13)\n",
    "geo.addLine(14, 15, 14)\n",
    "geo.addLine(15, 16, 15)\n",
    "geo.addLine(16, 5, 16)\n",
    "\n",
    "geo.addLine(6, 17, 17)\n",
    "geo.addLine(7, 18, 18)\n",
    "geo.addLine(9, 18, 19)\n",
    "geo.addLine(10, 19, 20)\n",
    "geo.addLine(12, 19, 21)\n",
    "geo.addLine(13, 20, 22)\n",
    "geo.addLine(15, 20, 23)\n",
    "geo.addLine(16, 17, 24)\n",
    "\n",
    "geo.addLine(17, 18, 25)\n",
    "geo.addLine(18, 19, 26)\n",
    "geo.addLine(19, 20, 27)\n",
    "geo.addLine(20, 17, 28)\n",
    "\n",
    "# Surfaces\n",
    "geo.addCurveLoop([1,2,3,4], 1)\n",
    "geo.addCurveLoop([5,6,7,8,9,10,11,12,13,14,15,16], 2)\n",
    "geo.addCurveLoop([5,17,24,16], 3, true)\n",
    "geo.addCurveLoop([6,18,25,17], 4, true)\n",
    "geo.addCurveLoop([7,8,19,18], 5, true)\n",
    "geo.addCurveLoop([9,20,26,19], 6, true)\n",
    "geo.addCurveLoop([10,11,21,20], 7, true)\n",
    "geo.addCurveLoop([12,22,27,21], 8, true)\n",
    "geo.addCurveLoop([13,14,23,22], 9, true)\n",
    "geo.addCurveLoop([15,24,28,23], 10, true)\n",
    "geo.addCurveLoop([25,26,27,28], 11, true)\n",
    "\n",
    "geo.addPlaneSurface([1, 2], 1)\n",
    "geo.addPlaneSurface([3], 2)\n",
    "geo.addPlaneSurface([4], 3)\n",
    "geo.addPlaneSurface([5], 4)\n",
    "geo.addPlaneSurface([6], 5)\n",
    "geo.addPlaneSurface([7], 6)\n",
    "geo.addPlaneSurface([8], 7)\n",
    "geo.addPlaneSurface([9], 8)\n",
    "geo.addPlaneSurface([10], 9)\n",
    "geo.addPlaneSurface([11], 10)\n",
    "\n",
    "geo.synchronize()\n",
    "\n",
    "# Set the transfinite interpolations to generate a structured mesh\n",
    "N  = 20;\n",
    "N2 = 10;\n",
    "mesh.setTransfiniteCurve(17, N, \"Bump\", 0.05)\n",
    "mesh.setTransfiniteCurve(24, N, \"Bump\", 0.05)\n",
    "mesh.setTransfiniteCurve( 5, N)\n",
    "mesh.setTransfiniteCurve(16, N)\n",
    "mesh.setTransfiniteSurface(2, \"Left\")\n",
    "\n",
    "mesh.setTransfiniteCurve(18, N, \"Bump\", 0.05)\n",
    "mesh.setTransfiniteCurve(19, N, \"Bump\", 0.05)\n",
    "mesh.setTransfiniteCurve( 7, N)\n",
    "mesh.setTransfiniteCurve( 8, N)\n",
    "mesh.setTransfiniteSurface(4, \"Left\")\n",
    "\n",
    "mesh.setTransfiniteCurve(20, N, \"Bump\", 0.05)\n",
    "mesh.setTransfiniteCurve(21, N, \"Bump\", 0.05)\n",
    "mesh.setTransfiniteCurve(10, N)\n",
    "mesh.setTransfiniteCurve(11, N)\n",
    "mesh.setTransfiniteSurface(6, \"Left\")\n",
    "\n",
    "mesh.setTransfiniteCurve(22, N, \"Bump\", 0.05)\n",
    "mesh.setTransfiniteCurve(23, N, \"Bump\", 0.05)\n",
    "mesh.setTransfiniteCurve(14, N)\n",
    "mesh.setTransfiniteCurve(13, N)\n",
    "mesh.setTransfiniteSurface(8, \"Left\")\n",
    "\n",
    "mesh.setTransfiniteCurve( 6, N2)\n",
    "mesh.setTransfiniteCurve(25, N2)\n",
    "mesh.setTransfiniteSurface(3, \"Left\")\n",
    "\n",
    "mesh.setTransfiniteCurve( 9, N2)\n",
    "mesh.setTransfiniteCurve(26, N2)\n",
    "mesh.setTransfiniteSurface(5, \"Left\")\n",
    "\n",
    "mesh.setTransfiniteCurve(12, N2)\n",
    "mesh.setTransfiniteCurve(27, N2)\n",
    "mesh.setTransfiniteSurface(7, \"Left\")\n",
    "\n",
    "mesh.setTransfiniteCurve(15, N2)\n",
    "mesh.setTransfiniteCurve(28, N2)\n",
    "mesh.setTransfiniteSurface(9, \"Left\")\n",
    "\n",
    "# Recombine triangles into quad elements\n",
    "mesh.setRecombine(2, 2)\n",
    "mesh.setRecombine(2, 3)\n",
    "mesh.setRecombine(2, 4)\n",
    "mesh.setRecombine(2, 5)\n",
    "mesh.setRecombine(2, 6)\n",
    "mesh.setRecombine(2, 7)\n",
    "mesh.setRecombine(2, 8)\n",
    "mesh.setRecombine(2, 9)\n",
    "\n",
    "mesh.generate(2)\n",
    "\n",
    "gmsh.write(\"geo_files/hybrid.msh\")"
   ]
  },
  {
   "cell_type": "code",
   "execution_count": null,
   "id": "identified-stephen",
   "metadata": {},
   "outputs": [],
   "source": [
    "gmsh.fltk.run()"
   ]
  },
  {
   "cell_type": "markdown",
   "id": "sticky-healing",
   "metadata": {},
   "source": [
    "![Hybrid Mesh](figures/hybrid_mesh.png)"
   ]
  },
  {
   "cell_type": "markdown",
   "id": "charming-neighborhood",
   "metadata": {},
   "source": [
    "## Second-order Triangular Elements"
   ]
  },
  {
   "cell_type": "code",
   "execution_count": null,
   "id": "compact-teddy",
   "metadata": {},
   "outputs": [],
   "source": [
    "ri = 25;\n",
    "ro = 51;\n",
    "\n",
    "mshd_out = ro / 3; # Mesh density at outer boundary\n",
    "mshd_in  = ri / 3; # Mesh density at inner boundary"
   ]
  },
  {
   "cell_type": "code",
   "execution_count": null,
   "id": "opponent-antigua",
   "metadata": {},
   "outputs": [],
   "source": [
    "gmsh.initialize()"
   ]
  },
  {
   "cell_type": "code",
   "execution_count": null,
   "id": "former-admission",
   "metadata": {},
   "outputs": [],
   "source": [
    "gmsh.model.add(\"coax_cable\")\n",
    "geo = gmsh.model.geo;\n",
    "\n",
    "## Points\n",
    "geo.addPoint(0, 0, 0, mshd_out, 1)\n",
    "geo.addPoint(ri, 0, 0, mshd_in, 2)\n",
    "geo.addPoint(ro, 0, 0, mshd_out, 3)\n",
    "geo.addPoint(-ri, 0, 0, mshd_in, 4)\n",
    "geo.addPoint(-ro, 0, 0, mshd_out, 5)\n",
    "\n",
    "## Curves\n",
    "geo.addCircleArc(2, 1, 4, 1)\n",
    "geo.addCircleArc(4, 1, 2, 2)\n",
    "geo.addCircleArc(3, 1, 5, 3)\n",
    "geo.addCircleArc(5, 1, 3, 4)\n",
    "\n",
    "## Surfaces\n",
    "geo.addCurveLoop([1, 2], 1)\n",
    "geo.addCurveLoop([3, 4], 2)\n",
    "\n",
    "geo.addPlaneSurface([2, 1], 1)\n",
    "geo.addPlaneSurface([1], 2)\n",
    "\n",
    "## Define domains\n",
    "geo.addPhysicalGroup(2, [1], 1)\n",
    "geo.addPhysicalGroup(2, [2], 2)\n",
    "\n",
    "# Generate mesh\n",
    "geo.synchronize();\n",
    "gmsh.model.mesh.generate(2)\n",
    "gmsh.model.mesh.setOrder(2)\n",
    "\n",
    "gmsh.write(\"geo_files/coaxial_cable2.msh\")"
   ]
  },
  {
   "cell_type": "code",
   "execution_count": null,
   "id": "italian-fetish",
   "metadata": {},
   "outputs": [],
   "source": [
    "gmsh.fltk.run()"
   ]
  }
 ],
 "metadata": {
  "kernelspec": {
   "display_name": "Julia 1.7.1",
   "language": "julia",
   "name": "julia-1.7"
  },
  "language_info": {
   "file_extension": ".jl",
   "mimetype": "application/julia",
   "name": "julia",
   "version": "1.7.1"
  }
 },
 "nbformat": 4,
 "nbformat_minor": 5
}
