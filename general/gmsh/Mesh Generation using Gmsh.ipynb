{
 "cells": [
  {
   "cell_type": "markdown",
   "id": "failing-browser",
   "metadata": {},
   "source": [
    "# Mesh Generation using Gmsh\n",
    "Gmsh is an open source 3D finite element mesh generator with a built-in CAD engine and post-processor. Its design goal is to provide a fast, light and user-friendly meshing tool with parametric input and advanced visualization capabilities."
   ]
  },
  {
   "cell_type": "markdown",
   "id": "alpine-commonwealth",
   "metadata": {},
   "source": [
    "### Table of Contents\n",
    "1. [Installation](#installation)\n",
    "2. [Mesh Definition](#mesh)\n",
    "3. [Generating and Viewing Meshes](#generating)\n",
    "4. [Accessing Mesh Data in Julia](#accessing)\n",
    "5. [Help](#help)\n",
    "6. [Examples](#examples)\n",
    "    1. [Example 1: Unit Square with Hole](#example1)\n",
    "    2. [Example 2: Coaxial Cable](#example2)\n",
    "7. [References and Further Reading](#references)"
   ]
  },
  {
   "cell_type": "markdown",
   "id": "little-burke",
   "metadata": {},
   "source": [
    "## <a name=\"installation\" /> Installation\n",
    "Several packages providing an interface to gmsh are available in the package manager (e.g., ``Gmsh.jl``, ``GmshTools.jl``, ``GmshBuilder.jl``), with varying levels of functionality and supported environments. The approach (or rather, workaround) used in the 2021/2022 edition of the EE4375 course is presented below. This uses the offical Julia interface provided in the gmsh SDK.\n",
    "\n",
    "### Problem\n",
    "Installing Gmsh.jl via the Pkg manager yields an error on Windows machines.\n",
    "```\n",
    "julia> using Pkg; Pkg.add(\"Gmsh\")\n",
    "ERROR: Error building `Gmsh`:\n",
    "ERROR: LoadError: Your platform (\"x86_64-w64-mingw32\", parsed as \"x86_64-w64-mingw32-gcc8-cxx11\") is not supported by this package!\n",
    "```\n",
    "\n",
    "### Workaround\n",
    "1. Download the Gmsh SDK from https://gmsh.info/ and unzip the contents.\n",
    "2. Now, Gmsh can be used in Julia by executing\n",
    "```julia\n",
    "include(\"PATH_TO_SDK/lib/gmsh.jl\")\n",
    "```\n",
    "where `PATH_TO_SDK` is the location where you unzipped the SDK files.\n",
    "3. This is not ideal as permanent solution. To improve this, we can add the SDK /lib folder to Julia\\'s `LOAD_PATH` and load it using the normal package inclusion methods. To do this, execute\n",
    "```julia\n",
    "push!(LOAD_PATH, \"PATH_TO_SDK/lib\")\n",
    "using gmsh\n",
    "```\n",
    "4. To make this change permanent, the line\n",
    "```julia\n",
    "push!(LOAD_PATH, \"PATH_TO_SDK/lib\")\n",
    "```\n",
    "can be placed in the startup script located at `C:\\Users\\$user\\.julia\\config\\startup.jl`. If this script is not present you can create it. Take care that the extension is `.jl` and not `.jl.txt`, which Windows is likely to do for you.\n",
    "5. After making this change and restarting the Julia command prompt, you should be able to use\n",
    "```julia\n",
    "using gmsh\n",
    "```\n",
    "or\n",
    "```julia\n",
    "import gmsh\n",
    "```\n",
    "to use Gmsh as a package. Try this by executing one of the tutorial scripts in `PATH_TO_SDK\\share\\doc\\gmsh\\tutorials\\julia`. These tutorials are also available [here](https://gitlab.onelab.info/gmsh/gmsh/-/tree/master/tutorials/julia)."
   ]
  },
  {
   "cell_type": "code",
   "execution_count": null,
   "id": "norman-internet",
   "metadata": {},
   "outputs": [],
   "source": [
    "using gmsh"
   ]
  },
  {
   "cell_type": "markdown",
   "id": "cultural-future",
   "metadata": {},
   "source": [
    "## <a name=\"mesh\" /> Mesh Definition: Basic Operations\n",
    "Defining a mesh in Gmsh consists of several basic operations."
   ]
  },
  {
   "cell_type": "markdown",
   "id": "confused-italy",
   "metadata": {},
   "source": [
    "### Initializing the Model"
   ]
  },
  {
   "cell_type": "code",
   "execution_count": null,
   "id": "detected-finder",
   "metadata": {},
   "outputs": [],
   "source": [
    "gmsh.initialize()                                # Initialize Gmsh\n",
    "gmsh.option.setNumber(\"General.Terminal\", 1)     # Enable printing information to terminal\n",
    "gmsh.model.add(\"example\")                        # Create a new model named \"example\""
   ]
  },
  {
   "cell_type": "markdown",
   "id": "fuzzy-peter",
   "metadata": {},
   "source": [
    "### Geometry Definition\n",
    "First, the _geometry_ is defined using several basic building blocks:\n",
    " - Dimension 0: Points\n",
    " - Dimension 1: Curves\n",
    " - Dimension 2: CurveLoops, PlaneSurfaces\n",
    " - Dimension 3: Volumes\n",
    " \n",
    "We will only use two-dimensional geometries for our FEM implementation, so the third dimension will not be discussed here. \n",
    "\n",
    "To illustrate the procedure, a unit square geometry will be made."
   ]
  },
  {
   "cell_type": "markdown",
   "id": "interim-oxford",
   "metadata": {},
   "source": [
    "#### Dimension 0: Points\n",
    "The first thing to be defined are the points (or nodes) of the geometry. The general command is\n",
    "\n",
    "```julia\n",
    "gmsh.model.geo.addPoint(x, y, z, meshSize, tag)\n",
    "```\n",
    "\n",
    "Here, the (three-dimensional) coordinates of the point are ``(x,y,z)``, the mesh density at the node is given by ``meshSize``, and the label which will be used to refer to the point is ``tag``. If a one or two-dimensional geometry is desired, one or more of the coordinates can be fixed to 0."
   ]
  },
  {
   "cell_type": "code",
   "execution_count": null,
   "id": "controlled-stuff",
   "metadata": {},
   "outputs": [],
   "source": [
    "mshd = 0.1; # Mesh density\n",
    "gmsh.model.geo.addPoint(0, 0, 0, mshd, 1);\n",
    "gmsh.model.geo.addPoint(1, 0, 0, mshd, 2);\n",
    "gmsh.model.geo.addPoint(1, 1, 0, mshd, 3);\n",
    "gmsh.model.geo.addPoint(0, 1, 0, mshd, 4);"
   ]
  },
  {
   "cell_type": "markdown",
   "id": "dominican-ancient",
   "metadata": {},
   "source": [
    "#### Dimension 1: Curves\n",
    "Next, line connections between points are defined. These come in a variety of flavours:\n",
    " - Line: Straight connection between two points.\n",
    " - CircleArc: Circle arc between two points, with the center defined by a third point.\n",
    " - Bezier: Bezier curve with any number of control points.\n",
    "\n",
    "The corresponding functions to be executed in Julia are:\n",
    "```julia\n",
    "gmsh.model.geo.addLine(startTag, endTag, tag)\n",
    "gmsh.model.geo.addCircleArc(startTag, centerTag, endTag, tag)\n",
    "gmsh.model.geo.addBezier(pointTags, tag)\n",
    "```\n",
    "\n",
    "Other types of curves can be found in the [documentation](http://gmsh.info/doc/texinfo/gmsh.html#Curves).\n",
    "\n",
    "It is important to note that curves are _directional_, i.e., they have an explicit start and end point. This property will be used later in the construction of surfaces."
   ]
  },
  {
   "cell_type": "code",
   "execution_count": null,
   "id": "finnish-return",
   "metadata": {},
   "outputs": [],
   "source": [
    "gmsh.model.geo.addLine(1, 2, 1);\n",
    "gmsh.model.geo.addLine(2, 3, 2);\n",
    "gmsh.model.geo.addLine(3, 4, 3);\n",
    "gmsh.model.geo.addLine(4, 1, 4);"
   ]
  },
  {
   "cell_type": "markdown",
   "id": "hazardous-harassment",
   "metadata": {},
   "source": [
    "#### Dimension 2: CurveLoops and PlaneSurfaces\n",
    "Curve loops are closed (directional!) loops of curves, and form the _boundary_ of our surfaces. Any number of curves can be combined to form a loop, provided that their orientation is such that formation of a closed loop is possible. \n",
    "```julia\n",
    "gmsh.model.geo.addCurveLoop(curveTags, tag)\n",
    "gmsh.model.geo.addCurveLoop(curveTags, tag, reorient)\n",
    "```\n",
    "If one of the curves is oriented the wrong way, a situation that will arise often in complex geometries, its direction can be _reversed_ using a negative sign in the loop definition. If ``reorient`` is set to true, the curves are automatically reoriented if necessary.\n",
    "\n",
    "Using the curve loop, a plane surface can be constructed (as noted before, the curve loop is the boundary of the surface). The corresponding function is\n",
    "```julia\n",
    "gmsh.model.geo.addPlaneSurface(curveLoopTags, tag)\n",
    "```\n",
    "The first curve loop defines the exterior contour. Any additional curve loops define holes in the plane surface."
   ]
  },
  {
   "cell_type": "code",
   "execution_count": null,
   "id": "knowing-endorsement",
   "metadata": {},
   "outputs": [],
   "source": [
    "gmsh.model.geo.addCurveLoop([1, 2, 3, 4], 1);\n",
    "gmsh.model.geo.addPlaneSurface([1], 1);"
   ]
  },
  {
   "cell_type": "markdown",
   "id": "vocal-conclusion",
   "metadata": {},
   "source": [
    "### Physics Definition\n",
    "Besides defining the geometry, it is also possible to define so-called _physical groups_. These groups might represent domains and boundaries, which we can use to assign (physical) properties to certain parts of the geometry. To create a new physical group, we can use the following function:\n",
    "```julia\n",
    "gmsh.model.geo.addPhysicalGroup(dim, tags, tag)\n",
    "```\n",
    "where ``dim`` is the dimension of the group (0: points, 1: curves, 2: surfaces, etc.) and ``tags`` is an array of entity tags. The physical groups can be assigned more user-friendly names using\n",
    "```julia\n",
    "gmsh.model.setPhysicalName(dim, tag, name)\n",
    "```"
   ]
  },
  {
   "cell_type": "code",
   "execution_count": null,
   "id": "seasonal-economics",
   "metadata": {},
   "outputs": [],
   "source": [
    "gmsh.model.geo.addPhysicalGroup(2, [1], 1)\n",
    "gmsh.model.setPhysicalName(2, 1, \"Domain\")"
   ]
  },
  {
   "cell_type": "markdown",
   "id": "welcome-voluntary",
   "metadata": {},
   "source": [
    "## <a name=\"generating\" /> Generating and Viewing Meshes"
   ]
  },
  {
   "cell_type": "markdown",
   "id": "legal-introduction",
   "metadata": {},
   "source": [
    "After defining the geometry and physical domains, the geometry should be synchronized from the geo interface to the gmsh model. After that, the mesh can be generated (up to the specified dimension ``dim`` using)\n",
    "```julia\n",
    "gmsh.model.mesh.generate(dim)\n",
    "```"
   ]
  },
  {
   "cell_type": "code",
   "execution_count": null,
   "id": "corrected-impossible",
   "metadata": {},
   "outputs": [],
   "source": [
    "gmsh.model.geo.synchronize()\n",
    "gmsh.model.mesh.generate(2)"
   ]
  },
  {
   "cell_type": "markdown",
   "id": "essential-edmonton",
   "metadata": {},
   "source": [
    "The generated mesh can be view using the gmsh GUI (if this is installed) by running the following command. Otherwise, visualization can be done by:\n",
    "1. Exporting the mesh to a VTK file (see ``WriteVTK.jl``) for inspection using e.g., ParaView.\n",
    "2. Visualization in Julia using e.g., the ``Makie.jl`` package. Some examples are given in another notebook. This approach is used to generate the mesh figures in the rest of this notebook."
   ]
  },
  {
   "cell_type": "code",
   "execution_count": null,
   "id": "finite-implement",
   "metadata": {},
   "outputs": [],
   "source": [
    "gmsh.fltk.run()"
   ]
  },
  {
   "cell_type": "markdown",
   "id": "phantom-rebel",
   "metadata": {},
   "source": [
    "![Mesh: Unit Square](figures/unit_square.svg)"
   ]
  },
  {
   "cell_type": "markdown",
   "id": "neural-spiritual",
   "metadata": {},
   "source": [
    "## <a name=\"accessing\" /> Accessing Mesh Data in Julia\n",
    "To be able to use the mesh data in our FEM implementation, we need to retrieve the necessary information from gmsh. We are interested in two things:\n",
    "1. Nodes\n",
    "2. Elements\n",
    "\n",
    "### Nodes\n",
    "```julia\n",
    "nodeTags, coord = gmsh.model.mesh.getNodes(dim, tag)\n",
    "```\n",
    "If the arguments are left out, all nodes in the mesh will be returned. Otherwise, the nodes belonging to the entity specified by ``dim`` and ``tag`` are returned. The information returned by this function may need to be processed to make it usable. For example, ``coord`` is a vector of continuous x,y,z values: ``[n1x, n1y, n1z, n2x, n2y, n2z, ...]``.\n",
    "\n",
    "### Elements\n",
    "```julia\n",
    "elementTypes, elementTags, nodeTags = gmsh.model.mesh.getElements(dim, tag)\n",
    "```\n",
    "This functions works similarly to the one for nodes, but returns all of the elements making up (a part of) the mesh. The return data is:\n",
    "- ``elementTypes``: an array of element types (e.g., three-node triangles).\n",
    "- ``elementTags``: an array containing the numerical tags of each element.\n",
    "- ``nodeTags``: an array encoding the connectivity of each element, concatenated: ``[e1n1, e1n2, e1n3, e2n1, e2n2, ...]`` (for triangular elements)"
   ]
  },
  {
   "cell_type": "markdown",
   "id": "maritime-script",
   "metadata": {},
   "source": [
    "## <a name=\"help\" /> Help\n",
    "To obtain information about the usage of a specific function, the Julia help function can be used. For example, \n",
    "```julia\n",
    "? gmsh.model.mesh.getNodes\n",
    "```\n",
    "returns information on the usage of the ``getNodes`` function."
   ]
  },
  {
   "cell_type": "code",
   "execution_count": 3,
   "id": "average-remove",
   "metadata": {},
   "outputs": [
    {
     "data": {
      "text/latex": [
       "\\begin{verbatim}\n",
       "gmsh.model.mesh.getNodes(dim = -1, tag = -1, includeBoundary = false, returnParametricCoord = true)\n",
       "\\end{verbatim}\n",
       "Get the nodes classified on the entity of dimension \\texttt{dim} and tag \\texttt{tag}. If \\texttt{tag} < 0, get the nodes for all entities of dimension \\texttt{dim}. If \\texttt{dim} and \\texttt{tag} are negative, get all the nodes in the mesh. \\texttt{nodeTags} contains the node tags (their unique, strictly positive identification numbers). \\texttt{coord} is a vector of length 3 times the length of \\texttt{nodeTags} that contains the x, y, z coordinates of the nodes, concatenated: [n1x, n1y, n1z, n2x, ...]. If \\texttt{dim} >= 0 and \\texttt{returnParamtricCoord} is set, \\texttt{parametricCoord} contains the parametric coordinates ([u1, u2, ...] or [u1, v1, u2, ...]) of the nodes, if available. The length of \\texttt{parametricCoord} can be 0 or \\texttt{dim} times the length of \\texttt{nodeTags}. If \\texttt{includeBoundary} is set, also return the nodes classified on the boundary of the entity (which will be reparametrized on the entity if \\texttt{dim} >= 0 in order to compute their parametric coordinates).\n",
       "\n",
       "Return \\texttt{nodeTags}, \\texttt{coord}, \\texttt{parametricCoord}.\n",
       "\n"
      ],
      "text/markdown": [
       "```\n",
       "gmsh.model.mesh.getNodes(dim = -1, tag = -1, includeBoundary = false, returnParametricCoord = true)\n",
       "```\n",
       "\n",
       "Get the nodes classified on the entity of dimension `dim` and tag `tag`. If `tag` < 0, get the nodes for all entities of dimension `dim`. If `dim` and `tag` are negative, get all the nodes in the mesh. `nodeTags` contains the node tags (their unique, strictly positive identification numbers). `coord` is a vector of length 3 times the length of `nodeTags` that contains the x, y, z coordinates of the nodes, concatenated: [n1x, n1y, n1z, n2x, ...]. If `dim` >= 0 and `returnParamtricCoord` is set, `parametricCoord` contains the parametric coordinates ([u1, u2, ...] or [u1, v1, u2, ...]) of the nodes, if available. The length of `parametricCoord` can be 0 or `dim` times the length of `nodeTags`. If `includeBoundary` is set, also return the nodes classified on the boundary of the entity (which will be reparametrized on the entity if `dim` >= 0 in order to compute their parametric coordinates).\n",
       "\n",
       "Return `nodeTags`, `coord`, `parametricCoord`.\n"
      ],
      "text/plain": [
       "\u001b[36m  gmsh.model.mesh.getNodes(dim = -1, tag = -1, includeBoundary = false, returnParametricCoord = true)\u001b[39m\n",
       "\n",
       "  Get the nodes classified on the entity of dimension \u001b[36mdim\u001b[39m and tag \u001b[36mtag\u001b[39m. If \u001b[36mtag\u001b[39m\n",
       "  < 0, get the nodes for all entities of dimension \u001b[36mdim\u001b[39m. If \u001b[36mdim\u001b[39m and \u001b[36mtag\u001b[39m are\n",
       "  negative, get all the nodes in the mesh. \u001b[36mnodeTags\u001b[39m contains the node tags\n",
       "  (their unique, strictly positive identification numbers). \u001b[36mcoord\u001b[39m is a vector\n",
       "  of length 3 times the length of \u001b[36mnodeTags\u001b[39m that contains the x, y, z\n",
       "  coordinates of the nodes, concatenated: [n1x, n1y, n1z, n2x, ...]. If \u001b[36mdim\u001b[39m >=\n",
       "  0 and \u001b[36mreturnParamtricCoord\u001b[39m is set, \u001b[36mparametricCoord\u001b[39m contains the parametric\n",
       "  coordinates ([u1, u2, ...] or [u1, v1, u2, ...]) of the nodes, if available.\n",
       "  The length of \u001b[36mparametricCoord\u001b[39m can be 0 or \u001b[36mdim\u001b[39m times the length of \u001b[36mnodeTags\u001b[39m.\n",
       "  If \u001b[36mincludeBoundary\u001b[39m is set, also return the nodes classified on the boundary\n",
       "  of the entity (which will be reparametrized on the entity if \u001b[36mdim\u001b[39m >= 0 in\n",
       "  order to compute their parametric coordinates).\n",
       "\n",
       "  Return \u001b[36mnodeTags\u001b[39m, \u001b[36mcoord\u001b[39m, \u001b[36mparametricCoord\u001b[39m."
      ]
     },
     "execution_count": 3,
     "metadata": {},
     "output_type": "execute_result"
    }
   ],
   "source": [
    "? gmsh.model.mesh.getNodes"
   ]
  },
  {
   "cell_type": "markdown",
   "id": "ongoing-hungarian",
   "metadata": {},
   "source": [
    "## <a name=\"examples\" /> Examples"
   ]
  },
  {
   "cell_type": "markdown",
   "id": "molecular-roots",
   "metadata": {},
   "source": [
    "### <a name=\"example1\" /> Example 1: Square with Hole"
   ]
  },
  {
   "cell_type": "code",
   "execution_count": null,
   "id": "understood-header",
   "metadata": {},
   "outputs": [],
   "source": [
    "gmsh.finalize()\n",
    "gmsh.initialize()"
   ]
  },
  {
   "cell_type": "code",
   "execution_count": null,
   "id": "bound-shell",
   "metadata": {},
   "outputs": [],
   "source": [
    "mshd_out = 0.2; # Mesh density at outer boundary\n",
    "mshd_in  = 0.05; # Mesh density at inner boundary\n",
    "\n",
    "gmsh.model.add(\"square_hole\")\n",
    "geo = gmsh.model.geo;\n",
    "\n",
    "## Points\n",
    "geo.addPoint(0, 0, 0, mshd_out, 1);\n",
    "geo.addPoint(1, 0, 0, mshd_out, 2);\n",
    "geo.addPoint(1, 1, 0, mshd_out, 3);\n",
    "geo.addPoint(0, 1, 0, mshd_out, 4);\n",
    "\n",
    "geo.addPoint(0.3, 0.3, 0, mshd_in, 5);\n",
    "geo.addPoint(0.7, 0.3, 0, mshd_in, 6);\n",
    "geo.addPoint(0.7, 0.7, 0, mshd_in, 7);\n",
    "geo.addPoint(0.3, 0.7, 0, mshd_in, 8);\n",
    "\n",
    "## Curves\n",
    "geo.addLine(1, 2, 1);\n",
    "geo.addLine(2, 3, 2);\n",
    "geo.addLine(3, 4, 3);\n",
    "geo.addLine(4, 1, 4);\n",
    "\n",
    "geo.addLine(5, 6, 5);\n",
    "geo.addLine(6, 7, 6);\n",
    "geo.addLine(7, 8, 7);\n",
    "geo.addLine(8, 5, 8);\n",
    "\n",
    "## Surfaces\n",
    "geo.addCurveLoop([1, 2, 3, 4], 1)  # Outer boundary\n",
    "geo.addCurveLoop([5, 6, 7, 8], 2)  # Inner boundary\n",
    "\n",
    "geo.addPlaneSurface([1, 2], 1) # Square with hole\n",
    "\n",
    "# Generate mesh\n",
    "geo.synchronize();\n",
    "gmsh.model.mesh.generate(2)\n",
    "\n",
    "gmsh.write(\"geo_files/square_hole.msh\")"
   ]
  },
  {
   "cell_type": "markdown",
   "id": "exact-daily",
   "metadata": {},
   "source": [
    "![Mesh: Unit Square with a Hole](figures/unit_square_hole.svg)"
   ]
  },
  {
   "cell_type": "markdown",
   "id": "actual-evidence",
   "metadata": {},
   "source": [
    "### <a name=\"example2\" /> Example 2: Coaxial Cable"
   ]
  },
  {
   "cell_type": "code",
   "execution_count": null,
   "id": "lightweight-percentage",
   "metadata": {},
   "outputs": [],
   "source": [
    "gmsh.finalize()\n",
    "gmsh.initialize()"
   ]
  },
  {
   "cell_type": "code",
   "execution_count": null,
   "id": "announced-affect",
   "metadata": {},
   "outputs": [],
   "source": [
    "ri = 25;\n",
    "ro = 51;\n",
    "\n",
    "mshd_out = ro / 10; # Mesh density at outer boundary\n",
    "mshd_in  = ri / 10; # Mesh density at inner boundary\n",
    "\n",
    "gmsh.model.add(\"coax_cable\")\n",
    "geo = gmsh.model.geo;\n",
    "\n",
    "## Points\n",
    "geo.addPoint(0, 0, 0, mshd_out, 1)\n",
    "geo.addPoint(ri, 0, 0, mshd_in, 2)\n",
    "geo.addPoint(ro, 0, 0, mshd_out, 3)\n",
    "geo.addPoint(-ri, 0, 0, mshd_in, 4)\n",
    "geo.addPoint(-ro, 0, 0, mshd_out, 5)\n",
    "\n",
    "## Curves\n",
    "geo.addCircleArc(2, 1, 4, 1)\n",
    "geo.addCircleArc(4, 1, 2, 2)\n",
    "geo.addCircleArc(3, 1, 5, 3)\n",
    "geo.addCircleArc(5, 1, 3, 4)\n",
    "\n",
    "## Surfaces\n",
    "geo.addCurveLoop([1, 2], 1)\n",
    "geo.addCurveLoop([3, 4], 2)\n",
    "\n",
    "geo.addPlaneSurface([2, 1], 1)\n",
    "geo.addPlaneSurface([1], 2)\n",
    "\n",
    "## Define domains\n",
    "geo.addPhysicalGroup(2, [1], 1)\n",
    "geo.addPhysicalGroup(2, [2], 2)\n",
    "\n",
    "# Generate mesh\n",
    "geo.synchronize();\n",
    "gmsh.model.mesh.generate(2)\n",
    "\n",
    "gmsh.write(\"geo_files/coaxial_cable.msh\")"
   ]
  },
  {
   "cell_type": "markdown",
   "id": "purple-landscape",
   "metadata": {},
   "source": [
    "![Mesh: Coaxial Cable](figures/coaxial_cable.svg)"
   ]
  },
  {
   "cell_type": "markdown",
   "id": "silver-junior",
   "metadata": {},
   "source": [
    "## <a name=\"references\" /> References & Further Reading\n",
    "- Gmsh website (http://gmsh.info/)\n",
    "- Gmsh reference manual (http://gmsh.info/doc/texinfo/gmsh.html)\n",
    "- Selection of gmsh tutorials in Julia (https://gitlab.onelab.info/gmsh/gmsh/-/tree/master/tutorials/julia)"
   ]
  }
 ],
 "metadata": {
  "kernelspec": {
   "display_name": "Julia 1.7.1",
   "language": "julia",
   "name": "julia-1.7"
  },
  "language_info": {
   "file_extension": ".jl",
   "mimetype": "application/julia",
   "name": "julia",
   "version": "1.7.1"
  }
 },
 "nbformat": 4,
 "nbformat_minor": 5
}
