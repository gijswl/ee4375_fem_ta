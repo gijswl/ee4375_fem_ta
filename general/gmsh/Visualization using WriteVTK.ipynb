{
 "cells": [
  {
   "cell_type": "markdown",
   "id": "sorted-inside",
   "metadata": {},
   "source": [
    "# Visualization using WriteVTK\n",
    "This notebook shows how to do mesh and data visualization using the ``WriteVTK.jl`` package. The package allows us to build a `.vtu` file containing mesh and data (located either on the nodes or the elements, scalar or vector). This data can then be visualized using an external program such as [ParaView](https://www.paraview.org/)."
   ]
  },
  {
   "cell_type": "code",
   "execution_count": 1,
   "id": "appointed-northern",
   "metadata": {},
   "outputs": [],
   "source": [
    "using gmsh\n",
    "\n",
    "using WriteVTK"
   ]
  },
  {
   "cell_type": "markdown",
   "id": "typical-pharmaceutical",
   "metadata": {},
   "source": [
    "# Define the Mesh\n",
    "First we retrieve the nodes (which are called _points_ in VTK terminology) and elements (which are called _cells_) from Gmsh. These are then used to create the VTK file structure with the right mesh information."
   ]
  },
  {
   "cell_type": "code",
   "execution_count": null,
   "id": "changed-steel",
   "metadata": {},
   "outputs": [],
   "source": [
    "# Nodes / points\n",
    "#  these are stored in a single vector with the formatting [x1, y1, z1, x2, y2, z2, ...]\n",
    "node_ids, node_coord, _ = gmsh.model.mesh.getNodes()\n",
    "xnode = node_coord[1:3:end];\n",
    "ynode = node_coord[2:3:end];\n",
    "\n",
    "# Elements / cells\n",
    "eType, eTag, eConn = gmsh.model.mesh.getElements(2);\n",
    "\n",
    "elIds = 1:length(eTag[1]);\n",
    "els = [zeros(Int, 3) for i in elIds];\n",
    "for eid in elIds\n",
    "    els[eid] = [eConn[1][3*(eid-1)+1], eConn[1][3*(eid-1)+2], eConn[1][3*(eid-1)+3]]\n",
    "end"
   ]
  },
  {
   "cell_type": "markdown",
   "id": "organizational-vertex",
   "metadata": {},
   "source": [
    "Define the points, which is a $2 \\times N_{node}$ matrix of $(x,y)$ pairs. The cells is an array of length $N_{elem}$ where each element is a structure encoding the connectivity of the cell: `MeshCell(type, connectivity)`. We exclusively use triangle elements in this course. "
   ]
  },
  {
   "cell_type": "code",
   "execution_count": null,
   "id": "distinguished-genius",
   "metadata": {},
   "outputs": [],
   "source": [
    "# Define nodes (points) and elements (cells)\n",
    "points = [xnode ynode]';\n",
    "cells = [MeshCell(VTKCellTypes.VTK_TRIANGLE, el) for el in els];\n",
    "\n",
    "# Create VTK file structure using nodes and elements\n",
    "vtkfile = vtk_grid(\"path/to/file.vtu\", points, cells);"
   ]
  },
  {
   "cell_type": "markdown",
   "id": "expected-employer",
   "metadata": {},
   "source": [
    "We can then store point or cell data in the file as follows."
   ]
  },
  {
   "cell_type": "code",
   "execution_count": null,
   "id": "transsexual-processing",
   "metadata": {},
   "outputs": [],
   "source": [
    "vtkfile[\"point_data_name\", VTKPointData()] = point_data;\n",
    "vtkfile[\"cell_data_name\", VTKCellData()]   = cell_data;"
   ]
  },
  {
   "cell_type": "markdown",
   "id": "independent-vatican",
   "metadata": {},
   "source": [
    "Finally, the file needs to be written, after which it can be opened in an external VTK viewer."
   ]
  },
  {
   "cell_type": "code",
   "execution_count": null,
   "id": "broad-jacob",
   "metadata": {},
   "outputs": [],
   "source": [
    "# Save the file\n",
    "outfiles = vtk_save(vtkfile);"
   ]
  },
  {
   "cell_type": "markdown",
   "id": "dynamic-light",
   "metadata": {},
   "source": [
    "# Example: Square with Hole"
   ]
  },
  {
   "cell_type": "code",
   "execution_count": 2,
   "id": "public-security",
   "metadata": {},
   "outputs": [
    {
     "name": "stdout",
     "output_type": "stream",
     "text": [
      "Info    : Reading 'geo_files/square_hole.msh'...\n",
      "Info    : 17 entities\n",
      "Info    : 116 nodes\n",
      "Info    : 240 elements\n",
      "Info    : Done reading 'geo_files/square_hole.msh'\n"
     ]
    }
   ],
   "source": [
    "gmsh.initialize()\n",
    "gmsh.open(\"geo_files/square_hole.msh\")"
   ]
  },
  {
   "cell_type": "code",
   "execution_count": 3,
   "id": "bibliographic-simpson",
   "metadata": {},
   "outputs": [],
   "source": [
    "# Nodes / points\n",
    "#  these are stored in a single vector with the formatting [x1, y1, z1, x2, y2, z2, ...]\n",
    "node_ids, node_coord, _ = gmsh.model.mesh.getNodes()\n",
    "xnode = node_coord[1:3:end];\n",
    "ynode = node_coord[2:3:end];\n",
    "\n",
    "# Elements / cells\n",
    "eType, eTag, eConn = gmsh.model.mesh.getElements(2);\n",
    "\n",
    "elIds = 1:length(eTag[1]);\n",
    "els = [zeros(Int, 3) for i in elIds];\n",
    "for eid in elIds\n",
    "    els[eid] = [eConn[1][3*(eid-1)+1], eConn[1][3*(eid-1)+2], eConn[1][3*(eid-1)+3]]\n",
    "end"
   ]
  },
  {
   "cell_type": "code",
   "execution_count": 4,
   "id": "controlling-fifth",
   "metadata": {},
   "outputs": [],
   "source": [
    "# Define nodes (points) and elements (cells)\n",
    "points = [xnode ynode]';\n",
    "cells = [MeshCell(VTKCellTypes.VTK_TRIANGLE, el) for el in els];\n",
    "\n",
    "# Create VTK file structure using nodes and elements\n",
    "vtkfile = vtk_grid(\"figures/square_hole.vtu\", points, cells);\n",
    "\n",
    "# Save the file\n",
    "outfiles = vtk_save(vtkfile);"
   ]
  },
  {
   "cell_type": "markdown",
   "id": "crazy-camping",
   "metadata": {},
   "source": [
    "![ParaView: Square with Hole](figures/square_hole_paraview.png)"
   ]
  },
  {
   "cell_type": "markdown",
   "id": "fitting-retention",
   "metadata": {},
   "source": [
    "# Example: Coaxial Cable"
   ]
  },
  {
   "cell_type": "code",
   "execution_count": 5,
   "id": "whole-lodging",
   "metadata": {},
   "outputs": [
    {
     "name": "stdout",
     "output_type": "stream",
     "text": [
      "Info    : Reading 'geo_files/coaxial_cable.msh'...\n",
      "Info    : 11 entities\n",
      "Info    : 985 nodes\n",
      "Info    : 1904 elements\n",
      "Info    : Done reading 'geo_files/coaxial_cable.msh'\n"
     ]
    },
    {
     "name": "stderr",
     "output_type": "stream",
     "text": [
      "Warning : Gmsh has aleady been initialized\n"
     ]
    }
   ],
   "source": [
    "gmsh.initialize()\n",
    "gmsh.open(\"geo_files/coaxial_cable.msh\")"
   ]
  },
  {
   "cell_type": "code",
   "execution_count": 6,
   "id": "pleased-concern",
   "metadata": {},
   "outputs": [],
   "source": [
    "# Nodes / points\n",
    "#  these are stored in a single vector with the formatting [x1, y1, z1, x2, y2, z2, ...]\n",
    "node_ids, node_coord, _ = gmsh.model.mesh.getNodes()\n",
    "xnode = node_coord[1:3:end];\n",
    "ynode = node_coord[2:3:end];\n",
    "\n",
    "# Elements / cells\n",
    "eType, eTag, eConn = gmsh.model.mesh.getElements(2);\n",
    "\n",
    "elIds = 1:length(eTag[1]);\n",
    "els = [zeros(Int, 3) for i in elIds];\n",
    "for eid in elIds\n",
    "    els[eid] = [eConn[1][3*(eid-1)+1], eConn[1][3*(eid-1)+2], eConn[1][3*(eid-1)+3]]\n",
    "end"
   ]
  },
  {
   "cell_type": "code",
   "execution_count": 9,
   "id": "fifth-yesterday",
   "metadata": {},
   "outputs": [],
   "source": [
    "#..5/12 Create groups of elements for the subdomains\n",
    "#..for loop that creates a vector describing which physical group an element belongs to\n",
    "ngroup1 = gmsh.model.mesh.getNodesForPhysicalGroup(2, 1)\n",
    "ngroup2 = gmsh.model.mesh.getNodesForPhysicalGroup(2, 2)\n",
    "e_group = zeros(1, length(els))\n",
    "for (element_id, nodes) in enumerate(els)\n",
    "    node1_id = nodes[1]; node2_id = nodes[2]; node3_id = nodes[3];\n",
    "    G1 = sum(node1_id.== ngroup1[1])+sum(node2_id.== ngroup1[1])+sum(node3_id.== ngroup1[1]) # Conductor\n",
    "    G2 = sum(node1_id.== ngroup2[1])+sum(node2_id.== ngroup2[1])+sum(node3_id.== ngroup2[1]) # Insulator\n",
    "    if G1 == 3\n",
    "        e_group[element_id] = 1;\n",
    "    elseif G2 == 3\n",
    "        e_group[element_id] = 2;\n",
    "    end\n",
    "end"
   ]
  },
  {
   "cell_type": "code",
   "execution_count": 10,
   "id": "eleven-bookmark",
   "metadata": {},
   "outputs": [],
   "source": [
    "# Define nodes (points) and elements (cells)\n",
    "points = [xnode ynode]';\n",
    "cells = [MeshCell(VTKCellTypes.VTK_TRIANGLE, el) for el in els];\n",
    "\n",
    "# Create VTK file structure using nodes and elements\n",
    "vtkfile = vtk_grid(\"figures/coaxial_cable.vtu\", points, cells);\n",
    "vtkfile[\"group\", VTKCellData()] = e_group;\n",
    "\n",
    "# Save the file\n",
    "outfiles = vtk_save(vtkfile);"
   ]
  },
  {
   "cell_type": "markdown",
   "id": "formed-pierre",
   "metadata": {},
   "source": [
    "![ParaView: Coaxial Cable](figures/coaxial_cable_paraview.png)"
   ]
  }
 ],
 "metadata": {
  "kernelspec": {
   "display_name": "Julia 1.7.1",
   "language": "julia",
   "name": "julia-1.7"
  },
  "language_info": {
   "file_extension": ".jl",
   "mimetype": "application/julia",
   "name": "julia",
   "version": "1.7.1"
  }
 },
 "nbformat": 4,
 "nbformat_minor": 5
}
