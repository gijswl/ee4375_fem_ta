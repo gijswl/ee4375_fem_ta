{
 "cells": [
  {
   "cell_type": "markdown",
   "id": "apparent-stations",
   "metadata": {},
   "source": [
    "# Visualization using Makie\n",
    "This notebook shows how to do mesh and data visualization using the ``Makie.jl`` package.\n",
    "\n",
    "The presented code is based on the ``GridapMakie.jl`` package, and adapted for the home-brew FEM implementation used in the course."
   ]
  },
  {
   "cell_type": "code",
   "execution_count": null,
   "id": "national-sharing",
   "metadata": {},
   "outputs": [],
   "source": [
    "using gmsh\n",
    "\n",
    "using CairoMakie\n",
    "using GeometryBasics\n",
    "\n",
    "CairoMakie.activate!(type = \"svg\")"
   ]
  },
  {
   "cell_type": "markdown",
   "id": "guided-oxford",
   "metadata": {},
   "source": [
    "## Obtain Mesh Data\n",
    "We will encounter two types of data which we want to plot:\n",
    "1. Data defined on the nodes. For example, the unknown $u(x,y)$\n",
    "2. Data defined on the elements. For example, the derivatives, gradients, etc. of $u(x,y)$\n",
    "\n",
    "These two variants will be handled separately."
   ]
  },
  {
   "cell_type": "code",
   "execution_count": null,
   "id": "quiet-needle",
   "metadata": {},
   "outputs": [],
   "source": [
    "# Obtain a GeometryBasics.Mesh object suitable for plotting with Makie\n",
    "function get_node_mesh()\n",
    "    node_ids, node_coord, _ = gmsh.model.mesh.getNodes()\n",
    "    nNode = length(node_ids)\n",
    "\n",
    "    eType, eTag, eConn = gmsh.model.mesh.getElements(2);\n",
    "    nEl = length(eTag[1])\n",
    "\n",
    "    points   = zeros(Point2f, nNode);          # Array of vertex coordinates (x,y)\n",
    "    trif     = zeros(TriangleFace{Int}, nEl);  # Array of triangular faces (n1, n2, n3)\n",
    "    \n",
    "    for n in 1:nNode\n",
    "        points[node_ids[n]] = Point2f(node_coord[3*(n-1) + 1], node_coord[3*(n-1) + 2])\n",
    "    end\n",
    "    for e in 1:nEl\n",
    "        trif[e] = (eConn[1][3*(e-1)+1], eConn[1][3*(e-1)+2], eConn[1][3*(e-1)+3])\n",
    "    end\n",
    "    \n",
    "    msh = GeometryBasics.Mesh(points, trif);\n",
    "    return msh;\n",
    "end"
   ]
  },
  {
   "cell_type": "code",
   "execution_count": null,
   "id": "integral-fundamental",
   "metadata": {},
   "outputs": [],
   "source": [
    "function get_cell_mesh(cell_val)\n",
    "    node_ids, node_coord, _ = gmsh.model.mesh.getNodes()\n",
    "    nNode = length(node_ids)\n",
    "\n",
    "    eType, eTag, eConn = gmsh.model.mesh.getElements(2);\n",
    "    nEl = length(eTag[1])\n",
    "    \n",
    "    points   = zeros(Point2f, nEl * 3);        # Array of vertex coordinates (x,y)\n",
    "    trif     = zeros(TriangleFace{Int}, nEl);  # Array of triangular faces (n1, n2, n3)\n",
    "    node_val = zeros(Float64, nEl * 3);\n",
    "\n",
    "    for e = 1:nEl\n",
    "        n1idx = 3 * (e - 1) + 1; n1 = eConn[1][n1idx];\n",
    "        n2idx = 3 * (e - 1) + 2; n2 = eConn[1][n2idx];\n",
    "        n3idx = 3 * (e - 1) + 3; n3 = eConn[1][n3idx];\n",
    "\n",
    "        points[n1idx] = Point2f(node_coord[3*(n1-1) + 1], node_coord[3*(n1-1) + 2])\n",
    "        points[n2idx] = Point2f(node_coord[3*(n2-1) + 1], node_coord[3*(n2-1) + 2])\n",
    "        points[n3idx] = Point2f(node_coord[3*(n3-1) + 1], node_coord[3*(n3-1) + 2])\n",
    "        \n",
    "        node_val[n1idx] = cell_val[e];\n",
    "        node_val[n2idx] = cell_val[e];\n",
    "        node_val[n3idx] = cell_val[e];\n",
    "\n",
    "        trif[e] = (3 * (e - 1) + 1, 3 * (e - 1) + 2, 3 * (e - 1) + 3);\n",
    "    end\n",
    "\n",
    "    msh = GeometryBasics.Mesh(points, trif);\n",
    "    \n",
    "    return msh, node_val\n",
    "end"
   ]
  },
  {
   "cell_type": "markdown",
   "id": "endless-marker",
   "metadata": {},
   "source": [
    "## Example: Square with Hole"
   ]
  },
  {
   "cell_type": "code",
   "execution_count": null,
   "id": "inside-wrestling",
   "metadata": {
    "scrolled": false
   },
   "outputs": [],
   "source": [
    "gmsh.initialize()\n",
    "gmsh.open(\"geo_files/square_hole.msh\")\n",
    "\n",
    "msh = get_node_mesh()\n",
    "\n",
    "f, ax, pl = mesh(msh, shading = false)\n",
    "wireframe!(ax, msh, color=(:black, 0.2), linewidth=2, transparency=true)\n",
    "current_figure()"
   ]
  },
  {
   "cell_type": "code",
   "execution_count": null,
   "id": "informed-favorite",
   "metadata": {},
   "outputs": [],
   "source": [
    "save(\"figures/unit_square_hole.svg\", f)"
   ]
  },
  {
   "cell_type": "markdown",
   "id": "contained-attention",
   "metadata": {},
   "source": [
    "![Mesh: Unit Square with a Hole](figures/unit_square_hole.svg)"
   ]
  },
  {
   "cell_type": "markdown",
   "id": "worse-treatment",
   "metadata": {},
   "source": [
    "## Example: Coaxial Cable"
   ]
  },
  {
   "cell_type": "code",
   "execution_count": null,
   "id": "guilty-bullet",
   "metadata": {},
   "outputs": [],
   "source": [
    "gmsh.initialize()\n",
    "gmsh.open(\"geo_files/coaxial_cable.msh\")"
   ]
  },
  {
   "cell_type": "code",
   "execution_count": null,
   "id": "overall-lucas",
   "metadata": {},
   "outputs": [],
   "source": [
    "#..4/12 Get the mesh elements\n",
    "#..observe that we get all the two-dimensional triangular elements from the mesh\n",
    "element_types, element_ids, element_connectivity = gmsh.model.mesh.getElements(2)\n",
    "nelements = length(element_ids[1])\n",
    "\n",
    "#..5/12 Create groups of elements for the subdomains\n",
    "#..for loop that creates a vector describing which physical group an element belongs to\n",
    "ngroup1 = gmsh.model.mesh.getNodesForPhysicalGroup(2, 1)\n",
    "ngroup2 = gmsh.model.mesh.getNodesForPhysicalGroup(2, 2)\n",
    "e_group = zeros(1,nelements)\n",
    "for element_id in 1:nelements\n",
    "    node1_id = element_connectivity[1][3*(element_id-1)+1]\n",
    "    node2_id = element_connectivity[1][3*(element_id-1)+2]\n",
    "    node3_id = element_connectivity[1][3*(element_id-1)+3]\n",
    "    G1 = sum(node1_id.== ngroup1[1])+sum(node2_id.== ngroup1[1])+sum(node3_id.== ngroup1[1]) # Conductor\n",
    "    G2 = sum(node1_id.== ngroup2[1])+sum(node2_id.== ngroup2[1])+sum(node3_id.== ngroup2[1]) # Insulator\n",
    "    if G1 == 3\n",
    "        e_group[element_id] = 1;\n",
    "    elseif G2 == 3\n",
    "        e_group[element_id] = 2;\n",
    "    end\n",
    "end"
   ]
  },
  {
   "cell_type": "code",
   "execution_count": null,
   "id": "textile-outdoors",
   "metadata": {},
   "outputs": [],
   "source": [
    "cell_val = e_group;\n",
    "msh, colors = get_cell_mesh(cell_val);\n",
    "\n",
    "f, ax, pl = mesh(msh, color = colors, colormap = :lighttest, shading = false)\n",
    "wireframe!(ax, msh, color=(:black, 0.2), linewidth=2, transparency=true)\n",
    "current_figure()"
   ]
  },
  {
   "cell_type": "code",
   "execution_count": null,
   "id": "apparent-plumbing",
   "metadata": {},
   "outputs": [],
   "source": [
    "save(\"figures/coaxial_cable.svg\", f)"
   ]
  },
  {
   "cell_type": "markdown",
   "id": "mechanical-semester",
   "metadata": {},
   "source": [
    "![Mesh: Coaxial Cable](figures/coaxial_cable.svg)"
   ]
  }
 ],
 "metadata": {
  "kernelspec": {
   "display_name": "Julia 1.7.1",
   "language": "julia",
   "name": "julia-1.7"
  },
  "language_info": {
   "file_extension": ".jl",
   "mimetype": "application/julia",
   "name": "julia",
   "version": "1.7.1"
  }
 },
 "nbformat": 4,
 "nbformat_minor": 5
}
