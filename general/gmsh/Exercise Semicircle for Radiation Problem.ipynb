{
 "cells": [
  {
   "cell_type": "code",
   "execution_count": null,
   "id": "driving-diagnosis",
   "metadata": {},
   "outputs": [],
   "source": [
    "using gmsh\n",
    "\n",
    "using CairoMakie\n",
    "using GeometryBasics\n",
    "\n",
    "CairoMakie.activate!(type = \"svg\")"
   ]
  },
  {
   "cell_type": "code",
   "execution_count": null,
   "id": "continental-amount",
   "metadata": {},
   "outputs": [],
   "source": [
    "gmsh.finalize()\n",
    "gmsh.initialize()"
   ]
  },
  {
   "cell_type": "markdown",
   "id": "swiss-romania",
   "metadata": {},
   "source": [
    "# Exercise\n",
    "Create the geometry shown in the figure below, parameterized with $a = 0.01\\,\\mathrm{m}$ and outer radius $R = 0.133\\,\\mathrm{m}$. Ensure that the mesh is finer at the transducer, and that the boundaries have proper labels.\n",
    "<img src=\"exercises/semicircle_radiation_domain.png\" alt=\"Domain\" width=\"300\"/>\n",
    "The geometry is used in the paper _Isogeometric simulation of acoustic radiation_ by Victoria Hernández, et al. (https://arxiv.org/abs/2111.02546)"
   ]
  },
  {
   "cell_type": "markdown",
   "id": "radical-better",
   "metadata": {},
   "source": [
    "# Geometry Definition\n",
    "\n",
    "## Parameters"
   ]
  },
  {
   "cell_type": "code",
   "execution_count": null,
   "id": "split-coral",
   "metadata": {},
   "outputs": [],
   "source": [
    "R = 0.133; # Radius of simulation domain\n",
    "a = 0.01;  # Transducer aperture: 2*a\n",
    "\n",
    "mshd_R = R / 5; # Mesh density at domain boundary\n",
    "mshd_a = a / 5; # Mesh density at transducer aperture"
   ]
  },
  {
   "cell_type": "markdown",
   "id": "violent-anatomy",
   "metadata": {},
   "source": [
    "## Gmsh"
   ]
  },
  {
   "cell_type": "code",
   "execution_count": null,
   "id": "compliant-queue",
   "metadata": {},
   "outputs": [],
   "source": [
    "gmsh.model.add(\"semicircle\")\n",
    "geo = gmsh.model.geo;\n",
    "\n",
    "# Points\n",
    "geo.addPoint(0, 0, 0, mshd_a, 1)  # Semicircle boundary midpoint\n",
    "\n",
    "geo.addPoint(-R, 0, 0, mshd_R, 2) # Boundary left\n",
    "geo.addPoint(-a, 0, 0, mshd_a, 3) # Transducer aperture left\n",
    "geo.addPoint(a, 0, 0, mshd_a, 4)  # Transducer aperture right\n",
    "geo.addPoint(R, 0, 0, mshd_R, 5)  # Boundary right\n",
    "\n",
    "# Lines\n",
    "geo.addLine(2, 3, 1)\n",
    "geo.addLine(3, 4, 2)\n",
    "geo.addLine(4, 5, 3)\n",
    "geo.addCircleArc(5, 1, 2, 4)\n",
    "\n",
    "# Surfaces\n",
    "geo.addCurveLoop([1, 2, 3, 4], 1)\n",
    "geo.addPlaneSurface([1], 1)\n",
    "\n",
    "# Physics\n",
    "geo.addPhysicalGroup(2, [1], 1)\n",
    "\n",
    "geo.addPhysicalGroup(1, [2], 1)\n",
    "geo.addPhysicalGroup(1, [1, 3], 2)\n",
    "geo.addPhysicalGroup(1, [4], 3)\n",
    "\n",
    "gmsh.model.setPhysicalName(2, 1, \"Omega\")\n",
    "gmsh.model.setPhysicalName(1, 1, \"Gamma_D\")\n",
    "gmsh.model.setPhysicalName(1, 2, \"Gamma_N\")\n",
    "gmsh.model.setPhysicalName(1, 3, \"Gamma_R\")\n",
    "\n",
    "# Generate mesh\n",
    "geo.synchronize();\n",
    "gmsh.model.mesh.generate(2)\n",
    "\n",
    "gmsh.write(\"exercises/semicircle_radiation.msh\")"
   ]
  },
  {
   "cell_type": "code",
   "execution_count": null,
   "id": "arabic-absorption",
   "metadata": {},
   "outputs": [],
   "source": [
    "gmsh.fltk.run()"
   ]
  },
  {
   "cell_type": "markdown",
   "id": "searching-understanding",
   "metadata": {},
   "source": [
    "# Visualization"
   ]
  },
  {
   "cell_type": "code",
   "execution_count": null,
   "id": "southern-savage",
   "metadata": {},
   "outputs": [],
   "source": [
    "# Obtain a GeometryBasics.Mesh object suitable for plotting with Makie\n",
    "function get_node_mesh()\n",
    "    node_ids, node_coord, _ = gmsh.model.mesh.getNodes()\n",
    "    nNode = length(node_ids)\n",
    "\n",
    "    eType, eTag, eConn = gmsh.model.mesh.getElements(2);\n",
    "    nEl = length(eTag[1])\n",
    "\n",
    "    points   = zeros(Point2f, nNode);          # Array of vertex coordinates (x,y)\n",
    "    trif     = zeros(TriangleFace{Int}, nEl);  # Array of triangular faces (n1, n2, n3)\n",
    "    \n",
    "    for n in 1:nNode\n",
    "        points[node_ids[n]] = Point2f(node_coord[3*(n-1) + 1], node_coord[3*(n-1) + 2])\n",
    "    end\n",
    "    for e in 1:nEl\n",
    "        trif[e] = (eConn[1][3*(e-1)+1], eConn[1][3*(e-1)+2], eConn[1][3*(e-1)+3])\n",
    "    end\n",
    "    \n",
    "    msh = GeometryBasics.Mesh(points, trif);\n",
    "    return msh;\n",
    "end"
   ]
  },
  {
   "cell_type": "code",
   "execution_count": null,
   "id": "representative-collar",
   "metadata": {},
   "outputs": [],
   "source": [
    "msh = get_node_mesh()\n",
    "\n",
    "f, ax, pl = mesh(msh, shading = false)\n",
    "wireframe!(ax, msh, color=(:black), linewidth=1, transparency=false)\n",
    "ax.aspect = AxisAspect(2)\n",
    "current_figure()"
   ]
  },
  {
   "cell_type": "code",
   "execution_count": null,
   "id": "daily-piece",
   "metadata": {},
   "outputs": [],
   "source": [
    "save(\"exercises/semicircle_radiation.svg\", f)"
   ]
  },
  {
   "cell_type": "markdown",
   "id": "cardiac-prague",
   "metadata": {},
   "source": [
    "![Mesh](exercises/semicircle_radiation.svg)"
   ]
  }
 ],
 "metadata": {
  "kernelspec": {
   "display_name": "Julia 1.7.1",
   "language": "julia",
   "name": "julia-1.7"
  },
  "language_info": {
   "file_extension": ".jl",
   "mimetype": "application/julia",
   "name": "julia",
   "version": "1.7.1"
  }
 },
 "nbformat": 4,
 "nbformat_minor": 5
}
