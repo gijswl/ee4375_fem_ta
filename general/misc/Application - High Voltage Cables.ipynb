{
 "cells": [
  {
   "cell_type": "code",
   "execution_count": 1,
   "id": "outdoor-transsexual",
   "metadata": {},
   "outputs": [],
   "source": [
    "using Ferrite, SparseArrays\n",
    "using FerriteGmsh"
   ]
  },
  {
   "cell_type": "markdown",
   "id": "formal-heath",
   "metadata": {},
   "source": [
    "# Define Geometry"
   ]
  },
  {
   "cell_type": "code",
   "execution_count": 2,
   "id": "floating-smooth",
   "metadata": {},
   "outputs": [],
   "source": [
    "R_cond = 19.1e-3;\n",
    "R_ins  = 18.4e-3;\n",
    "R_sh   = 1e-3;\n",
    "R_jac  = 8e-3;\n",
    "\n",
    "r_cond = R_cond;             # Conductor\n",
    "r_ins  = r_cond + R_cond;    # Insulator\n",
    "r_sh   = r_ins + R_sh;       # Sheath\n",
    "r_jac  = r_sh + R_jac;       # Jacket\n",
    "\n",
    "# Mesh density\n",
    "mshd_cond = 0.5e-3; \n",
    "mshd_ins  = R_ins / 10;\n",
    "mshd_sh   = R_sh / 5;\n",
    "mshd_jac  = 2e-3;"
   ]
  },
  {
   "cell_type": "code",
   "execution_count": 3,
   "id": "engaged-oxide",
   "metadata": {},
   "outputs": [
    {
     "name": "stdout",
     "output_type": "stream",
     "text": [
      "Info    : Meshing 1D...\n",
      "Info    : [  0%] Meshing curve 1 (Circle)\n",
      "Info    : [ 10%] Meshing curve 2 (Circle)\n",
      "Info    : [ 20%] Meshing curve 3 (Circle)\n",
      "Info    : [ 30%] Meshing curve 4 (Circle)\n",
      "Info    : [ 40%] Meshing curve 5 (Line)\n",
      "Info    : [ 50%] Meshing curve 6 (Line)\n",
      "Info    : [ 50%] Meshing curve 7 (Line)\n",
      "Info    : [ 60%] Meshing curve 8 (Line)\n",
      "Info    : [ 70%] Meshing curve 9 (Line)\n",
      "Info    : [ 80%] Meshing curve 10 (Line)\n",
      "Info    : [ 90%] Meshing curve 11 (Line)\n",
      "Info    : [100%] Meshing curve 12 (Line)\n",
      "Info    : Done meshing 1D (Wall 0.0359051s, CPU 0.046875s)\n",
      "Info    : Meshing 2D...\n",
      "Info    : [  0%] Meshing surface 1 (Plane, Frontal-Delaunay)\n",
      "Info    : [ 30%] Meshing surface 2 (Plane, Frontal-Delaunay)\n",
      "Info    : [ 50%] Meshing surface 3 (Plane, Frontal-Delaunay)\n",
      "Info    : [ 80%] Meshing surface 4 (Plane, Frontal-Delaunay)\n",
      "Info    : Done meshing 2D (Wall 1.14176s, CPU 1.375s)\n",
      "Info    : 16928 nodes 34532 elements\n",
      "Info    : Writing 'geo/cable_geo.msh'...\n",
      "Info    : Done writing 'geo/cable_geo.msh'\n"
     ]
    }
   ],
   "source": [
    "#gmsh.finalize()\n",
    "gmsh.initialize()\n",
    "gmsh.option.setNumber(\"General.Terminal\", 1)\n",
    "gmsh.model.add(\"cable_geo\")\n",
    "\n",
    "geo = gmsh.model.geo;\n",
    "\n",
    "## Points\n",
    "geo.addPoint(0, 0, 0, mshd_cond, 1)\n",
    "geo.addPoint(r_cond, 0, 0, mshd_cond, 2)\n",
    "geo.addPoint(0, r_cond, 0, mshd_cond, 3)\n",
    "geo.addPoint(r_ins, 0, 0, mshd_sh, 4)\n",
    "geo.addPoint(0, r_ins, 0, mshd_sh, 5)\n",
    "geo.addPoint(r_sh, 0, 0, mshd_sh, 6)\n",
    "geo.addPoint(0, r_sh, 0, mshd_sh, 7)\n",
    "geo.addPoint(r_jac, 0, 0, mshd_jac, 8)\n",
    "geo.addPoint(0, r_jac, 0, mshd_jac, 9)\n",
    "\n",
    "## Curves\n",
    "geo.addCircleArc(2, 1, 3, 1)\n",
    "geo.addCircleArc(4, 1, 5, 2)\n",
    "geo.addCircleArc(6, 1, 7, 3)\n",
    "geo.addCircleArc(8, 1, 9, 4)\n",
    "\n",
    "geo.addLine(1, 2, 5)\n",
    "geo.addLine(2, 4, 6)\n",
    "geo.addLine(4, 6, 7)\n",
    "geo.addLine(6, 8, 8)\n",
    "\n",
    "geo.addLine(3, 1, 9)\n",
    "geo.addLine(5, 3, 10)\n",
    "geo.addLine(7, 5, 11)\n",
    "geo.addLine(9, 7, 12)\n",
    "\n",
    "## Surfaces\n",
    "geo.addCurveLoop([5, 1, 9], 1)\n",
    "geo.addCurveLoop([6, 2, 10, -1], 2)\n",
    "geo.addCurveLoop([7, 3, 11, -2], 3)\n",
    "geo.addCurveLoop([8, 4, 12, -3], 4)\n",
    "\n",
    "geo.addPlaneSurface([1], 1)\n",
    "geo.addPlaneSurface([2], 2)\n",
    "geo.addPlaneSurface([3], 3)\n",
    "geo.addPlaneSurface([4], 4)\n",
    "\n",
    "## Define domains\n",
    "geo.addPhysicalGroup(2, [1], 1) # Conductor\n",
    "geo.addPhysicalGroup(2, [2], 2) # Dielectric\n",
    "geo.addPhysicalGroup(2, [3], 3) # Sheath\n",
    "geo.addPhysicalGroup(2, [4], 4) # Jacket\n",
    "gmsh.model.setPhysicalName(2, 1, \"Conductor\")\n",
    "gmsh.model.setPhysicalName(2, 2, \"Dielectric\")\n",
    "gmsh.model.setPhysicalName(2, 3, \"Sheath\")\n",
    "gmsh.model.setPhysicalName(2, 4, \"Jacket\")\n",
    "\n",
    "geo.addPhysicalGroup(1, [4], 1) # Jacket boundary\n",
    "gmsh.model.setPhysicalName(1, 1, \"jacket\")\n",
    "\n",
    "# Generate mesh and save\n",
    "gmsh.model.geo.synchronize()\n",
    "gmsh.model.mesh.generate(2)\n",
    "\n",
    "gmsh.write(\"geo/cable_geo.msh\")\n",
    "gmsh.finalize()"
   ]
  },
  {
   "cell_type": "markdown",
   "id": "opening-plant",
   "metadata": {},
   "source": [
    "# Ferrite"
   ]
  },
  {
   "cell_type": "code",
   "execution_count": 4,
   "id": "circular-grass",
   "metadata": {},
   "outputs": [
    {
     "name": "stdout",
     "output_type": "stream",
     "text": [
      "Info    : Reading 'geo/cable_geo.msh'...\n",
      "Info    : 25 entities\n",
      "Info    : 16928 nodes\n",
      "Info    : 33626 elements\n",
      "Info    : Done reading 'geo/cable_geo.msh'\n"
     ]
    }
   ],
   "source": [
    "# Load the mesh using FerriteGmsh\n",
    "grid = saved_file_to_grid(\"geo/cable_geo.msh\");"
   ]
  },
  {
   "cell_type": "code",
   "execution_count": 5,
   "id": "royal-newspaper",
   "metadata": {},
   "outputs": [
    {
     "data": {
      "text/plain": [
       "DofHandler\n",
       "  Fields:\n",
       "    :Az, interpolation: Lagrange{2, RefTetrahedron, 2}(), dim: 1\n",
       "  Dofs per cell: 6\n",
       "  Total dofs: 67443"
      ]
     },
     "execution_count": 5,
     "metadata": {},
     "output_type": "execute_result"
    }
   ],
   "source": [
    "# Create finite element interpolation and quadrature rule\n",
    "dim   = 2\n",
    "order = 2;\n",
    "ip_fe  = Lagrange{dim, RefTetrahedron, order}()\n",
    "ip_geo = Lagrange{dim, RefTetrahedron, 1}()\n",
    "qr = QuadratureRule{dim, RefTetrahedron}(2 * order)\n",
    "cellvalues = CellScalarValues(qr, ip_fe, ip_geo);\n",
    "\n",
    "qr2 = QuadratureRule{dim, RefTetrahedron}(2)\n",
    "cellvalues2 = CellScalarValues(qr2, ip_geo);\n",
    "\n",
    "# Create handler for the degrees of freedom, and define the scalar potential field\n",
    "dh = DofHandler(grid);\n",
    "push!(dh, :Az, 1, ip_fe)\n",
    "close!(dh)"
   ]
  },
  {
   "cell_type": "code",
   "execution_count": 6,
   "id": "mechanical-airport",
   "metadata": {},
   "outputs": [],
   "source": [
    "# Define the boundary conditions using a constraint handler\n",
    "ch = ConstraintHandler(dh);\n",
    "\n",
    "dbc_0 = Dirichlet(\n",
    "    :Az,\n",
    "    getfaceset(grid, \"jacket\"),\n",
    "    (x,t) -> 0;\n",
    ")\n",
    "add!(ch, dbc_0)\n",
    "\n",
    "close!(ch)\n",
    "update!(ch, 0.0); # Since the BCs do not depend on time, update them once at t = 0.0"
   ]
  },
  {
   "cell_type": "code",
   "execution_count": 7,
   "id": "occupied-angola",
   "metadata": {},
   "outputs": [
    {
     "data": {
      "text/plain": [
       "assemble_global (generic function with 1 method)"
      ]
     },
     "execution_count": 7,
     "metadata": {},
     "output_type": "execute_result"
    }
   ],
   "source": [
    "# Element assembly: computes the elementary matrix contributions Ke and fe\n",
    "function assemble_element!(Ke::Matrix, Me::Matrix, fe::Vector, cellvalues::CellScalarValues, Jz, nu, sigma, omega)\n",
    "    n_basefuncs = getnbasefunctions(cellvalues)\n",
    "    \n",
    "    # Reset to 0\n",
    "    fill!(Ke, 0)\n",
    "    fill!(Me, 0)\n",
    "    fill!(fe, 0)\n",
    "    \n",
    "    # Loop over quadrature points\n",
    "    for q_point in 1:getnquadpoints(cellvalues)\n",
    "        # Get the quadrature weight\n",
    "        dΩ = getdetJdV(cellvalues, q_point)\n",
    "        # Loop over test shape functions\n",
    "        for i in 1:n_basefuncs\n",
    "            v  = shape_value(cellvalues, q_point, i)\n",
    "            ∇v = shape_gradient(cellvalues, q_point, i)\n",
    "            \n",
    "            # Add contribution to fe\n",
    "            fe[i] += Jz * v * dΩ\n",
    "            \n",
    "            # Loop over trial shape functions\n",
    "            for j in 1:n_basefuncs\n",
    "                u  = shape_value(cellvalues, q_point, j)\n",
    "                ∇u = shape_gradient(cellvalues, q_point, j)\n",
    "                \n",
    "                # Add contribution to Ke & Me\n",
    "                Ke[i, j] += nu * (∇v ⋅ ∇u) * dΩ\n",
    "                Me[i, j] += 1im * sigma * omega * (v ⋅ u) * dΩ\n",
    "            end\n",
    "        end\n",
    "    end\n",
    "    \n",
    "    return Ke, fe\n",
    "end\n",
    "\n",
    "# Global assembly: computes global matrix K and f using element contributions\n",
    "#  This is quite fast because of the use of a pre-allocated sparse matrix pattern.\n",
    "function assemble_global(cellvalues::CellScalarValues, K::SparseMatrixCSC, dh::DofHandler)\n",
    "    # Allocate the element stiffness matrix and element force vector\n",
    "    n_basefuncs = getnbasefunctions(cellvalues)\n",
    "    Ke = zeros(Complex{Float64}, n_basefuncs, n_basefuncs)\n",
    "    Me = zeros(Complex{Float64}, n_basefuncs, n_basefuncs)\n",
    "    fe = zeros(Complex{Float64}, n_basefuncs)\n",
    "    \n",
    "    # Allocate global force vector f\n",
    "    f = zeros(Complex{Float64}, size(K, 1))\n",
    "    \n",
    "    # Create an assembler\n",
    "    assembler = start_assemble(K, f)\n",
    "    # Loop over all cells\n",
    "    for cell in CellIterator(dh)\n",
    "        # Reinitialize cellvalues for this cell\n",
    "        reinit!(cellvalues, cell)\n",
    "        cid = cellid(cell);\n",
    "        \n",
    "        # Compute element contribution\n",
    "        assemble_element!(Ke, Me, fe, cellvalues, Jz[cid], nu[cid], sigma[cid], omega)\n",
    "        Ae = Ke + Me;\n",
    "        \n",
    "        # Assemble Ke and fe into K and f\n",
    "        assemble!(assembler, celldofs(cell), Ae, fe)\n",
    "    end\n",
    "    return K, f\n",
    "end"
   ]
  },
  {
   "cell_type": "code",
   "execution_count": 8,
   "id": "defined-suggestion",
   "metadata": {},
   "outputs": [
    {
     "data": {
      "text/plain": [
       "add_cconstraint (generic function with 1 method)"
      ]
     },
     "execution_count": 8,
     "metadata": {},
     "output_type": "execute_result"
    }
   ],
   "source": [
    "function add_cconstraint_pattern(K::SparseMatrixCSC, dh::DofHandler, dom_name)\n",
    "    N = size(K)\n",
    "    K = hcat(K, spzeros(N[1]))\n",
    "    K = vcat(K, spzeros(1, N[2] + 1))\n",
    "\n",
    "    cells = getcellset(grid, dom_name);\n",
    "    for c in cells\n",
    "        dofs = celldofs(dh, c);\n",
    "        for dof in dofs\n",
    "            Ferrite.add_entry!(K, N[1] + 1, dof)\n",
    "            Ferrite.add_entry!(K, dof, N[2] + 1)\n",
    "        end\n",
    "    end\n",
    "    \n",
    "    return K;\n",
    "end\n",
    "\n",
    "function add_cconstraint(K::SparseMatrixCSC, f::Vector, dh::DofHandler, dom_name, ncc, Icoil)\n",
    "    cc_idx = dh.ndofs.x + ncc;\n",
    "    \n",
    "    n = getnbasefunctions(cellvalues)\n",
    "    cell_dofs = zeros(Int, n)\n",
    "    ccells = getcellset(grid, dom_name);\n",
    "    for (cell_num, cell) in enumerate(CellIterator(dh))\n",
    "        if(cell_num ∈ ccells)\n",
    "            # Reinitialize cellvalues for this cell\n",
    "            reinit!(cellvalues, cell)\n",
    "            celldofs!(cell_dofs, dh, cell_num)\n",
    "\n",
    "            for q_point in 1:getnquadpoints(cellvalues)\n",
    "                dΩ = getdetJdV(cellvalues, q_point)\n",
    "\n",
    "                K[cc_idx, cell_dofs[q_point]] += -1im * omega * sigma[cell_num] * dΩ;\n",
    "                K[cell_dofs[q_point], cc_idx] += -4/(pi*r_cond*r_cond) * dΩ;\n",
    "            end\n",
    "        end\n",
    "    end\n",
    "    \n",
    "    f[cc_idx] = Icoil / 4;\n",
    "    K[cc_idx, cc_idx] = 1;\n",
    "    \n",
    "    return K, f;\n",
    "end"
   ]
  },
  {
   "cell_type": "code",
   "execution_count": 9,
   "id": "danish-sample",
   "metadata": {},
   "outputs": [],
   "source": [
    "# Define element properties\n",
    "I = 1000;\n",
    "\n",
    "Ncells = length(dh.grid.cells);\n",
    "Jz = zeros(Float64, Ncells);\n",
    "\n",
    "sigma = zeros(Ncells);\n",
    "sigma[collect(getcellset(grid, \"Conductor\"))] .= 36.9e6;\n",
    "sigma[collect(getcellset(grid, \"Sheath\"))] .= 59.6e6;\n",
    "\n",
    "mu0 = 4e-7 * pi;\n",
    "mur = ones(Ncells);\n",
    "nu  = 1 ./ (mu0 * mur);\n",
    "\n",
    "omega = 2*pi * 50;\n",
    "\n",
    "# Create sparsity pattern from mesh data and assemble the linear system\n",
    "K = create_sparsity_pattern(dh);\n",
    "K = add_cconstraint_pattern(K, dh, \"Conductor\");\n",
    "\n",
    "K = convert(SparseMatrixCSC{Complex{Float64}, Int64}, K)\n",
    "K, f = assemble_global(cellvalues, K, dh);\n",
    "\n",
    "K, f = add_cconstraint(K, f, dh, \"Conductor\", 1, I);\n",
    "\n",
    "# Apply the boundary conditions\n",
    "apply!(K, f, ch)\n",
    "\n",
    "# Solve the linear system\n",
    "u = K \\ f;"
   ]
  },
  {
   "cell_type": "markdown",
   "id": "dental-engineer",
   "metadata": {},
   "source": [
    "# Post-processing"
   ]
  },
  {
   "cell_type": "code",
   "execution_count": 10,
   "id": "female-rocket",
   "metadata": {},
   "outputs": [],
   "source": [
    "function compute_B(cellvalues::CellScalarValues{dim,T}, dh::DofHandler, a) where {dim,T}\n",
    "    n = getnbasefunctions(cellvalues)\n",
    "    cell_dofs = zeros(Int, n)\n",
    "    nqp = getnquadpoints(cellvalues)\n",
    "\n",
    "    # Allocate storage for the fluxes to store\n",
    "    E = [Ferrite.Vec{2,Complex{T}}[] for _ in 1:getncells(dh.grid)]\n",
    "\n",
    "    for (cell_num, cell) in enumerate(CellIterator(dh))\n",
    "        E_cell = E[cell_num]\n",
    "        celldofs!(cell_dofs, dh, cell_num)\n",
    "        ae = a[cell_dofs]\n",
    "        reinit!(cellvalues, cell)\n",
    "\n",
    "        for E_point in 1:nqp\n",
    "            E_qp = - function_gradient(cellvalues, E_point, ae)\n",
    "            push!(E_cell, E_qp)\n",
    "        end\n",
    "    end\n",
    "    return E\n",
    "end\n",
    "\n",
    "function compute_Jz(cellvalues::CellScalarValues{dim, T}, dh::DofHandler, a) where {dim, T}\n",
    "    n = getnbasefunctions(cellvalues)\n",
    "    cell_dofs = zeros(Int, n)\n",
    "    nqp = getnquadpoints(cellvalues)\n",
    "\n",
    "    # Allocate storage for the current density\n",
    "    J   = zeros(Complex{T}, getncells(dh.grid));\n",
    "    Ic  = 0;\n",
    "    Rac = 0;\n",
    "    \n",
    "    for (cell_num, cell) in enumerate(CellIterator(dh))\n",
    "        celldofs!(cell_dofs, dh, cell_num)\n",
    "        ae = a[cell_dofs]\n",
    "        reinit!(cellvalues, cell)\n",
    "        reinit!(cellvalues2, cell)\n",
    "        \n",
    "        J[cell_num] += -1im * sigma[cell_num] * omega * sum(ae) / getnquadpoints(cellvalues);\n",
    "        \n",
    "        if(cell_num ∈ getcellset(grid, \"Conductor\"))\n",
    "            J[cell_num] += 4 / (pi*r_cond*r_cond) * a[end];\n",
    "            \n",
    "            for q_point in 1:getnquadpoints(cellvalues)\n",
    "                dΩ = getdetJdV(cellvalues, q_point)\n",
    "                \n",
    "                Ic  += J[cell_num] * dΩ;\n",
    "                Rac += norm(J[cell_num])^2 / sigma[cell_num] * dΩ;\n",
    "            end\n",
    "        end\n",
    "    end\n",
    "    \n",
    "    Ic = 4 * Ic;\n",
    "    Rac = real(4 * Rac / Ic^2);\n",
    "    \n",
    "    return J, Ic, Rac\n",
    "end\n",
    "\n",
    "E_gp = compute_B(cellvalues, dh, u);\n",
    "B = collect(mean(norm.(E_gp[i])) for i = 1:getncells(dh.grid));\n",
    "\n",
    "J, Ic, Rac = compute_Jz(cellvalues, dh, u);"
   ]
  },
  {
   "cell_type": "code",
   "execution_count": 11,
   "id": "connected-twelve",
   "metadata": {},
   "outputs": [
    {
     "data": {
      "text/plain": [
       "1-element Vector{String}:\n",
       " \"images/hv_cable.vtu\""
      ]
     },
     "execution_count": 11,
     "metadata": {},
     "output_type": "execute_result"
    }
   ],
   "source": [
    "vtk_grid(\"images/hv_cable\", dh) do vtk\n",
    "    vtk_point_data(vtk, dh, norm.(u))\n",
    "    vtk_cell_data(vtk, norm.(B), \"B\")\n",
    "    vtk_cell_data(vtk, norm.(J), \"Jz\")\n",
    "end"
   ]
  },
  {
   "cell_type": "code",
   "execution_count": 12,
   "id": "humanitarian-mounting",
   "metadata": {},
   "outputs": [
    {
     "data": {
      "text/plain": [
       "2.6758170469290028e-5"
      ]
     },
     "execution_count": 12,
     "metadata": {},
     "output_type": "execute_result"
    }
   ],
   "source": [
    "Rac"
   ]
  },
  {
   "cell_type": "code",
   "execution_count": 13,
   "id": "awful-combining",
   "metadata": {},
   "outputs": [
    {
     "data": {
      "text/plain": [
       "999.635735139496"
      ]
     },
     "execution_count": 13,
     "metadata": {},
     "output_type": "execute_result"
    }
   ],
   "source": [
    "norm(Ic)"
   ]
  },
  {
   "cell_type": "markdown",
   "id": "chronic-invalid",
   "metadata": {},
   "source": [
    "# Visualize using Makie.jl"
   ]
  },
  {
   "cell_type": "code",
   "execution_count": null,
   "id": "conservative-pennsylvania",
   "metadata": {},
   "outputs": [],
   "source": [
    "using CairoMakie, LaTeXStrings\n",
    "using GeometryBasics\n",
    "\n",
    "CairoMakie.activate!(type = \"svg\")"
   ]
  },
  {
   "cell_type": "code",
   "execution_count": null,
   "id": "tender-singles",
   "metadata": {},
   "outputs": [],
   "source": [
    "# Obtain a GeometryBasics.Mesh object suitable for plotting with Makie\n",
    "function get_cell_mesh(cell_val)\n",
    "    node_ids, node_coord, _ = gmsh.model.mesh.getNodes()\n",
    "    nNode = length(node_ids)\n",
    "\n",
    "    eType, eTag, eConn = gmsh.model.mesh.getElements(2);\n",
    "    nEl = length(eTag[1])\n",
    "    \n",
    "    points   = zeros(Point{2, Float64}, nEl * 3);        # Array of vertex coordinates (x,y)\n",
    "    trif     = zeros(TriangleFace{Int}, nEl);  # Array of triangular faces (n1, n2, n3)\n",
    "    node_val = zeros(Float64, nEl * 3);\n",
    "\n",
    "    for e = 1:nEl\n",
    "        n1idx = 3 * (e - 1) + 1; n1 = eConn[1][n1idx];\n",
    "        n2idx = 3 * (e - 1) + 2; n2 = eConn[1][n2idx];\n",
    "        n3idx = 3 * (e - 1) + 3; n3 = eConn[1][n3idx];\n",
    "\n",
    "        points[n1idx] = Point{2}(node_coord[3*(n1-1) + 1], node_coord[3*(n1-1) + 2])\n",
    "        points[n2idx] = Point{2}(node_coord[3*(n2-1) + 1], node_coord[3*(n2-1) + 2])\n",
    "        points[n3idx] = Point{2}(node_coord[3*(n3-1) + 1], node_coord[3*(n3-1) + 2])\n",
    "        \n",
    "        node_val[n1idx] = cell_val[e];\n",
    "        node_val[n2idx] = cell_val[e];\n",
    "        node_val[n3idx] = cell_val[e];\n",
    "\n",
    "        trif[e] = (3 * (e - 1) + 1, 3 * (e - 1) + 2, 3 * (e - 1) + 3);\n",
    "    end\n",
    "\n",
    "    msh = GeometryBasics.Mesh(points, trif);\n",
    "    \n",
    "    return msh, node_val\n",
    "end"
   ]
  },
  {
   "cell_type": "code",
   "execution_count": null,
   "id": "bridal-virginia",
   "metadata": {},
   "outputs": [],
   "source": [
    "gmsh.finalize()\n",
    "gmsh.initialize()\n",
    "gmsh.open(\"geo/cable_geo.msh\")\n",
    "\n",
    "msh, colors = get_cell_mesh(norm.(J) * 1e-6);\n",
    "\n",
    "f, ax, pl = mesh(msh, color = colors, colormap = :bluesreds, shading = false)\n",
    "ax.aspect = AxisAspect(1)\n",
    "Colorbar(f[1,2], pl, label = L\"Current density $J$\")\n",
    "save(\"images/hv_cable_J.png\", f)\n",
    "current_figure()"
   ]
  },
  {
   "cell_type": "markdown",
   "id": "sought-biodiversity",
   "metadata": {},
   "source": [
    "![Result: Current Density](images/hv_cable_J.png)"
   ]
  },
  {
   "cell_type": "code",
   "execution_count": null,
   "id": "ordered-surgeon",
   "metadata": {
    "scrolled": false
   },
   "outputs": [],
   "source": [
    "msh, colors = get_cell_mesh(norm.(B) * 1e3);\n",
    "\n",
    "f, ax, pl = mesh(msh, color = colors, colormap = :bluesreds, shading = false)\n",
    "ax.aspect = AxisAspect(1)\n",
    "Colorbar(f[1,2], pl, label = L\"Flux Density $B$ [mT]\")\n",
    "save(\"images/hv_cable_B.png\", f)\n",
    "current_figure()"
   ]
  },
  {
   "cell_type": "markdown",
   "id": "reduced-grade",
   "metadata": {},
   "source": [
    "![Result: Magnetic Flux Density](images/hv_cable_b.png)"
   ]
  }
 ],
 "metadata": {
  "kernelspec": {
   "display_name": "Julia 1.7.1",
   "language": "julia",
   "name": "julia-1.7"
  },
  "language_info": {
   "file_extension": ".jl",
   "mimetype": "application/julia",
   "name": "julia",
   "version": "1.7.1"
  }
 },
 "nbformat": 4,
 "nbformat_minor": 5
}
