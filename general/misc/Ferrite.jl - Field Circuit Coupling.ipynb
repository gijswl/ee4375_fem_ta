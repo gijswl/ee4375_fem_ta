{
 "cells": [
  {
   "cell_type": "code",
   "execution_count": 1,
   "id": "surprising-extension",
   "metadata": {},
   "outputs": [],
   "source": [
    "using Ferrite, SparseArrays\n",
    "using FerriteGmsh"
   ]
  },
  {
   "cell_type": "code",
   "execution_count": 2,
   "id": "mobile-buffer",
   "metadata": {},
   "outputs": [
    {
     "data": {
      "text/plain": [
       "2-element Vector{Symbol}:\n",
       " :current\n",
       " :voltage"
      ]
     },
     "execution_count": 2,
     "metadata": {},
     "output_type": "execute_result"
    }
   ],
   "source": [
    "const _circuit_types = [:current, :voltage]"
   ]
  },
  {
   "cell_type": "code",
   "execution_count": 3,
   "id": "liked-redhead",
   "metadata": {},
   "outputs": [],
   "source": [
    "struct CircuitCoupling{T} \n",
    "    ctype::Symbol\n",
    "    domain::String\n",
    "    value::T\n",
    "end"
   ]
  },
  {
   "cell_type": "code",
   "execution_count": 7,
   "id": "defined-feature",
   "metadata": {},
   "outputs": [],
   "source": [
    "struct CCouplingHandler{DH<:Ferrite.AbstractDofHandler,T}\n",
    "    ctype::DataType\n",
    "    coupling::Vector{CircuitCoupling{T}}\n",
    "    dh::DH\n",
    "end\n",
    "\n",
    "function CCouplingHandler(dh::Ferrite.AbstractDofHandler, val_type::DataType)\n",
    "    @assert Ferrite.isclosed(dh)\n",
    "    CCouplingHandler(val_type, CircuitCoupling{val_type}[], dh)\n",
    "end\n",
    "\n",
    "function Base.show(io::IO, ::MIME\"text/plain\", cch::CCouplingHandler)\n",
    "    println(io, \"CCouplingHandler:\")\n",
    "    print(io, \"  Circuit constraints:\")\n",
    "    for c in cch.coupling\n",
    "        print(io, \"\\n    \", \"Domain: \", c.domain, \", \")\n",
    "        if(c.ctype == :current)\n",
    "            print(io, \"Current: \", c.value, \" A\")\n",
    "        elseif(c.ctype == :voltage)\n",
    "            print(io, \"Voltage: \", c.value, \" V\")\n",
    "        end\n",
    "    end\n",
    "end"
   ]
  },
  {
   "cell_type": "code",
   "execution_count": 45,
   "id": "meaning-scheduling",
   "metadata": {},
   "outputs": [
    {
     "ename": "LoadError",
     "evalue": "syntax: invalid syntax \"catch {error(\"No domain called \", dom_name, \"\\n\")}\"",
     "output_type": "error",
     "traceback": [
      "syntax: invalid syntax \"catch {error(\"No domain called \", dom_name, \"\\n\")}\"",
      "",
      "Stacktrace:",
      " [1] top-level scope",
      "   @ In[45]:7",
      " [2] eval",
      "   @ .\\boot.jl:373 [inlined]",
      " [3] include_string(mapexpr::typeof(REPL.softscope), mod::Module, code::String, filename::String)",
      "   @ Base .\\loading.jl:1196"
     ]
    }
   ],
   "source": [
    "function add_current_coupling!(cc::CCouplingHandler, dom_name, current)\n",
    "    push!(cc.coupling, CircuitCoupling{cc.ctype}(:current, dom_name, current))\n",
    "end\n",
    "\n",
    "function apply_circuit(K::SparseMatrixCSC, f::Vector, cc::CCouplingHandler)\n",
    "    N  = size(K)\n",
    "    nc = length(cc.coupling)\n",
    "    K  = hcat(K, spzeros(N[1], nc))\n",
    "    K  = vcat(K, spzeros(nc, N[2] + nc))\n",
    "    f  = vcat(f, spzeros(nc))\n",
    "    \n",
    "    for circ in cc.coupling\n",
    "        \n",
    "    end\n",
    "    \n",
    "    return K, f\n",
    "end"
   ]
  },
  {
   "cell_type": "code",
   "execution_count": 39,
   "id": "brutal-birth",
   "metadata": {},
   "outputs": [
    {
     "name": "stdout",
     "output_type": "stream",
     "text": [
      "Info    : Reading 'geo/cable_geo.msh'...\n",
      "Info    : 25 entities\n",
      "Info    : 16928 nodes\n",
      "Info    : 33626 elements\n",
      "Info    : Done reading 'geo/cable_geo.msh'\n"
     ]
    }
   ],
   "source": [
    "# Load the mesh using FerriteGmsh\n",
    "grid = saved_file_to_grid(\"geo/cable_geo.msh\");\n",
    "\n",
    "dh = DofHandler(grid)\n",
    "\n",
    "push!(dh, :A, 1)\n",
    "close!(dh)\n",
    "\n",
    "dim   = 2\n",
    "order = 1;\n",
    "ip_fe  = Lagrange{dim, RefTetrahedron, order}()\n",
    "ip_geo = Lagrange{dim, RefTetrahedron, 1}()\n",
    "qr = QuadratureRule{dim, RefTetrahedron}(2 * order)\n",
    "cellvalues = CellScalarValues(qr, ip_fe, ip_geo);"
   ]
  },
  {
   "cell_type": "code",
   "execution_count": 40,
   "id": "different-hunter",
   "metadata": {},
   "outputs": [],
   "source": [
    "# Define the boundary conditions using a constraint handler\n",
    "ch = ConstraintHandler(dh);\n",
    "\n",
    "dbc1 = Dirichlet(\n",
    "    :A,\n",
    "    getfaceset(grid, \"jacket\"),\n",
    "    (x,t) -> 0;\n",
    ");\n",
    "\n",
    "\n",
    "# Add boundary conditions to the constraint handler and update it\n",
    "add!(ch, dbc1)\n",
    "\n",
    "close!(ch)\n",
    "update!(ch, 0.0); # Since the BCs do not depend on time, update them once at t = 0.0"
   ]
  },
  {
   "cell_type": "code",
   "execution_count": 41,
   "id": "commercial-macro",
   "metadata": {},
   "outputs": [
    {
     "data": {
      "text/plain": [
       "CCouplingHandler:\n",
       "  Circuit constraints:\n",
       "    Domain: Conductor, Current: 1000.0 + 0.0im A"
      ]
     },
     "execution_count": 41,
     "metadata": {},
     "output_type": "execute_result"
    }
   ],
   "source": [
    "cc = CCouplingHandler(dh, Complex{Float64});\n",
    "add_current_coupling!(cc, \"Conductor\", 1000.0 * exp(1im * 0))\n",
    "\n",
    "cc"
   ]
  },
  {
   "cell_type": "code",
   "execution_count": 42,
   "id": "frequent-mitchell",
   "metadata": {},
   "outputs": [
    {
     "data": {
      "text/plain": [
       "assemble_global (generic function with 1 method)"
      ]
     },
     "execution_count": 42,
     "metadata": {},
     "output_type": "execute_result"
    }
   ],
   "source": [
    "# Element assembly: computes the elementary matrix contributions Ke and fe\n",
    "function assemble_element!(Ke::Matrix, Me::Matrix, fe::Vector, cellvalues::CellScalarValues, Jz, nu, sigma, omega)\n",
    "    n_basefuncs = getnbasefunctions(cellvalues)\n",
    "    \n",
    "    # Reset to 0\n",
    "    fill!(Ke, 0)\n",
    "    fill!(Me, 0)\n",
    "    fill!(fe, 0)\n",
    "    \n",
    "    # Loop over quadrature points\n",
    "    for q_point in 1:getnquadpoints(cellvalues)\n",
    "        # Get the quadrature weight\n",
    "        dΩ = getdetJdV(cellvalues, q_point)\n",
    "        # Loop over test shape functions\n",
    "        for i in 1:n_basefuncs\n",
    "            v  = shape_value(cellvalues, q_point, i)\n",
    "            ∇v = shape_gradient(cellvalues, q_point, i)\n",
    "            \n",
    "            # Add contribution to fe\n",
    "            fe[i] += Jz * v * dΩ\n",
    "            \n",
    "            # Loop over trial shape functions\n",
    "            for j in 1:n_basefuncs\n",
    "                u  = shape_value(cellvalues, q_point, j)\n",
    "                ∇u = shape_gradient(cellvalues, q_point, j)\n",
    "                \n",
    "                # Add contribution to Ke & Me\n",
    "                Ke[i, j] += nu * (∇v ⋅ ∇u) * dΩ\n",
    "                Me[i, j] += 1im * sigma * omega * (v ⋅ u) * dΩ\n",
    "            end\n",
    "        end\n",
    "    end\n",
    "    \n",
    "    return Ke, fe\n",
    "end\n",
    "\n",
    "# Global assembly: computes global matrix K and f using element contributions\n",
    "#  This is quite fast because of the use of a pre-allocated sparse matrix pattern.\n",
    "function assemble_global(cellvalues::CellScalarValues, K::SparseMatrixCSC, dh::DofHandler)\n",
    "    # Allocate the element stiffness matrix and element force vector\n",
    "    n_basefuncs = getnbasefunctions(cellvalues)\n",
    "    Ke = zeros(Complex{Float64}, n_basefuncs, n_basefuncs)\n",
    "    Me = zeros(Complex{Float64}, n_basefuncs, n_basefuncs)\n",
    "    fe = zeros(Complex{Float64}, n_basefuncs)\n",
    "    \n",
    "    # Allocate global force vector f\n",
    "    f = zeros(Complex{Float64}, ndofs(dh))\n",
    "    \n",
    "    # Create an assembler\n",
    "    assembler = start_assemble(K, f)\n",
    "    \n",
    "    # Loop over all cells\n",
    "    for cell in CellIterator(dh)\n",
    "        # Reinitialize cellvalues for this cell\n",
    "        reinit!(cellvalues, cell)\n",
    "        cid = cellid(cell);\n",
    "        \n",
    "        # Compute element contribution\n",
    "        assemble_element!(Ke, Me, fe, cellvalues, Jz[cid], nu[cid], sigma[cid], omega)\n",
    "        Ae = Ke + Me;\n",
    "        \n",
    "        # Assemble Ke and fe into K and f\n",
    "        assemble!(assembler, celldofs(cell), Ae, fe)\n",
    "    end\n",
    "    return K, f\n",
    "end"
   ]
  },
  {
   "cell_type": "code",
   "execution_count": 43,
   "id": "logical-origin",
   "metadata": {},
   "outputs": [
    {
     "ename": "LoadError",
     "evalue": "LinearAlgebra.SingularException(0)",
     "output_type": "error",
     "traceback": [
      "LinearAlgebra.SingularException(0)",
      "",
      "Stacktrace:",
      " [1] lu(S::SparseMatrixCSC{ComplexF64, Int64}; check::Bool)",
      "   @ SuiteSparse.UMFPACK D:\\Program Files\\Julia-1.7.1\\share\\julia\\stdlib\\v1.7\\SuiteSparse\\src\\umfpack.jl:203",
      " [2] lu",
      "   @ D:\\Program Files\\Julia-1.7.1\\share\\julia\\stdlib\\v1.7\\SuiteSparse\\src\\umfpack.jl:196 [inlined]",
      " [3] \\(A::SparseMatrixCSC{ComplexF64, Int64}, B::SparseVector{ComplexF64, Int64})",
      "   @ SparseArrays D:\\Program Files\\Julia-1.7.1\\share\\julia\\stdlib\\v1.7\\SparseArrays\\src\\linalg.jl:1554",
      " [4] top-level scope",
      "   @ In[43]:30",
      " [5] eval",
      "   @ .\\boot.jl:373 [inlined]",
      " [6] include_string(mapexpr::typeof(REPL.softscope), mod::Module, code::String, filename::String)",
      "   @ Base .\\loading.jl:1196"
     ]
    }
   ],
   "source": [
    "# Define element properties\n",
    "I = 1000;\n",
    "\n",
    "Ncells = length(dh.grid.cells);\n",
    "Jz = zeros(Float64, Ncells);\n",
    "\n",
    "sigma = zeros(Ncells);\n",
    "sigma[collect(getcellset(grid, \"Conductor\"))] .= 36.9e6;\n",
    "sigma[collect(getcellset(grid, \"Sheath\"))] .= 59.6e6;\n",
    "\n",
    "mu0 = 4e-7 * pi;\n",
    "mur = ones(Ncells);\n",
    "nu  = 1 ./ (mu0 * mur);\n",
    "\n",
    "omega = 2*pi * 50;\n",
    "\n",
    "# Create sparsity pattern from mesh data and assemble the linear system\n",
    "K = create_sparsity_pattern(dh);\n",
    "\n",
    "K = convert(SparseMatrixCSC{Complex{Float64}, Int64}, K)\n",
    "K, f = assemble_global(cellvalues, K, dh);\n",
    "\n",
    "# Apply the boundary conditions\n",
    "apply!(K, f, ch)\n",
    "\n",
    "# Apply the circuit coupling\n",
    "K, f = apply_circuit(K, f, cc)\n",
    "\n",
    "# Solve the linear system\n",
    "u = K \\ f;"
   ]
  },
  {
   "cell_type": "code",
   "execution_count": 44,
   "id": "manual-category",
   "metadata": {},
   "outputs": [
    {
     "data": {
      "text/plain": [
       "16929×16929 SparseMatrixCSC{ComplexF64, Int64} with 117958 stored entries:\n",
       "⣿⣿⣿⣿⡀⠀⠈⠀⠂⡀⢀⣈⣘⠀⠀⠀⠁⠂⠁⠀⠀⠀⠀⠀⠀⠀⠀⠀⠀⠀⠀⠀⠀⠀⠀⠀⠀⠀⠀⠀\n",
       "⣿⣿⣿⣿⣋⣐⣛⣐⣚⣀⣂⣚⣘⣁⣁⣀⣂⣂⣈⣁⣀⣈⣀⣀⣀⣀⣀⣀⣀⣀⣁⡀⢀⣀⡀⠀⠀⠀⠀⠀\n",
       "⠀⠈⢋⢸⣿⣿⣿⣿⣿⣿⣿⣿⣿⣿⣿⣿⣿⣿⣿⣿⣿⣿⣿⣿⣿⣿⣿⣿⣿⣿⣿⡇⠐⢾⠀⠀⠀⠀⠀⠀\n",
       "⠂⠀⢛⢸⣿⣿⣿⣿⣿⣿⣿⣿⣿⣿⣿⣿⣿⣿⣿⣿⣿⣿⣿⣿⣿⣿⣿⣿⣿⣿⣿⡏⠰⠝⠀⠀⠀⠀⠀⠀\n",
       "⠈⠠⠚⢸⣿⣿⣿⣿⣿⣿⣿⣿⣿⣿⣿⣿⣿⣿⣿⣿⣿⣿⣿⣿⣿⣿⣿⣿⣿⣿⣿⡇⢀⢈⠀⠀⠀⠀⠀⠀\n",
       "⡀⢰⣨⢸⣿⣿⣿⣿⣿⣿⣿⣿⣿⣿⣿⣿⣿⣿⣿⣿⣿⣿⣿⣿⣿⣿⣿⣿⣿⣿⣿⡇⠀⠀⠀⠀⠀⠀⠀⠀\n",
       "⠒⠘⠖⢸⣿⣿⣿⣿⣿⣿⣿⣿⣿⣿⣿⣿⣿⣿⣿⣿⣿⣿⣿⣿⣿⣿⣿⣿⣿⣿⣿⡗⢒⣒⡀⠀⠀⠀⠀⠀\n",
       "⠀⠀⠁⢸⣿⣿⣿⣿⣿⣿⣿⣿⣿⣿⣿⣿⣿⣿⣿⣿⣿⣿⣿⣿⣿⣿⣿⣿⣿⣿⣿⡇⠐⠀⠂⠀⠀⠀⠀⠀\n",
       "⠡⠀⠨⢸⣿⣿⣿⣿⣿⣿⣿⣿⣿⣿⣿⣿⣿⣿⣿⣿⣿⣿⣿⣿⣿⣿⣿⣿⣮⣺⣿⡇⠀⠀⠀⠀⠀⠀⠀⠀\n",
       "⠁⠀⠆⢸⣿⣿⣿⣿⣿⣿⣿⣿⣿⣿⣿⣿⣿⣿⣿⣿⣿⣿⣿⣿⣿⣿⣿⣿⣿⣿⣿⡇⠬⠀⠁⠀⠀⠀⠀⠀\n",
       "⠀⠀⡀⢸⣿⣿⣿⣿⣿⣿⣿⣿⣿⣿⣿⣿⣿⣿⣿⣿⣿⣿⣿⣿⣿⣿⣿⣿⣿⣿⣿⡇⠀⠀⠀⠀⠀⠀⠀⠀\n",
       "⠀⠀⠀⢸⣿⣿⣿⣿⣿⣿⣿⣿⣿⣿⣿⣿⣿⣿⣿⣿⣿⣿⣿⣿⣿⣿⣿⣿⣿⣿⣿⡇⠀⠀⠀⠀⠀⠀⠀⠀\n",
       "⠀⠀⠀⢸⣿⣿⣿⣿⣿⣿⣿⣿⣿⣿⣿⣿⣿⣿⣿⣿⣿⣿⣿⣿⣿⣿⣿⣿⣿⣿⣿⡇⠒⠀⠀⠀⠀⠀⠀⠀\n",
       "⠀⠀⠀⢸⣿⣿⣿⣿⣿⣿⣿⣿⣿⣿⣿⣿⣿⣿⣿⣿⣿⣿⣿⣿⣿⣿⣿⣿⣿⣿⣿⣧⣦⣤⡄⡆⠀⠀⠀⠀\n",
       "⠀⠀⠀⢸⣿⣿⣿⣿⣿⣿⣿⣿⣿⣿⣿⣿⣪⣻⣿⣿⣿⣿⣿⣿⣿⣿⣿⣿⣿⣿⣿⡯⠭⢭⠅⠀⠀⠀⠀⠀\n",
       "⠀⠀⠁⠸⠿⠿⡿⠿⠿⠿⠿⠿⢿⠿⠿⠿⠿⠿⠿⠿⠿⠿⠿⠿⠿⠿⠿⣿⡿⡿⡿⣯⣭⣽⣧⣆⡀⣀⣀⡀\n",
       "⠀⠀⠀⢰⣰⣄⣔⠆⡀⢐⠀⠀⢸⢰⠐⠀⠀⠀⠂⠃⠀⠀⠀⠀⠘⠀⠈⣿⡇⣇⣇⣿⣿⣿⣿⣿⠚⠶⠾⠇\n",
       "⠀⠀⠀⠈⠀⠀⠀⠀⠀⠀⠀⠀⠀⠈⠈⠀⠀⠀⠁⠀⠀⠀⠀⠀⠀⠀⠠⠭⠁⠁⠩⢿⣿⣿⣿⣿⣟⣟⣻⡃\n",
       "⠀⠀⠀⠀⠀⠀⠀⠀⠀⠀⠀⠀⠀⠀⠀⠀⠀⠀⠀⠀⠀⠀⠀⠀⠀⠀⠀⠀⠀⠀⠀⢨⢺⡄⣿⢽⣿⣿⣿⡇\n",
       "⠀⠀⠀⠀⠀⠀⠀⠀⠀⠀⠀⠀⠀⠀⠀⠀⠀⠀⠀⠀⠀⠀⠀⠀⠀⠀⠀⠀⠀⠀⠀⠸⠾⠇⠿⠺⠿⠿⠿⠇"
      ]
     },
     "execution_count": 44,
     "metadata": {},
     "output_type": "execute_result"
    }
   ],
   "source": [
    "K"
   ]
  },
  {
   "cell_type": "code",
   "execution_count": null,
   "id": "endless-edmonton",
   "metadata": {},
   "outputs": [],
   "source": []
  }
 ],
 "metadata": {
  "kernelspec": {
   "display_name": "Julia 1.7.1",
   "language": "julia",
   "name": "julia-1.7"
  },
  "language_info": {
   "file_extension": ".jl",
   "mimetype": "application/julia",
   "name": "julia",
   "version": "1.7.1"
  }
 },
 "nbformat": 4,
 "nbformat_minor": 5
}
