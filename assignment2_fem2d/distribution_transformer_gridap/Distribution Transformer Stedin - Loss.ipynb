{
 "cells": [
  {
   "cell_type": "markdown",
   "id": "dacb99c1",
   "metadata": {},
   "source": [
    "# Stedin Distribution Transformer - Loss Model - Gridap Implementation"
   ]
  },
  {
   "cell_type": "code",
   "execution_count": null,
   "id": "applicable-verse",
   "metadata": {},
   "outputs": [],
   "source": [
    "using Gridap\n",
    "using Gridap.Algebra;\n",
    "using Gridap.FESpaces\n",
    "using Gridap.ReferenceFEs\n",
    "using Gridap.Arrays\n",
    "using Gridap.Geometry\n",
    "using Gridap.Fields\n",
    "using Gridap.CellData\n",
    "\n",
    "using GridapGmsh\n",
    "\n",
    "using LinearAlgebra, ForwardDiff\n",
    "using FillArrays, SparseArrays"
   ]
  },
  {
   "cell_type": "markdown",
   "id": "clean-polls",
   "metadata": {},
   "source": [
    "# Geometry"
   ]
  },
  {
   "cell_type": "code",
   "execution_count": null,
   "id": "needed-baltimore",
   "metadata": {},
   "outputs": [],
   "source": [
    "# Enclosure dimensions (enclosure is not centered, the core is)\n",
    "hencl1 = 65.5e-2;   # Height above the x-axis\n",
    "hencl2 = -53.5e-2;  # Height below the y-axis\n",
    "wencl  = 104e-2;    # Width\n",
    "\n",
    "# Core dimensions\n",
    "wcore = 84e-2;\n",
    "hcore = 100e-2;\n",
    "\n",
    "# Core gap dimensions (left and right are identical)\n",
    "wgap = 17e-2;\n",
    "hgap = 76e-2;\n",
    "mgap = 17e-2;\n",
    "\n",
    "# HV winding dimensions (all phases left/right are identical)\n",
    "wwhv = 3e-2;\n",
    "hwhv = 74e-2;\n",
    "mwhv = 14.75e-2;\n",
    "Awhv = wwhv * hwhv;\n",
    "\n",
    "# LV winding dimensions (all phases left/right are identical)\n",
    "wwlv = 2e-2;\n",
    "hwlv = 74e-2;\n",
    "mwlv = 11.25e-2;\n",
    "Awlv = wwlv * hwlv;\n",
    "\n",
    "# Mesh densities\n",
    "lc1 = 2e-2;      # Enclosure & core outer\n",
    "lc2 = 1e-2;      # Core inner\n",
    "lc3 = 1e-2;      # HV windings\n",
    "lc4 = 1e-2;      # LV windings"
   ]
  },
  {
   "cell_type": "markdown",
   "id": "hired-seeker",
   "metadata": {},
   "source": [
    "# Gridap Setup"
   ]
  },
  {
   "cell_type": "code",
   "execution_count": 3,
   "id": "irish-georgia",
   "metadata": {},
   "outputs": [
    {
     "data": {
      "text/plain": [
       "norm_complex (generic function with 2 methods)"
      ]
     },
     "execution_count": 3,
     "metadata": {},
     "output_type": "execute_result"
    }
   ],
   "source": [
    "# Define norm of a complex vector for Gridap to use on the CellField which results from Bh = ∇(uh)\n",
    "norm_complex(a::VectorValue{2, ComplexF64}) = sqrt(norm(a[1])^2 + norm(a[2])^2)\n",
    "norm_complex(a::CellField) = Operation(norm_complex)(a)"
   ]
  },
  {
   "cell_type": "markdown",
   "id": "87d4a449",
   "metadata": {},
   "source": [
    "# Open-Circuit Test"
   ]
  },
  {
   "cell_type": "code",
   "execution_count": 4,
   "id": "31ab5571",
   "metadata": {},
   "outputs": [
    {
     "name": "stdout",
     "output_type": "stream",
     "text": [
      "Info    : Reading 'geo/transformer_stedin_hybrid.msh'...\n",
      "Info    : 194 entities\n",
      "Info    : 11096 nodes\n",
      "Info    : 17687 elements\n",
      "Info    : Done reading 'geo/transformer_stedin_hybrid.msh'\n"
     ]
    },
    {
     "data": {
      "text/plain": [
       "TrialFESpace()"
      ]
     },
     "execution_count": 4,
     "metadata": {},
     "output_type": "execute_result"
    }
   ],
   "source": [
    "# Define Lagrangian reference element\n",
    "order = 2;\n",
    "reffe = ReferenceFE(lagrangian, Float64, order)\n",
    "\n",
    "# Load mesh\n",
    "model = GmshDiscreteModel(\"geo/transformer_stedin_hybrid.msh\")\n",
    "Th = Triangulation(model)\n",
    "Qh = CellQuadrature(Th, 2*order)\n",
    "\n",
    "# Construct Lagrangian test space with dirichlet condition on the right boundary node\n",
    "Vh = TestFESpace(model, reffe; conformity = :H1, dirichlet_tags = [\"Enclosure\"], vector_type = Vector{ComplexF64})\n",
    "Uh = TrialFESpace(Vh, [0])"
   ]
  },
  {
   "cell_type": "code",
   "execution_count": 5,
   "id": "d84b7a19",
   "metadata": {},
   "outputs": [],
   "source": [
    "Ip = 0;       # Primary peak phase current\n",
    "Is = 777.62;  # Secondary peak phase current\n",
    "Np = 266;\n",
    "Ns = 6;\n",
    "\n",
    "omega = 2*pi*50;  # Frequency\n",
    "\n",
    "mu0 = 4e-7 * pi;\n",
    "\n",
    "# Calculate current density in the windings\n",
    "Jp = Np * Ip / Awhv;\n",
    "Js = Ns * Is / Awlv;"
   ]
  },
  {
   "cell_type": "code",
   "execution_count": 6,
   "id": "744b4da8",
   "metadata": {},
   "outputs": [
    {
     "data": {
      "text/plain": [
       "fsigma (generic function with 1 method)"
      ]
     },
     "execution_count": 6,
     "metadata": {},
     "output_type": "execute_result"
    }
   ],
   "source": [
    "labels = get_face_labeling(model)\n",
    "dimension = num_cell_dims(model)\n",
    "tags = get_face_tag(labels, dimension)\n",
    "\n",
    "# Construct a cell field consisting of the physical domain tags\n",
    "τ = CellField(tags, Th)\n",
    "\n",
    "const tag_core = get_tag_from_name(labels, \"Core\");\n",
    "const tag_lv1l = get_tag_from_name(labels, \"LV1l\");\n",
    "const tag_lv1r = get_tag_from_name(labels, \"LV1r\");\n",
    "const tag_lv2l = get_tag_from_name(labels, \"LV2l\");\n",
    "const tag_lv2r = get_tag_from_name(labels, \"LV2r\");\n",
    "const tag_lv3l = get_tag_from_name(labels, \"LV3l\");\n",
    "const tag_lv3r = get_tag_from_name(labels, \"LV3r\");\n",
    "\n",
    "# Source current density\n",
    "function fsource(tag)\n",
    "    return 0.0 + 0.0im;\n",
    "end\n",
    "\n",
    "# Permeability model\n",
    "bh_a = 1 / 47e3;\n",
    "bh_b = 3.6;\n",
    "bh_c = 2.1e8;\n",
    "mu0  = 4e-7 * pi;\n",
    "fmur_core(B) = 1 / (bh_a + (1 - bh_a) * B^(2*bh_b) / (B^(2*bh_b) + bh_c));\n",
    "\n",
    "function fmur(tag, ∇u)\n",
    "    if tag == tag_core\n",
    "        normB = norm_complex(∇u);\n",
    "        return fmur_core(normB);\n",
    "    else\n",
    "        return 1.0;\n",
    "    end\n",
    "end\n",
    "\n",
    "function fnu(tag, ∇u)\n",
    "    return 1 / (mu0 * fmur(tag, ∇u));\n",
    "end\n",
    "\n",
    "# Conductivity\n",
    "function fsigma(tag)\n",
    "    if tag == tag_core\n",
    "        return 0.0;\n",
    "    else\n",
    "        return 0.0;\n",
    "    end\n",
    "end"
   ]
  },
  {
   "cell_type": "code",
   "execution_count": 7,
   "id": "cd4ede7a",
   "metadata": {},
   "outputs": [],
   "source": [
    "dv = get_fe_basis(Vh);\n",
    "du = get_trial_fe_basis(Uh);\n",
    "\n",
    "# Assemble the linear system\n",
    "assem = SparseMatrixAssembler(Uh, Vh)\n",
    "σk = get_cell_dof_ids(Uh);"
   ]
  },
  {
   "cell_type": "code",
   "execution_count": 8,
   "id": "60eaa46b",
   "metadata": {},
   "outputs": [],
   "source": [
    "# Circuit parameters\n",
    "CFF  = 0.3;\n",
    "Vsec = 420 * sqrt(2 / 3);\n",
    "Rsec = 1.2999e-3 / CFF;\n",
    "Asec = Awlv;\n",
    "lsec = 0.4;\n",
    "\n",
    "# Extend the linear system with an additional row and column per circuit equation\n",
    "N  = num_free_dofs(Uh);\n",
    "nc = 3;\n",
    "\n",
    "C  = Matrix(UniformScaling(1), nc, nc);\n",
    "f2 = [ Vsec * exp(1im * 2pi/3) / Rsec;\n",
    "       Vsec / Rsec;\n",
    "       Vsec * exp(-1im * 2pi/3) / Rsec\n",
    "];\n",
    "\n",
    "# Calculate the cell contributions to the extra vectors\n",
    "Th_lv1r = Triangulation(model, tags = \"LV1r\"); Qh_lv1r = CellQuadrature(Th_lv1r, 2*order)\n",
    "Th_lv1l = Triangulation(model, tags = \"LV1l\"); Qh_lv1l = CellQuadrature(Th_lv1l, 2*order)\n",
    "Th_lv2r = Triangulation(model, tags = \"LV2r\"); Qh_lv2r = CellQuadrature(Th_lv2r, 2*order)\n",
    "Th_lv2l = Triangulation(model, tags = \"LV2l\"); Qh_lv2l = CellQuadrature(Th_lv2l, 2*order)\n",
    "Th_lv3r = Triangulation(model, tags = \"LV3r\"); Qh_lv3r = CellQuadrature(Th_lv3r, 2*order)\n",
    "Th_lv3l = Triangulation(model, tags = \"LV3l\"); Qh_lv3l = CellQuadrature(Th_lv3l, 2*order)\n",
    "\n",
    "cellvals_lv1lT = ∫( Ns / Asec ⋅ dv )*Qh_lv1l;\n",
    "cellvals_lv1rT = ∫( -Ns / Asec ⋅ dv )*Qh_lv1r;\n",
    "cellvals_lv2lT = ∫( Ns / Asec ⋅ dv )*Qh_lv2l;\n",
    "cellvals_lv2rT = ∫( -Ns / Asec ⋅ dv )*Qh_lv2r;\n",
    "cellvals_lv3lT = ∫( Ns / Asec ⋅ dv )*Qh_lv3l;\n",
    "cellvals_lv3rT = ∫( -Ns / Asec ⋅ dv )*Qh_lv3r;\n",
    "\n",
    "cellvals_lv1l = ∫( -1im * omega * Ns * lsec / (Asec * Rsec) ⋅ dv )*Qh_lv1l;\n",
    "cellvals_lv1r = ∫( 1im * omega * Ns * lsec / (Asec * Rsec) ⋅ dv )*Qh_lv1r;\n",
    "cellvals_lv2l = ∫( -1im * omega * Ns * lsec / (Asec * Rsec) ⋅ dv )*Qh_lv2l;\n",
    "cellvals_lv2r = ∫( 1im * omega * Ns * lsec / (Asec * Rsec) ⋅ dv )*Qh_lv2r;\n",
    "cellvals_lv3l = ∫( -1im * omega * Ns * lsec / (Asec * Rsec) ⋅ dv )*Qh_lv3l;\n",
    "cellvals_lv3r = ∫( 1im * omega * Ns * lsec / (Asec * Rsec) ⋅ dv )*Qh_lv3r;\n",
    "\n",
    "# Assemble the circuit coupling equations into extra vectors\n",
    "σ_lv1l = get_cell_dof_ids(Uh, Th_lv1l);\n",
    "σ_lv1r = get_cell_dof_ids(Uh, Th_lv1r);\n",
    "σ_lv2l = get_cell_dof_ids(Uh, Th_lv2l);\n",
    "σ_lv2r = get_cell_dof_ids(Uh, Th_lv2r);\n",
    "σ_lv3l = get_cell_dof_ids(Uh, Th_lv3l);\n",
    "σ_lv3r = get_cell_dof_ids(Uh, Th_lv3r);\n",
    "\n",
    "rs = ([cellvals_lv1lT; cellvals_lv1rT], [σ_lv1l; σ_lv1r]);\n",
    "b1T = allocate_vector(assem, rs);\n",
    "assemble_vector!(b1T, assem, rs);\n",
    "\n",
    "rs = ([cellvals_lv2lT; cellvals_lv2rT], [σ_lv2l; σ_lv2r]);\n",
    "b2T = allocate_vector(assem, rs);\n",
    "assemble_vector!(b2T, assem, rs);\n",
    "\n",
    "rs = ([cellvals_lv3lT; cellvals_lv3rT], [σ_lv3l; σ_lv3r]);\n",
    "b3T = allocate_vector(assem, rs);\n",
    "assemble_vector!(b3T, assem, rs);\n",
    "\n",
    "rs = ([cellvals_lv1l; cellvals_lv1r], [σ_lv1l; σ_lv1r]);\n",
    "b1 = allocate_vector(assem, rs);\n",
    "assemble_vector!(b1, assem, rs);\n",
    "\n",
    "rs = ([cellvals_lv2l; cellvals_lv2r], [σ_lv2l; σ_lv2r]);\n",
    "b2 = allocate_vector(assem, rs);\n",
    "assemble_vector!(b2, assem, rs);\n",
    "\n",
    "rs = ([cellvals_lv3l; cellvals_lv3r], [σ_lv3l; σ_lv3r]);\n",
    "b3 = allocate_vector(assem, rs);\n",
    "assemble_vector!(b3, assem, rs);"
   ]
  },
  {
   "cell_type": "code",
   "execution_count": 9,
   "id": "715577d1",
   "metadata": {},
   "outputs": [
    {
     "data": {
      "text/plain": [
       "SingleFieldFEFunction():\n",
       " num_cells: 17463\n",
       " DomainStyle: ReferenceDomain()\n",
       " Triangulation: BodyFittedTriangulation()\n",
       " Triangulation id: 9325442566621070826"
      ]
     },
     "execution_count": 9,
     "metadata": {},
     "output_type": "execute_result"
    }
   ],
   "source": [
    "u0 = FEFunction(Uh, zeros(Complex{Float64}, num_free_dofs(Uh)))"
   ]
  },
  {
   "cell_type": "code",
   "execution_count": 10,
   "id": "cb1620c1",
   "metadata": {},
   "outputs": [],
   "source": [
    "# Calculate contributions of the cells to the linear system\n",
    "cellvals_A = ∫( (fnu ∘ (τ, ∇(u0))) ⋅ ∇(du) ⋅ ∇(dv) + 1im * omega * (fsigma ∘ τ) ⋅ du ⋅ dv )*Qh;\n",
    "cellvals_f = ∫( (fsource ∘ τ) ⋅ dv )*Qh;\n",
    "\n",
    "rs = ([cellvals_f], [σk]);\n",
    "b = allocate_vector(assem, rs);\n",
    "assemble_vector!(b, assem, rs);\n",
    "\n",
    "rs = ([cellvals_A], [σk], [σk]);\n",
    "A = allocate_matrix(assem, rs);\n",
    "assemble_matrix!(A, assem, rs);\n",
    "\n",
    "# Create the modified system \\tilde{A} = [A BT; B C] and \\tilde{b} = [b1; b2]\n",
    "At = [A [b1T b2T b3T]; transpose([b1 b2 b3]) C];\n",
    "bt = [b; f2];\n",
    "\n",
    "# Solve the modified linear system and package the solution in a FEFunction\n",
    "u = At \\ bt;"
   ]
  },
  {
   "cell_type": "code",
   "execution_count": null,
   "id": "8dcaf6dd",
   "metadata": {},
   "outputs": [],
   "source": [
    "deltau = 1e6;\n",
    "Niter = 1;\n",
    "alpha = 0.9\n",
    "\n",
    "tol = 1e-6;\n",
    "Nmax = 200;\n",
    "\n",
    "uhist = zeros(Complex{Float64}, N + nc);\n",
    "\n",
    "while (deltau > tol) && (Niter < Nmax)\n",
    "    uprev = u;\n",
    "    uhist = uhist * alpha + u * (1 - alpha);    # Provide some damping to prevent oscillation between two solutions\n",
    "\n",
    "    uh_n = FEFunction(Uh, uhist)\n",
    "    \n",
    "    # Calculate contributions of the cells to the linear system\n",
    "    cellvals_A = ∫( (fnu ∘ (τ, ∇(uh_n))) ⋅ ∇(du) ⋅ ∇(dv) + 1im * omega * (fsigma ∘ τ) ⋅ du ⋅ dv )*Qh;\n",
    "    cellvals_f = ∫( (fsource ∘ τ) ⋅ dv )*Qh;\n",
    "    \n",
    "    rs = ([cellvals_f], [σk]);\n",
    "    assemble_vector!(b, assem, rs);\n",
    "\n",
    "    rs = ([cellvals_A], [σk], [σk]);\n",
    "    assemble_matrix!(A, assem, rs);\n",
    "\n",
    "    # Create the modified system \\tilde{A} = [A BT; B C] and \\tilde{b} = [b1; b2]\n",
    "    At = [A [b1T b2T b3T]; transpose([b1 b2 b3]) C];\n",
    "    bt = [b; f2];\n",
    "\n",
    "    # Solve the modified linear system and package the solution in a FEFunction\n",
    "    u = At \\ bt;\n",
    "\n",
    "    deltau = norm(u - uprev);\n",
    "    Niter += 1;\n",
    "    print(\"#$Niter: $deltau\\n\")\n",
    "end"
   ]
  },
  {
   "cell_type": "code",
   "execution_count": 12,
   "id": "8d999c84",
   "metadata": {},
   "outputs": [],
   "source": [
    "uh = FEFunction(Uh, u);"
   ]
  },
  {
   "cell_type": "code",
   "execution_count": 13,
   "id": "fd4ec297",
   "metadata": {},
   "outputs": [
    {
     "name": "stdout",
     "output_type": "stream",
     "text": [
      "I_{sec1}: 28.270175411158533 A, -163.75398432823434 deg\n",
      "I_{sec2}: 15.873064246026818 A, 89.8675404422131 deg\n",
      "I_{sec3}: 28.358501221485763 A, -16.262128447019908 deg\n"
     ]
    }
   ],
   "source": [
    "Isec1 = u[end-2];\n",
    "Isec2 = u[end-1];\n",
    "Isec3 = u[end-0];\n",
    "\n",
    "print(\"I_{sec1}: \", norm(Isec1), \" A, \", angle(Isec1) / pi * 180, \" deg\\n\")\n",
    "print(\"I_{sec2}: \", norm(Isec2), \" A, \", angle(Isec2) / pi * 180, \" deg\\n\")\n",
    "print(\"I_{sec3}: \", norm(Isec3), \" A, \", angle(Isec3) / pi * 180, \" deg\\n\")"
   ]
  },
  {
   "cell_type": "code",
   "execution_count": 14,
   "id": "641a6b85",
   "metadata": {},
   "outputs": [
    {
     "data": {
      "text/plain": [
       "1109.0272025128838"
      ]
     },
     "execution_count": 14,
     "metadata": {},
     "output_type": "execute_result"
    }
   ],
   "source": [
    "# Post-processing for magnetic field and current density\n",
    "Bh = norm_complex(∇(uh));\n",
    "mu_r = fmur ∘ (τ, ∇(uh)); # Relative permeability\n",
    "\n",
    "function fsource(tag)\n",
    "    if tag == tag_lv1l        # LV winding phase 1 left\n",
    "        return Ns * Isec1 / Awlv * exp(1im * 2pi/3);\n",
    "    elseif tag == tag_lv1r    # LV winding phase 1 right\n",
    "        return Ns * -Isec1 / Awlv * exp(1im * 2pi/3);\n",
    "    elseif tag == tag_lv2l    # LV winding phase 2 left\n",
    "        return Ns * Isec2 / Awlv;\n",
    "    elseif tag == tag_lv2r    # LV winding phase 2 right\n",
    "        return Ns * -Isec2 / Awlv;\n",
    "    elseif tag == tag_lv3l    # LV winding phase 3 left\n",
    "        return Ns * Isec3 / Awlv * exp(-1im * 2pi/3);\n",
    "    elseif tag == tag_lv3r    # LV winding phase 3 right\n",
    "        return Ns * -Isec3 / Awlv * exp(-1im * 2pi/3);\n",
    "    else\n",
    "        return 0.0 + 0.0im;\n",
    "    end\n",
    "end\n",
    "\n",
    "J0    = fsource ∘ τ; # Source current density\n",
    "Jeddy = 1im ⋅ omega ⋅ (fsigma ∘ τ) ⋅ mean(uh); # Eddy current density\n",
    "\n",
    "# Post-processing for core losses\n",
    "kv = 2.25; a = 1.53; b = 1.6;\n",
    "#kv = 50; a = 1; b = 1.5;\n",
    "kl = 0.955; # Lamination fill factor\n",
    "K  = kv * 50^a;\n",
    "L  = 0.4;\n",
    "\n",
    "Thc = Triangulation(model, tags = \"Core\")\n",
    "dΩc = Measure(Thc, 2*order);\n",
    "Pv_core = K * Bh.^b;\n",
    "Pcore = ∑(∫( kl * L * Pv_core )*dΩc) # Total core loss; take into account lamination fill factor"
   ]
  },
  {
   "cell_type": "code",
   "execution_count": 15,
   "id": "7a43c621",
   "metadata": {},
   "outputs": [
    {
     "data": {
      "text/plain": [
       "([\"images/transformer_losses/transformer1.vtu\"],)"
      ]
     },
     "execution_count": 15,
     "metadata": {},
     "output_type": "execute_result"
    }
   ],
   "source": [
    "writevtk(Th, \"images/transformer_losses/transformer1\", cellfields=[\"Az\"=>abs(uh), \"normB\" => Bh, \"normJ\" => abs(J0 + Jeddy), \"mur\" => mu_r, \"Pv\" => Pv_core])"
   ]
  },
  {
   "cell_type": "markdown",
   "id": "67fbd042",
   "metadata": {},
   "source": [
    "![Flux Density](images/transformer_losses/oc_normB.png)"
   ]
  },
  {
   "cell_type": "markdown",
   "id": "7514bb6e",
   "metadata": {},
   "source": [
    "![Current Density](images/transformer_losses/oc_normJ.png)"
   ]
  },
  {
   "cell_type": "markdown",
   "id": "c82a5778",
   "metadata": {},
   "source": [
    "# Short-Circuit Test"
   ]
  },
  {
   "cell_type": "code",
   "execution_count": 16,
   "id": "a3bcd3da",
   "metadata": {},
   "outputs": [
    {
     "name": "stdout",
     "output_type": "stream",
     "text": [
      "Info    : Reading 'geo/transformer_stedin_hybrid.msh'...\n",
      "Info    : 194 entities\n",
      "Info    : 11096 nodes\n",
      "Info    : 17687 elements\n",
      "Info    : Done reading 'geo/transformer_stedin_hybrid.msh'\n"
     ]
    },
    {
     "data": {
      "text/plain": [
       "TrialFESpace()"
      ]
     },
     "execution_count": 16,
     "metadata": {},
     "output_type": "execute_result"
    }
   ],
   "source": [
    "# Define Lagrangian reference element\n",
    "order = 2;\n",
    "reffe = ReferenceFE(lagrangian, Float64, order)\n",
    "\n",
    "# Load mesh\n",
    "model = GmshDiscreteModel(\"geo/transformer_stedin_hybrid.msh\")\n",
    "Th = Triangulation(model)\n",
    "Qh = CellQuadrature(Th, 2*order)\n",
    "\n",
    "# Construct Lagrangian test space with dirichlet condition on the right boundary node\n",
    "Vh = TestFESpace(model, reffe; conformity = :H1, dirichlet_tags = [\"Enclosure\"], vector_type = Vector{ComplexF64})\n",
    "Uh = TrialFESpace(Vh, [0])"
   ]
  },
  {
   "cell_type": "code",
   "execution_count": 17,
   "id": "7e43f2b3",
   "metadata": {},
   "outputs": [],
   "source": [
    "Np = 266;\n",
    "Ns = 6;\n",
    "\n",
    "omega = 2*pi*50  # Frequency\n",
    "mu0 = 4e-7 * pi;"
   ]
  },
  {
   "cell_type": "code",
   "execution_count": 18,
   "id": "6c21de17",
   "metadata": {},
   "outputs": [
    {
     "data": {
      "text/plain": [
       "fsigma (generic function with 1 method)"
      ]
     },
     "execution_count": 18,
     "metadata": {},
     "output_type": "execute_result"
    }
   ],
   "source": [
    "labels = get_face_labeling(model)\n",
    "dimension = num_cell_dims(model)\n",
    "tags = get_face_tag(labels, dimension)\n",
    "\n",
    "# Construct a cell field consisting of the physical domain tags\n",
    "τ = CellField(tags, Th)\n",
    "\n",
    "const tag_core = get_tag_from_name(labels, \"Core\");\n",
    "\n",
    "const tag_hv1l = get_tag_from_name(labels, \"HV1l\");\n",
    "const tag_hv1r = get_tag_from_name(labels, \"HV1r\");\n",
    "const tag_hv2l = get_tag_from_name(labels, \"HV2l\");\n",
    "const tag_hv2r = get_tag_from_name(labels, \"HV2r\");\n",
    "const tag_hv3l = get_tag_from_name(labels, \"HV3l\");\n",
    "const tag_hv3r = get_tag_from_name(labels, \"HV3r\");\n",
    "\n",
    "const tag_lv1l = get_tag_from_name(labels, \"LV1l\");\n",
    "const tag_lv1r = get_tag_from_name(labels, \"LV1r\");\n",
    "const tag_lv2l = get_tag_from_name(labels, \"LV2l\");\n",
    "const tag_lv2r = get_tag_from_name(labels, \"LV2r\");\n",
    "const tag_lv3l = get_tag_from_name(labels, \"LV3l\");\n",
    "const tag_lv3r = get_tag_from_name(labels, \"LV3r\");\n",
    "\n",
    "# Source current density\n",
    "function fsource(tag)\n",
    "    return 0.0 + 0.0im;\n",
    "end\n",
    "\n",
    "# Permeability model\n",
    "bh_a = 1 / 47e3;\n",
    "bh_b = 3.6;\n",
    "bh_c = 2.1e8;\n",
    "mu0  = 4e-7 * pi;\n",
    "fmur_core(B) = 1 / (bh_a + (1 - bh_a) * B^(2*bh_b) / (B^(2*bh_b) + bh_c));\n",
    "\n",
    "function fmur(tag, ∇u)\n",
    "    if tag == tag_core\n",
    "        normB = norm_complex(∇u);\n",
    "        return fmur_core(normB);\n",
    "    else\n",
    "        return 1.0;\n",
    "    end\n",
    "end\n",
    "\n",
    "function fnu(tag, ∇u)\n",
    "    return 1 / (mu0 * fmur(tag, ∇u));\n",
    "end\n",
    "\n",
    "# Conductivity\n",
    "function fsigma(tag)\n",
    "    if tag == tag_core\n",
    "        return 0.0;\n",
    "    else\n",
    "        return 0.0;\n",
    "    end\n",
    "end"
   ]
  },
  {
   "cell_type": "code",
   "execution_count": 19,
   "id": "0ba02799",
   "metadata": {},
   "outputs": [],
   "source": [
    "dv = get_fe_basis(Vh);\n",
    "du = get_trial_fe_basis(Uh);\n",
    "\n",
    "# Assemble the linear system\n",
    "assem = SparseMatrixAssembler(Uh, Vh)\n",
    "σk = get_cell_dof_ids(Uh);"
   ]
  },
  {
   "cell_type": "code",
   "execution_count": 20,
   "id": "651361cc",
   "metadata": {},
   "outputs": [],
   "source": [
    "# Circuit parameters\n",
    "CFFp = 0.3;\n",
    "Vpri = 460.3 * sqrt(2);\n",
    "Rpri = 1.8131 / CFFp;\n",
    "Apri = Awhv;\n",
    "lpri = 0.4;\n",
    "\n",
    "CFFs = 0.3;\n",
    "Vsec = 0;\n",
    "Rsec = 1.2999e-3 / CFFs;\n",
    "Asec = Awlv;\n",
    "lsec = 0.4;\n",
    "\n",
    "# Extend the linear system with an additional row and column per circuit equation\n",
    "N  = num_free_dofs(Uh);\n",
    "nc = 6;\n",
    "\n",
    "C  = Matrix(UniformScaling(1), nc, nc);\n",
    "f2 = [ 0; 0; 0;\n",
    "       Vpri * exp(1im * 2pi/3) / Rpri;\n",
    "       Vpri / Rpri;\n",
    "       Vpri * exp(-1im * 2pi/3) / Rpri\n",
    "];\n",
    "\n",
    "# Calculate the cell contributions to the extra vectors\n",
    "Th_lv1r = Triangulation(model, tags = \"LV1r\"); Qh_lv1r = CellQuadrature(Th_lv1r, 2*order)\n",
    "Th_lv1l = Triangulation(model, tags = \"LV1l\"); Qh_lv1l = CellQuadrature(Th_lv1l, 2*order)\n",
    "Th_lv2r = Triangulation(model, tags = \"LV2r\"); Qh_lv2r = CellQuadrature(Th_lv2r, 2*order)\n",
    "Th_lv2l = Triangulation(model, tags = \"LV2l\"); Qh_lv2l = CellQuadrature(Th_lv2l, 2*order)\n",
    "Th_lv3r = Triangulation(model, tags = \"LV3r\"); Qh_lv3r = CellQuadrature(Th_lv3r, 2*order)\n",
    "Th_lv3l = Triangulation(model, tags = \"LV3l\"); Qh_lv3l = CellQuadrature(Th_lv3l, 2*order)\n",
    "\n",
    "Th_hv1r = Triangulation(model, tags = \"HV1r\"); Qh_hv1r = CellQuadrature(Th_hv1r, 2*order)\n",
    "Th_hv1l = Triangulation(model, tags = \"HV1l\"); Qh_hv1l = CellQuadrature(Th_hv1l, 2*order)\n",
    "Th_hv2r = Triangulation(model, tags = \"HV2r\"); Qh_hv2r = CellQuadrature(Th_hv2r, 2*order)\n",
    "Th_hv2l = Triangulation(model, tags = \"HV2l\"); Qh_hv2l = CellQuadrature(Th_hv2l, 2*order)\n",
    "Th_hv3r = Triangulation(model, tags = \"HV3r\"); Qh_hv3r = CellQuadrature(Th_hv3r, 2*order)\n",
    "Th_hv3l = Triangulation(model, tags = \"HV3l\"); Qh_hv3l = CellQuadrature(Th_hv3l, 2*order)\n",
    "\n",
    "cellvals_lv1lT = ∫( Ns / Asec ⋅ dv )*Qh_lv1l;\n",
    "cellvals_lv1rT = ∫( -Ns / Asec ⋅ dv )*Qh_lv1r;\n",
    "cellvals_lv2lT = ∫( Ns / Asec ⋅ dv )*Qh_lv2l;\n",
    "cellvals_lv2rT = ∫( -Ns / Asec ⋅ dv )*Qh_lv2r;\n",
    "cellvals_lv3lT = ∫( Ns / Asec ⋅ dv )*Qh_lv3l;\n",
    "cellvals_lv3rT = ∫( -Ns / Asec ⋅ dv )*Qh_lv3r;\n",
    "\n",
    "cellvals_hv1lT = ∫( -Np / Apri ⋅ dv )*Qh_hv1l;\n",
    "cellvals_hv1rT = ∫( Np / Apri ⋅ dv )*Qh_hv1r;\n",
    "cellvals_hv2lT = ∫( -Np / Apri ⋅ dv )*Qh_hv2l;\n",
    "cellvals_hv2rT = ∫( Np / Apri ⋅ dv )*Qh_hv2r;\n",
    "cellvals_hv3lT = ∫( -Np / Apri ⋅ dv )*Qh_hv3l;\n",
    "cellvals_hv3rT = ∫( Np / Apri ⋅ dv )*Qh_hv3r;\n",
    "\n",
    "cellvals_lv1l = ∫( -1im * omega * Ns * lsec / (Asec * Rsec) ⋅ dv )*Qh_lv1l;\n",
    "cellvals_lv1r = ∫( 1im * omega * Ns * lsec / (Asec * Rsec) ⋅ dv )*Qh_lv1r;\n",
    "cellvals_lv2l = ∫( -1im * omega * Ns * lsec / (Asec * Rsec) ⋅ dv )*Qh_lv2l;\n",
    "cellvals_lv2r = ∫( 1im * omega * Ns * lsec / (Asec * Rsec) ⋅ dv )*Qh_lv2r;\n",
    "cellvals_lv3l = ∫( -1im * omega * Ns * lsec / (Asec * Rsec) ⋅ dv )*Qh_lv3l;\n",
    "cellvals_lv3r = ∫( 1im * omega * Ns * lsec / (Asec * Rsec) ⋅ dv )*Qh_lv3r;\n",
    "\n",
    "cellvals_hv1l = ∫( 1im * omega * Np * lpri / (Apri * Rpri) ⋅ dv )*Qh_hv1l;\n",
    "cellvals_hv1r = ∫( -1im * omega * Np * lpri / (Apri * Rpri) ⋅ dv )*Qh_hv1r;\n",
    "cellvals_hv2l = ∫( 1im * omega * Np * lpri / (Apri * Rpri) ⋅ dv )*Qh_hv2l;\n",
    "cellvals_hv2r = ∫( -1im * omega * Np * lpri / (Apri * Rpri) ⋅ dv )*Qh_hv2r;\n",
    "cellvals_hv3l = ∫( 1im * omega * Np * lpri / (Apri * Rpri) ⋅ dv )*Qh_hv3l;\n",
    "cellvals_hv3r = ∫( -1im * omega * Np * lpri / (Apri * Rpri) ⋅ dv )*Qh_hv3r;\n",
    "\n",
    "# Assemble the circuit coupling equations into extra vectors\n",
    "σ_lv1l = get_cell_dof_ids(Uh, Th_lv1l);\n",
    "σ_lv1r = get_cell_dof_ids(Uh, Th_lv1r);\n",
    "σ_lv2l = get_cell_dof_ids(Uh, Th_lv2l);\n",
    "σ_lv2r = get_cell_dof_ids(Uh, Th_lv2r);\n",
    "σ_lv3l = get_cell_dof_ids(Uh, Th_lv3l);\n",
    "σ_lv3r = get_cell_dof_ids(Uh, Th_lv3r);\n",
    "\n",
    "σ_hv1l = get_cell_dof_ids(Uh, Th_hv1l);\n",
    "σ_hv1r = get_cell_dof_ids(Uh, Th_hv1r);\n",
    "σ_hv2l = get_cell_dof_ids(Uh, Th_hv2l);\n",
    "σ_hv2r = get_cell_dof_ids(Uh, Th_hv2r);\n",
    "σ_hv3l = get_cell_dof_ids(Uh, Th_hv3l);\n",
    "σ_hv3r = get_cell_dof_ids(Uh, Th_hv3r);\n",
    "\n",
    "rs = ([cellvals_lv1lT; cellvals_lv1rT], [σ_lv1l; σ_lv1r]);\n",
    "b1T = allocate_vector(assem, rs);\n",
    "assemble_vector!(b1T, assem, rs);\n",
    "\n",
    "rs = ([cellvals_lv2lT; cellvals_lv2rT], [σ_lv2l; σ_lv2r]);\n",
    "b2T = allocate_vector(assem, rs);\n",
    "assemble_vector!(b2T, assem, rs);\n",
    "\n",
    "rs = ([cellvals_lv3lT; cellvals_lv3rT], [σ_lv3l; σ_lv3r]);\n",
    "b3T = allocate_vector(assem, rs);\n",
    "assemble_vector!(b3T, assem, rs);\n",
    "\n",
    "rs = ([cellvals_hv1lT; cellvals_hv1rT], [σ_hv1l; σ_hv1r]);\n",
    "b4T = allocate_vector(assem, rs);\n",
    "assemble_vector!(b4T, assem, rs);\n",
    "\n",
    "rs = ([cellvals_hv2lT; cellvals_hv2rT], [σ_hv2l; σ_hv2r]);\n",
    "b5T = allocate_vector(assem, rs);\n",
    "assemble_vector!(b5T, assem, rs);\n",
    "\n",
    "rs = ([cellvals_hv3lT; cellvals_hv3rT], [σ_hv3l; σ_hv3r]);\n",
    "b6T = allocate_vector(assem, rs);\n",
    "assemble_vector!(b6T, assem, rs);\n",
    "\n",
    "rs = ([cellvals_lv1l; cellvals_lv1r], [σ_lv1l; σ_lv1r]);\n",
    "b1 = allocate_vector(assem, rs);\n",
    "assemble_vector!(b1, assem, rs);\n",
    "\n",
    "rs = ([cellvals_lv2l; cellvals_lv2r], [σ_lv2l; σ_lv2r]);\n",
    "b2 = allocate_vector(assem, rs);\n",
    "assemble_vector!(b2, assem, rs);\n",
    "\n",
    "rs = ([cellvals_lv3l; cellvals_lv3r], [σ_lv3l; σ_lv3r]);\n",
    "b3 = allocate_vector(assem, rs);\n",
    "assemble_vector!(b3, assem, rs);\n",
    "\n",
    "rs = ([cellvals_hv1l; cellvals_hv1r], [σ_hv1l; σ_hv1r]);\n",
    "b4 = allocate_vector(assem, rs);\n",
    "assemble_vector!(b4, assem, rs);\n",
    "\n",
    "rs = ([cellvals_hv2l; cellvals_hv2r], [σ_hv2l; σ_hv2r]);\n",
    "b5 = allocate_vector(assem, rs);\n",
    "assemble_vector!(b5, assem, rs);\n",
    "\n",
    "rs = ([cellvals_hv3l; cellvals_hv3r], [σ_hv3l; σ_hv3r]);\n",
    "b6 = allocate_vector(assem, rs);\n",
    "assemble_vector!(b6, assem, rs);"
   ]
  },
  {
   "cell_type": "code",
   "execution_count": 21,
   "id": "02f4482d",
   "metadata": {},
   "outputs": [
    {
     "data": {
      "text/plain": [
       "SingleFieldFEFunction():\n",
       " num_cells: 17463\n",
       " DomainStyle: ReferenceDomain()\n",
       " Triangulation: BodyFittedTriangulation()\n",
       " Triangulation id: 10094870957440362822"
      ]
     },
     "execution_count": 21,
     "metadata": {},
     "output_type": "execute_result"
    }
   ],
   "source": [
    "u0 = FEFunction(Uh, zeros(Complex{Float64}, num_free_dofs(Uh)))"
   ]
  },
  {
   "cell_type": "code",
   "execution_count": 22,
   "id": "8846abb0",
   "metadata": {},
   "outputs": [],
   "source": [
    "# Calculate contributions of the cells to the linear system\n",
    "cellvals_A = ∫( (fnu ∘ (τ, ∇(u0))) ⋅ ∇(du) ⋅ ∇(dv) + 1im * omega * (fsigma ∘ τ) ⋅ du ⋅ dv )*Qh;\n",
    "cellvals_f = ∫( (fsource ∘ τ) ⋅ dv )*Qh;\n",
    "\n",
    "rs = ([cellvals_f], [σk]);\n",
    "b = allocate_vector(assem, rs);\n",
    "assemble_vector!(b, assem, rs);\n",
    "\n",
    "rs = ([cellvals_A], [σk], [σk]);\n",
    "A = allocate_matrix(assem, rs);\n",
    "assemble_matrix!(A, assem, rs);\n",
    "\n",
    "# Create the modified system \\tilde{A} = [A BT; B C] and \\tilde{b} = [b1; b2]\n",
    "At = [A [b1T b2T b3T b4T b5T b6T]; transpose([b1 b2 b3 b4 b5 b6]) C];\n",
    "bt = [b; f2];\n",
    "\n",
    "# Solve the modified linear system and package the solution in a FEFunction\n",
    "u = At \\ bt;"
   ]
  },
  {
   "cell_type": "code",
   "execution_count": 23,
   "id": "23748ed8",
   "metadata": {},
   "outputs": [
    {
     "name": "stdout",
     "output_type": "stream",
     "text": [
      "#2: 8.506184760767698e-10\n"
     ]
    }
   ],
   "source": [
    "deltau = 1e6;\n",
    "Niter = 1;\n",
    "alpha = 0.9\n",
    "\n",
    "tol = 1e-6;\n",
    "Nmax = 200;\n",
    "\n",
    "uhist = zeros(Complex{Float64}, N + nc);\n",
    "\n",
    "while (deltau > tol) && (Niter < Nmax)\n",
    "    uprev = u;\n",
    "    uhist = uhist * alpha + u * (1 - alpha);    # Provide some damping to prevent oscillation between two solutions\n",
    "\n",
    "    uh_n = FEFunction(Uh, u)\n",
    "    \n",
    "    # Calculate contributions of the cells to the linear system\n",
    "    cellvals_A = ∫( (fnu ∘ (τ, ∇(uh_n))) ⋅ ∇(du) ⋅ ∇(dv) + 1im * omega * (fsigma ∘ τ) ⋅ du ⋅ dv )*Qh;\n",
    "    cellvals_f = ∫( (fsource ∘ τ) ⋅ dv )*Qh;\n",
    "    \n",
    "    rs = ([cellvals_f], [σk]);\n",
    "    assemble_vector!(b, assem, rs);\n",
    "\n",
    "    rs = ([cellvals_A], [σk], [σk]);\n",
    "    assemble_matrix!(A, assem, rs);\n",
    "\n",
    "    # Create the modified system \\tilde{A} = [A BT; B C] and \\tilde{b} = [b1; b2]\n",
    "    At = [A [b1T b2T b3T b4T b5T b6T]; transpose([b1 b2 b3 b4 b5 b6]) C];\n",
    "    bt = [b; f2];\n",
    "\n",
    "    # Solve the modified linear system and package the solution in a FEFunction\n",
    "    u = At \\ bt;\n",
    "\n",
    "    deltau = norm(u - uprev);\n",
    "    Niter += 1;\n",
    "    print(\"#$Niter: $deltau\\n\")\n",
    "end"
   ]
  },
  {
   "cell_type": "code",
   "execution_count": 24,
   "id": "0a1cc2aa",
   "metadata": {},
   "outputs": [],
   "source": [
    "uh = FEFunction(Uh, u);"
   ]
  },
  {
   "cell_type": "code",
   "execution_count": 25,
   "id": "47ff260d",
   "metadata": {},
   "outputs": [
    {
     "name": "stdout",
     "output_type": "stream",
     "text": [
      "I_{pri1}: 44.603179165658986 A, 123.08065854785949 deg\n",
      "I_{pri2}: 44.65219604627557 A, 3.0552798664346574 deg\n",
      "I_{pri3}: 44.678905268710906 A, -116.89898226096406 deg\n",
      "I_{sec1}: 1980.601322519662 A, 123.04682521523588 deg\n",
      "I_{sec2}: 1978.726303469108 A, 3.143913991592181 deg\n",
      "I_{sec3}: 1978.4069045090428 A, -116.97597841227613 deg\n"
     ]
    }
   ],
   "source": [
    "Isec1 = u[end-5];\n",
    "Isec2 = u[end-4];\n",
    "Isec3 = u[end-3];\n",
    "\n",
    "Ipri1 = u[end-2];\n",
    "Ipri2 = u[end-1];\n",
    "Ipri3 = u[end-0];\n",
    "\n",
    "print(\"I_{pri1}: \", norm(Ipri1), \" A, \", angle(Ipri1) / pi * 180, \" deg\\n\")\n",
    "print(\"I_{pri2}: \", norm(Ipri2), \" A, \", angle(Ipri2) / pi * 180, \" deg\\n\")\n",
    "print(\"I_{pri3}: \", norm(Ipri3), \" A, \", angle(Ipri3) / pi * 180, \" deg\\n\")\n",
    "\n",
    "print(\"I_{sec1}: \", norm(Isec1), \" A, \", angle(Isec1) / pi * 180, \" deg\\n\")\n",
    "print(\"I_{sec2}: \", norm(Isec2), \" A, \", angle(Isec2) / pi * 180, \" deg\\n\")\n",
    "print(\"I_{sec3}: \", norm(Isec3), \" A, \", angle(Isec3) / pi * 180, \" deg\\n\")"
   ]
  },
  {
   "cell_type": "code",
   "execution_count": 26,
   "id": "67b215bc",
   "metadata": {},
   "outputs": [
    {
     "name": "stdout",
     "output_type": "stream",
     "text": [
      "Primary loss: 5420.6856089098055 W\n",
      "Secondary loss: 7638.364009037405 W\n"
     ]
    }
   ],
   "source": [
    "Rpri = 1.8131;\n",
    "Rsec = 1.2999e-3;\n",
    "\n",
    "Ppri = norm(Ipri1)^2 * Rpri/2 + norm(Ipri2)^2 * Rpri/2 + norm(Ipri3)^2 * Rpri/2;\n",
    "Psec = norm(Isec1)^2 * Rsec/2 + norm(Isec2)^2 * Rsec/2 + norm(Isec3)^2 * Rsec/2;\n",
    "\n",
    "print(\"Primary loss: $Ppri W\\n\")\n",
    "print(\"Secondary loss: $Psec W\\n\")"
   ]
  },
  {
   "cell_type": "code",
   "execution_count": 27,
   "id": "2b92087d",
   "metadata": {},
   "outputs": [],
   "source": [
    "# Post-processing for magnetic field and current density\n",
    "Bh = norm_complex(∇(uh));\n",
    "mu_r = fmur ∘ (τ, ∇(uh)); # Relative permeability\n",
    "\n",
    "function fsource(tag)\n",
    "    if tag == tag_lv1l        # LV winding phase 1 left\n",
    "        return Ns * Isec1 / Awlv * exp(1im * 2pi/3);\n",
    "    elseif tag == tag_lv1r    # LV winding phase 1 right\n",
    "        return Ns * -Isec1 / Awlv * exp(1im * 2pi/3);\n",
    "    elseif tag == tag_lv2l    # LV winding phase 2 left\n",
    "        return Ns * Isec2 / Awlv;\n",
    "    elseif tag == tag_lv2r    # LV winding phase 2 right\n",
    "        return Ns * -Isec2 / Awlv;\n",
    "    elseif tag == tag_lv3l    # LV winding phase 3 left\n",
    "        return Ns * Isec3 / Awlv * exp(-1im * 2pi/3);\n",
    "    elseif tag == tag_lv3r    # LV winding phase 3 right\n",
    "        return Ns * -Isec3 / Awlv * exp(-1im * 2pi/3);\n",
    "    elseif tag == tag_hv1l        # LV winding phase 1 left\n",
    "        return Np * -Ipri1 / Awhv * exp(1im * 2pi/3);\n",
    "    elseif tag == tag_hv1r    # LV winding phase 1 right\n",
    "        return Np * Ipri1 / Awhv * exp(1im * 2pi/3);\n",
    "    elseif tag == tag_hv2l    # LV winding phase 2 left\n",
    "        return Np * -Ipri2 / Awhv;\n",
    "    elseif tag == tag_hv2r    # LV winding phase 2 right\n",
    "        return Np * Ipri2 / Awhv;\n",
    "    elseif tag == tag_hv3l    # LV winding phase 3 left\n",
    "        return Np * -Ipri3 / Awhv * exp(-1im * 2pi/3);\n",
    "    elseif tag == tag_hv3r    # LV winding phase 3 right\n",
    "        return Np * Ipri3 / Awhv * exp(-1im * 2pi/3);\n",
    "    else\n",
    "        return 0.0 + 0.0im;\n",
    "    end\n",
    "end\n",
    "\n",
    "J0    = fsource ∘ τ; # Source current density\n",
    "Jeddy = 1im ⋅ omega ⋅ (fsigma ∘ τ) ⋅ mean(uh); # Eddy current density"
   ]
  },
  {
   "cell_type": "code",
   "execution_count": 28,
   "id": "16f74c1f",
   "metadata": {},
   "outputs": [
    {
     "data": {
      "text/plain": [
       "([\"images/transformer_losses/transformer2.vtu\"],)"
      ]
     },
     "execution_count": 28,
     "metadata": {},
     "output_type": "execute_result"
    }
   ],
   "source": [
    "writevtk(Th, \"images/transformer_losses/transformer2\", cellfields=[\"Az\"=>abs(uh), \"normB\" => Bh, \"normJ\" => abs(J0 + Jeddy), \"mur\" => mu_r])"
   ]
  },
  {
   "cell_type": "markdown",
   "id": "0df3492b",
   "metadata": {},
   "source": [
    "![Flux Density](images/transformer_losses/sc_normB.png)"
   ]
  },
  {
   "cell_type": "markdown",
   "id": "a6a82d8c",
   "metadata": {},
   "source": [
    "![Current Density](images/transformer_losses/sc_normJ.png)"
   ]
  }
 ],
 "metadata": {
  "kernelspec": {
   "display_name": "Julia 1.8.1",
   "language": "julia",
   "name": "julia-1.8"
  },
  "language_info": {
   "file_extension": ".jl",
   "mimetype": "application/julia",
   "name": "julia",
   "version": "1.8.1"
  }
 },
 "nbformat": 4,
 "nbformat_minor": 5
}
