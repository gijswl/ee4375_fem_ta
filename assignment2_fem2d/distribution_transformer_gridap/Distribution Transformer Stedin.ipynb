{
 "cells": [
  {
   "cell_type": "markdown",
   "id": "dacb99c1",
   "metadata": {},
   "source": [
    "# Stedin Distribution Transformer - Gridap Implementation"
   ]
  },
  {
   "cell_type": "code",
   "execution_count": 1,
   "id": "applicable-verse",
   "metadata": {},
   "outputs": [],
   "source": [
    "using Gridap\n",
    "using Gridap.Algebra;\n",
    "using Gridap.FESpaces\n",
    "using Gridap.ReferenceFEs\n",
    "using Gridap.Arrays\n",
    "using Gridap.Geometry\n",
    "using Gridap.Fields\n",
    "using Gridap.CellData\n",
    "\n",
    "using GridapGmsh\n",
    "\n",
    "using LinearAlgebra, ForwardDiff\n",
    "using FillArrays, SparseArrays"
   ]
  },
  {
   "cell_type": "markdown",
   "id": "clean-polls",
   "metadata": {},
   "source": [
    "# Geometry"
   ]
  },
  {
   "cell_type": "code",
   "execution_count": 2,
   "id": "needed-baltimore",
   "metadata": {},
   "outputs": [],
   "source": [
    "# Enclosure dimensions (enclosure is not centered, the core is)\n",
    "hencl1 = 65.5e-2;   # Height above the x-axis\n",
    "hencl2 = -53.5e-2;  # Height below the x-axis\n",
    "wencl  = 104e-2;    # Width\n",
    "\n",
    "# Core dimensions\n",
    "wcore = 84e-2;\n",
    "hcore = 100e-2;\n",
    "\n",
    "# Core gap dimensions (left and right are identical)\n",
    "wgap = 17e-2;\n",
    "hgap = 76e-2;\n",
    "mgap = 17e-2;\n",
    "\n",
    "# HV winding dimensions (all phases left/right are identical)\n",
    "wwhv = 3e-2;\n",
    "hwhv = 74e-2;\n",
    "mwhv = 14.75e-2;\n",
    "Awhv = wwhv * hwhv;\n",
    "\n",
    "# LV winding dimensions (all phases left/right are identical)\n",
    "wwlv = 2e-2;\n",
    "hwlv = 74e-2;\n",
    "mwlv = 11.25e-2;\n",
    "Awlv = wwlv * hwlv;\n",
    "\n",
    "# Mesh densities\n",
    "lc1 = 2e-2;      # Enclosure & core outer\n",
    "lc2 = 1e-2;      # Core inner\n",
    "lc3 = 1e-2;      # HV windings\n",
    "lc4 = 1e-2;      # LV windings"
   ]
  },
  {
   "cell_type": "markdown",
   "id": "hired-seeker",
   "metadata": {},
   "source": [
    "# Gridap Setup"
   ]
  },
  {
   "cell_type": "code",
   "execution_count": 3,
   "id": "irish-georgia",
   "metadata": {},
   "outputs": [
    {
     "data": {
      "text/plain": [
       "norm_complex (generic function with 2 methods)"
      ]
     },
     "execution_count": 3,
     "metadata": {},
     "output_type": "execute_result"
    },
    {
     "name": "stderr",
     "output_type": "stream",
     "text": [
      "\n",
      "(process:14572): GLib-GIO-WARNING **: 09:29:02.410: Unexpectedly, UWP app `SiemensPLMSoftware.JT2GoDesktop_14.1.1.0_x64__qtbmxjdagz8xc' (AUMId `SiemensPLMSoftware.JT2GoDesktop_qtbmxjdagz8xc!JT2GoDesktop') supports 18 extensions but has no verbs\n"
     ]
    }
   ],
   "source": [
    "# Define norm of a complex vector for Gridap to use on the CellField which results from Bh = ∇(uh)\n",
    "norm_complex(a::VectorValue{2, ComplexF64}) = sqrt(norm(a[1])^2 + norm(a[2])^2)\n",
    "norm_complex(a::CellField) = Operation(norm_complex)(a)"
   ]
  },
  {
   "cell_type": "markdown",
   "id": "hazardous-footage",
   "metadata": {},
   "source": [
    "# Linear BH Curve"
   ]
  },
  {
   "cell_type": "code",
   "execution_count": null,
   "id": "respiratory-hearts",
   "metadata": {},
   "outputs": [],
   "source": [
    "# Load mesh\n",
    "model = GmshDiscreteModel(\"geo/transformer_stedin.msh\")\n",
    "Ω = Triangulation(model)\n",
    "\n",
    "# Define Lagrangian reference element\n",
    "order = 2;\n",
    "reffe = ReferenceFE(lagrangian, Float64, order)\n",
    "dΩ = Measure(Ω, 2*order)\n",
    "\n",
    "# Construct Lagrangian test space with dirichlet condition on the right boundary node\n",
    "V = TestFESpace(model, reffe, conformity = :H1, dirichlet_tags = [\"Enclosure\"], vector_type = Vector{ComplexF64})\n",
    "U = TrialFESpace(V, [0])"
   ]
  },
  {
   "cell_type": "code",
   "execution_count": null,
   "id": "brave-pendant",
   "metadata": {},
   "outputs": [],
   "source": [
    "Ip = 0;       # Primary peak phase current\n",
    "Is = 777.62;  # Secondary peak phase current\n",
    "Np = 266;\n",
    "Ns = 6;\n",
    "\n",
    "omega = 2*pi*50;  # Frequency\n",
    "\n",
    "mu0 = 4e-7 * pi;\n",
    "\n",
    "# Calculate current density in the windings\n",
    "Jp = Np * Ip / Awhv;\n",
    "Js = Ns * Is / Awlv;"
   ]
  },
  {
   "cell_type": "code",
   "execution_count": null,
   "id": "deadly-mercy",
   "metadata": {},
   "outputs": [],
   "source": [
    "labels = get_face_labeling(model)\n",
    "dimension = num_cell_dims(model)\n",
    "tags = get_face_tag(labels, dimension)\n",
    "\n",
    "# Construct a cell field consisting of the physical domain tags\n",
    "τ = CellField(tags, Ω)\n",
    "\n",
    "const tag_core = get_tag_from_name(labels, \"Core\");\n",
    "\n",
    "const tag_lv1l = 10; const tag_lv1r = 11;\n",
    "const tag_lv2l = 12; const tag_lv2r = 13;\n",
    "const tag_lv3l = 14; const tag_lv3r = 15;\n",
    "\n",
    "# Source current density\n",
    "function fsource(tag)\n",
    "    if tag == tag_lv1l        # LV winding phase 1 left\n",
    "        return Js * exp(1im * 2pi/3);\n",
    "    elseif tag == tag_lv1r    # LV winding phase 1 right\n",
    "        return -Js * exp(1im * 2pi/3);\n",
    "    elseif tag == tag_lv2l    # LV winding phase 2 left\n",
    "        return Js;\n",
    "    elseif tag == tag_lv2r    # LV winding phase 2 right\n",
    "        return -Js;\n",
    "    elseif tag == tag_lv3l    # LV winding phase 3 left\n",
    "        return Js * exp(-1im * 2pi/3);\n",
    "    elseif tag == tag_lv3r    # LV winding phase 3 right\n",
    "        return -Js * exp(-1im * 2pi/3);\n",
    "    else\n",
    "        return 0.0 + 0.0im;\n",
    "    end\n",
    "end\n",
    "\n",
    "# Permeability model\n",
    "function fmur(tag)\n",
    "    if tag == tag_core\n",
    "        return 1000.0;\n",
    "    else\n",
    "        return 1.0;\n",
    "    end\n",
    "end\n",
    "\n",
    "function fnu(tag)\n",
    "    return 1 / (mu0 * fmur(tag));\n",
    "end\n",
    "\n",
    "# Conductivity\n",
    "function fsigma(tag)\n",
    "    if tag == tag_core\n",
    "        return 0.1;\n",
    "    else\n",
    "        return 0.0;\n",
    "    end\n",
    "end"
   ]
  },
  {
   "cell_type": "code",
   "execution_count": null,
   "id": "urban-glenn",
   "metadata": {},
   "outputs": [],
   "source": [
    "# Define the weak form (bilinear and linear terms)\n",
    "a(u,v) = ∫( (fnu ∘ τ) ⋅ ∇(u) ⋅ ∇(v) )dΩ + ∫( 1im ⋅ omega ⋅ (fsigma ∘ τ) ⋅ u ⋅ v )dΩ\n",
    "b(v)   = ∫( (fsource ∘ τ) ⋅ v )dΩ;\n",
    "op = AffineFEOperator(a, b, U, V)\n",
    "\n",
    "# Solve the linear FE system with LU solver\n",
    "ls = LUSolver()\n",
    "solver = LinearFESolver(ls)\n",
    "uh = solve(solver, op);"
   ]
  },
  {
   "cell_type": "code",
   "execution_count": null,
   "id": "checked-sixth",
   "metadata": {},
   "outputs": [],
   "source": [
    "# Post-processing for magnetic field and current density\n",
    "Bh = norm_complex(gradient(uh));\n",
    "\n",
    "J0    = (fsource ∘ τ); # Source current density\n",
    "Jeddy = 1im ⋅ omega ⋅ (fsigma ∘ τ) ⋅ mean(uh); # Eddy current density"
   ]
  },
  {
   "cell_type": "code",
   "execution_count": null,
   "id": "focused-theta",
   "metadata": {},
   "outputs": [],
   "source": [
    "writevtk(Ω, \"images/transformer_gridap/transformer1\", cellfields=[\"Az\"=>abs(uh), \"imAz\"=>imag(uh), \"normB\" => Bh, \"normJ\" => abs(J0 + Jeddy)])"
   ]
  },
  {
   "cell_type": "markdown",
   "id": "hispanic-football",
   "metadata": {},
   "source": [
    "![Result: Magnetic Flux Density](images/transformer_gridap/transformer1.png)"
   ]
  },
  {
   "cell_type": "markdown",
   "id": "mobile-amount",
   "metadata": {},
   "source": [
    "# Non-linear BH Curve"
   ]
  },
  {
   "cell_type": "code",
   "execution_count": null,
   "id": "plain-pharmacy",
   "metadata": {},
   "outputs": [],
   "source": [
    "# Load mesh\n",
    "model = GmshDiscreteModel(\"geo/transformer_stedin.msh\")\n",
    "#model = GmshDiscreteModel(\"geo/transformer_stedin_hybrid.msh\")    # This works if GridapGmsh is modified to allow multiple element types per dimension\n",
    "Ω = Triangulation(model)\n",
    "\n",
    "# Define Lagrangian reference element\n",
    "order = 2;\n",
    "reffe = ReferenceFE(lagrangian, Float64, order)\n",
    "dΩ = Measure(Ω, 2*order)\n",
    "\n",
    "# Construct Lagrangian test space with dirichlet condition on the right boundary node\n",
    "V = TestFESpace(model, reffe, conformity = :H1, dirichlet_tags = [\"Enclosure\"], vector_type = Vector{ComplexF64})\n",
    "U = TrialFESpace(V, [0])"
   ]
  },
  {
   "cell_type": "code",
   "execution_count": null,
   "id": "invisible-packet",
   "metadata": {},
   "outputs": [],
   "source": [
    "Ip = 0;       # Primary peak phase current\n",
    "Is = 777.62;  # Secondary peak phase current\n",
    "Np = 266;\n",
    "Ns = 6;\n",
    "\n",
    "omega = 2*pi*50;  # Frequency\n",
    "\n",
    "mu0 = 4e-7 * pi;\n",
    "\n",
    "# Calculate current density in the windings\n",
    "Jp = Np * Ip / Awhv;\n",
    "Js = Ns * Is / Awlv;"
   ]
  },
  {
   "cell_type": "code",
   "execution_count": null,
   "id": "comprehensive-balance",
   "metadata": {},
   "outputs": [],
   "source": [
    "labels = get_face_labeling(model)\n",
    "dimension = num_cell_dims(model)\n",
    "tags = get_face_tag(labels, dimension)\n",
    "\n",
    "# Construct a cell field consisting of the physical domain tags\n",
    "τ = CellField(tags, Ω)\n",
    "\n",
    "const tag_core = get_tag_from_name(labels, \"Core\");\n",
    "\n",
    "const tag_lv1l = 10; const tag_lv1r = 11;\n",
    "const tag_lv2l = 12; const tag_lv2r = 13;\n",
    "const tag_lv3l = 14; const tag_lv3r = 15;\n",
    "\n",
    "# Source current density\n",
    "function fsource(tag)\n",
    "    if tag == tag_lv1l        # LV winding phase 1 left\n",
    "        return Js * exp(1im * 2pi/3);\n",
    "    elseif tag == tag_lv1r    # LV winding phase 1 right\n",
    "        return -Js * exp(1im * 2pi/3);\n",
    "    elseif tag == tag_lv2l    # LV winding phase 2 left\n",
    "        return Js;\n",
    "    elseif tag == tag_lv2r    # LV winding phase 2 right\n",
    "        return -Js;\n",
    "    elseif tag == tag_lv3l    # LV winding phase 3 left\n",
    "        return Js * exp(-1im * 2pi/3);\n",
    "    elseif tag == tag_lv3r    # LV winding phase 3 right\n",
    "        return -Js * exp(-1im * 2pi/3);\n",
    "    else\n",
    "        return 0.0 + 0.0im;\n",
    "    end\n",
    "end\n",
    "\n",
    "# Permeability model\n",
    "bh_a = 2.12e-4; \n",
    "bh_b = 7.358;\n",
    "bh_c = 1.18e7;\n",
    "mu0  = 4e-7 * pi;\n",
    "fmur_core(B) = 1 / (bh_a + (1 - bh_a) * B^(2*bh_b) / (B^(2*bh_b) + bh_c));\n",
    "fdmur_core(B) = ForwardDiff.derivative(fmur_core, B);\n",
    "\n",
    "function fmur(tag, ∇u)\n",
    "    if tag == tag_core\n",
    "        normB = norm_complex(∇u);\n",
    "        return fmur_core(normB);\n",
    "    else\n",
    "        return 1.0;\n",
    "    end\n",
    "end\n",
    "\n",
    "function fdmur(tag, ∇du, ∇u)\n",
    "    if tag == tag_core\n",
    "        normB = norm_complex(∇u);\n",
    "        return fdmur_core(normB) ⋅ (∇du ⊙ ∇u);\n",
    "    else\n",
    "        return 0.0 + 0.0im;\n",
    "    end\n",
    "end\n",
    "\n",
    "function fnu(tag, ∇u)\n",
    "    return 1 / (mu0 * fmur(tag, ∇u));\n",
    "end\n",
    "\n",
    "function fdnu(tag, ∇du, ∇u)\n",
    "    return -1 / (mu0 * fmur(tag, ∇u)^2) * fdmur(tag, ∇du, ∇u);\n",
    "end\n",
    "\n",
    "# Conductivity\n",
    "function fsigma(tag)\n",
    "    if tag == tag_core\n",
    "        return 1.0;\n",
    "    else\n",
    "        return 0.0;\n",
    "    end\n",
    "end"
   ]
  },
  {
   "cell_type": "code",
   "execution_count": null,
   "id": "signed-toner",
   "metadata": {
    "scrolled": false
   },
   "outputs": [],
   "source": [
    "# Define the weak form (bilinear and linear terms)\n",
    "res(u,v) = ∫( (fnu ∘ (τ, ∇(u))) ⋅ ∇(u) ⋅ ∇(v) )dΩ + ∫( 1im ⋅ omega ⋅ (fsigma ∘ τ) ⋅ u ⋅ v )dΩ - ∫( (fsource ∘ τ) ⋅ v )dΩ;\n",
    "jac(u, du, v) = ∫( (fdnu ∘ (τ, ∇(du), ∇(u))) ⋅ ∇(u) ⋅ ∇(v) )dΩ + ∫( (fnu ∘ (τ, ∇(u))) ⋅ ∇(du) ⋅ ∇(v) )dΩ + ∫( 1im ⋅ omega ⋅ (fsigma ∘ τ) ⋅ du ⋅ v )dΩ;;\n",
    "op = FEOperator(res, jac, U, V)\n",
    "\n",
    "ls = BackslashSolver()\n",
    "nls = NLSolver(ls, method = :trust_region, show_trace = true)\n",
    "solver = FESolver(nls)\n",
    "\n",
    "x   = zeros(Complex{Float64}, num_free_dofs(U))\n",
    "uh0 = FEFunction(U, x)\n",
    "uh, = solve!(uh0, solver, op)"
   ]
  },
  {
   "cell_type": "code",
   "execution_count": null,
   "id": "animated-complaint",
   "metadata": {},
   "outputs": [],
   "source": [
    "# Post-processing for magnetic field and current density\n",
    "Bh = norm_complex(∇(uh)); # Magnetic flux density\n",
    "mu_r = fmur ∘ (τ, ∇(uh)); # Relative permeability\n",
    "\n",
    "J0    = fsource ∘ τ; # Source current density\n",
    "Jeddy = 1im ⋅ omega ⋅ (fsigma ∘ τ) ⋅ mean(uh); # Eddy current density"
   ]
  },
  {
   "cell_type": "code",
   "execution_count": null,
   "id": "grateful-royalty",
   "metadata": {},
   "outputs": [],
   "source": [
    "writevtk(Ω, \"images/transformer_gridap/transformer2\", cellfields=[\"Az\"=>abs(uh), \"imAz\"=>imag(uh), \"normB\" => Bh, \"normJ\" => abs(J0 + Jeddy), \"mur\" => mu_r])"
   ]
  },
  {
   "cell_type": "markdown",
   "id": "turkish-furniture",
   "metadata": {},
   "source": [
    "![Result: Magnetic Flux Density](images/transformer_gridap/transformer2.png)"
   ]
  },
  {
   "cell_type": "markdown",
   "id": "426909a1",
   "metadata": {},
   "source": [
    "![Result: Relative Permeability](images/transformer_gridap/transformer2_mu.png)"
   ]
  },
  {
   "cell_type": "markdown",
   "id": "f31aa023",
   "metadata": {},
   "source": [
    "# Using Hybrid Meshes in Gridap\n",
    "At the moment, ``GridapGmsh`` does not allow meshes with more than one element type per dimension (such as hybrid triangle-quad meshes). However, all of the functionality to allow (simple) hybrid meshes is present. I will try to submit a pull request or open an issue to extend this functionality. We only require changes to internal function ``_setup_reffes``."
   ]
  },
  {
   "cell_type": "code",
   "execution_count": null,
   "id": "c743df01",
   "metadata": {},
   "outputs": [],
   "source": [
    "function _setup_reffes(gmsh,d,orient_if_simplex)\n",
    "    elemTypes, elemTags, nodeTags = gmsh.model.mesh.getElements(d)\n",
    "\n",
    "    ncells, nmin, nmax = _check_cell_tags(elemTags)\n",
    "    cell_to_type = fill(Int8(0), ncells)\n",
    "    \n",
    "    noffset = nmin - 1;\n",
    "    for (i, etype) in enumerate(elemTypes)\n",
    "        cell_to_type[elemTags[i] .- noffset] .= i   # Correctly fill the cell_to_type array, instead of filling '1'\n",
    "    \n",
    "        # Check that the elements are first order; higher-order elements are not yet supported\n",
    "        name, dim, order::Int, numv, parv = gmsh.model.mesh.getElementProperties(etype)\n",
    "        if order == 0 && etype == POINT\n",
    "            order = 1\n",
    "        end\n",
    "        \n",
    "        if order != 1\n",
    "            gmsh.finalize()\n",
    "            error(\"For the moment only for first-order elements\")\n",
    "        end\n",
    "    end\n",
    "    \n",
    "    # Retrieve RefFEs for the element types\n",
    "    reffes = [_reffe_from_etype(etype) for etype in elemTypes];\n",
    "\n",
    "    # Check mesh orientation\n",
    "    boo = [(is_simplex(get_polytope(reffe)) && orient_if_simplex) for reffe in reffes];\n",
    "    orientation = any(boo) ? Oriented() : NonOriented()\n",
    "\n",
    "    (cell_to_type, reffes, orientation)\n",
    "end"
   ]
  },
  {
   "cell_type": "markdown",
   "id": "42a5f5a5",
   "metadata": {},
   "source": [
    "![Result: Magnetic Flux Density](images/transformer_gridap/transformer4.png)"
   ]
  },
  {
   "cell_type": "markdown",
   "id": "mighty-scroll",
   "metadata": {},
   "source": [
    "# Linear BH Curve with Voltage-Driven Coils"
   ]
  },
  {
   "cell_type": "code",
   "execution_count": 4,
   "id": "affected-effectiveness",
   "metadata": {},
   "outputs": [
    {
     "name": "stdout",
     "output_type": "stream",
     "text": [
      "Info    : Reading 'geo/transformer_stedin_hybrid.msh'...\n",
      "Info    : 194 entities\n",
      "Info    : 11096 nodes\n",
      "Info    : 17687 elements\n",
      "Info    : Done reading 'geo/transformer_stedin_hybrid.msh'\n"
     ]
    },
    {
     "data": {
      "text/plain": [
       "TrialFESpace()"
      ]
     },
     "execution_count": 4,
     "metadata": {},
     "output_type": "execute_result"
    }
   ],
   "source": [
    "# Define Lagrangian reference element\n",
    "order = 2;\n",
    "reffe = ReferenceFE(lagrangian, Float64, order)\n",
    "\n",
    "# Load mesh\n",
    "model = GmshDiscreteModel(\"geo/transformer_stedin_hybrid.msh\")\n",
    "Th = Triangulation(model)\n",
    "Qh = CellQuadrature(Th, 2*order)\n",
    "\n",
    "# Construct Lagrangian test space with dirichlet condition on the right boundary node\n",
    "Vh = TestFESpace(model, reffe; conformity = :H1, dirichlet_tags = [\"Enclosure\"], vector_type = Vector{ComplexF64})\n",
    "Uh = TrialFESpace(Vh, [0])"
   ]
  },
  {
   "cell_type": "code",
   "execution_count": 5,
   "id": "statewide-therapy",
   "metadata": {},
   "outputs": [],
   "source": [
    "Ip = 0;       # Primary peak phase current\n",
    "Is = 777.62;  # Secondary peak phase current\n",
    "Np = 266;\n",
    "Ns = 6;\n",
    "\n",
    "omega = 2*pi*50;  # Frequency\n",
    "\n",
    "mu0 = 4e-7 * pi;\n",
    "\n",
    "# Calculate current density in the windings\n",
    "Jp = Np * Ip / Awhv;\n",
    "Js = Ns * Is / Awlv;"
   ]
  },
  {
   "cell_type": "code",
   "execution_count": 6,
   "id": "static-cambodia",
   "metadata": {},
   "outputs": [
    {
     "data": {
      "text/plain": [
       "fsigma (generic function with 1 method)"
      ]
     },
     "execution_count": 6,
     "metadata": {},
     "output_type": "execute_result"
    }
   ],
   "source": [
    "labels = get_face_labeling(model)\n",
    "dimension = num_cell_dims(model)\n",
    "tags = get_face_tag(labels, dimension)\n",
    "\n",
    "# Construct a cell field consisting of the physical domain tags\n",
    "τ = CellField(tags, Th)\n",
    "\n",
    "const tag_core = get_tag_from_name(labels, \"Core\");\n",
    "const tag_lv1l = get_tag_from_name(labels, \"LV1l\");\n",
    "const tag_lv1r = get_tag_from_name(labels, \"LV1r\");\n",
    "const tag_lv2l = get_tag_from_name(labels, \"LV2l\");\n",
    "const tag_lv2r = get_tag_from_name(labels, \"LV2r\");\n",
    "const tag_lv3l = get_tag_from_name(labels, \"LV3l\");\n",
    "const tag_lv3r = get_tag_from_name(labels, \"LV3r\");\n",
    "\n",
    "# Source current density\n",
    "function fsource(tag)\n",
    "    return 0.0 + 0.0im;\n",
    "end\n",
    "\n",
    "# Permeability model\n",
    "function fmur(tag)\n",
    "    if tag == tag_core\n",
    "        return 1000.0;\n",
    "    else\n",
    "        return 1.0;\n",
    "    end\n",
    "end\n",
    "\n",
    "function fnu(tag)\n",
    "    return 1 / (mu0 * fmur(tag));\n",
    "end\n",
    "\n",
    "# Conductivity\n",
    "function fsigma(tag)\n",
    "    if tag == tag_core\n",
    "        return 0.1;\n",
    "    else\n",
    "        return 0.0;\n",
    "    end\n",
    "end"
   ]
  },
  {
   "cell_type": "code",
   "execution_count": 7,
   "id": "aging-scientist",
   "metadata": {},
   "outputs": [],
   "source": [
    "dv = get_fe_basis(Vh);\n",
    "du = get_trial_fe_basis(Uh);\n",
    "\n",
    "# Calculate contributions of the cells to the linear system\n",
    "cellvals_A = ∫( (fnu ∘ τ) ⋅ ∇(du) ⋅ ∇(dv) + 1im * omega * (fsigma ∘ τ) ⋅ du ⋅ dv )*Qh;\n",
    "cellvals_f = ∫( (fsource ∘ τ) ⋅ dv )*Qh;\n",
    "\n",
    "# Assemble the linear system\n",
    "assem = SparseMatrixAssembler(Uh, Vh)\n",
    "σk = get_cell_dof_ids(Uh);\n",
    "\n",
    "rs = ([cellvals_f], [σk]);\n",
    "b = allocate_vector(assem, rs);\n",
    "assemble_vector!(b, assem, rs);\n",
    "\n",
    "rs = ([cellvals_A], [σk], [σk]);\n",
    "A = allocate_matrix(assem, rs);\n",
    "assemble_matrix!(A, assem, rs);"
   ]
  },
  {
   "cell_type": "code",
   "execution_count": 8,
   "id": "confirmed-shepherd",
   "metadata": {
    "scrolled": true
   },
   "outputs": [],
   "source": [
    "# Circuit parameters\n",
    "CFF  = 0.3;\n",
    "Vsec = 420 * sqrt(2 / 3);\n",
    "Rsec = 1.2999e-3 / CFF;\n",
    "Asec = Awlv;\n",
    "lsec = 0.4;\n",
    "\n",
    "# Extend the linear system with an additional row and column per circuit equation\n",
    "N  = num_free_dofs(Uh);\n",
    "nc = 3;\n",
    "\n",
    "C  = Matrix(UniformScaling(1), nc, nc);\n",
    "f2 = [ Vsec * exp(1im * 2pi/3) / Rsec;\n",
    "       Vsec / Rsec;\n",
    "       Vsec * exp(-1im * 2pi/3) / Rsec\n",
    "];\n",
    "\n",
    "# Calculate the cell contributions to the extra vectors\n",
    "Th_lv1r = Triangulation(model, tags = \"LV1r\"); Qh_lv1r = CellQuadrature(Th_lv1r, 2*order)\n",
    "Th_lv1l = Triangulation(model, tags = \"LV1l\"); Qh_lv1l = CellQuadrature(Th_lv1l, 2*order)\n",
    "Th_lv2r = Triangulation(model, tags = \"LV2r\"); Qh_lv2r = CellQuadrature(Th_lv2r, 2*order)\n",
    "Th_lv2l = Triangulation(model, tags = \"LV2l\"); Qh_lv2l = CellQuadrature(Th_lv2l, 2*order)\n",
    "Th_lv3r = Triangulation(model, tags = \"LV3r\"); Qh_lv3r = CellQuadrature(Th_lv3r, 2*order)\n",
    "Th_lv3l = Triangulation(model, tags = \"LV3l\"); Qh_lv3l = CellQuadrature(Th_lv3l, 2*order)\n",
    "\n",
    "cellvals_lv1lT = ∫( Ns / Asec ⋅ dv )*Qh_lv1l;\n",
    "cellvals_lv1rT = ∫( -Ns / Asec ⋅ dv )*Qh_lv1r;\n",
    "cellvals_lv2lT = ∫( Ns / Asec ⋅ dv )*Qh_lv2l;\n",
    "cellvals_lv2rT = ∫( -Ns / Asec ⋅ dv )*Qh_lv2r;\n",
    "cellvals_lv3lT = ∫( Ns / Asec ⋅ dv )*Qh_lv3l;\n",
    "cellvals_lv3rT = ∫( -Ns / Asec ⋅ dv )*Qh_lv3r;\n",
    "\n",
    "cellvals_lv1l = ∫( -1im * omega * Ns * lsec / (Asec * Rsec) ⋅ dv )*Qh_lv1l;\n",
    "cellvals_lv1r = ∫( 1im * omega * Ns * lsec / (Asec * Rsec) ⋅ dv )*Qh_lv1r;\n",
    "cellvals_lv2l = ∫( -1im * omega * Ns * lsec / (Asec * Rsec) ⋅ dv )*Qh_lv2l;\n",
    "cellvals_lv2r = ∫( 1im * omega * Ns * lsec / (Asec * Rsec) ⋅ dv )*Qh_lv2r;\n",
    "cellvals_lv3l = ∫( -1im * omega * Ns * lsec / (Asec * Rsec) ⋅ dv )*Qh_lv3l;\n",
    "cellvals_lv3r = ∫( 1im * omega * Ns * lsec / (Asec * Rsec) ⋅ dv )*Qh_lv3r;\n",
    "\n",
    "# Assemble the circuit coupling equations into extra vectors\n",
    "σ_lv1l = get_cell_dof_ids(Uh, Th_lv1l);\n",
    "σ_lv1r = get_cell_dof_ids(Uh, Th_lv1r);\n",
    "σ_lv2l = get_cell_dof_ids(Uh, Th_lv2l);\n",
    "σ_lv2r = get_cell_dof_ids(Uh, Th_lv2r);\n",
    "σ_lv3l = get_cell_dof_ids(Uh, Th_lv3l);\n",
    "σ_lv3r = get_cell_dof_ids(Uh, Th_lv3r);\n",
    "\n",
    "rs = ([cellvals_lv1lT; cellvals_lv1rT], [σ_lv1l; σ_lv1r]);\n",
    "b1T = allocate_vector(assem, rs);\n",
    "assemble_vector!(b1T, assem, rs);\n",
    "\n",
    "rs = ([cellvals_lv2lT; cellvals_lv2rT], [σ_lv2l; σ_lv2r]);\n",
    "b2T = allocate_vector(assem, rs);\n",
    "assemble_vector!(b2T, assem, rs);\n",
    "\n",
    "rs = ([cellvals_lv3lT; cellvals_lv3rT], [σ_lv3l; σ_lv3r]);\n",
    "b3T = allocate_vector(assem, rs);\n",
    "assemble_vector!(b3T, assem, rs);\n",
    "\n",
    "rs = ([cellvals_lv1l; cellvals_lv1r], [σ_lv1l; σ_lv1r]);\n",
    "b1 = allocate_vector(assem, rs);\n",
    "assemble_vector!(b1, assem, rs);\n",
    "\n",
    "rs = ([cellvals_lv2l; cellvals_lv2r], [σ_lv2l; σ_lv2r]);\n",
    "b2 = allocate_vector(assem, rs);\n",
    "assemble_vector!(b2, assem, rs);\n",
    "\n",
    "rs = ([cellvals_lv3l; cellvals_lv3r], [σ_lv3l; σ_lv3r]);\n",
    "b3 = allocate_vector(assem, rs);\n",
    "assemble_vector!(b3, assem, rs);"
   ]
  },
  {
   "cell_type": "code",
   "execution_count": 9,
   "id": "neural-wallace",
   "metadata": {},
   "outputs": [],
   "source": [
    "# Create the modified system \\tilde{A} = [A BT; B C] and \\tilde{b} = [b1; b2]\n",
    "At = [A [b1T b2T b3T]; transpose([b1 b2 b3]) C];\n",
    "bt = [b; f2];\n",
    "\n",
    "# Solve the modified linear system and package the solution in a FEFunction\n",
    "u = At \\ bt;\n",
    "uh = FEFunction(Uh, u);"
   ]
  },
  {
   "cell_type": "code",
   "execution_count": 10,
   "id": "based-setup",
   "metadata": {},
   "outputs": [
    {
     "name": "stdout",
     "output_type": "stream",
     "text": [
      "I_{sec1}: 539.6870783899482 A, -160.03834661988043 deg\n",
      "I_{sec2}: 375.5484582644134 A, 89.7200994521101 deg\n",
      "I_{sec3}: 540.7165647202858 A, -20.711696068794847 deg\n"
     ]
    }
   ],
   "source": [
    "Isec1 = u[end-2];\n",
    "Isec2 = u[end-1];\n",
    "Isec3 = u[end-0];\n",
    "\n",
    "print(\"I_{sec1}: \", norm(Isec1), \" A, \", angle(Isec1) / pi * 180, \" deg\\n\")\n",
    "print(\"I_{sec2}: \", norm(Isec2), \" A, \", angle(Isec2) / pi * 180, \" deg\\n\")\n",
    "print(\"I_{sec3}: \", norm(Isec3), \" A, \", angle(Isec3) / pi * 180, \" deg\\n\")"
   ]
  },
  {
   "cell_type": "code",
   "execution_count": 11,
   "id": "associate-globe",
   "metadata": {},
   "outputs": [],
   "source": [
    "# Post-processing for magnetic field and current density\n",
    "Bh = norm_complex(gradient(uh));\n",
    "\n",
    "function fsource(tag)\n",
    "    if tag == tag_lv1l        # LV winding phase 1 left\n",
    "        return Isec1 / Awlv * exp(1im * 2pi/3);\n",
    "    elseif tag == tag_lv1r    # LV winding phase 1 right\n",
    "        return -Isec1 / Awlv * exp(1im * 2pi/3);\n",
    "    elseif tag == tag_lv2l    # LV winding phase 2 left\n",
    "        return Isec2 / Awlv;\n",
    "    elseif tag == tag_lv2r    # LV winding phase 2 right\n",
    "        return -Isec2 / Awlv;\n",
    "    elseif tag == tag_lv3l    # LV winding phase 3 left\n",
    "        return Isec3 / Awlv * exp(-1im * 2pi/3);\n",
    "    elseif tag == tag_lv3r    # LV winding phase 3 right\n",
    "        return -Isec3 / Awlv * exp(-1im * 2pi/3);\n",
    "    else\n",
    "        return 0.0 + 0.0im;\n",
    "    end\n",
    "end\n",
    "\n",
    "J0    = fsource ∘ τ; # Source current density\n",
    "Jeddy = 1im ⋅ omega ⋅ (fsigma ∘ τ) ⋅ mean(uh); # Eddy current density"
   ]
  },
  {
   "cell_type": "code",
   "execution_count": 12,
   "id": "color-riverside",
   "metadata": {},
   "outputs": [
    {
     "data": {
      "text/plain": [
       "([\"images/transformer_gridap/transformer5.vtu\"],)"
      ]
     },
     "execution_count": 12,
     "metadata": {},
     "output_type": "execute_result"
    }
   ],
   "source": [
    "writevtk(Th, \"images/transformer_gridap/transformer5\", cellfields=[\"Az\"=>abs(uh), \"normB\" => Bh, \"normJ\" => abs(J0 + Jeddy)])"
   ]
  },
  {
   "cell_type": "markdown",
   "id": "painful-colombia",
   "metadata": {},
   "source": [
    "![Flux Density](images/transformer_gridap/transformer5.png)"
   ]
  },
  {
   "cell_type": "markdown",
   "id": "87d4a449",
   "metadata": {},
   "source": [
    "# Non-Linear BH Curve with Voltage-Driven Coils"
   ]
  },
  {
   "cell_type": "code",
   "execution_count": 13,
   "id": "31ab5571",
   "metadata": {},
   "outputs": [
    {
     "name": "stdout",
     "output_type": "stream",
     "text": [
      "Info    : Reading 'geo/transformer_stedin_hybrid.msh'...\n",
      "Info    : 194 entities\n",
      "Info    : 11096 nodes\n",
      "Info    : 17687 elements\n",
      "Info    : Done reading 'geo/transformer_stedin_hybrid.msh'\n"
     ]
    },
    {
     "data": {
      "text/plain": [
       "TrialFESpace()"
      ]
     },
     "execution_count": 13,
     "metadata": {},
     "output_type": "execute_result"
    }
   ],
   "source": [
    "# Define Lagrangian reference element\n",
    "order = 2;\n",
    "reffe = ReferenceFE(lagrangian, Float64, order)\n",
    "\n",
    "# Load mesh\n",
    "model = GmshDiscreteModel(\"geo/transformer_stedin_hybrid.msh\")\n",
    "Th = Triangulation(model)\n",
    "Qh = CellQuadrature(Th, 2*order)\n",
    "\n",
    "# Construct Lagrangian test space with dirichlet condition on the right boundary node\n",
    "Vh = TestFESpace(model, reffe; conformity = :H1, dirichlet_tags = [\"Enclosure\"], vector_type = Vector{ComplexF64})\n",
    "Uh = TrialFESpace(Vh, [0])"
   ]
  },
  {
   "cell_type": "code",
   "execution_count": 14,
   "id": "d84b7a19",
   "metadata": {},
   "outputs": [],
   "source": [
    "Ip = 0;       # Primary peak phase current\n",
    "Is = 777.62;  # Secondary peak phase current\n",
    "Np = 266;\n",
    "Ns = 6;\n",
    "\n",
    "omega = 2*pi*50;  # Frequency\n",
    "\n",
    "mu0 = 4e-7 * pi;\n",
    "\n",
    "# Calculate current density in the windings\n",
    "Jp = Np * Ip / Awhv;\n",
    "Js = Ns * Is / Awlv;"
   ]
  },
  {
   "cell_type": "code",
   "execution_count": 15,
   "id": "744b4da8",
   "metadata": {},
   "outputs": [
    {
     "data": {
      "text/plain": [
       "fsigma (generic function with 1 method)"
      ]
     },
     "execution_count": 15,
     "metadata": {},
     "output_type": "execute_result"
    }
   ],
   "source": [
    "labels = get_face_labeling(model)\n",
    "dimension = num_cell_dims(model)\n",
    "tags = get_face_tag(labels, dimension)\n",
    "\n",
    "# Construct a cell field consisting of the physical domain tags\n",
    "τ = CellField(tags, Th)\n",
    "\n",
    "const tag_core = get_tag_from_name(labels, \"Core\");\n",
    "const tag_lv1l = get_tag_from_name(labels, \"LV1l\");\n",
    "const tag_lv1r = get_tag_from_name(labels, \"LV1r\");\n",
    "const tag_lv2l = get_tag_from_name(labels, \"LV2l\");\n",
    "const tag_lv2r = get_tag_from_name(labels, \"LV2r\");\n",
    "const tag_lv3l = get_tag_from_name(labels, \"LV3l\");\n",
    "const tag_lv3r = get_tag_from_name(labels, \"LV3r\");\n",
    "\n",
    "# Source current density\n",
    "function fsource(tag)\n",
    "    return 0.0 + 0.0im;\n",
    "end\n",
    "\n",
    "# Permeability model\n",
    "bh_a = 1 / 47e3;\n",
    "bh_b = 3.6;\n",
    "bh_c = 2.1e8;\n",
    "mu0  = 4e-7 * pi;\n",
    "fmur_core(B) = 1 / (bh_a + (1 - bh_a) * B^(2*bh_b) / (B^(2*bh_b) + bh_c));\n",
    "\n",
    "function fmur(tag, ∇u)\n",
    "    if tag == tag_core\n",
    "        normB = norm_complex(∇u);\n",
    "        return fmur_core(normB);\n",
    "    else\n",
    "        return 1.0;\n",
    "    end\n",
    "end\n",
    "\n",
    "function fnu(tag, ∇u)\n",
    "    return 1 / (mu0 * fmur(tag, ∇u));\n",
    "end\n",
    "\n",
    "# Conductivity\n",
    "function fsigma(tag)\n",
    "    if tag == tag_core\n",
    "        return 0.1;\n",
    "    else\n",
    "        return 0.0;\n",
    "    end\n",
    "end"
   ]
  },
  {
   "cell_type": "code",
   "execution_count": 16,
   "id": "cd4ede7a",
   "metadata": {},
   "outputs": [],
   "source": [
    "dv = get_fe_basis(Vh);\n",
    "du = get_trial_fe_basis(Uh);\n",
    "\n",
    "# Assemble the linear system\n",
    "assem = SparseMatrixAssembler(Uh, Vh)\n",
    "σk = get_cell_dof_ids(Uh);"
   ]
  },
  {
   "cell_type": "code",
   "execution_count": 17,
   "id": "60eaa46b",
   "metadata": {},
   "outputs": [],
   "source": [
    "# Circuit parameters\n",
    "CFF  = 0.3;\n",
    "Vsec = 420 * sqrt(2 / 3);\n",
    "Rsec = 1.2999e-3 / CFF;\n",
    "Asec = Awlv;\n",
    "lsec = 0.4;\n",
    "\n",
    "# Extend the linear system with an additional row and column per circuit equation\n",
    "N  = num_free_dofs(Uh);\n",
    "nc = 3;\n",
    "\n",
    "C  = Matrix(UniformScaling(1), nc, nc);\n",
    "f2 = [ Vsec * exp(1im * 2pi/3) / Rsec;\n",
    "       Vsec / Rsec;\n",
    "       Vsec * exp(-1im * 2pi/3) / Rsec\n",
    "];\n",
    "\n",
    "# Calculate the cell contributions to the extra vectors\n",
    "Th_lv1r = Triangulation(model, tags = \"LV1r\"); Qh_lv1r = CellQuadrature(Th_lv1r, 2*order)\n",
    "Th_lv1l = Triangulation(model, tags = \"LV1l\"); Qh_lv1l = CellQuadrature(Th_lv1l, 2*order)\n",
    "Th_lv2r = Triangulation(model, tags = \"LV2r\"); Qh_lv2r = CellQuadrature(Th_lv2r, 2*order)\n",
    "Th_lv2l = Triangulation(model, tags = \"LV2l\"); Qh_lv2l = CellQuadrature(Th_lv2l, 2*order)\n",
    "Th_lv3r = Triangulation(model, tags = \"LV3r\"); Qh_lv3r = CellQuadrature(Th_lv3r, 2*order)\n",
    "Th_lv3l = Triangulation(model, tags = \"LV3l\"); Qh_lv3l = CellQuadrature(Th_lv3l, 2*order)\n",
    "\n",
    "cellvals_lv1lT = ∫( Ns / Asec ⋅ dv )*Qh_lv1l;\n",
    "cellvals_lv1rT = ∫( -Ns / Asec ⋅ dv )*Qh_lv1r;\n",
    "cellvals_lv2lT = ∫( Ns / Asec ⋅ dv )*Qh_lv2l;\n",
    "cellvals_lv2rT = ∫( -Ns / Asec ⋅ dv )*Qh_lv2r;\n",
    "cellvals_lv3lT = ∫( Ns / Asec ⋅ dv )*Qh_lv3l;\n",
    "cellvals_lv3rT = ∫( -Ns / Asec ⋅ dv )*Qh_lv3r;\n",
    "\n",
    "cellvals_lv1l = ∫( -1im * omega * Ns * lsec / (Asec * Rsec) ⋅ dv )*Qh_lv1l;\n",
    "cellvals_lv1r = ∫( 1im * omega * Ns * lsec / (Asec * Rsec) ⋅ dv )*Qh_lv1r;\n",
    "cellvals_lv2l = ∫( -1im * omega * Ns * lsec / (Asec * Rsec) ⋅ dv )*Qh_lv2l;\n",
    "cellvals_lv2r = ∫( 1im * omega * Ns * lsec / (Asec * Rsec) ⋅ dv )*Qh_lv2r;\n",
    "cellvals_lv3l = ∫( -1im * omega * Ns * lsec / (Asec * Rsec) ⋅ dv )*Qh_lv3l;\n",
    "cellvals_lv3r = ∫( 1im * omega * Ns * lsec / (Asec * Rsec) ⋅ dv )*Qh_lv3r;\n",
    "\n",
    "# Assemble the circuit coupling equations into extra vectors\n",
    "σ_lv1l = get_cell_dof_ids(Uh, Th_lv1l);\n",
    "σ_lv1r = get_cell_dof_ids(Uh, Th_lv1r);\n",
    "σ_lv2l = get_cell_dof_ids(Uh, Th_lv2l);\n",
    "σ_lv2r = get_cell_dof_ids(Uh, Th_lv2r);\n",
    "σ_lv3l = get_cell_dof_ids(Uh, Th_lv3l);\n",
    "σ_lv3r = get_cell_dof_ids(Uh, Th_lv3r);\n",
    "\n",
    "rs = ([cellvals_lv1lT; cellvals_lv1rT], [σ_lv1l; σ_lv1r]);\n",
    "b1T = allocate_vector(assem, rs);\n",
    "assemble_vector!(b1T, assem, rs);\n",
    "\n",
    "rs = ([cellvals_lv2lT; cellvals_lv2rT], [σ_lv2l; σ_lv2r]);\n",
    "b2T = allocate_vector(assem, rs);\n",
    "assemble_vector!(b2T, assem, rs);\n",
    "\n",
    "rs = ([cellvals_lv3lT; cellvals_lv3rT], [σ_lv3l; σ_lv3r]);\n",
    "b3T = allocate_vector(assem, rs);\n",
    "assemble_vector!(b3T, assem, rs);\n",
    "\n",
    "rs = ([cellvals_lv1l; cellvals_lv1r], [σ_lv1l; σ_lv1r]);\n",
    "b1 = allocate_vector(assem, rs);\n",
    "assemble_vector!(b1, assem, rs);\n",
    "\n",
    "rs = ([cellvals_lv2l; cellvals_lv2r], [σ_lv2l; σ_lv2r]);\n",
    "b2 = allocate_vector(assem, rs);\n",
    "assemble_vector!(b2, assem, rs);\n",
    "\n",
    "rs = ([cellvals_lv3l; cellvals_lv3r], [σ_lv3l; σ_lv3r]);\n",
    "b3 = allocate_vector(assem, rs);\n",
    "assemble_vector!(b3, assem, rs);"
   ]
  },
  {
   "cell_type": "code",
   "execution_count": 18,
   "id": "715577d1",
   "metadata": {},
   "outputs": [
    {
     "data": {
      "text/plain": [
       "SingleFieldFEFunction():\n",
       " num_cells: 17463\n",
       " DomainStyle: ReferenceDomain()\n",
       " Triangulation: BodyFittedTriangulation()\n",
       " Triangulation id: 8908504268023310849"
      ]
     },
     "execution_count": 18,
     "metadata": {},
     "output_type": "execute_result"
    }
   ],
   "source": [
    "u0 = FEFunction(Uh, zeros(Complex{Float64}, num_free_dofs(Uh)))"
   ]
  },
  {
   "cell_type": "code",
   "execution_count": 19,
   "id": "cb1620c1",
   "metadata": {},
   "outputs": [],
   "source": [
    "# Calculate contributions of the cells to the linear system\n",
    "cellvals_A = ∫( (fnu ∘ (τ, ∇(u0))) ⋅ ∇(du) ⋅ ∇(dv) + 1im * omega * (fsigma ∘ τ) ⋅ du ⋅ dv )*Qh;\n",
    "cellvals_f = ∫( (fsource ∘ τ) ⋅ dv )*Qh;\n",
    "\n",
    "rs = ([cellvals_f], [σk]);\n",
    "b = allocate_vector(assem, rs);\n",
    "assemble_vector!(b, assem, rs);\n",
    "\n",
    "rs = ([cellvals_A], [σk], [σk]);\n",
    "A = allocate_matrix(assem, rs);\n",
    "assemble_matrix!(A, assem, rs);\n",
    "\n",
    "# Create the modified system \\tilde{A} = [A BT; B C] and \\tilde{b} = [b1; b2]\n",
    "At = [A [b1T b2T b3T]; transpose([b1 b2 b3]) C];\n",
    "bt = [b; f2];\n",
    "\n",
    "# Solve the modified linear system and package the solution in a FEFunction\n",
    "u = At \\ bt;"
   ]
  },
  {
   "cell_type": "code",
   "execution_count": 20,
   "id": "8dcaf6dd",
   "metadata": {},
   "outputs": [
    {
     "name": "stdout",
     "output_type": "stream",
     "text": [
      "#2: 0.0007117740589406808\n",
      "#3: 0.048059496579408834\n",
      "#4: 0.16677879618683272\n",
      "#5: 0.2621651917833726\n",
      "#6: 0.3320100275074625\n",
      "#7: 0.38674596420313734\n",
      "#8: 0.43115365063052485\n",
      "#9: 0.4711013481542621\n",
      "#10: 0.5121659483158552\n",
      "#11: 0.559358198907963\n",
      "#12: 0.6159880545034588\n",
      "#13: 0.6820103220258473\n",
      "#14: 0.7534825230216979\n",
      "#15: 0.824017312409805\n",
      "#16: 0.887254759887667\n",
      "#17: 0.938672774823218\n",
      "#18: 0.9759945617262898\n",
      "#19: 0.9986927578768011\n",
      "#20: 1.0073490061965886\n",
      "#21: 1.0031983236902502\n",
      "#22: 0.9878437809229655\n",
      "#23: 0.9630611473391391\n",
      "#24: 0.9306556582679075\n",
      "#25: 0.8923585558388433\n",
      "#26: 0.8497607343744156\n",
      "#27: 0.8042738237164501\n",
      "#28: 0.7571155572301848\n",
      "#29: 0.7093089445251488\n",
      "#30: 0.6616914567992656\n",
      "#31: 0.6149314604728834\n",
      "#32: 0.56954629541507\n",
      "#33: 0.5259222024072855\n",
      "#34: 0.48433409520130405\n",
      "#35: 0.44496323986707137\n",
      "#36: 0.40791512686865\n",
      "#37: 0.37323329374401304\n",
      "#38: 0.3409128043218342\n",
      "#39: 0.31091151007345996\n",
      "#40: 0.28315900537903055\n",
      "#41: 0.2575645553480669\n",
      "#42: 0.234023642519541\n",
      "#43: 0.21242247705161282\n",
      "#44: 0.19264288166376228\n",
      "#45: 0.17456489066320122\n",
      "#46: 0.15806942921851347\n",
      "#47: 0.14304009182062113\n",
      "#48: 0.12936453346302995\n",
      "#49: 0.11693536353284396\n",
      "#50: 0.1056507764289607\n",
      "#51: 0.09541494311415166\n",
      "#52: 0.08613810153275879\n",
      "#53: 0.0777368576110745\n",
      "#54: 0.07013342366319802\n",
      "#55: 0.0632563034001562\n",
      "#56: 0.05703942601789924\n",
      "#57: 0.05142212393921358\n",
      "#58: 0.04634870481158474\n",
      "#59: 0.041768423350683696\n",
      "#60: 0.0376347073444082\n",
      "#61: 0.03390509531449056\n",
      "#62: 0.030541104680861082\n",
      "#63: 0.02750773020411578\n",
      "#64: 0.024773042215573318\n",
      "#65: 0.022308034557488095\n",
      "#66: 0.020086627372547707\n",
      "#67: 0.01808505532612608\n",
      "#68: 0.01628176960682006\n",
      "#69: 0.014657471889374002\n",
      "#70: 0.013194496918989673\n",
      "#71: 0.011876836107947559\n",
      "#72: 0.010690442183427096\n",
      "#73: 0.009622019313030935\n",
      "#74: 0.008660225285433516\n",
      "#75: 0.007794207249199497\n",
      "#76: 0.007014625653456251\n",
      "#77: 0.006312859884860996\n",
      "#78: 0.005681123075866664\n",
      "#79: 0.005112623006573519\n",
      "#80: 0.004600771006241083\n",
      "#81: 0.0041402548544166055\n",
      "#82: 0.0037256193301766884\n",
      "#83: 0.0033525815230618437\n",
      "#84: 0.003016867305006623\n",
      "#85: 0.0027146204790633667\n",
      "#86: 0.002442795061777337\n",
      "#87: 0.0021980441943300717\n",
      "#88: 0.0019778061874297986\n",
      "#89: 0.001779739493642013\n",
      "#90: 0.001601342612032626\n",
      "#91: 0.0014409834695780631\n",
      "#92: 0.0012965545966457115\n",
      "#93: 0.0011665960758162131\n",
      "#94: 0.001049782193622231\n",
      "#95: 0.0009444985790321179\n",
      "#96: 0.0008498923920505972\n",
      "#97: 0.000764768575420128\n",
      "#98: 0.0006880868141540449\n",
      "#99: 0.0006190877925737438\n",
      "#100: 0.0005571326441724143\n",
      "#101: 0.0005012090789252695\n",
      "#102: 0.00045102150847714176\n",
      "#103: 0.0004058641695667058\n",
      "#104: 0.0003651540806132118\n",
      "#105: 0.00032855394600984775\n",
      "#106: 0.0002956315006817287\n",
      "#107: 0.0002659564927213127\n",
      "#108: 0.00023934338361421083\n",
      "#109: 0.00021535836977644763\n",
      "#110: 0.00019381594562645042\n",
      "#111: 0.0001743116664722781\n",
      "#112: 0.00015688011004389736\n",
      "#113: 0.00014120373308622138\n",
      "#114: 0.00012696952057453793\n",
      "#115: 0.00011428212357095443\n",
      "#116: 0.00010287564644411417\n",
      "#117: 9.248178736519873e-5\n",
      "#118: 8.329476787596491e-5\n",
      "#119: 7.48675521070018e-5\n",
      "#120: 6.745064200547926e-5\n",
      "#121: 6.06000892378886e-5\n",
      "#122: 5.457150000507188e-5\n",
      "#123: 4.9103171617701645e-5\n",
      "#124: 4.418087174613325e-5\n",
      "#125: 3.975273264460269e-5\n",
      "#126: 3.581309589193244e-5\n",
      "#127: 3.218790822962462e-5\n",
      "#128: 2.896112038757429e-5\n",
      "#129: 2.6056488996830047e-5\n",
      "#130: 2.3402736791212138e-5\n",
      "#131: 2.1140705587091122e-5\n",
      "#132: 1.8986657961276826e-5\n",
      "#133: 1.7078986356228958e-5\n",
      "#134: 1.532699114628358e-5\n",
      "#135: 1.3875388563280266e-5\n",
      "#136: 1.2440501027279313e-5\n",
      "#137: 1.115318956192988e-5\n",
      "#138: 1.0117238722789156e-5\n",
      "#139: 9.068466864969439e-6\n",
      "#140: 8.111512732870085e-6\n",
      "#141: 7.3824581871507855e-6\n",
      "#142: 6.561388755286677e-6\n",
      "#143: 5.9434103920545025e-6\n",
      "#144: 5.34650943791029e-6\n",
      "#145: 4.811822977525691e-6\n",
      "#146: 4.370795442216431e-6\n",
      "#147: 3.8544241161993176e-6\n",
      "#148: 3.544923171564614e-6\n",
      "#149: 3.1118078527313423e-6\n",
      "#150: 2.882746034466669e-6\n",
      "#151: 2.51021188599818e-6\n",
      "#152: 2.2964400434876282e-6\n",
      "#153: 2.113609496331817e-6\n",
      "#154: 1.8154179882416975e-6\n",
      "#155: 1.715477931637752e-6\n",
      "#156: 1.4644057771513606e-6\n",
      "#157: 1.3980537582815417e-6\n",
      "#158: 1.1768153790789129e-6\n",
      "#159: 1.1414457168470455e-6\n",
      "#160: 9.427373868711074e-7\n"
     ]
    }
   ],
   "source": [
    "deltau = 1e6;\n",
    "Niter = 1;\n",
    "alpha = 0.9\n",
    "\n",
    "tol = 1e-6;\n",
    "Nmax = 200;\n",
    "\n",
    "uhist = zeros(Complex{Float64}, N + nc);\n",
    "\n",
    "while (deltau > tol) && (Niter < Nmax)\n",
    "    uprev = u;\n",
    "    uhist = uhist * alpha + u * (1 - alpha);    # Provide some damping to prevent oscillation between two solutions\n",
    "\n",
    "    uh_n = FEFunction(Uh, uhist)\n",
    "    \n",
    "    # Calculate contributions of the cells to the linear system\n",
    "    cellvals_A = ∫( (fnu ∘ (τ, ∇(uh_n))) ⋅ ∇(du) ⋅ ∇(dv) + 1im * omega * (fsigma ∘ τ) ⋅ du ⋅ dv )*Qh;\n",
    "    cellvals_f = ∫( (fsource ∘ τ) ⋅ dv )*Qh;\n",
    "    \n",
    "    rs = ([cellvals_f], [σk]);\n",
    "    assemble_vector!(b, assem, rs);\n",
    "\n",
    "    rs = ([cellvals_A], [σk], [σk]);\n",
    "    assemble_matrix!(A, assem, rs);\n",
    "\n",
    "    # Create the modified system \\tilde{A} = [A BT; B C] and \\tilde{b} = [b1; b2]\n",
    "    At = [A [b1T b2T b3T]; transpose([b1 b2 b3]) C];\n",
    "    bt = [b; f2];\n",
    "\n",
    "    # Solve the modified linear system and package the solution in a FEFunction\n",
    "    u = At \\ bt;\n",
    "\n",
    "    deltau = norm(u - uprev);\n",
    "    Niter += 1;\n",
    "    print(\"#$Niter: $deltau\\n\")\n",
    "end"
   ]
  },
  {
   "cell_type": "code",
   "execution_count": 21,
   "id": "8d999c84",
   "metadata": {},
   "outputs": [],
   "source": [
    "uh = FEFunction(Uh, uhist);"
   ]
  },
  {
   "cell_type": "code",
   "execution_count": 22,
   "id": "fd4ec297",
   "metadata": {},
   "outputs": [
    {
     "name": "stdout",
     "output_type": "stream",
     "text": [
      "I_{sec1}: 28.31810824003825 A, -163.22120765547385 deg\n",
      "I_{sec2}: 15.873831338885601 A, 90.08365465610078 deg\n",
      "I_{sec3}: 28.315458247302086 A, -15.729760923052844 deg\n"
     ]
    }
   ],
   "source": [
    "Isec1 = uhist[end-2];\n",
    "Isec2 = uhist[end-1];\n",
    "Isec3 = uhist[end-0];\n",
    "\n",
    "print(\"I_{sec1}: \", norm(Isec1), \" A, \", angle(Isec1) / pi * 180, \" deg\\n\")\n",
    "print(\"I_{sec2}: \", norm(Isec2), \" A, \", angle(Isec2) / pi * 180, \" deg\\n\")\n",
    "print(\"I_{sec3}: \", norm(Isec3), \" A, \", angle(Isec3) / pi * 180, \" deg\\n\")"
   ]
  },
  {
   "cell_type": "code",
   "execution_count": 23,
   "id": "641a6b85",
   "metadata": {},
   "outputs": [],
   "source": [
    "# Post-processing for magnetic field and current density\n",
    "Bh = norm_complex(∇(uh));\n",
    "mu_r = fmur ∘ (τ, ∇(uh)); # Relative permeability\n",
    "\n",
    "function fsource(tag)\n",
    "    if tag == tag_lv1l        # LV winding phase 1 left\n",
    "        return Isec1 / Awlv * exp(1im * 2pi/3);\n",
    "    elseif tag == tag_lv1r    # LV winding phase 1 right\n",
    "        return -Isec1 / Awlv * exp(1im * 2pi/3);\n",
    "    elseif tag == tag_lv2l    # LV winding phase 2 left\n",
    "        return Isec2 / Awlv;\n",
    "    elseif tag == tag_lv2r    # LV winding phase 2 right\n",
    "        return -Isec2 / Awlv;\n",
    "    elseif tag == tag_lv3l    # LV winding phase 3 left\n",
    "        return Isec3 / Awlv * exp(-1im * 2pi/3);\n",
    "    elseif tag == tag_lv3r    # LV winding phase 3 right\n",
    "        return -Isec3 / Awlv * exp(-1im * 2pi/3);\n",
    "    else\n",
    "        return 0.0 + 0.0im;\n",
    "    end\n",
    "end\n",
    "\n",
    "J0    = fsource ∘ τ; # Source current density\n",
    "Jeddy = 1im ⋅ omega ⋅ (fsigma ∘ τ) ⋅ mean(uh); # Eddy current density"
   ]
  },
  {
   "cell_type": "code",
   "execution_count": 25,
   "id": "7a43c621",
   "metadata": {},
   "outputs": [
    {
     "data": {
      "text/plain": [
       "([\"images/transformer_gridap/transformer6.vtu\"],)"
      ]
     },
     "execution_count": 25,
     "metadata": {},
     "output_type": "execute_result"
    }
   ],
   "source": [
    "writevtk(Th, \"images/transformer_gridap/transformer6\", cellfields=[\"Az\"=>abs(uh), \"normB\" => Bh, \"normJ\" => abs(J0 + Jeddy), \"reJ\" => real(J0 + Jeddy), \"mur\" => mu_r])"
   ]
  },
  {
   "cell_type": "markdown",
   "id": "20ff46eb",
   "metadata": {},
   "source": [
    "![Flux Density](images/transformer_gridap/transformer6.png)"
   ]
  },
  {
   "cell_type": "markdown",
   "id": "30b09bb5",
   "metadata": {},
   "source": [
    "![Relative Permeability](images/transformer_gridap/transformer6_mu.png)"
   ]
  }
 ],
 "metadata": {
  "kernelspec": {
   "display_name": "Julia 1.8.1",
   "language": "julia",
   "name": "julia-1.8"
  },
  "language_info": {
   "file_extension": ".jl",
   "mimetype": "application/julia",
   "name": "julia",
   "version": "1.8.1"
  }
 },
 "nbformat": 4,
 "nbformat_minor": 5
}
