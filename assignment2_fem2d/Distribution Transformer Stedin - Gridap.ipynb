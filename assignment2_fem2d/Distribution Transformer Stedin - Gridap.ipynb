{
 "cells": [
  {
   "cell_type": "code",
   "execution_count": 1,
   "id": "applicable-verse",
   "metadata": {},
   "outputs": [],
   "source": [
    "using Gridap\n",
    "using Gridap.Algebra;\n",
    "using Gridap.FESpaces\n",
    "using Gridap.ReferenceFEs\n",
    "using Gridap.Arrays\n",
    "using Gridap.Geometry\n",
    "using Gridap.Fields\n",
    "using Gridap.CellData\n",
    "\n",
    "using GridapGmsh\n",
    "\n",
    "using LinearAlgebra, ForwardDiff\n",
    "using FillArrays, SparseArrays"
   ]
  },
  {
   "cell_type": "markdown",
   "id": "clean-polls",
   "metadata": {},
   "source": [
    "# Geometry"
   ]
  },
  {
   "cell_type": "code",
   "execution_count": 2,
   "id": "needed-baltimore",
   "metadata": {},
   "outputs": [],
   "source": [
    "# Enclosure dimensions (enclosure is not centered, the core is)\n",
    "hencl1 = 65.5e-2;   # Height above the x-axis\n",
    "hencl2 = -53.5e-2;  # Height below the x-axis\n",
    "wencl  = 104e-2;    # Width\n",
    "\n",
    "# Core dimensions\n",
    "wcore = 84e-2;\n",
    "hcore = 100e-2;\n",
    "\n",
    "# Core gap dimensions (left and right are identical)\n",
    "wgap = 17e-2;\n",
    "hgap = 76e-2;\n",
    "mgap = 17e-2;\n",
    "\n",
    "# HV winding dimensions (all phases left/right are identical)\n",
    "wwhv = 3e-2;\n",
    "hwhv = 74e-2;\n",
    "mwhv = 14.75e-2;\n",
    "Awhv = wwhv * hwhv;\n",
    "\n",
    "# LV winding dimensions (all phases left/right are identical)\n",
    "wwlv = 2e-2;\n",
    "hwlv = 74e-2;\n",
    "mwlv = 11.25e-2;\n",
    "Awlv = wwlv * hwlv;\n",
    "\n",
    "# Mesh densities\n",
    "lc1 = 2e-2;      # Enclosure & core outer\n",
    "lc2 = 1e-2;      # Core inner\n",
    "lc3 = 1e-2;      # HV windings\n",
    "lc4 = 1e-2;      # LV windings"
   ]
  },
  {
   "cell_type": "markdown",
   "id": "hired-seeker",
   "metadata": {},
   "source": [
    "# Gridap Setup"
   ]
  },
  {
   "cell_type": "code",
   "execution_count": 3,
   "id": "irish-georgia",
   "metadata": {},
   "outputs": [
    {
     "data": {
      "text/plain": [
       "norm_complex (generic function with 2 methods)"
      ]
     },
     "execution_count": 3,
     "metadata": {},
     "output_type": "execute_result"
    },
    {
     "name": "stderr",
     "output_type": "stream",
     "text": [
      "\n",
      "(process:15852): GLib-GIO-WARNING **: 12:02:33.017: Unexpectedly, UWP app `SiemensPLMSoftware.JT2GoDesktop_14.1.1.0_x64__qtbmxjdagz8xc' (AUMId `SiemensPLMSoftware.JT2GoDesktop_qtbmxjdagz8xc!JT2GoDesktop') supports 18 extensions but has no verbs\n"
     ]
    }
   ],
   "source": [
    "# Define norm of a complex vector for Gridap to use on the CellField which results from Bh = ∇(uh)\n",
    "norm_complex(a::VectorValue{2, ComplexF64}) = sqrt(norm(a[1])^2 + norm(a[2])^2)\n",
    "norm_complex(a::CellField) = Operation(norm_complex)(a)"
   ]
  },
  {
   "cell_type": "markdown",
   "id": "hazardous-footage",
   "metadata": {},
   "source": [
    "# Linear BH Curve"
   ]
  },
  {
   "cell_type": "code",
   "execution_count": null,
   "id": "respiratory-hearts",
   "metadata": {},
   "outputs": [],
   "source": [
    "# Load mesh\n",
    "model = GmshDiscreteModel(\"geo/transformer_stedin.msh\")\n",
    "Ω = Triangulation(model)\n",
    "\n",
    "# Define Lagrangian reference element\n",
    "order = 2;\n",
    "reffe = ReferenceFE(lagrangian, Float64, order)\n",
    "dΩ = Measure(Ω, 2*order)\n",
    "\n",
    "# Construct Lagrangian test space with dirichlet condition on the right boundary node\n",
    "V = TestFESpace(model, reffe, conformity = :H1, dirichlet_tags = [\"Enclosure\"], vector_type = Vector{ComplexF64})\n",
    "U = TrialFESpace(V, [0])"
   ]
  },
  {
   "cell_type": "code",
   "execution_count": null,
   "id": "brave-pendant",
   "metadata": {},
   "outputs": [],
   "source": [
    "Ip = 0;       # Primary peak phase current\n",
    "Is = 777.62;  # Secondary peak phase current\n",
    "Np = 266;\n",
    "Ns = 6;\n",
    "\n",
    "omega = 2*pi*50;  # Frequency\n",
    "\n",
    "mu0 = 4e-7 * pi;\n",
    "\n",
    "# Calculate current density in the windings\n",
    "Jp = Np * Ip / Awhv;\n",
    "Js = Ns * Is / Awlv;"
   ]
  },
  {
   "cell_type": "code",
   "execution_count": null,
   "id": "deadly-mercy",
   "metadata": {},
   "outputs": [],
   "source": [
    "labels = get_face_labeling(model)\n",
    "dimension = num_cell_dims(model)\n",
    "tags = get_face_tag(labels, dimension)\n",
    "\n",
    "# Construct a cell field consisting of the physical domain tags\n",
    "τ = CellField(tags, Ω)\n",
    "\n",
    "const tag_core = get_tag_from_name(labels, \"Core\");\n",
    "\n",
    "const tag_lv1l = 10; const tag_lv1r = 11;\n",
    "const tag_lv2l = 12; const tag_lv2r = 13;\n",
    "const tag_lv3l = 14; const tag_lv3r = 15;\n",
    "\n",
    "# Source current density\n",
    "function fsource(tag)\n",
    "    if tag == tag_lv1l        # LV winding phase 1 left\n",
    "        return Js * exp(1im * 2pi/3);\n",
    "    elseif tag == tag_lv1r    # LV winding phase 1 right\n",
    "        return -Js * exp(1im * 2pi/3);\n",
    "    elseif tag == tag_lv2l    # LV winding phase 2 left\n",
    "        return Js;\n",
    "    elseif tag == tag_lv2r    # LV winding phase 2 right\n",
    "        return -Js;\n",
    "    elseif tag == tag_lv3l    # LV winding phase 3 left\n",
    "        return Js * exp(-1im * 2pi/3);\n",
    "    elseif tag == tag_lv3r    # LV winding phase 3 right\n",
    "        return -Js * exp(-1im * 2pi/3);\n",
    "    else\n",
    "        return 0.0 + 0.0im;\n",
    "    end\n",
    "end\n",
    "\n",
    "# Permeability model\n",
    "function fmur(tag)\n",
    "    if tag == tag_core\n",
    "        return 1000.0;\n",
    "    else\n",
    "        return 1.0;\n",
    "    end\n",
    "end\n",
    "\n",
    "function fnu(tag)\n",
    "    return 1 / (mu0 * fmur(tag));\n",
    "end\n",
    "\n",
    "# Conductivity\n",
    "function fsigma(tag)\n",
    "    if tag == tag_core\n",
    "        return 0.1;\n",
    "    else\n",
    "        return 0.0;\n",
    "    end\n",
    "end"
   ]
  },
  {
   "cell_type": "code",
   "execution_count": null,
   "id": "urban-glenn",
   "metadata": {},
   "outputs": [],
   "source": [
    "# Define the weak form (bilinear and linear terms)\n",
    "a(u,v) = ∫( (fnu ∘ τ) ⋅ ∇(u) ⋅ ∇(v) )dΩ + ∫( 1im ⋅ omega ⋅ (fsigma ∘ τ) ⋅ u ⋅ v )dΩ\n",
    "b(v)   = ∫( (fsource ∘ τ) ⋅ v )dΩ;\n",
    "op = AffineFEOperator(a, b, U, V)\n",
    "\n",
    "# Solve the linear FE system with LU solver\n",
    "ls = LUSolver()\n",
    "solver = LinearFESolver(ls)\n",
    "uh = solve(solver, op);"
   ]
  },
  {
   "cell_type": "code",
   "execution_count": null,
   "id": "checked-sixth",
   "metadata": {},
   "outputs": [],
   "source": [
    "# Post-processing for magnetic field and current density\n",
    "Bh = norm_complex(gradient(uh));\n",
    "\n",
    "J0    = (fsource ∘ τ); # Source current density\n",
    "Jeddy = 1im ⋅ omega ⋅ (fsigma ∘ τ) ⋅ mean(uh); # Eddy current density"
   ]
  },
  {
   "cell_type": "code",
   "execution_count": null,
   "id": "focused-theta",
   "metadata": {},
   "outputs": [],
   "source": [
    "writevtk(Ω, \"images/transformer_gridap/transformer1\", cellfields=[\"Az\"=>abs(uh), \"imAz\"=>imag(uh), \"normB\" => Bh, \"normJ\" => abs(J0 + Jeddy)])"
   ]
  },
  {
   "cell_type": "markdown",
   "id": "hispanic-football",
   "metadata": {},
   "source": [
    "![Result: Magnetic Flux Density](images/transformer_gridap/transformer1.png)"
   ]
  },
  {
   "cell_type": "markdown",
   "id": "mobile-amount",
   "metadata": {},
   "source": [
    "# Non-linear BH Curve"
   ]
  },
  {
   "cell_type": "code",
   "execution_count": null,
   "id": "plain-pharmacy",
   "metadata": {},
   "outputs": [],
   "source": [
    "# Load mesh\n",
    "model = GmshDiscreteModel(\"geo/transformer_stedin.msh\")\n",
    "#model = GmshDiscreteModel(\"geo/transformer_stedin_hybrid.msh\")    # This works if GridapGmsh is modified to allow multiple element types per dimension\n",
    "Ω = Triangulation(model)\n",
    "\n",
    "# Define Lagrangian reference element\n",
    "order = 2;\n",
    "reffe = ReferenceFE(lagrangian, Float64, order)\n",
    "dΩ = Measure(Ω, 2*order)\n",
    "\n",
    "# Construct Lagrangian test space with dirichlet condition on the right boundary node\n",
    "V = TestFESpace(model, reffe, conformity = :H1, dirichlet_tags = [\"Enclosure\"], vector_type = Vector{ComplexF64})\n",
    "U = TrialFESpace(V, [0])"
   ]
  },
  {
   "cell_type": "code",
   "execution_count": null,
   "id": "invisible-packet",
   "metadata": {},
   "outputs": [],
   "source": [
    "Ip = 0;       # Primary peak phase current\n",
    "Is = 777.62;  # Secondary peak phase current\n",
    "Np = 266;\n",
    "Ns = 6;\n",
    "\n",
    "omega = 2*pi*50;  # Frequency\n",
    "\n",
    "mu0 = 4e-7 * pi;\n",
    "\n",
    "# Calculate current density in the windings\n",
    "Jp = Np * Ip / Awhv;\n",
    "Js = Ns * Is / Awlv;"
   ]
  },
  {
   "cell_type": "code",
   "execution_count": null,
   "id": "comprehensive-balance",
   "metadata": {},
   "outputs": [],
   "source": [
    "labels = get_face_labeling(model)\n",
    "dimension = num_cell_dims(model)\n",
    "tags = get_face_tag(labels, dimension)\n",
    "\n",
    "# Construct a cell field consisting of the physical domain tags\n",
    "τ = CellField(tags, Ω)\n",
    "\n",
    "const tag_core = get_tag_from_name(labels, \"Core\");\n",
    "\n",
    "const tag_lv1l = 10; const tag_lv1r = 11;\n",
    "const tag_lv2l = 12; const tag_lv2r = 13;\n",
    "const tag_lv3l = 14; const tag_lv3r = 15;\n",
    "\n",
    "# Source current density\n",
    "function fsource(tag)\n",
    "    if tag == tag_lv1l        # LV winding phase 1 left\n",
    "        return Js * exp(1im * 2pi/3);\n",
    "    elseif tag == tag_lv1r    # LV winding phase 1 right\n",
    "        return -Js * exp(1im * 2pi/3);\n",
    "    elseif tag == tag_lv2l    # LV winding phase 2 left\n",
    "        return Js;\n",
    "    elseif tag == tag_lv2r    # LV winding phase 2 right\n",
    "        return -Js;\n",
    "    elseif tag == tag_lv3l    # LV winding phase 3 left\n",
    "        return Js * exp(-1im * 2pi/3);\n",
    "    elseif tag == tag_lv3r    # LV winding phase 3 right\n",
    "        return -Js * exp(-1im * 2pi/3);\n",
    "    else\n",
    "        return 0.0 + 0.0im;\n",
    "    end\n",
    "end\n",
    "\n",
    "# Permeability model\n",
    "bh_a = 2.12e-4; \n",
    "bh_b = 7.358;\n",
    "bh_c = 1.18e7;\n",
    "mu0  = 4e-7 * pi;\n",
    "fmur_core(B) = 1 / (bh_a + (1 - bh_a) * B^(2*bh_b) / (B^(2*bh_b) + bh_c));\n",
    "fdmur_core(B) = ForwardDiff.derivative(fmur_core, B);\n",
    "\n",
    "function fmur(tag, ∇u)\n",
    "    if tag == tag_core\n",
    "        normB = norm_complex(∇u);\n",
    "        return fmur_core(normB);\n",
    "    else\n",
    "        return 1.0;\n",
    "    end\n",
    "end\n",
    "\n",
    "function fdmur(tag, ∇du, ∇u)\n",
    "    if tag == tag_core\n",
    "        normB = norm_complex(∇u);\n",
    "        return fdmur_core(normB) ⋅ (∇du ⊙ ∇u);\n",
    "    else\n",
    "        return 0.0 + 0.0im;\n",
    "    end\n",
    "end\n",
    "\n",
    "function fnu(tag, ∇u)\n",
    "    return 1 / (mu0 * fmur(tag, ∇u));\n",
    "end\n",
    "\n",
    "function fdnu(tag, ∇du, ∇u)\n",
    "    return -1 / (mu0 * fmur(tag, ∇u)^2) * fdmur(tag, ∇du, ∇u);\n",
    "end\n",
    "\n",
    "# Conductivity\n",
    "function fsigma(tag)\n",
    "    if tag == tag_core\n",
    "        return 1.0;\n",
    "    else\n",
    "        return 0.0;\n",
    "    end\n",
    "end"
   ]
  },
  {
   "cell_type": "code",
   "execution_count": null,
   "id": "signed-toner",
   "metadata": {
    "scrolled": false
   },
   "outputs": [],
   "source": [
    "# Define the weak form (bilinear and linear terms)\n",
    "res(u,v) = ∫( (fnu ∘ (τ, ∇(u))) ⋅ ∇(u) ⋅ ∇(v) )dΩ + ∫( 1im ⋅ omega ⋅ (fsigma ∘ τ) ⋅ u ⋅ v )dΩ - ∫( (fsource ∘ τ) ⋅ v )dΩ;\n",
    "jac(u, du, v) = ∫( (fdnu ∘ (τ, ∇(du), ∇(u))) ⋅ ∇(u) ⋅ ∇(v) )dΩ + ∫( (fnu ∘ (τ, ∇(u))) ⋅ ∇(du) ⋅ ∇(v) )dΩ + ∫( 1im ⋅ omega ⋅ (fsigma ∘ τ) ⋅ du ⋅ v )dΩ;;\n",
    "op = FEOperator(res, jac, U, V)\n",
    "\n",
    "ls = BackslashSolver()\n",
    "nls = NLSolver(ls, method = :trust_region, show_trace = true)\n",
    "solver = FESolver(nls)\n",
    "\n",
    "x   = zeros(Complex{Float64}, num_free_dofs(U))\n",
    "uh0 = FEFunction(U, x)\n",
    "uh, = solve!(uh0, solver, op)"
   ]
  },
  {
   "cell_type": "code",
   "execution_count": null,
   "id": "animated-complaint",
   "metadata": {},
   "outputs": [],
   "source": [
    "# Post-processing for magnetic field and current density\n",
    "Bh = norm_complex(∇(uh)); # Magnetic flux density\n",
    "mu_r = fmur ∘ (τ, ∇(uh)); # Relative permeability\n",
    "\n",
    "J0    = fsource ∘ τ; # Source current density\n",
    "Jeddy = 1im ⋅ omega ⋅ (fsigma ∘ τ) ⋅ mean(uh); # Eddy current density"
   ]
  },
  {
   "cell_type": "code",
   "execution_count": null,
   "id": "grateful-royalty",
   "metadata": {},
   "outputs": [],
   "source": [
    "writevtk(Ω, \"images/transformer_gridap/transformer2\", cellfields=[\"Az\"=>abs(uh), \"imAz\"=>imag(uh), \"normB\" => Bh, \"normJ\" => abs(J0 + Jeddy), \"mur\" => mu_r])"
   ]
  },
  {
   "cell_type": "markdown",
   "id": "turkish-furniture",
   "metadata": {},
   "source": [
    "![Result: Magnetic Flux Density](images/transformer_gridap/transformer2.png)"
   ]
  },
  {
   "cell_type": "markdown",
   "id": "426909a1",
   "metadata": {},
   "source": [
    "![Result: Relative Permeability](images/transformer_gridap/transformer2_mu.png)"
   ]
  },
  {
   "cell_type": "markdown",
   "id": "f31aa023",
   "metadata": {},
   "source": [
    "# Using Hybrid Meshes in Gridap\n",
    "At the moment, ``GridapGmsh`` does not allow meshes with more than one element type per dimension (such as hybrid triangle-quad meshes). However, all of the functionality to allow (simple) hybrid meshes is present. I will try to submit a pull request or open an issue to extend this functionality. We only require changes to internal function ``_setup_reffes``."
   ]
  },
  {
   "cell_type": "code",
   "execution_count": null,
   "id": "c743df01",
   "metadata": {},
   "outputs": [],
   "source": [
    "function _setup_reffes(gmsh,d,orient_if_simplex)\n",
    "    elemTypes, elemTags, nodeTags = gmsh.model.mesh.getElements(d)\n",
    "\n",
    "    ncells, nmin, nmax = _check_cell_tags(elemTags)\n",
    "    cell_to_type = fill(Int8(0), ncells)\n",
    "    \n",
    "    noffset = nmin - 1;\n",
    "    for (i, etype) in enumerate(elemTypes)\n",
    "        cell_to_type[elemTags[i] .- noffset] .= i   # Correctly fill the cell_to_type array, instead of filling '1'\n",
    "    \n",
    "        # Check that the elements are first order; higher-order elements are not yet supported\n",
    "        name, dim, order::Int, numv, parv = gmsh.model.mesh.getElementProperties(etype)\n",
    "        if order == 0 && etype == POINT\n",
    "            order = 1\n",
    "        end\n",
    "        \n",
    "        if order != 1\n",
    "            gmsh.finalize()\n",
    "            error(\"For the moment only for first-order elements\")\n",
    "        end\n",
    "    end\n",
    "    \n",
    "    # Retrieve RefFEs for the element types\n",
    "    reffes = [_reffe_from_etype(etype) for etype in elemTypes];\n",
    "\n",
    "    # Check mesh orientation\n",
    "    boo = [(is_simplex(get_polytope(reffe)) && orient_if_simplex) for reffe in reffes];\n",
    "    orientation = any(boo) ? Oriented() : NonOriented()\n",
    "\n",
    "    (cell_to_type, reffes, orientation)\n",
    "end"
   ]
  },
  {
   "cell_type": "markdown",
   "id": "42a5f5a5",
   "metadata": {},
   "source": [
    "![Result: Magnetic Flux Density](images/transformer_gridap/transformer4.png)"
   ]
  },
  {
   "cell_type": "markdown",
   "id": "mighty-scroll",
   "metadata": {},
   "source": [
    "# Linear BH Curve with Voltage-Driven Coils"
   ]
  },
  {
   "cell_type": "code",
   "execution_count": null,
   "id": "affected-effectiveness",
   "metadata": {},
   "outputs": [],
   "source": [
    "# Define Lagrangian reference element\n",
    "order = 2;\n",
    "reffe = ReferenceFE(lagrangian, Float64, order)\n",
    "\n",
    "# Load mesh\n",
    "model = GmshDiscreteModel(\"geo/transformer_stedin_hybrid.msh\")\n",
    "Th = Triangulation(model)\n",
    "Qh = CellQuadrature(Th, 2*order)\n",
    "\n",
    "# Construct Lagrangian test space with dirichlet condition on the right boundary node\n",
    "Vh = TestFESpace(model, reffe; conformity = :H1, dirichlet_tags = [\"Enclosure\"], vector_type = Vector{ComplexF64})\n",
    "Uh = TrialFESpace(Vh, [0])"
   ]
  },
  {
   "cell_type": "code",
   "execution_count": null,
   "id": "statewide-therapy",
   "metadata": {},
   "outputs": [],
   "source": [
    "Ip = 0;       # Primary peak phase current\n",
    "Is = 777.62;  # Secondary peak phase current\n",
    "Np = 266;\n",
    "Ns = 6;\n",
    "\n",
    "omega = 2*pi*50;  # Frequency\n",
    "\n",
    "mu0 = 4e-7 * pi;\n",
    "\n",
    "# Calculate current density in the windings\n",
    "Jp = Np * Ip / Awhv;\n",
    "Js = Ns * Is / Awlv;"
   ]
  },
  {
   "cell_type": "code",
   "execution_count": null,
   "id": "static-cambodia",
   "metadata": {},
   "outputs": [],
   "source": [
    "labels = get_face_labeling(model)\n",
    "dimension = num_cell_dims(model)\n",
    "tags = get_face_tag(labels, dimension)\n",
    "\n",
    "# Construct a cell field consisting of the physical domain tags\n",
    "τ = CellField(tags, Th)\n",
    "\n",
    "const tag_core = get_tag_from_name(labels, \"Core\");\n",
    "const tag_lv1l = get_tag_from_name(labels, \"LV1l\");\n",
    "const tag_lv1r = get_tag_from_name(labels, \"LV1r\");\n",
    "const tag_lv2l = get_tag_from_name(labels, \"LV2l\");\n",
    "const tag_lv2r = get_tag_from_name(labels, \"LV2r\");\n",
    "const tag_lv3l = get_tag_from_name(labels, \"LV3l\");\n",
    "const tag_lv3r = get_tag_from_name(labels, \"LV3r\");\n",
    "\n",
    "# Source current density\n",
    "function fsource(tag)\n",
    "    return 0.0 + 0.0im;\n",
    "end\n",
    "\n",
    "# Permeability model\n",
    "function fmur(tag)\n",
    "    if tag == tag_core\n",
    "        return 1000.0;\n",
    "    else\n",
    "        return 1.0;\n",
    "    end\n",
    "end\n",
    "\n",
    "function fnu(tag)\n",
    "    return 1 / (mu0 * fmur(tag));\n",
    "end\n",
    "\n",
    "# Conductivity\n",
    "function fsigma(tag)\n",
    "    if tag == tag_core\n",
    "        return 0.1;\n",
    "    else\n",
    "        return 0.0;\n",
    "    end\n",
    "end"
   ]
  },
  {
   "cell_type": "code",
   "execution_count": null,
   "id": "aging-scientist",
   "metadata": {},
   "outputs": [],
   "source": [
    "dv = get_fe_basis(Vh);\n",
    "du = get_trial_fe_basis(Uh);\n",
    "\n",
    "# Calculate contributions of the cells to the linear system\n",
    "cellvals_A = ∫( (fnu ∘ τ) ⋅ ∇(du) ⋅ ∇(dv) + 1im * omega * (fsigma ∘ τ) ⋅ du ⋅ dv )*Qh;\n",
    "cellvals_f = ∫( (fsource ∘ τ) ⋅ dv )*Qh;\n",
    "\n",
    "# Assemble the linear system\n",
    "assem = SparseMatrixAssembler(Uh, Vh)\n",
    "σk = get_cell_dof_ids(Uh);\n",
    "\n",
    "rs = ([cellvals_f], [σk]);\n",
    "b = allocate_vector(assem, rs);\n",
    "assemble_vector!(b, assem, rs);\n",
    "\n",
    "rs = ([cellvals_A], [σk], [σk]);\n",
    "A = allocate_matrix(assem, rs);\n",
    "assemble_matrix!(A, assem, rs);"
   ]
  },
  {
   "cell_type": "code",
   "execution_count": null,
   "id": "confirmed-shepherd",
   "metadata": {
    "scrolled": true
   },
   "outputs": [],
   "source": [
    "# Circuit parameters\n",
    "CFF  = 0.3;\n",
    "Vsec = 420 * sqrt(2 / 3);\n",
    "Rsec = 1.2999e-3 / CFF;\n",
    "Asec = Awlv;\n",
    "lsec = 0.4;\n",
    "\n",
    "# Extend the linear system with an additional row and column per circuit equation\n",
    "N  = num_free_dofs(Uh);\n",
    "nc = 3;\n",
    "\n",
    "C  = Matrix(UniformScaling(1), nc, nc);\n",
    "f2 = [ Vsec * exp(1im * 2pi/3) / Rsec;\n",
    "       Vsec / Rsec;\n",
    "       Vsec * exp(-1im * 2pi/3) / Rsec\n",
    "];\n",
    "\n",
    "# Calculate the cell contributions to the extra vectors\n",
    "Th_lv1r = Triangulation(model, tags = \"LV1r\"); Qh_lv1r = CellQuadrature(Th_lv1r, 2*order)\n",
    "Th_lv1l = Triangulation(model, tags = \"LV1l\"); Qh_lv1l = CellQuadrature(Th_lv1l, 2*order)\n",
    "Th_lv2r = Triangulation(model, tags = \"LV2r\"); Qh_lv2r = CellQuadrature(Th_lv2r, 2*order)\n",
    "Th_lv2l = Triangulation(model, tags = \"LV2l\"); Qh_lv2l = CellQuadrature(Th_lv2l, 2*order)\n",
    "Th_lv3r = Triangulation(model, tags = \"LV3r\"); Qh_lv3r = CellQuadrature(Th_lv3r, 2*order)\n",
    "Th_lv3l = Triangulation(model, tags = \"LV3l\"); Qh_lv3l = CellQuadrature(Th_lv3l, 2*order)\n",
    "\n",
    "cellvals_lv1lT = ∫( Ns / Asec ⋅ dv )*Qh_lv1l;\n",
    "cellvals_lv1rT = ∫( -Ns / Asec ⋅ dv )*Qh_lv1r;\n",
    "cellvals_lv2lT = ∫( Ns / Asec ⋅ dv )*Qh_lv2l;\n",
    "cellvals_lv2rT = ∫( -Ns / Asec ⋅ dv )*Qh_lv2r;\n",
    "cellvals_lv3lT = ∫( Ns / Asec ⋅ dv )*Qh_lv3l;\n",
    "cellvals_lv3rT = ∫( -Ns / Asec ⋅ dv )*Qh_lv3r;\n",
    "\n",
    "cellvals_lv1l = ∫( -1im * omega * Ns * lsec / (Asec * Rsec) ⋅ dv )*Qh_lv1l;\n",
    "cellvals_lv1r = ∫( 1im * omega * Ns * lsec / (Asec * Rsec) ⋅ dv )*Qh_lv1r;\n",
    "cellvals_lv2l = ∫( -1im * omega * Ns * lsec / (Asec * Rsec) ⋅ dv )*Qh_lv2l;\n",
    "cellvals_lv2r = ∫( 1im * omega * Ns * lsec / (Asec * Rsec) ⋅ dv )*Qh_lv2r;\n",
    "cellvals_lv3l = ∫( -1im * omega * Ns * lsec / (Asec * Rsec) ⋅ dv )*Qh_lv3l;\n",
    "cellvals_lv3r = ∫( 1im * omega * Ns * lsec / (Asec * Rsec) ⋅ dv )*Qh_lv3r;\n",
    "\n",
    "# Assemble the circuit coupling equations into extra vectors\n",
    "σ_lv1l = get_cell_dof_ids(Uh, Th_lv1l);\n",
    "σ_lv1r = get_cell_dof_ids(Uh, Th_lv1r);\n",
    "σ_lv2l = get_cell_dof_ids(Uh, Th_lv2l);\n",
    "σ_lv2r = get_cell_dof_ids(Uh, Th_lv2r);\n",
    "σ_lv3l = get_cell_dof_ids(Uh, Th_lv3l);\n",
    "σ_lv3r = get_cell_dof_ids(Uh, Th_lv3r);\n",
    "\n",
    "rs = ([cellvals_lv1lT; cellvals_lv1rT], [σ_lv1l; σ_lv1r]);\n",
    "b1T = allocate_vector(assem, rs);\n",
    "assemble_vector!(b1T, assem, rs);\n",
    "\n",
    "rs = ([cellvals_lv2lT; cellvals_lv2rT], [σ_lv2l; σ_lv2r]);\n",
    "b2T = allocate_vector(assem, rs);\n",
    "assemble_vector!(b2T, assem, rs);\n",
    "\n",
    "rs = ([cellvals_lv3lT; cellvals_lv3rT], [σ_lv3l; σ_lv3r]);\n",
    "b3T = allocate_vector(assem, rs);\n",
    "assemble_vector!(b3T, assem, rs);\n",
    "\n",
    "rs = ([cellvals_lv1l; cellvals_lv1r], [σ_lv1l; σ_lv1r]);\n",
    "b1 = allocate_vector(assem, rs);\n",
    "assemble_vector!(b1, assem, rs);\n",
    "\n",
    "rs = ([cellvals_lv2l; cellvals_lv2r], [σ_lv2l; σ_lv2r]);\n",
    "b2 = allocate_vector(assem, rs);\n",
    "assemble_vector!(b2, assem, rs);\n",
    "\n",
    "rs = ([cellvals_lv3l; cellvals_lv3r], [σ_lv3l; σ_lv3r]);\n",
    "b3 = allocate_vector(assem, rs);\n",
    "assemble_vector!(b3, assem, rs);"
   ]
  },
  {
   "cell_type": "code",
   "execution_count": null,
   "id": "neural-wallace",
   "metadata": {},
   "outputs": [],
   "source": [
    "# Create the modified system \\tilde{A} = [A BT; B C] and \\tilde{b} = [b1; b2]\n",
    "At = [A [b1T b2T b3T]; transpose([b1 b2 b3]) C];\n",
    "bt = [b; f2];\n",
    "\n",
    "# Solve the modified linear system and package the solution in a FEFunction\n",
    "u = At \\ bt;\n",
    "uh = FEFunction(Uh, u);"
   ]
  },
  {
   "cell_type": "code",
   "execution_count": null,
   "id": "based-setup",
   "metadata": {},
   "outputs": [],
   "source": [
    "Isec1 = u[end-2];\n",
    "Isec2 = u[end-1];\n",
    "Isec3 = u[end-0];\n",
    "\n",
    "print(\"I_{sec1}: \", norm(Isec1), \" A, \", angle(Isec1) / pi * 180, \" deg\\n\")\n",
    "print(\"I_{sec2}: \", norm(Isec2), \" A, \", angle(Isec2) / pi * 180, \" deg\\n\")\n",
    "print(\"I_{sec3}: \", norm(Isec3), \" A, \", angle(Isec3) / pi * 180, \" deg\\n\")"
   ]
  },
  {
   "cell_type": "code",
   "execution_count": null,
   "id": "associate-globe",
   "metadata": {},
   "outputs": [],
   "source": [
    "# Post-processing for magnetic field and current density\n",
    "Bh = norm_complex(gradient(uh));\n",
    "\n",
    "function fsource(tag)\n",
    "    if tag == tag_lv1l        # LV winding phase 1 left\n",
    "        return Isec1 / Awlv * exp(1im * 2pi/3);\n",
    "    elseif tag == tag_lv1r    # LV winding phase 1 right\n",
    "        return -Isec1 / Awlv * exp(1im * 2pi/3);\n",
    "    elseif tag == tag_lv2l    # LV winding phase 2 left\n",
    "        return Isec2 / Awlv;\n",
    "    elseif tag == tag_lv2r    # LV winding phase 2 right\n",
    "        return -Isec2 / Awlv;\n",
    "    elseif tag == tag_lv3l    # LV winding phase 3 left\n",
    "        return Isec3 / Awlv * exp(-1im * 2pi/3);\n",
    "    elseif tag == tag_lv3r    # LV winding phase 3 right\n",
    "        return -Isec3 / Awlv * exp(-1im * 2pi/3);\n",
    "    else\n",
    "        return 0.0 + 0.0im;\n",
    "    end\n",
    "end\n",
    "\n",
    "J0    = fsource ∘ τ; # Source current density\n",
    "Jeddy = 1im ⋅ omega ⋅ (fsigma ∘ τ) ⋅ mean(uh); # Eddy current density"
   ]
  },
  {
   "cell_type": "code",
   "execution_count": null,
   "id": "color-riverside",
   "metadata": {},
   "outputs": [],
   "source": [
    "writevtk(Th, \"images/transformer_gridap/transformer5\", cellfields=[\"Az\"=>abs(uh), \"normB\" => Bh, \"normJ\" => abs(J0 + Jeddy)])"
   ]
  },
  {
   "cell_type": "markdown",
   "id": "painful-colombia",
   "metadata": {},
   "source": [
    "![Flux Density](images/transformer_gridap/transformer5.png)"
   ]
  },
  {
   "cell_type": "markdown",
   "id": "87d4a449",
   "metadata": {},
   "source": [
    "# Non-Linear BH Curve with Voltage-Driven Coils"
   ]
  },
  {
   "cell_type": "code",
   "execution_count": 4,
   "id": "31ab5571",
   "metadata": {},
   "outputs": [
    {
     "name": "stdout",
     "output_type": "stream",
     "text": [
      "Info    : Reading 'geo/transformer_stedin_hybrid.msh'...\n",
      "Info    : 194 entities\n",
      "Info    : 10576 nodes\n",
      "Info    : 17217 elements\n",
      "Info    : Done reading 'geo/transformer_stedin_hybrid.msh'\n"
     ]
    },
    {
     "data": {
      "text/plain": [
       "TrialFESpace()"
      ]
     },
     "execution_count": 4,
     "metadata": {},
     "output_type": "execute_result"
    }
   ],
   "source": [
    "# Define Lagrangian reference element\n",
    "order = 2;\n",
    "reffe = ReferenceFE(lagrangian, Float64, order)\n",
    "\n",
    "# Load mesh\n",
    "model = GmshDiscreteModel(\"geo/transformer_stedin_hybrid.msh\")\n",
    "Th = Triangulation(model)\n",
    "Qh = CellQuadrature(Th, 2*order)\n",
    "\n",
    "# Construct Lagrangian test space with dirichlet condition on the right boundary node\n",
    "Vh = TestFESpace(model, reffe; conformity = :H1, dirichlet_tags = [\"Enclosure\"], vector_type = Vector{ComplexF64})\n",
    "Uh = TrialFESpace(Vh, [0])"
   ]
  },
  {
   "cell_type": "code",
   "execution_count": 5,
   "id": "d84b7a19",
   "metadata": {},
   "outputs": [],
   "source": [
    "Ip = 0;       # Primary peak phase current\n",
    "Is = 777.62;  # Secondary peak phase current\n",
    "Np = 266;\n",
    "Ns = 6;\n",
    "\n",
    "omega = 2*pi*50;  # Frequency\n",
    "\n",
    "mu0 = 4e-7 * pi;\n",
    "\n",
    "# Calculate current density in the windings\n",
    "Jp = Np * Ip / Awhv;\n",
    "Js = Ns * Is / Awlv;"
   ]
  },
  {
   "cell_type": "code",
   "execution_count": 6,
   "id": "744b4da8",
   "metadata": {},
   "outputs": [
    {
     "data": {
      "text/plain": [
       "fsigma (generic function with 1 method)"
      ]
     },
     "execution_count": 6,
     "metadata": {},
     "output_type": "execute_result"
    }
   ],
   "source": [
    "labels = get_face_labeling(model)\n",
    "dimension = num_cell_dims(model)\n",
    "tags = get_face_tag(labels, dimension)\n",
    "\n",
    "# Construct a cell field consisting of the physical domain tags\n",
    "τ = CellField(tags, Th)\n",
    "\n",
    "const tag_core = get_tag_from_name(labels, \"Core\");\n",
    "const tag_lv1l = get_tag_from_name(labels, \"LV1l\");\n",
    "const tag_lv1r = get_tag_from_name(labels, \"LV1r\");\n",
    "const tag_lv2l = get_tag_from_name(labels, \"LV2l\");\n",
    "const tag_lv2r = get_tag_from_name(labels, \"LV2r\");\n",
    "const tag_lv3l = get_tag_from_name(labels, \"LV3l\");\n",
    "const tag_lv3r = get_tag_from_name(labels, \"LV3r\");\n",
    "\n",
    "# Source current density\n",
    "function fsource(tag)\n",
    "    return 0.0 + 0.0im;\n",
    "end\n",
    "\n",
    "# Permeability model\n",
    "bh_a = 1 / 47e3;\n",
    "bh_b = 3.6;\n",
    "bh_c = 2.1e8;\n",
    "mu0  = 4e-7 * pi;\n",
    "fmur_core(B) = 1 / (bh_a + (1 - bh_a) * B^(2*bh_b) / (B^(2*bh_b) + bh_c));\n",
    "\n",
    "function fmur(tag, ∇u)\n",
    "    if tag == tag_core\n",
    "        normB = norm_complex(∇u);\n",
    "        return fmur_core(normB);\n",
    "    else\n",
    "        return 1.0;\n",
    "    end\n",
    "end\n",
    "\n",
    "function fnu(tag, ∇u)\n",
    "    return 1 / (mu0 * fmur(tag, ∇u));\n",
    "end\n",
    "\n",
    "# Conductivity\n",
    "function fsigma(tag)\n",
    "    if tag == tag_core\n",
    "        return 0.1;\n",
    "    else\n",
    "        return 0.0;\n",
    "    end\n",
    "end"
   ]
  },
  {
   "cell_type": "code",
   "execution_count": 7,
   "id": "cd4ede7a",
   "metadata": {},
   "outputs": [],
   "source": [
    "dv = get_fe_basis(Vh);\n",
    "du = get_trial_fe_basis(Uh);\n",
    "\n",
    "# Assemble the linear system\n",
    "assem = SparseMatrixAssembler(Uh, Vh)\n",
    "σk = get_cell_dof_ids(Uh);"
   ]
  },
  {
   "cell_type": "code",
   "execution_count": 8,
   "id": "60eaa46b",
   "metadata": {},
   "outputs": [],
   "source": [
    "# Circuit parameters\n",
    "CFF  = 0.3;\n",
    "Vsec = 420 * sqrt(2 / 3);\n",
    "Rsec = 1.2999e-3 / CFF;\n",
    "Asec = Awlv;\n",
    "lsec = 0.4;\n",
    "\n",
    "# Extend the linear system with an additional row and column per circuit equation\n",
    "N  = num_free_dofs(Uh);\n",
    "nc = 3;\n",
    "\n",
    "C  = Matrix(UniformScaling(1), nc, nc);\n",
    "f2 = [ Vsec * exp(1im * 2pi/3) / Rsec;\n",
    "       Vsec / Rsec;\n",
    "       Vsec * exp(-1im * 2pi/3) / Rsec\n",
    "];\n",
    "\n",
    "# Calculate the cell contributions to the extra vectors\n",
    "Th_lv1r = Triangulation(model, tags = \"LV1r\"); Qh_lv1r = CellQuadrature(Th_lv1r, 2*order)\n",
    "Th_lv1l = Triangulation(model, tags = \"LV1l\"); Qh_lv1l = CellQuadrature(Th_lv1l, 2*order)\n",
    "Th_lv2r = Triangulation(model, tags = \"LV2r\"); Qh_lv2r = CellQuadrature(Th_lv2r, 2*order)\n",
    "Th_lv2l = Triangulation(model, tags = \"LV2l\"); Qh_lv2l = CellQuadrature(Th_lv2l, 2*order)\n",
    "Th_lv3r = Triangulation(model, tags = \"LV3r\"); Qh_lv3r = CellQuadrature(Th_lv3r, 2*order)\n",
    "Th_lv3l = Triangulation(model, tags = \"LV3l\"); Qh_lv3l = CellQuadrature(Th_lv3l, 2*order)\n",
    "\n",
    "cellvals_lv1lT = ∫( Ns / Asec ⋅ dv )*Qh_lv1l;\n",
    "cellvals_lv1rT = ∫( -Ns / Asec ⋅ dv )*Qh_lv1r;\n",
    "cellvals_lv2lT = ∫( Ns / Asec ⋅ dv )*Qh_lv2l;\n",
    "cellvals_lv2rT = ∫( -Ns / Asec ⋅ dv )*Qh_lv2r;\n",
    "cellvals_lv3lT = ∫( Ns / Asec ⋅ dv )*Qh_lv3l;\n",
    "cellvals_lv3rT = ∫( -Ns / Asec ⋅ dv )*Qh_lv3r;\n",
    "\n",
    "cellvals_lv1l = ∫( -1im * omega * Ns * lsec / (Asec * Rsec) ⋅ dv )*Qh_lv1l;\n",
    "cellvals_lv1r = ∫( 1im * omega * Ns * lsec / (Asec * Rsec) ⋅ dv )*Qh_lv1r;\n",
    "cellvals_lv2l = ∫( -1im * omega * Ns * lsec / (Asec * Rsec) ⋅ dv )*Qh_lv2l;\n",
    "cellvals_lv2r = ∫( 1im * omega * Ns * lsec / (Asec * Rsec) ⋅ dv )*Qh_lv2r;\n",
    "cellvals_lv3l = ∫( -1im * omega * Ns * lsec / (Asec * Rsec) ⋅ dv )*Qh_lv3l;\n",
    "cellvals_lv3r = ∫( 1im * omega * Ns * lsec / (Asec * Rsec) ⋅ dv )*Qh_lv3r;\n",
    "\n",
    "# Assemble the circuit coupling equations into extra vectors\n",
    "σ_lv1l = get_cell_dof_ids(Uh, Th_lv1l);\n",
    "σ_lv1r = get_cell_dof_ids(Uh, Th_lv1r);\n",
    "σ_lv2l = get_cell_dof_ids(Uh, Th_lv2l);\n",
    "σ_lv2r = get_cell_dof_ids(Uh, Th_lv2r);\n",
    "σ_lv3l = get_cell_dof_ids(Uh, Th_lv3l);\n",
    "σ_lv3r = get_cell_dof_ids(Uh, Th_lv3r);\n",
    "\n",
    "rs = ([cellvals_lv1lT; cellvals_lv1rT], [σ_lv1l; σ_lv1r]);\n",
    "b1T = allocate_vector(assem, rs);\n",
    "assemble_vector!(b1T, assem, rs);\n",
    "\n",
    "rs = ([cellvals_lv2lT; cellvals_lv2rT], [σ_lv2l; σ_lv2r]);\n",
    "b2T = allocate_vector(assem, rs);\n",
    "assemble_vector!(b2T, assem, rs);\n",
    "\n",
    "rs = ([cellvals_lv3lT; cellvals_lv3rT], [σ_lv3l; σ_lv3r]);\n",
    "b3T = allocate_vector(assem, rs);\n",
    "assemble_vector!(b3T, assem, rs);\n",
    "\n",
    "rs = ([cellvals_lv1l; cellvals_lv1r], [σ_lv1l; σ_lv1r]);\n",
    "b1 = allocate_vector(assem, rs);\n",
    "assemble_vector!(b1, assem, rs);\n",
    "\n",
    "rs = ([cellvals_lv2l; cellvals_lv2r], [σ_lv2l; σ_lv2r]);\n",
    "b2 = allocate_vector(assem, rs);\n",
    "assemble_vector!(b2, assem, rs);\n",
    "\n",
    "rs = ([cellvals_lv3l; cellvals_lv3r], [σ_lv3l; σ_lv3r]);\n",
    "b3 = allocate_vector(assem, rs);\n",
    "assemble_vector!(b3, assem, rs);"
   ]
  },
  {
   "cell_type": "code",
   "execution_count": 9,
   "id": "715577d1",
   "metadata": {},
   "outputs": [
    {
     "data": {
      "text/plain": [
       "SingleFieldFEFunction():\n",
       " num_cells: 16993\n",
       " DomainStyle: ReferenceDomain()\n",
       " Triangulation: BodyFittedTriangulation()\n",
       " Triangulation id: 16803535976189124150"
      ]
     },
     "execution_count": 9,
     "metadata": {},
     "output_type": "execute_result"
    }
   ],
   "source": [
    "u0 = FEFunction(Uh, zeros(Complex{Float64}, num_free_dofs(Uh)))"
   ]
  },
  {
   "cell_type": "code",
   "execution_count": 10,
   "id": "cb1620c1",
   "metadata": {},
   "outputs": [],
   "source": [
    "# Calculate contributions of the cells to the linear system\n",
    "cellvals_A = ∫( (fnu ∘ (τ, ∇(u0))) ⋅ ∇(du) ⋅ ∇(dv) + 1im * omega * (fsigma ∘ τ) ⋅ du ⋅ dv )*Qh;\n",
    "cellvals_f = ∫( (fsource ∘ τ) ⋅ dv )*Qh;\n",
    "\n",
    "rs = ([cellvals_f], [σk]);\n",
    "b = allocate_vector(assem, rs);\n",
    "assemble_vector!(b, assem, rs);\n",
    "\n",
    "rs = ([cellvals_A], [σk], [σk]);\n",
    "A = allocate_matrix(assem, rs);\n",
    "assemble_matrix!(A, assem, rs);\n",
    "\n",
    "# Create the modified system \\tilde{A} = [A BT; B C] and \\tilde{b} = [b1; b2]\n",
    "At = [A [b1T b2T b3T]; transpose([b1 b2 b3]) C];\n",
    "bt = [b; f2];\n",
    "\n",
    "# Solve the modified linear system and package the solution in a FEFunction\n",
    "u = At \\ bt;"
   ]
  },
  {
   "cell_type": "code",
   "execution_count": null,
   "id": "8dcaf6dd",
   "metadata": {},
   "outputs": [],
   "source": [
    "deltau = 1e6;\n",
    "Niter = 1;\n",
    "alpha = 0.9\n",
    "\n",
    "tol = 1e-6;\n",
    "Nmax = 200;\n",
    "\n",
    "uhist = zeros(Complex{Float64}, N + nc);\n",
    "\n",
    "while (deltau > tol) && (Niter < Nmax)\n",
    "    uprev = u;\n",
    "    uhist = uhist * alpha + u * (1 - alpha);    # Provide some damping to prevent oscillation between two solutions\n",
    "\n",
    "    uh_n = FEFunction(Uh, uhist)\n",
    "    \n",
    "    # Calculate contributions of the cells to the linear system\n",
    "    cellvals_A = ∫( (fnu ∘ (τ, ∇(uh_n))) ⋅ ∇(du) ⋅ ∇(dv) + 1im * omega * (fsigma ∘ τ) ⋅ du ⋅ dv )*Qh;\n",
    "    cellvals_f = ∫( (fsource ∘ τ) ⋅ dv )*Qh;\n",
    "    \n",
    "    rs = ([cellvals_f], [σk]);\n",
    "    assemble_vector!(b, assem, rs);\n",
    "\n",
    "    rs = ([cellvals_A], [σk], [σk]);\n",
    "    assemble_matrix!(A, assem, rs);\n",
    "\n",
    "    # Create the modified system \\tilde{A} = [A BT; B C] and \\tilde{b} = [b1; b2]\n",
    "    At = [A [b1T b2T b3T]; transpose([b1 b2 b3]) C];\n",
    "    bt = [b; f2];\n",
    "\n",
    "    # Solve the modified linear system and package the solution in a FEFunction\n",
    "    u = At \\ bt;\n",
    "\n",
    "    deltau = norm(u - uprev);\n",
    "    Niter += 1;\n",
    "    print(\"#$Niter: $deltau\\n\")\n",
    "end"
   ]
  },
  {
   "cell_type": "code",
   "execution_count": 12,
   "id": "8d999c84",
   "metadata": {},
   "outputs": [],
   "source": [
    "uh = FEFunction(Uh, uhist);"
   ]
  },
  {
   "cell_type": "code",
   "execution_count": 13,
   "id": "fd4ec297",
   "metadata": {},
   "outputs": [
    {
     "name": "stdout",
     "output_type": "stream",
     "text": [
      "I_{sec1}: 28.32231746537388 A, -163.21961159263614 deg\n",
      "I_{sec2}: 15.877738267008876 A, 90.08342343130786 deg\n",
      "I_{sec3}: 28.319748478502806 A, -15.731307440474106 deg\n"
     ]
    }
   ],
   "source": [
    "Isec1 = uhist[end-2];\n",
    "Isec2 = uhist[end-1];\n",
    "Isec3 = uhist[end-0];\n",
    "\n",
    "print(\"I_{sec1}: \", norm(Isec1), \" A, \", angle(Isec1) / pi * 180, \" deg\\n\")\n",
    "print(\"I_{sec2}: \", norm(Isec2), \" A, \", angle(Isec2) / pi * 180, \" deg\\n\")\n",
    "print(\"I_{sec3}: \", norm(Isec3), \" A, \", angle(Isec3) / pi * 180, \" deg\\n\")"
   ]
  },
  {
   "cell_type": "code",
   "execution_count": 14,
   "id": "641a6b85",
   "metadata": {},
   "outputs": [],
   "source": [
    "# Post-processing for magnetic field and current density\n",
    "Bh = norm_complex(∇(uh));\n",
    "mu_r = fmur ∘ (τ, ∇(uh)); # Relative permeability\n",
    "\n",
    "function fsource(tag)\n",
    "    if tag == tag_lv1l        # LV winding phase 1 left\n",
    "        return Isec1 / Awlv * exp(1im * 2pi/3);\n",
    "    elseif tag == tag_lv1r    # LV winding phase 1 right\n",
    "        return -Isec1 / Awlv * exp(1im * 2pi/3);\n",
    "    elseif tag == tag_lv2l    # LV winding phase 2 left\n",
    "        return Isec2 / Awlv;\n",
    "    elseif tag == tag_lv2r    # LV winding phase 2 right\n",
    "        return -Isec2 / Awlv;\n",
    "    elseif tag == tag_lv3l    # LV winding phase 3 left\n",
    "        return Isec3 / Awlv * exp(-1im * 2pi/3);\n",
    "    elseif tag == tag_lv3r    # LV winding phase 3 right\n",
    "        return -Isec3 / Awlv * exp(-1im * 2pi/3);\n",
    "    else\n",
    "        return 0.0 + 0.0im;\n",
    "    end\n",
    "end\n",
    "\n",
    "J0    = fsource ∘ τ; # Source current density\n",
    "Jeddy = 1im ⋅ omega ⋅ (fsigma ∘ τ) ⋅ mean(uh); # Eddy current density"
   ]
  },
  {
   "cell_type": "code",
   "execution_count": 15,
   "id": "7a43c621",
   "metadata": {},
   "outputs": [
    {
     "data": {
      "text/plain": [
       "([\"images/transformer_gridap/transformer6.vtu\"],)"
      ]
     },
     "execution_count": 15,
     "metadata": {},
     "output_type": "execute_result"
    }
   ],
   "source": [
    "writevtk(Th, \"images/transformer_gridap/transformer6\", cellfields=[\"Az\"=>abs(uh), \"normB\" => Bh, \"normJ\" => abs(J0 + Jeddy), \"mur\" => mu_r])"
   ]
  },
  {
   "cell_type": "markdown",
   "id": "20ff46eb",
   "metadata": {},
   "source": [
    "![Flux Density](images/transformer_gridap/transformer6.png)"
   ]
  },
  {
   "cell_type": "markdown",
   "id": "30b09bb5",
   "metadata": {},
   "source": [
    "![Relative Permeability](images/transformer_gridap/transformer6_mu.png)"
   ]
  }
 ],
 "metadata": {
  "kernelspec": {
   "display_name": "Julia 1.8.1",
   "language": "julia",
   "name": "julia-1.8"
  },
  "language_info": {
   "file_extension": ".jl",
   "mimetype": "application/julia",
   "name": "julia",
   "version": "1.8.1"
  }
 },
 "nbformat": 4,
 "nbformat_minor": 5
}
