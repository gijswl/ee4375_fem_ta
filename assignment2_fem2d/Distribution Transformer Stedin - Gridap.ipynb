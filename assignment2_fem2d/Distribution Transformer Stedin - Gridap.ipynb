{
 "cells": [
  {
   "cell_type": "code",
   "execution_count": null,
   "id": "applicable-verse",
   "metadata": {},
   "outputs": [],
   "source": [
    "using Gridap\n",
    "using Gridap.Fields\n",
    "using Gridap.Geometry\n",
    "using GridapGmsh\n",
    "\n",
    "using ForwardDiff"
   ]
  },
  {
   "cell_type": "markdown",
   "id": "clean-polls",
   "metadata": {},
   "source": [
    "# Geometry"
   ]
  },
  {
   "cell_type": "code",
   "execution_count": null,
   "id": "needed-baltimore",
   "metadata": {},
   "outputs": [],
   "source": [
    "# Enclosure dimensions (enclosure is not centered, the core is)\n",
    "hencl1 = 65.5e-2;   # Height above the x-axis\n",
    "hencl2 = -53.5e-2;  # Height below the x-axis\n",
    "wencl  = 104e-2;    # Width\n",
    "\n",
    "# Core dimensions\n",
    "wcore = 84e-2;\n",
    "hcore = 100e-2;\n",
    "\n",
    "# Core gap dimensions (left and right are identical)\n",
    "wgap = 17e-2;\n",
    "hgap = 76e-2;\n",
    "mgap = 17e-2;\n",
    "\n",
    "# HV winding dimensions (all phases left/right are identical)\n",
    "wwhv = 3e-2;\n",
    "hwhv = 74e-2;\n",
    "mwhv = 14.75e-2;\n",
    "Awhv = wwhv * hwhv;\n",
    "\n",
    "# LV winding dimensions (all phases left/right are identical)\n",
    "wwlv = 2e-2;\n",
    "hwlv = 74e-2;\n",
    "mwlv = 11.25e-2;\n",
    "Awlv = wwlv * hwlv;\n",
    "\n",
    "# Mesh densities\n",
    "lc1 = 2e-2;      # Enclosure & core outer\n",
    "lc2 = 1e-2;      # Core inner\n",
    "lc3 = 1e-2;      # HV windings\n",
    "lc4 = 1e-2;      # LV windings"
   ]
  },
  {
   "cell_type": "markdown",
   "id": "hired-seeker",
   "metadata": {},
   "source": [
    "# Gridap Setup"
   ]
  },
  {
   "cell_type": "code",
   "execution_count": null,
   "id": "irish-georgia",
   "metadata": {},
   "outputs": [],
   "source": [
    "# Define norm of a complex vector for Gridap to use on the CellField which results from Bh = ∇(uh)\n",
    "norm_complex(a::VectorValue{2, ComplexF64}) = sqrt(norm(a[1])^2 + norm(a[2])^2)\n",
    "norm_complex(a::CellField) = Operation(norm_complex)(a)"
   ]
  },
  {
   "cell_type": "markdown",
   "id": "hazardous-footage",
   "metadata": {},
   "source": [
    "# Linear BH Curve"
   ]
  },
  {
   "cell_type": "code",
   "execution_count": null,
   "id": "respiratory-hearts",
   "metadata": {},
   "outputs": [],
   "source": [
    "# Load mesh\n",
    "model = GmshDiscreteModel(\"geo/transformer_stedin.msh\")\n",
    "Ω = Triangulation(model)\n",
    "\n",
    "# Define Lagrangian reference element\n",
    "order = 2;\n",
    "reffe = ReferenceFE(lagrangian, Float64, order)\n",
    "dΩ = Measure(Ω, 2*order)\n",
    "\n",
    "# Construct Lagrangian test space with dirichlet condition on the right boundary node\n",
    "V = TestFESpace(model, reffe, conformity = :H1, dirichlet_tags = [\"Enclosure\"], vector_type = Vector{ComplexF64})\n",
    "U = TrialFESpace(V, [0])"
   ]
  },
  {
   "cell_type": "code",
   "execution_count": null,
   "id": "brave-pendant",
   "metadata": {},
   "outputs": [],
   "source": [
    "Ip = 0;       # Primary peak phase current\n",
    "Is = 777.62;  # Secondary peak phase current\n",
    "Np = 266;\n",
    "Ns = 6;\n",
    "\n",
    "omega = 2*pi*50;  # Frequency\n",
    "\n",
    "mu0 = 4e-7 * pi;\n",
    "\n",
    "# Calculate current density in the windings\n",
    "Jp = Np * Ip / Awhv;\n",
    "Js = Ns * Is / Awlv;"
   ]
  },
  {
   "cell_type": "code",
   "execution_count": null,
   "id": "deadly-mercy",
   "metadata": {},
   "outputs": [],
   "source": [
    "labels = get_face_labeling(model)\n",
    "dimension = num_cell_dims(model)\n",
    "tags = get_face_tag(labels, dimension)\n",
    "\n",
    "# Construct a cell field consisting of the physical domain tags\n",
    "τ = CellField(tags, Ω)\n",
    "\n",
    "const tag_core = get_tag_from_name(labels, \"Core\");\n",
    "\n",
    "const tag_lv1l = 10; const tag_lv1r = 11;\n",
    "const tag_lv2l = 12; const tag_lv2r = 13;\n",
    "const tag_lv3l = 14; const tag_lv3r = 15;\n",
    "\n",
    "# Source current density\n",
    "function fsource(tag)\n",
    "    if tag == tag_lv1l        # LV winding phase 1 left\n",
    "        return Js * exp(1im * 2pi/3);\n",
    "    elseif tag == tag_lv1r    # LV winding phase 1 right\n",
    "        return -Js * exp(1im * 2pi/3);\n",
    "    elseif tag == tag_lv2l    # LV winding phase 2 left\n",
    "        return Js;\n",
    "    elseif tag == tag_lv2r    # LV winding phase 2 right\n",
    "        return -Js;\n",
    "    elseif tag == tag_lv3l    # LV winding phase 3 left\n",
    "        return Js * exp(-1im * 2pi/3);\n",
    "    elseif tag == tag_lv3r    # LV winding phase 3 right\n",
    "        return -Js * exp(-1im * 2pi/3);\n",
    "    else\n",
    "        return 0.0 + 0.0im;\n",
    "    end\n",
    "end\n",
    "\n",
    "# Permeability model\n",
    "function fmur(tag)\n",
    "    if tag == tag_core\n",
    "        return 1000.0;\n",
    "    else\n",
    "        return 1.0;\n",
    "    end\n",
    "end\n",
    "\n",
    "function fnu(tag)\n",
    "    return 1 / (mu0 * fmur(tag));\n",
    "end\n",
    "\n",
    "# Conductivity\n",
    "function fsigma(tag)\n",
    "    if tag == tag_core\n",
    "        return 0.1;\n",
    "    else\n",
    "        return 0.0;\n",
    "    end\n",
    "end"
   ]
  },
  {
   "cell_type": "code",
   "execution_count": null,
   "id": "urban-glenn",
   "metadata": {},
   "outputs": [],
   "source": [
    "# Define the weak form (bilinear and linear terms)\n",
    "a(u,v) = ∫( (fnu ∘ τ) ⋅ ∇(u) ⋅ ∇(v) )dΩ + ∫( 1im ⋅ omega ⋅ (fsigma ∘ τ) ⋅ u ⋅ v )dΩ\n",
    "b(v)   = ∫( (fsource ∘ τ) ⋅ v )dΩ;\n",
    "op = AffineFEOperator(a, b, U, V)\n",
    "\n",
    "# Solve the linear FE system with LU solver\n",
    "ls = LUSolver()\n",
    "solver = LinearFESolver(ls)\n",
    "uh = solve(solver, op);"
   ]
  },
  {
   "cell_type": "code",
   "execution_count": null,
   "id": "checked-sixth",
   "metadata": {},
   "outputs": [],
   "source": [
    "# Post-processing for magnetic field and current density\n",
    "Bh = norm_complex(gradient(uh));\n",
    "\n",
    "J0    = (fsource ∘ τ); # Source current density\n",
    "Jeddy = 1im ⋅ omega ⋅ (fsigma ∘ τ) ⋅ mean(uh); # Eddy current density"
   ]
  },
  {
   "cell_type": "code",
   "execution_count": null,
   "id": "focused-theta",
   "metadata": {},
   "outputs": [],
   "source": [
    "writevtk(Ω, \"images/transformer_gridap/transformer1\", cellfields=[\"Az\"=>abs(uh), \"imAz\"=>imag(uh), \"normB\" => Bh, \"normJ\" => abs(J0 + Jeddy)])"
   ]
  },
  {
   "cell_type": "markdown",
   "id": "hispanic-football",
   "metadata": {},
   "source": [
    "![Result: Magnetic Flux Density](images/transformer_gridap/transformer1.png)"
   ]
  },
  {
   "cell_type": "markdown",
   "id": "mobile-amount",
   "metadata": {},
   "source": [
    "# Non-linear BH Curve"
   ]
  },
  {
   "cell_type": "code",
   "execution_count": null,
   "id": "plain-pharmacy",
   "metadata": {},
   "outputs": [],
   "source": [
    "# Load mesh\n",
    "model = GmshDiscreteModel(\"geo/transformer_stedin.msh\")\n",
    "#model = GmshDiscreteModel(\"geo/transformer_stedin_hybrid.msh\")    # This works if GridapGmsh is modified to allow multiple element types per dimension\n",
    "Ω = Triangulation(model)\n",
    "\n",
    "# Define Lagrangian reference element\n",
    "order = 2;\n",
    "reffe = ReferenceFE(lagrangian, Float64, order)\n",
    "dΩ = Measure(Ω, 2*order)\n",
    "\n",
    "# Construct Lagrangian test space with dirichlet condition on the right boundary node\n",
    "V = TestFESpace(model, reffe, conformity = :H1, dirichlet_tags = [\"Enclosure\"], vector_type = Vector{ComplexF64})\n",
    "U = TrialFESpace(V, [0])"
   ]
  },
  {
   "cell_type": "code",
   "execution_count": null,
   "id": "invisible-packet",
   "metadata": {},
   "outputs": [],
   "source": [
    "Ip = 0;       # Primary peak phase current\n",
    "Is = 777.62;  # Secondary peak phase current\n",
    "Np = 266;\n",
    "Ns = 6;\n",
    "\n",
    "omega = 2*pi*50;  # Frequency\n",
    "\n",
    "mu0 = 4e-7 * pi;\n",
    "\n",
    "# Calculate current density in the windings\n",
    "Jp = Np * Ip / Awhv;\n",
    "Js = Ns * Is / Awlv;"
   ]
  },
  {
   "cell_type": "code",
   "execution_count": null,
   "id": "comprehensive-balance",
   "metadata": {},
   "outputs": [],
   "source": [
    "labels = get_face_labeling(model)\n",
    "dimension = num_cell_dims(model)\n",
    "tags = get_face_tag(labels, dimension)\n",
    "\n",
    "# Construct a cell field consisting of the physical domain tags\n",
    "τ = CellField(tags, Ω)\n",
    "\n",
    "const tag_core = get_tag_from_name(labels, \"Core\");\n",
    "\n",
    "const tag_lv1l = 10; const tag_lv1r = 11;\n",
    "const tag_lv2l = 12; const tag_lv2r = 13;\n",
    "const tag_lv3l = 14; const tag_lv3r = 15;\n",
    "\n",
    "# Source current density\n",
    "function fsource(tag)\n",
    "    if tag == tag_lv1l        # LV winding phase 1 left\n",
    "        return Js * exp(1im * 2pi/3);\n",
    "    elseif tag == tag_lv1r    # LV winding phase 1 right\n",
    "        return -Js * exp(1im * 2pi/3);\n",
    "    elseif tag == tag_lv2l    # LV winding phase 2 left\n",
    "        return Js;\n",
    "    elseif tag == tag_lv2r    # LV winding phase 2 right\n",
    "        return -Js;\n",
    "    elseif tag == tag_lv3l    # LV winding phase 3 left\n",
    "        return Js * exp(-1im * 2pi/3);\n",
    "    elseif tag == tag_lv3r    # LV winding phase 3 right\n",
    "        return -Js * exp(-1im * 2pi/3);\n",
    "    else\n",
    "        return 0.0 + 0.0im;\n",
    "    end\n",
    "end\n",
    "\n",
    "# Permeability model\n",
    "bh_a = 2.12e-4; \n",
    "bh_b = 7.358;\n",
    "bh_c = 1.18e7;\n",
    "mu0  = 4e-7 * pi;\n",
    "fmur_core(B) = 1 / (bh_a + (1 - bh_a) * B^(2*bh_b) / (B^(2*bh_b) + bh_c));\n",
    "fdmur_core(B) = ForwardDiff.derivative(fmur_core, B);\n",
    "\n",
    "function fmur(tag, ∇u)\n",
    "    if tag == tag_core\n",
    "        normB = norm_complex(∇u);\n",
    "        return fmur_core(normB);\n",
    "    else\n",
    "        return 1.0;\n",
    "    end\n",
    "end\n",
    "\n",
    "function fdmur(tag, ∇du, ∇u)\n",
    "    if tag == tag_core\n",
    "        normB = norm_complex(∇u);\n",
    "        return fdmur_core(normB) ⋅ (∇du ⊙ ∇u);\n",
    "    else\n",
    "        return 0.0 + 0.0im;\n",
    "    end\n",
    "end\n",
    "\n",
    "function fnu(tag, ∇u)\n",
    "    return 1 / (mu0 * fmur(tag, ∇u));\n",
    "end\n",
    "\n",
    "function fdnu(tag, ∇du, ∇u)\n",
    "    return -1 / (mu0 * fmur(tag, ∇u)^2) * fdmur(tag, ∇du, ∇u);\n",
    "end\n",
    "\n",
    "# Conductivity\n",
    "function fsigma(tag)\n",
    "    if tag == tag_core\n",
    "        return 1.0;\n",
    "    else\n",
    "        return 0.0;\n",
    "    end\n",
    "end"
   ]
  },
  {
   "cell_type": "code",
   "execution_count": null,
   "id": "signed-toner",
   "metadata": {
    "scrolled": false
   },
   "outputs": [],
   "source": [
    "# Define the weak form (bilinear and linear terms)\n",
    "res(u,v) = ∫( (fnu ∘ (τ, ∇(u))) ⋅ ∇(u) ⋅ ∇(v) )dΩ + ∫( 1im ⋅ omega ⋅ (fsigma ∘ τ) ⋅ u ⋅ v )dΩ - ∫( (fsource ∘ τ) ⋅ v )dΩ;\n",
    "jac(u, du, v) = ∫( (fdnu ∘ (τ, ∇(du), ∇(u))) ⋅ ∇(u) ⋅ ∇(v) )dΩ + ∫( (fnu ∘ (τ, ∇(u))) ⋅ ∇(du) ⋅ ∇(v) )dΩ + ∫( 1im ⋅ omega ⋅ (fsigma ∘ τ) ⋅ du ⋅ v )dΩ;;\n",
    "op = FEOperator(res, jac, U, V)\n",
    "\n",
    "ls = BackslashSolver()\n",
    "nls = NLSolver(ls, method = :trust_region, show_trace = true)\n",
    "solver = FESolver(nls)\n",
    "\n",
    "x   = zeros(Complex{Float64}, num_free_dofs(U))\n",
    "uh0 = FEFunction(U, x)\n",
    "uh, = solve!(uh0, solver, op)"
   ]
  },
  {
   "cell_type": "code",
   "execution_count": null,
   "id": "animated-complaint",
   "metadata": {},
   "outputs": [],
   "source": [
    "# Post-processing for magnetic field and current density\n",
    "Bh = norm_complex(∇(uh)); # Magnetic flux density\n",
    "mu_r = fmur ∘ (τ, ∇(uh)); # Relative permeability\n",
    "\n",
    "J0    = fsource ∘ τ; # Source current density\n",
    "Jeddy = 1im ⋅ omega ⋅ (fsigma ∘ τ) ⋅ mean(uh); # Eddy current density"
   ]
  },
  {
   "cell_type": "code",
   "execution_count": null,
   "id": "grateful-royalty",
   "metadata": {},
   "outputs": [],
   "source": [
    "writevtk(Ω, \"images/transformer_gridap/transformer2\", cellfields=[\"Az\"=>abs(uh), \"imAz\"=>imag(uh), \"normB\" => Bh, \"normJ\" => abs(J0 + Jeddy), \"mur\" => mu_r])"
   ]
  },
  {
   "cell_type": "markdown",
   "id": "turkish-furniture",
   "metadata": {},
   "source": [
    "![Result: Magnetic Flux Density](images/transformer_gridap/transformer2.png)"
   ]
  },
  {
   "cell_type": "markdown",
   "id": "426909a1",
   "metadata": {},
   "source": [
    "![Result: Relative Permeability](images/transformer_gridap/transformer2_mu.png)"
   ]
  },
  {
   "cell_type": "markdown",
   "id": "f31aa023",
   "metadata": {},
   "source": [
    "# Using Hybrid Meshes in Gridap\n",
    "At the moment, ``GridapGmsh`` does not allow meshes with more than one element type per dimension (such as hybrid triangle-quad meshes). However, all of the functionality to allow (simple) hybrid meshes is present. I will try to submit a pull request or open an issue to extend this functionality. We only require changes to internal function ``_setup_reffes``."
   ]
  },
  {
   "cell_type": "code",
   "execution_count": null,
   "id": "c743df01",
   "metadata": {},
   "outputs": [],
   "source": [
    "function _setup_reffes(gmsh,d,orient_if_simplex)\n",
    "    elemTypes, elemTags, nodeTags = gmsh.model.mesh.getElements(d)\n",
    "\n",
    "    ncells, nmin, nmax = _check_cell_tags(elemTags)\n",
    "    cell_to_type = fill(Int8(0), ncells)\n",
    "    for (i, etype) in enumerate(elemTypes)\n",
    "        cell_to_type[elemTags[i] .- nmin .+ 1] .= i   # Correctly fill the cell_to_type array, instead of filling '1'\n",
    "    end\n",
    "\n",
    "    # TODO implement this check for hybrid meshes\n",
    "    #etype::Int = first(elemTypes)\n",
    "    #name, dim, order::Int, numv, parv = gmsh.model.mesh.getElementProperties(etype)\n",
    "\n",
    "    #if order == 0 && etype == POINT\n",
    "    #    order = 1\n",
    "    #end\n",
    "\n",
    "    #if order != 1\n",
    "    #    gmsh.finalize()\n",
    "    #    error(\"For the moment only for first-order elements\")\n",
    "    #end\n",
    "\n",
    "    \n",
    "    reffes = [_reffe_from_etype(etype) for etype in elemTypes];\n",
    "\n",
    "    # How to implement this check for hybrid meshes... This could get tricky if some parts are oriented, and others are not?\n",
    "    #boo = is_simplex(get_polytope(reffe)) && orient_if_simplex\n",
    "    boo = false;\n",
    "\n",
    "    orientation = boo ? Oriented() : NonOriented()\n",
    "\n",
    "    (cell_to_type, reffes, orientation)\n",
    "end"
   ]
  },
  {
   "cell_type": "markdown",
   "id": "42a5f5a5",
   "metadata": {},
   "source": [
    "![Result: Magnetic Flux Density](images/transformer_gridap/transformer4.png)"
   ]
  }
 ],
 "metadata": {
  "kernelspec": {
   "display_name": "Julia 1.8.1",
   "language": "julia",
   "name": "julia-1.8"
  },
  "language_info": {
   "file_extension": ".jl",
   "mimetype": "application/julia",
   "name": "julia",
   "version": "1.8.1"
  }
 },
 "nbformat": 4,
 "nbformat_minor": 5
}
