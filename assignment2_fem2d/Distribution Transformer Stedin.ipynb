{
 "cells": [
  {
   "cell_type": "markdown",
   "id": "suspended-nursery",
   "metadata": {},
   "source": [
    "# Stedin Distribution Transformer"
   ]
  },
  {
   "cell_type": "code",
   "execution_count": 1,
   "id": "offshore-digest",
   "metadata": {},
   "outputs": [],
   "source": [
    "using gmsh\n",
    "\n",
    "using LinearAlgebra, SparseArrays\n",
    "using WriteVTK\n",
    "\n",
    "using BenchmarkTools"
   ]
  },
  {
   "cell_type": "markdown",
   "id": "adverse-accent",
   "metadata": {},
   "source": [
    "# Geometry Definition\n",
    "See exercise on Gmsh."
   ]
  },
  {
   "cell_type": "code",
   "execution_count": 2,
   "id": "entire-builder",
   "metadata": {},
   "outputs": [],
   "source": [
    "# Enclosure dimensions (enclosure is not centered, the core is)\n",
    "hencl1 = 65.5e-2;   # Height above the x-axis\n",
    "hencl2 = -53.5e-2;  # Height below the y-axis\n",
    "wencl  = 104e-2;    # Width\n",
    "\n",
    "# Core dimensions\n",
    "wcore = 84e-2;\n",
    "hcore = 100e-2;\n",
    "\n",
    "# Core gap dimensions (left and right are identical)\n",
    "wgap = 17e-2;\n",
    "hgap = 76e-2;\n",
    "mgap = 17e-2;\n",
    "\n",
    "# HV winding dimensions (all phases left/right are identical)\n",
    "wwhv = 3e-2;\n",
    "hwhv = 74e-2;\n",
    "mwhv = 14.75e-2;\n",
    "Awhv = wwhv * hwhv;\n",
    "\n",
    "# LV winding dimensions (all phases left/right are identical)\n",
    "wwlv = 2e-2;\n",
    "hwlv = 74e-2;\n",
    "mwlv = 11.25e-2;\n",
    "Awlv = wwlv * hwlv;"
   ]
  },
  {
   "cell_type": "markdown",
   "id": "gentle-belfast",
   "metadata": {},
   "source": [
    "# Load Geometry"
   ]
  },
  {
   "cell_type": "code",
   "execution_count": 3,
   "id": "approved-senegal",
   "metadata": {},
   "outputs": [],
   "source": [
    "gmsh.initialize()"
   ]
  },
  {
   "cell_type": "code",
   "execution_count": 4,
   "id": "imposed-grade",
   "metadata": {},
   "outputs": [
    {
     "data": {
      "text/plain": [
       "get_mesh_data (generic function with 1 method)"
      ]
     },
     "execution_count": 4,
     "metadata": {},
     "output_type": "execute_result"
    }
   ],
   "source": [
    "# mesh_data struct\n",
    "#  saves the nodes and elements of a gmsh geometry, for easy passing around in functions\n",
    "struct mesh_data\n",
    "    nnodes  # number of nodes\n",
    "    xnode   # array of x coordinates\n",
    "    ynode   # array of y coordinates\n",
    "    \n",
    "    nelements   # number of elements\n",
    "    element_connectivity  # array of connectivity for each element\n",
    "    e_group     # array containing the physical group number of each element\n",
    "    elements    # <new addition> more conveniently structured connectivity array\n",
    "end\n",
    "\n",
    "# Loads nodes, elements, and element physical groups from gmsh and stores them in a mesh_data struct\n",
    "function get_mesh_data()\n",
    "    #..2/11 Get and sort the mesh nodes\n",
    "    #..Observe that although the mesh is two-dimensional,\n",
    "    #..the z-coordinate that is equal to zero is stored as well.\n",
    "    #..Observe that the coordinates are stored contiguously for computational\n",
    "    #..efficiency\n",
    "    node_ids, node_coord, _ = gmsh.model.mesh.getNodes()\n",
    "    nnodes = length(node_ids)\n",
    "    #..sort the node coordinates by ID, such that Node one sits at row 1\n",
    "    tosort = [node_ids node_coord[1:3:end] node_coord[2:3:end]];\n",
    "    sorted = sortslices(tosort , dims = 1);\n",
    "    node_ids = sorted[:,1]\n",
    "    xnode = sorted[:,2]\n",
    "    ynode = sorted[:,3]\n",
    "    \n",
    "    #..4/12 Get the mesh elements\n",
    "    #..observe that we get all the two-dimensional triangular elements from the mesh\n",
    "    element_types, element_ids, element_connectivity = gmsh.model.mesh.getElements(2)\n",
    "    nelements = length(element_ids[1])\n",
    "\n",
    "    #..5/12 Create groups of elements for the subdomains\n",
    "    #..for loop that creates a vector describing which physical group an element belongs to\n",
    "    ngroup1 = gmsh.model.mesh.getNodesForPhysicalGroup(2, 1)\n",
    "    ngroup2 = gmsh.model.mesh.getNodesForPhysicalGroup(2, 2)\n",
    "    ngroup3 = gmsh.model.mesh.getNodesForPhysicalGroup(2, 3)\n",
    "    ngroup4 = gmsh.model.mesh.getNodesForPhysicalGroup(2, 4)\n",
    "    ngroup5 = gmsh.model.mesh.getNodesForPhysicalGroup(2, 5)\n",
    "    ngroup6 = gmsh.model.mesh.getNodesForPhysicalGroup(2, 6)\n",
    "    ngroup7 = gmsh.model.mesh.getNodesForPhysicalGroup(2, 7)\n",
    "    ngroup8 = gmsh.model.mesh.getNodesForPhysicalGroup(2, 8)\n",
    "    ngroup9 = gmsh.model.mesh.getNodesForPhysicalGroup(2, 9)\n",
    "    ngroup10 = gmsh.model.mesh.getNodesForPhysicalGroup(2, 10)\n",
    "    ngroup11 = gmsh.model.mesh.getNodesForPhysicalGroup(2, 11)\n",
    "    ngroup12 = gmsh.model.mesh.getNodesForPhysicalGroup(2, 12)\n",
    "    ngroup13 = gmsh.model.mesh.getNodesForPhysicalGroup(2, 13)\n",
    "    ngroup14 = gmsh.model.mesh.getNodesForPhysicalGroup(2, 14)\n",
    "    ngroup15 = gmsh.model.mesh.getNodesForPhysicalGroup(2, 15)\n",
    "    ngroup16 = gmsh.model.mesh.getNodesForPhysicalGroup(2, 16)\n",
    "    e_group = zeros(1,nelements)\n",
    "    \n",
    "    for element_id in 1:nelements\n",
    "        node1_id = element_connectivity[1][3*(element_id-1)+1]\n",
    "        node2_id = element_connectivity[1][3*(element_id-1)+2]\n",
    "        node3_id = element_connectivity[1][3*(element_id-1)+3]\n",
    "        G1  = sum(node1_id.== ngroup1[1])+sum(node2_id.== ngroup1[1])+sum(node3_id.== ngroup1[1]) # Oil\n",
    "        G2  = sum(node1_id.== ngroup2[1])+sum(node2_id.== ngroup2[1])+sum(node3_id.== ngroup2[1]) # Core\n",
    "        G3  = sum(node1_id.== ngroup3[1])+sum(node2_id.== ngroup3[1])+sum(node3_id.== ngroup3[1]) # HV winding phase 1 left\n",
    "        G4  = sum(node1_id.== ngroup4[1])+sum(node2_id.== ngroup4[1])+sum(node3_id.== ngroup4[1]) # HV winding phase 1 right\n",
    "        G5  = sum(node1_id.== ngroup5[1])+sum(node2_id.== ngroup5[1])+sum(node3_id.== ngroup5[1]) # HV winding phase 2 left\n",
    "        G6  = sum(node1_id.== ngroup6[1])+sum(node2_id.== ngroup6[1])+sum(node3_id.== ngroup6[1]) # HV winding phase 2 right\n",
    "        G7  = sum(node1_id.== ngroup7[1])+sum(node2_id.== ngroup7[1])+sum(node3_id.== ngroup7[1]) # HV winding phase 3 left\n",
    "        G8  = sum(node1_id.== ngroup8[1])+sum(node2_id.== ngroup8[1])+sum(node3_id.== ngroup8[1]) # HV winding phase 3 right\n",
    "        G9  = sum(node1_id.== ngroup9[1])+sum(node2_id.== ngroup9[1])+sum(node3_id.== ngroup9[1]) # LV winding phase 1 left\n",
    "        G10 = sum(node1_id.== ngroup10[1])+sum(node2_id.== ngroup10[1])+sum(node3_id.== ngroup10[1]) # LV winding phase 1 right\n",
    "        G11 = sum(node1_id.== ngroup11[1])+sum(node2_id.== ngroup11[1])+sum(node3_id.== ngroup11[1]) # LV winding phase 2 left\n",
    "        G12 = sum(node1_id.== ngroup12[1])+sum(node2_id.== ngroup12[1])+sum(node3_id.== ngroup12[1]) # LV winding phase 2 right\n",
    "        G13 = sum(node1_id.== ngroup13[1])+sum(node2_id.== ngroup13[1])+sum(node3_id.== ngroup13[1]) # LV winding phase 3 left\n",
    "        G14 = sum(node1_id.== ngroup14[1])+sum(node2_id.== ngroup14[1])+sum(node3_id.== ngroup14[1]) # LV winding phase 3 right\n",
    "        \n",
    "        if G1 == 3\n",
    "            e_group[element_id] = 1;\n",
    "        elseif G2 == 3\n",
    "            e_group[element_id] = 2;\n",
    "        elseif G3 == 3\n",
    "            e_group[element_id] = 3;\n",
    "        elseif G4 == 3\n",
    "            e_group[element_id] = 4;\n",
    "        elseif G5 == 3\n",
    "            e_group[element_id] = 5;\n",
    "        elseif G6 == 3\n",
    "            e_group[element_id] = 6;\n",
    "        elseif G7 == 3\n",
    "            e_group[element_id] = 7;\n",
    "        elseif G8 == 3\n",
    "            e_group[element_id] = 8;\n",
    "        elseif G9 == 3\n",
    "            e_group[element_id] = 9;\n",
    "        elseif G10 == 3\n",
    "            e_group[element_id] = 10;\n",
    "        elseif G11 == 3\n",
    "            e_group[element_id] = 11;\n",
    "        elseif G12 == 3\n",
    "            e_group[element_id] = 12;\n",
    "        elseif G13 == 3\n",
    "            e_group[element_id] = 13;\n",
    "        elseif G14 == 3\n",
    "            e_group[element_id] = 14;\n",
    "        end\n",
    "    end\n",
    "    \n",
    "    elids = 1:nelements;\n",
    "    els = [zeros(Int, 3) for i in elids];\n",
    "    econn = element_connectivity;\n",
    "    for eid in elids\n",
    "        els[eid] = [econn[1][3*(eid-1)+1], econn[1][3*(eid-1)+2], econn[1][3*(eid-1)+3]]\n",
    "    end\n",
    "    \n",
    "    return mesh_data(nnodes, xnode, ynode, nelements, element_connectivity, e_group, els)\n",
    "end"
   ]
  },
  {
   "cell_type": "code",
   "execution_count": 5,
   "id": "indian-metro",
   "metadata": {},
   "outputs": [
    {
     "data": {
      "text/plain": [
       "fem2d (generic function with 1 method)"
      ]
     },
     "execution_count": 5,
     "metadata": {},
     "output_type": "execute_result"
    }
   ],
   "source": [
    "function fem2d(mshdata, sourceperelement, reluctivityperelement, conductivityperelement, omega)\n",
    "    A = spzeros(Complex{Float64}, mshdata.nnodes, mshdata.nnodes)\n",
    "    f = zeros(Complex{Float64}, mshdata.nnodes, 1)\n",
    "\n",
    "    element_connectivity = mshdata.element_connectivity;\n",
    "    xnode = mshdata.xnode;\n",
    "    ynode = mshdata.ynode;\n",
    "    \n",
    "    #..8/12 Perform a loop over the elements\n",
    "    for element_id in 1:mshdata.nelements\n",
    "        #....retrieve global numbering of the local nodes of the current element\n",
    "        node1_id = element_connectivity[1][3*(element_id-1)+1]\n",
    "        node2_id = element_connectivity[1][3*(element_id-1)+2]\n",
    "        node3_id = element_connectivity[1][3*(element_id-1)+3]\n",
    "\n",
    "        #....retrieve the x and y coordinates of the local nodes of the current element\n",
    "        xnode1 = xnode[node1_id]; xnode2 = xnode[node2_id]; xnode3 = xnode[node3_id];\n",
    "        ynode1 = ynode[node1_id]; ynode2 = ynode[node2_id]; ynode3 = ynode[node3_id];\n",
    "\n",
    "        #....compute surface area of the current element\n",
    "        x12 = xnode2 - xnode1; x13 = xnode3-xnode1;\n",
    "        y12 = ynode2 - ynode1; y13 = ynode3-ynode1;\n",
    "        area_id = x12*y13 - x13*y12; area_id = abs(area_id)/2\n",
    "\n",
    "        #....compute local vector contribution floc of the current element\n",
    "        floc = area_id/3*sourceperelement[element_id]*[1; 1; 1]\n",
    "\n",
    "        #....compute local matrix contribution Aloc of the current element\n",
    "        Emat = [[xnode1;xnode2;xnode3] [ynode1;ynode2;ynode3] [1;1;1]] \\ UniformScaling(1.);\n",
    "        Emat[3,:] .= 0;\n",
    "        Bloc = area_id*reluctivityperelement[element_id]*(transpose(Emat)*Emat);\n",
    "        Cloc = 1im * area_id / 3 * conductivityperelement[element_id] * omega * Diagonal(ones(3));\n",
    "\n",
    "        #....add local contribution to f and A\n",
    "        I      = element_connectivity[1][3 * (element_id - 1) .+ (1:3)];\n",
    "        f[I]   += floc;\n",
    "        A[I,I] += (Bloc + Cloc);\n",
    "    end\n",
    "\n",
    "    #..9/12 Handle the boundary conditions\n",
    "    bnd_node_ids, _ = gmsh.model.mesh.getNodesForPhysicalGroup(1, 1);\n",
    "    A[bnd_node_ids,:] .= 0;\n",
    "    A[bnd_node_ids,bnd_node_ids] = Diagonal(ones(size(bnd_node_ids)))\n",
    "    f[bnd_node_ids] .= 0;\n",
    "    \n",
    "    #..10/12 Compute the numerical solution\n",
    "    u = A \\ f\n",
    "    \n",
    "    return u;\n",
    "end"
   ]
  },
  {
   "cell_type": "code",
   "execution_count": 6,
   "id": "wanted-variable",
   "metadata": {},
   "outputs": [
    {
     "data": {
      "text/plain": [
       "process (generic function with 1 method)"
      ]
     },
     "execution_count": 6,
     "metadata": {},
     "output_type": "execute_result"
    }
   ],
   "source": [
    "function process(mshdata, u, sourceperelement, reluctivityperelement, conductivityperelement, omega)\n",
    "    Bx = zeros(Complex{Float64}, mshdata.nelements);\n",
    "    By = zeros(Complex{Float64}, mshdata.nelements);\n",
    "    \n",
    "    Jel = zeros(mshdata.nelements);\n",
    "    \n",
    "    for element_id in 1:mshdata.nelements\n",
    "        # Get nodes consituting the element\n",
    "        node1_id = mshdata.element_connectivity[1][3*(element_id-1)+1]\n",
    "        node2_id = mshdata.element_connectivity[1][3*(element_id-1)+2]\n",
    "        node3_id = mshdata.element_connectivity[1][3*(element_id-1)+3]\n",
    "        \n",
    "        # Get x and y coordinates of the three nodes\n",
    "        xnode = mshdata.xnode; ynode = mshdata.ynode;\n",
    "        xnode1 = xnode[node1_id]; xnode2 = xnode[node2_id]; xnode3 = xnode[node3_id];\n",
    "        ynode1 = ynode[node1_id]; ynode2 = ynode[node2_id]; ynode3 = ynode[node3_id];\n",
    "\n",
    "        # Compute surface area of the current element\n",
    "        x12 = xnode2 - xnode1; x13 = xnode3-xnode1;\n",
    "        y12 = ynode2 - ynode1; y13 = ynode3-ynode1;\n",
    "        area_id = x12*y13 - x13*y12; area_id = abs(area_id)/2\n",
    "\n",
    "        # Calculate shape function parameters\n",
    "        Emat = [[xnode1;xnode2;xnode3] [ynode1;ynode2;ynode3] [1;1;1]] \\ UniformScaling(1.);\n",
    "    \n",
    "        # Calculate Bx and By from the solution coefficients and the shape function parameters\n",
    "        c = u[[node1_id, node2_id, node3_id]];\n",
    "        Bx[element_id] = sum(c .* Emat[2,:]);\n",
    "        By[element_id] = -sum(c .* Emat[1,:]);\n",
    "        \n",
    "        # Calculate eddy current loss\n",
    "        sigma = conductivityperelement[element_id];\n",
    "        Jel[element_id] = norm(sourceperelement[element_id] + omega * sigma * 1/3 * sum(c));\n",
    "    end\n",
    "    \n",
    "    # H is related to B through the reluctivity\n",
    "    Hx = reluctivityperelement' .* Bx;\n",
    "    Hy = reluctivityperelement' .* By;\n",
    "    \n",
    "    # Energy is 0.5 * dot(B, H)\n",
    "    Wm = 0.5 * (Bx .* Hx .+ By .* Hy);\n",
    "    \n",
    "    return (Bx,By), (Hx, Hy), Wm, Jel;\n",
    "end"
   ]
  },
  {
   "cell_type": "markdown",
   "id": "forced-netherlands",
   "metadata": {},
   "source": [
    "# Linear FEM without Eddy Currents"
   ]
  },
  {
   "cell_type": "code",
   "execution_count": 7,
   "id": "soviet-economics",
   "metadata": {},
   "outputs": [
    {
     "name": "stdout",
     "output_type": "stream",
     "text": [
      "Info    : Reading 'geo/transformer_stedin.msh'...\n",
      "Info    : 168 entities\n",
      "Info    : 8004 nodes\n",
      "Info    : 16006 elements\n",
      "Info    : Done reading 'geo/transformer_stedin.msh'\n"
     ]
    }
   ],
   "source": [
    "gmsh.open(\"geo/transformer_stedin.msh\")\n",
    "mshdata = get_mesh_data();"
   ]
  },
  {
   "cell_type": "code",
   "execution_count": 8,
   "id": "agreed-holiday",
   "metadata": {},
   "outputs": [],
   "source": [
    "Ip = 0*17.54;       # Primary peak phase current\n",
    "Is = 777.62;      # Secondary peak phase current\n",
    "Np = 266;\n",
    "Ns = 6;\n",
    "omega = 2*pi*50;\n",
    "\n",
    "Jp = Np * Ip / Awhv;\n",
    "Js = Ns * Is / Awlv;\n",
    "\n",
    "sourcefunction(group_id) = Jp * (-1 * (group_id==3) + 1 * (group_id==4)) + Jp * exp(1im * 2pi/3) * (-1 * (group_id==5) + 1 * (group_id==6)) + Jp * exp(-1im * 2pi/3) * (-1 * (group_id==7) + 1 * (group_id==8)) + Js * (1 * (group_id==9) - 1 * (group_id==10)) + Js * exp(1im * 2pi/3) * (1 * (group_id==11) - 1 * (group_id==12)) + Js * exp(-1im * 2pi/3) * (1 * (group_id==13) - 1 * (group_id==14))\n",
    "sourceperelement = map(sourcefunction, mshdata.e_group);\n",
    "\n",
    "mu0 = 4e-7 * pi;\n",
    "mur = 1000;       # Relative permeability of the core\n",
    "reluctivityfunction(group_id) = (1 / mu0) + (1/(mu0*mur) - 1/mu0) * (group_id == 2)\n",
    "reluctivityperelement = map(reluctivityfunction, mshdata.e_group);\n",
    "\n",
    "conductivityfunction(group_id) = 0;\n",
    "conductivityperelement = map(conductivityfunction, mshdata.e_group);"
   ]
  },
  {
   "cell_type": "code",
   "execution_count": 9,
   "id": "least-hammer",
   "metadata": {},
   "outputs": [],
   "source": [
    "u = fem2d(mshdata, sourceperelement, reluctivityperelement, conductivityperelement, omega);\n",
    "B, H, Wm, Jel = process(mshdata, u, sourceperelement, reluctivityperelement, conductivityperelement, omega);\n",
    "Bnorm = norm.(sqrt.(B[1].^2 + B[2].^2));"
   ]
  },
  {
   "cell_type": "code",
   "execution_count": 10,
   "id": "nuclear-platform",
   "metadata": {},
   "outputs": [],
   "source": [
    "# Define nodes (points) and elements (cells)\n",
    "points = [mshdata.xnode mshdata.ynode]';\n",
    "cells = [MeshCell(VTKCellTypes.VTK_TRIANGLE, mshdata.element_connectivity[1][3*(i-1).+(1:3)]) for i = 1:mshdata.nelements];\n",
    "\n",
    "# Create VTK file structure using nodes and elements\n",
    "vtkfile = vtk_grid(\"images/transformer1.vtu\", points, cells);\n",
    "\n",
    "# Store data in the VTK file\n",
    "vtkfile[\"Az\", VTKPointData()]   = norm.(u);\n",
    "vtkfile[\"imA\", VTKPointData()]  = imag.(u);\n",
    "vtkfile[\"Bnorm\", VTKCellData()] = Bnorm;\n",
    "vtkfile[\"Jel\", VTKCellData()]   = Jel;\n",
    "\n",
    "# Save the file\n",
    "outfiles = vtk_save(vtkfile);"
   ]
  },
  {
   "cell_type": "markdown",
   "id": "solid-savannah",
   "metadata": {},
   "source": [
    "![Magnetic Field: Linear, No Eddy Currents](images/transformer1.png)"
   ]
  },
  {
   "cell_type": "markdown",
   "id": "still-procedure",
   "metadata": {},
   "source": [
    "# Linear FEM with Eddy Currents"
   ]
  },
  {
   "cell_type": "code",
   "execution_count": 11,
   "id": "pending-spring",
   "metadata": {},
   "outputs": [],
   "source": [
    "Ip = 0*17.54;       # Primary peak phase current\n",
    "Is = 777.62;      # Secondary peak phase current\n",
    "Np = 266;\n",
    "Ns = 6;\n",
    "omega = 2*pi*50;\n",
    "\n",
    "Jp = Np * Ip / Awhv;\n",
    "Js = Ns * Is / Awlv;\n",
    "\n",
    "sourcefunction(group_id) = Jp * (-1 * (group_id==3) + 1 * (group_id==4)) + Jp * exp(1im * 2pi/3) * (-1 * (group_id==5) + 1 * (group_id==6)) + Jp * exp(-1im * 2pi/3) * (-1 * (group_id==7) + 1 * (group_id==8)) + Js * (1 * (group_id==9) - 1 * (group_id==10)) + Js * exp(1im * 2pi/3) * (1 * (group_id==11) - 1 * (group_id==12)) + Js * exp(-1im * 2pi/3) * (1 * (group_id==13) - 1 * (group_id==14))\n",
    "sourceperelement = map(sourcefunction, mshdata.e_group);\n",
    "\n",
    "mu0 = 4e-7 * pi;\n",
    "mur = 1000;       # Relative permeability of the core\n",
    "reluctivityfunction(group_id) = (1 / mu0) + (1/(mu0*mur) - 1/mu0) * (group_id == 2)\n",
    "reluctivityperelement = map(reluctivityfunction, mshdata.e_group);\n",
    "\n",
    "sigma_core = 1000;\n",
    "conductivityfunction(group_id) = sigma_core * (group_id == 2);\n",
    "conductivityperelement = map(conductivityfunction, mshdata.e_group);"
   ]
  },
  {
   "cell_type": "code",
   "execution_count": 12,
   "id": "functional-movement",
   "metadata": {},
   "outputs": [],
   "source": [
    "u = fem2d(mshdata, sourceperelement, reluctivityperelement, conductivityperelement, omega);\n",
    "B, H, Wm, Jel = process(mshdata, u, sourceperelement, reluctivityperelement, conductivityperelement, omega);\n",
    "Bnorm = norm.(sqrt.(B[1].^2 + B[2].^2));"
   ]
  },
  {
   "cell_type": "code",
   "execution_count": 13,
   "id": "cardiovascular-establishment",
   "metadata": {},
   "outputs": [],
   "source": [
    "# Define nodes (points) and elements (cells)\n",
    "points = [mshdata.xnode mshdata.ynode]';\n",
    "cells = [MeshCell(VTKCellTypes.VTK_TRIANGLE, mshdata.element_connectivity[1][3*(i-1).+(1:3)]) for i = 1:mshdata.nelements];\n",
    "\n",
    "# Create VTK file structure using nodes and elements\n",
    "vtkfile = vtk_grid(\"images/transformer2.vtu\", points, cells);\n",
    "\n",
    "# Store data in the VTK file\n",
    "vtkfile[\"Az\", VTKPointData()]   = norm.(u);\n",
    "vtkfile[\"imA\", VTKPointData()]  = imag.(u);\n",
    "vtkfile[\"Bnorm\", VTKCellData()] = Bnorm;\n",
    "vtkfile[\"Jel\", VTKCellData()]   = Jel;\n",
    "\n",
    "# Save the file\n",
    "outfiles = vtk_save(vtkfile);"
   ]
  },
  {
   "cell_type": "markdown",
   "id": "spoken-window",
   "metadata": {},
   "source": [
    "![Magnetic Field: Linear, with Eddy Currents](images/transformer2.png)"
   ]
  },
  {
   "cell_type": "markdown",
   "id": "armed-switzerland",
   "metadata": {},
   "source": [
    "# Non-Linear FEM"
   ]
  },
  {
   "cell_type": "code",
   "execution_count": 14,
   "id": "complimentary-projector",
   "metadata": {},
   "outputs": [
    {
     "name": "stdout",
     "output_type": "stream",
     "text": [
      "Info    : Reading 'geo/transformer_stedin.msh'...\n",
      "Info    : 168 entities\n",
      "Info    : 8004 nodes\n",
      "Info    : 16006 elements\n",
      "Info    : Done reading 'geo/transformer_stedin.msh'\n"
     ]
    }
   ],
   "source": [
    "gmsh.open(\"geo/transformer_stedin.msh\")\n",
    "mshdata = get_mesh_data();"
   ]
  },
  {
   "cell_type": "code",
   "execution_count": 15,
   "id": "executive-korean",
   "metadata": {},
   "outputs": [],
   "source": [
    "Ip = 0*17.54;     # Primary peak phase current\n",
    "Is = 777.62;      # Secondary peak phase current\n",
    "Np = 266;\n",
    "Ns = 6;\n",
    "omega = 2*pi*50;\n",
    "\n",
    "Jp = Np * Ip / Awhv;\n",
    "Js = Ns * Is / Awlv;\n",
    "\n",
    "sourcefunction(group_id) = Jp * (-1 * (group_id==3) + 1 * (group_id==4)) + Jp * exp(1im * 2pi/3) * (-1 * (group_id==5) + 1 * (group_id==6)) + Jp * exp(-1im * 2pi/3) * (-1 * (group_id==7) + 1 * (group_id==8)) + Js * (1 * (group_id==9) - 1 * (group_id==10)) + Js * exp(1im * 2pi/3) * (1 * (group_id==11) - 1 * (group_id==12)) + Js * exp(-1im * 2pi/3) * (1 * (group_id==13) - 1 * (group_id==14))\n",
    "sourceperelement = map(sourcefunction, mshdata.e_group);\n",
    "\n",
    "# Permeability function\n",
    "bh_a = 2.12e-4; \n",
    "bh_b = 7.358;\n",
    "bh_c = 1.18e7;\n",
    "mu0  = 4e-7 * pi;\n",
    "fmur_core(B) = 1 / (bh_a + (1 - bh_a) * B^(2*bh_b) / (B^(2*bh_b) + bh_c));\n",
    "\n",
    "fmu(group_id, B) = mu0 + (fmur_core(B) - 1) * mu0 * (group_id == 2);\n",
    "reluctivityfunction(group_id, B) = 1 / fmu(group_id, B);\n",
    "\n",
    "sigma_core = 1000;\n",
    "conductivityfunction(group_id) = sigma_core * (group_id == 2);\n",
    "conductivityperelement = map(conductivityfunction, mshdata.e_group);"
   ]
  },
  {
   "cell_type": "code",
   "execution_count": 16,
   "id": "proper-philip",
   "metadata": {},
   "outputs": [
    {
     "data": {
      "text/plain": [
       "precalc_contribs (generic function with 1 method)"
      ]
     },
     "execution_count": 16,
     "metadata": {},
     "output_type": "execute_result"
    }
   ],
   "source": [
    "# Pre-calculate the matrix contributions that are constant in the non-linear problem\n",
    "function precalc_contribs(mshdata, sourceperelement, conductivityperelement, omega)\n",
    "    elids = 1:mshdata.nelements;\n",
    "    \n",
    "    Bmat = [zeros(9) for i in elids];\n",
    "    Cmat = [zeros(Complex{Float64}, 9) for i in elids];\n",
    "    Emat = [zeros(3,3) for i in elids];\n",
    "    \n",
    "    f = zeros(Complex{Float64}, mshdata.nnodes)\n",
    "    \n",
    "    xnode = mshdata.xnode;\n",
    "    ynode = mshdata.ynode;\n",
    "    \n",
    "    #..8/12 Perform a loop over the elements\n",
    "    for (element_id, nodes) in enumerate(mshdata.elements)\n",
    "        #....retrieve global numbering of the local nodes of the current element\n",
    "        node1_id = nodes[1]; node2_id = nodes[2]; node3_id = nodes[3];\n",
    "\n",
    "        #....retrieve the x and y coordinates of the local nodes of the current element\n",
    "        xnode1 = xnode[node1_id]; xnode2 = xnode[node2_id]; xnode3 = xnode[node3_id];\n",
    "        ynode1 = ynode[node1_id]; ynode2 = ynode[node2_id]; ynode3 = ynode[node3_id];\n",
    "\n",
    "        #....compute surface area of the current element\n",
    "        x12 = xnode2 - xnode1; x13 = xnode3-xnode1;\n",
    "        y12 = ynode2 - ynode1; y13 = ynode3-ynode1;\n",
    "        area_id = x12*y13 - x13*y12; area_id = abs(area_id)/2\n",
    "\n",
    "        #....compute local vector contribution floc of the current element\n",
    "        floc = area_id/3*sourceperelement[element_id]*[1; 1; 1]\n",
    "\n",
    "        #....compute local matrix contribution Aloc of the current element\n",
    "        Eloc = [[xnode1;xnode2;xnode3] [ynode1;ynode2;ynode3] [1;1;1]] \\ UniformScaling(1.);\n",
    "        Eloc[3,:] .= 0;\n",
    "        Bloc = area_id*(transpose(Eloc)*Eloc);\n",
    "        Cloc = 1im * area_id / 3 * conductivityperelement[element_id] * omega * Diagonal(ones(3));\n",
    "\n",
    "        #....add local contribution to f and A\n",
    "        f[nodes] += floc;\n",
    "        \n",
    "        Bmat[element_id] = Bloc[:];\n",
    "        Cmat[element_id] = Cloc[:];\n",
    "        Emat[element_id] = Eloc;\n",
    "    end\n",
    "    \n",
    "    return Bmat, Cmat, Emat, f;\n",
    "end"
   ]
  },
  {
   "cell_type": "code",
   "execution_count": 17,
   "id": "correct-cisco",
   "metadata": {},
   "outputs": [
    {
     "data": {
      "text/plain": [
       "res! (generic function with 1 method)"
      ]
     },
     "execution_count": 17,
     "metadata": {},
     "output_type": "execute_result"
    }
   ],
   "source": [
    "function assemble_matrices(u, I, J, Bmat, Cmat, Emat, N)\n",
    "    c = map(el -> u[el], mshdata.elements)\n",
    "    Bx = map((c, E) -> sum(c .* E[2, :]), c, Emat)\n",
    "    By = map((c, E) -> -sum(c .* E[1, :]), c, Emat)\n",
    "    Bnorm = map((Bx, By) -> norm(sqrt(Bx^2 + By^2)), Bx, By)\n",
    "    reluctivityperelement = map(reluctivityfunction, mshdata.e_group, Bnorm);\n",
    "    \n",
    "    # Generate matrix contributions\n",
    "    Vb = reduce(vcat, map((B, nu) -> B * nu, Bmat, reluctivityperelement));\n",
    "    Vc = reduce(vcat, Cmat);\n",
    "    V  = Vb + Vc;\n",
    "    \n",
    "    return sparse(I, J, V, N, N);\n",
    "end\n",
    "\n",
    "function apply_boundaries(A, bnd_node_ids, e)\n",
    "    A[bnd_node_ids,:] .= 0;\n",
    "    A[bnd_node_ids,bnd_node_ids] = e;\n",
    "    #f[bnd_node_ids] .= 0;\n",
    "    \n",
    "    return A#, f;\n",
    "end\n",
    "\n",
    "function res!(R, u)\n",
    "    A = assemble_matrices(u, I, J, Bmat, Cmat, Emat, N);\n",
    "    A = apply_boundaries(A, bnd_node_ids, e);\n",
    "    R[:] = A * u - f;\n",
    "end"
   ]
  },
  {
   "cell_type": "code",
   "execution_count": 18,
   "id": "rough-revelation",
   "metadata": {},
   "outputs": [],
   "source": [
    "Bmat, Cmat, Emat, f = precalc_contribs(mshdata, sourceperelement, conductivityperelement, omega);\n",
    "\n",
    "# Generate index vectors\n",
    "I_ = reduce(vcat, view.(mshdata.elements, Ref([1, 2, 3, 1, 2, 3, 1, 2, 3])))\n",
    "J_ = reduce(vcat, view.(mshdata.elements, Ref([1, 1, 1, 2, 2, 2, 3, 3, 3])))\n",
    "N = mshdata.nnodes;\n",
    "\n",
    "# Generate vectors for boundary condition \n",
    "bnd_node_ids, _ = gmsh.model.mesh.getNodesForPhysicalGroup(1, 1);\n",
    "e = Diagonal(ones(size(bnd_node_ids)));"
   ]
  },
  {
   "cell_type": "code",
   "execution_count": 19,
   "id": "sexual-spider",
   "metadata": {},
   "outputs": [
    {
     "data": {
      "text/plain": [
       "nonlinsolve (generic function with 1 method)"
      ]
     },
     "execution_count": 19,
     "metadata": {},
     "output_type": "execute_result"
    }
   ],
   "source": [
    "function nonlinsolve(mshdata, I, J, Bmat, Cmat, Emat, N, bnd_node_ids, e, alpha)\n",
    "    A = assemble_matrices(zeros(mshdata.nnodes), I, J, Bmat, Cmat, Emat, N);\n",
    "    A[bnd_node_ids,:] .= 0;\n",
    "    A[bnd_node_ids,bnd_node_ids] = e;\n",
    "    f[bnd_node_ids] .= 0;\n",
    "\n",
    "    u = A \\ f;\n",
    "\n",
    "    du = 1e6;\n",
    "    Niter = 1;\n",
    "\n",
    "    tol = 1e-6;\n",
    "    Nmax = 100;\n",
    "    \n",
    "    uhist = zeros(N);\n",
    "    \n",
    "    while (du > tol) && (Niter < Nmax)\n",
    "        uprev = u;\n",
    "        uhist = uhist * alpha + u * (1 - alpha);    # Provide some damping to prevent oscillation between two solutions\n",
    "\n",
    "        A = assemble_matrices(uhist, I, J, Bmat, Cmat, Emat, N);\n",
    "        A = apply_boundaries(A, bnd_node_ids, e);\n",
    "        \n",
    "        u = A \\ f;\n",
    "\n",
    "        du = norm(u - uprev);\n",
    "        Niter += 1;\n",
    "        print(\"#$Niter: $du\\n\")\n",
    "    end\n",
    "    \n",
    "    return u;\n",
    "end"
   ]
  },
  {
   "cell_type": "code",
   "execution_count": 20,
   "id": "extreme-liver",
   "metadata": {},
   "outputs": [
    {
     "name": "stdout",
     "output_type": "stream",
     "text": [
      "#2: 13.798004071815393\n",
      "#3: 9.976374290484824\n",
      "#4: 2.987069976414043\n",
      "#5: 1.3754317678027481\n",
      "#6: 1.3959104040678358\n",
      "#7: 1.3769701199022863\n",
      "#8: 1.3399762550019099\n",
      "#9: 0.6473953408106017\n",
      "#10: 0.3366114855356161\n",
      "#11: 0.2378144721497089\n",
      "#12: 0.16822994314044448\n",
      "#13: 0.15301121247499685\n",
      "#14: 0.16030862108219276\n",
      "#15: 0.1533836302526732\n",
      "#16: 0.12444396081230567\n",
      "#17: 0.09464400287694247\n",
      "#18: 0.07225446042290558\n",
      "#19: 0.05554587060149519\n",
      "#20: 0.04289383717616702\n",
      "#21: 0.03348347783046953\n",
      "#22: 0.02656382187232089\n",
      "#23: 0.02143496943864279\n",
      "#24: 0.017525238700377834\n",
      "#25: 0.01444005245513014\n",
      "#26: 0.011934496168188351\n",
      "#27: 0.009864838224027268\n",
      "#28: 0.008151534848602907\n",
      "#29: 0.0067584830897322945\n",
      "#30: 0.0056800472772379085\n",
      "#31: 0.00492328249899321\n",
      "#32: 0.004476802167567807\n",
      "#33: 0.004280809934576528\n",
      "#34: 0.004232917605845891\n",
      "#35: 0.004228014831462115\n",
      "#36: 0.004190813836367799\n",
      "#37: 0.0040830824226049875\n",
      "#38: 0.003896112237213802\n",
      "#39: 0.0036398319899406902\n",
      "#40: 0.00333338578697021\n",
      "#41: 0.002998394348224261\n",
      "#42: 0.002654804287779812\n",
      "#43: 0.0023187919297349736\n",
      "#44: 0.002002097589180407\n",
      "#45: 0.0017122340697754695\n",
      "#46: 0.0014531438046694364\n",
      "#47: 0.0012260146907599246\n",
      "#48: 0.0010300783412636513\n",
      "#49: 0.0008632999179511747\n",
      "#50: 0.0007229246752446432\n",
      "#51: 0.0006058810776041941\n",
      "#52: 0.0005090580871735748\n",
      "#53: 0.0004294815266068892\n",
      "#54: 0.00036441497925639334\n",
      "#55: 0.00031140839112414853\n",
      "#56: 0.00026831271737114923\n",
      "#57: 0.0002332747461976044\n",
      "#58: 0.00020472107107429081\n",
      "#59: 0.00018133656889321136\n",
      "#60: 0.0001620397210699822\n",
      "#61: 0.00014595610928019572\n",
      "#62: 0.00013239049554872355\n",
      "#63: 0.00012079891183650381\n",
      "#64: 0.00011076169409935729\n",
      "#65: 0.00010195886160101882\n",
      "#66: 9.414862047988199e-5\n",
      "#67: 8.714929787812439e-5\n",
      "#68: 8.082481145405418e-5\n",
      "#69: 7.507316307335216e-5\n",
      "#70: 6.981768142996528e-5\n",
      "#71: 6.500034098234359e-5\n",
      "#72: 6.0576824426936716e-5\n",
      "#73: 5.6512855070415607e-5\n",
      "#74: 5.278149076802873e-5\n",
      "#75: 4.936112640671738e-5\n",
      "#76: 4.6234028969607364e-5\n",
      "#77: 4.3385193932893655e-5\n",
      "#78: 4.080150118203991e-5\n",
      "#79: 3.847101416405024e-5\n",
      "#80: 3.6382424921924265e-5\n",
      "#81: 3.4524595806785036e-5\n",
      "#82: 3.288617601752793e-5\n",
      "#83: 3.1455326040280775e-5\n",
      "#84: 3.0219520943326223e-5\n",
      "#85: 2.9165472764526826e-5\n",
      "#86: 2.8279165194250485e-5\n",
      "#87: 2.7545993077725208e-5\n",
      "#88: 2.6950991561517936e-5\n",
      "#89: 2.6479123754531283e-5\n",
      "#90: 2.611559170887718e-5\n",
      "#91: 2.5846130420282805e-5\n",
      "#92: 2.5657264706692484e-5\n",
      "#93: 2.5536501815392887e-5\n",
      "#94: 2.547246128967082e-5\n",
      "#95: 2.5454937090824213e-5\n",
      "#96: 2.5474903221268998e-5\n",
      "#97: 2.5524482279836277e-5\n",
      "#98: 2.559687223382084e-5\n",
      "#99: 2.5686261151571282e-5\n",
      "#100: 2.5787729281004552e-5\n"
     ]
    }
   ],
   "source": [
    "u = nonlinsolve(mshdata, I_, J_, Bmat, Cmat, Emat, N, bnd_node_ids, e, 0.9);"
   ]
  },
  {
   "cell_type": "code",
   "execution_count": 21,
   "id": "specified-person",
   "metadata": {},
   "outputs": [],
   "source": [
    "c = map(el -> u[el], mshdata.elements)\n",
    "Bx = map((c, E) -> sum(c .* E[2, :]), c, Emat)\n",
    "By = map((c, E) -> -sum(c .* E[1, :]), c, Emat)\n",
    "Bnorm = map((Bx, By) -> norm(sqrt(Bx^2 + By^2)), Bx, By)\n",
    "reluctivityperelement = map(reluctivityfunction, mshdata.e_group, Bnorm);"
   ]
  },
  {
   "cell_type": "code",
   "execution_count": 22,
   "id": "answering-arrow",
   "metadata": {},
   "outputs": [],
   "source": [
    "B, H, Wm, Jel = process(mshdata, u, sourceperelement, reluctivityperelement', conductivityperelement, omega);\n",
    "Bnorm = norm.(sqrt.(B[1].^2 + B[2].^2));"
   ]
  },
  {
   "cell_type": "code",
   "execution_count": 23,
   "id": "incomplete-understanding",
   "metadata": {},
   "outputs": [],
   "source": [
    "# Define nodes (points) and elements (cells)\n",
    "points = [mshdata.xnode mshdata.ynode]';\n",
    "cells = [MeshCell(VTKCellTypes.VTK_TRIANGLE, el) for el in mshdata.elements];\n",
    "\n",
    "# Create VTK file structure using nodes and elements\n",
    "vtkfile = vtk_grid(\"images/transformer3.vtu\", points, cells);\n",
    "\n",
    "# Store data in the VTK file\n",
    "vtkfile[\"Az\", VTKPointData()]   = norm.(u);\n",
    "vtkfile[\"imA\", VTKPointData()]  = imag.(u);\n",
    "vtkfile[\"Bnorm\", VTKCellData()] = Bnorm;\n",
    "vtkfile[\"Jel\", VTKCellData()]   = Jel;\n",
    "vtkfile[\"mu_r\", VTKCellData()]  = 1 ./ (mu0 * reluctivityperelement);\n",
    "\n",
    "# Save the file\n",
    "outfiles = vtk_save(vtkfile);"
   ]
  },
  {
   "cell_type": "markdown",
   "id": "later-calibration",
   "metadata": {},
   "source": [
    "![Magnetic Field: Non-linear, with Eddy Currents](images/transformer3.png)"
   ]
  }
 ],
 "metadata": {
  "kernelspec": {
   "display_name": "Julia 1.7.1",
   "language": "julia",
   "name": "julia-1.7"
  },
  "language_info": {
   "file_extension": ".jl",
   "mimetype": "application/julia",
   "name": "julia",
   "version": "1.7.1"
  }
 },
 "nbformat": 4,
 "nbformat_minor": 5
}
