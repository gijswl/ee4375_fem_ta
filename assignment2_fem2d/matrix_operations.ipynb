{
 "cells": [
  {
   "cell_type": "code",
   "execution_count": 1,
   "id": "sharing-moscow",
   "metadata": {},
   "outputs": [
    {
     "name": "stdout",
     "output_type": "stream",
     "text": [
      "Succesfully imported numpy -- Version: 1.19.5\n",
      "Succesfully imported scipy -- Version: 1.6.0\n",
      "Succesfully imported sympy -- Version: 1.7.1\n"
     ]
    }
   ],
   "source": [
    "import numpy as np\n",
    "print(\"Succesfully imported %s -- Version: %s\"%(np.__name__,np.__version__))\n",
    "import scipy\n",
    "print(\"Succesfully imported %s -- Version: %s\"%(scipy.__name__,scipy.__version__))\n",
    "import sympy as sym \n",
    "print(\"Succesfully imported %s -- Version: %s\"%(sym.__name__,sym.__version__))\n",
    "\n",
    "import matplotlib.pyplot as plt"
   ]
  },
  {
   "cell_type": "markdown",
   "id": "accompanied-canadian",
   "metadata": {},
   "source": [
    "# Linear Shape Functions"
   ]
  },
  {
   "cell_type": "markdown",
   "id": "communist-baghdad",
   "metadata": {},
   "source": [
    "## Reference Element"
   ]
  },
  {
   "cell_type": "code",
   "execution_count": 10,
   "id": "fixed-stockholm",
   "metadata": {},
   "outputs": [
    {
     "name": "stdout",
     "output_type": "stream",
     "text": [
      "contribution to the stiffness matrix\n",
      "⎡ 1    -1/2  -1/2⎤\n",
      "⎢                ⎥\n",
      "⎢-1/2  1/2    0  ⎥\n",
      "⎢                ⎥\n",
      "⎣-1/2   0    1/2 ⎦\n",
      "contribution to the mass matrix\n",
      "⎡1/12  1/24  1/24⎤\n",
      "⎢                ⎥\n",
      "⎢1/24  1/12  1/24⎥\n",
      "⎢                ⎥\n",
      "⎣1/24  1/24  1/12⎦\n"
     ]
    },
    {
     "data": {
      "text/plain": [
       "(None, None)"
      ]
     },
     "execution_count": 10,
     "metadata": {},
     "output_type": "execute_result"
    }
   ],
   "source": [
    "sym.var('x')\n",
    "sym.var('y')\n",
    "\n",
    "phi1 = 1-x-y\n",
    "phi2 = x\n",
    "phi3 = y\n",
    "\n",
    "phi    = sym.Matrix([phi1, phi2, phi3])\n",
    "dphi_x = sym.diff(phi, x);\n",
    "dphi_y = sym.diff(phi, y);\n",
    "\n",
    "A = sym.integrate(sym.integrate(dphi_x * sym.Transpose(dphi_x) + dphi_y * sym.Transpose(dphi_y), (y, 1 - x)), (x, 0.,1))\n",
    "M = sym.integrate(sym.integrate(phi*sym.Transpose(phi), (y, 1 - x)), (x, 0.,1))\n",
    "\n",
    "print('contribution to the stiffness matrix'), sym.pprint(A)\n",
    "print('contribution to the mass matrix'), sym.pprint(M)"
   ]
  },
  {
   "cell_type": "markdown",
   "id": "mobile-nitrogen",
   "metadata": {},
   "source": [
    "## Direct Integration of Geometric Element"
   ]
  },
  {
   "cell_type": "code",
   "execution_count": 188,
   "id": "pleasant-affairs",
   "metadata": {},
   "outputs": [
    {
     "data": {
      "text/latex": [
       "$\\displaystyle \\left[\\begin{matrix}- 1.25 x - 2.5 y + 5.0\\\\2.5 x + 1.0 y - 4.0\\\\- 1.25 x + 1.5 y\\end{matrix}\\right]$"
      ],
      "text/plain": [
       "Matrix([\n",
       "[-1.25*x - 2.5*y + 5.0],\n",
       "[  2.5*x + 1.0*y - 4.0],\n",
       "[      -1.25*x + 1.5*y]])"
      ]
     },
     "execution_count": 188,
     "metadata": {},
     "output_type": "execute_result"
    }
   ],
   "source": [
    "sym.var('x')\n",
    "sym.var('y')\n",
    "\n",
    "x1 = 1.2; y1 = 1;\n",
    "x2 = 1.5; y2 = 1.25;\n",
    "x3 = 1;   y3 = 1.5;\n",
    "\n",
    "Emat = sym.Matrix([[x1, y1, 1], [x2, y2, 1], [x3, y3, 1]]).inv();\n",
    "\n",
    "phi = sym.transpose(Emat) * sym.Matrix([[x], [y], [1]])\n",
    "dphi_x = sym.diff(phi, x);\n",
    "dphi_y = sym.diff(phi, y);\n",
    "\n",
    "phi"
   ]
  },
  {
   "cell_type": "code",
   "execution_count": 136,
   "id": "smoking-kernel",
   "metadata": {},
   "outputs": [
    {
     "data": {
      "text/latex": [
       "$\\displaystyle \\left[\\begin{matrix}0.78125 & -0.5625 & -0.21875\\\\-0.5625 & 0.725 & -0.1625\\\\-0.21875 & -0.1625 & 0.38125\\end{matrix}\\right]$"
      ],
      "text/plain": [
       "Matrix([\n",
       "[ 0.78125, -0.5625, -0.21875],\n",
       "[ -0.5625,   0.725,  -0.1625],\n",
       "[-0.21875, -0.1625,  0.38125]])"
      ]
     },
     "execution_count": 136,
     "metadata": {},
     "output_type": "execute_result"
    }
   ],
   "source": [
    "area_id = (x1 - x2)*(y1 - y3) - (x1 - x3)*(y1 - y2);\n",
    "area_id = abs(area_id) / 2;\n",
    "\n",
    "A = area_id * (dphi_x * sym.Transpose(dphi_x) + dphi_y * sym.Transpose(dphi_y))\n",
    "M = 0 # Cannot easily integrate this over the element..\n",
    "\n",
    "A"
   ]
  },
  {
   "cell_type": "markdown",
   "id": "exposed-holder",
   "metadata": {},
   "source": [
    "## Current Calculation Code"
   ]
  },
  {
   "cell_type": "code",
   "execution_count": 129,
   "id": "herbal-river",
   "metadata": {
    "scrolled": true
   },
   "outputs": [
    {
     "data": {
      "text/latex": [
       "$\\displaystyle \\left[\\begin{matrix}0.78125 & -0.5625 & -0.21875\\\\-0.5625 & 0.725 & -0.1625\\\\-0.21875 & -0.1625 & 0.38125\\end{matrix}\\right]$"
      ],
      "text/plain": [
       "Matrix([\n",
       "[ 0.78125, -0.5625, -0.21875],\n",
       "[ -0.5625,   0.725,  -0.1625],\n",
       "[-0.21875, -0.1625,  0.38125]])"
      ]
     },
     "execution_count": 129,
     "metadata": {},
     "output_type": "execute_result"
    }
   ],
   "source": [
    "Dmat = sym.Matrix([Emat[0, :], Emat[1, :], [0, 0, 0]])\n",
    "A = area_id * sym.Transpose(Dmat) * Dmat\n",
    "\n",
    "A"
   ]
  },
  {
   "cell_type": "markdown",
   "id": "included-treasurer",
   "metadata": {},
   "source": [
    "## Affine Mapping"
   ]
  },
  {
   "cell_type": "code",
   "execution_count": 147,
   "id": "genuine-spice",
   "metadata": {},
   "outputs": [
    {
     "data": {
      "text/latex": [
       "$\\displaystyle y$"
      ],
      "text/plain": [
       "y"
      ]
     },
     "execution_count": 147,
     "metadata": {},
     "output_type": "execute_result"
    }
   ],
   "source": [
    "sym.var('x')\n",
    "sym.var('y')"
   ]
  },
  {
   "cell_type": "code",
   "execution_count": 282,
   "id": "raising-anaheim",
   "metadata": {},
   "outputs": [
    {
     "data": {
      "text/latex": [
       "$\\displaystyle \\left[\\begin{matrix}0.78125 & -0.5625 & -0.21875\\\\-0.5625 & 0.725 & -0.1625\\\\-0.21875 & -0.1625 & 0.38125\\end{matrix}\\right]$"
      ],
      "text/plain": [
       "Matrix([\n",
       "[ 0.78125, -0.5625, -0.21875],\n",
       "[ -0.5625,   0.725,  -0.1625],\n",
       "[-0.21875, -0.1625,  0.38125]])"
      ]
     },
     "execution_count": 282,
     "metadata": {},
     "output_type": "execute_result"
    }
   ],
   "source": [
    "phi = sym.Transpose(Emat) * sym.Matrix([[x], [y], [1]])\n",
    "\n",
    "X = sym.Matrix([[0, 0]]);\n",
    "Xr = sym.Matrix([[0, 0], [1, 0], [0, 1]]);\n",
    "for i in range(0, 3):\n",
    "    X += phi[i] * Xr[i,:]\n",
    "    \n",
    "grad_phi1 = -sym.Matrix([[sym.diff(X[0], x) + sym.diff(X[1], x)], [sym.diff(X[0], y) + sym.diff(X[1], y)]])\n",
    "grad_phi2 = sym.Matrix([[sym.diff(X[0], x)], [sym.diff(X[0], y)]])\n",
    "grad_phi3 = sym.Matrix([[sym.diff(X[1], x)], [sym.diff(X[1], y)]])\n",
    "\n",
    "grad_phi = sym.Matrix([[grad_phi1.T], [grad_phi2.T], [grad_phi3.T]])\n",
    "\n",
    "A = 2 * area_id * sym.integrate(sym.integrate(grad_phi * grad_phi.T, (x, 0, 1 - y)), (y, 0, 1)); A"
   ]
  },
  {
   "cell_type": "code",
   "execution_count": 278,
   "id": "quarterly-daniel",
   "metadata": {},
   "outputs": [
    {
     "data": {
      "text/latex": [
       "$\\displaystyle \\left[\\begin{matrix}0.0166666666666667 & 0.00833333333333333 & 0.00833333333333333\\\\0.00833333333333333 & 0.0166666666666667 & 0.00833333333333333\\\\0.00833333333333333 & 0.00833333333333333 & 0.0166666666666667\\end{matrix}\\right]$"
      ],
      "text/plain": [
       "Matrix([\n",
       "[ 0.0166666666666667, 0.00833333333333333, 0.00833333333333333],\n",
       "[0.00833333333333333,  0.0166666666666667, 0.00833333333333333],\n",
       "[0.00833333333333333, 0.00833333333333333,  0.0166666666666667]])"
      ]
     },
     "execution_count": 278,
     "metadata": {},
     "output_type": "execute_result"
    }
   ],
   "source": [
    "phiR = sym.Matrix([[1 - x - y], [x], [y]])\n",
    "\n",
    "M = 2 * area_id * sym.integrate(sym.integrate(phiR * phiR.T, (x, 0, 1 - y)), (y, 0, 1)); M"
   ]
  },
  {
   "cell_type": "code",
   "execution_count": 277,
   "id": "advised-residence",
   "metadata": {},
   "outputs": [
    {
     "data": {
      "text/latex": [
       "$\\displaystyle \\left[\\begin{matrix}-1.25 & -2.5\\\\2.5 & 1.0\\\\-1.25 & 1.5\\end{matrix}\\right]$"
      ],
      "text/plain": [
       "Matrix([\n",
       "[-1.25, -2.5],\n",
       "[  2.5,  1.0],\n",
       "[-1.25,  1.5]])"
      ]
     },
     "execution_count": 277,
     "metadata": {},
     "output_type": "execute_result"
    }
   ],
   "source": [
    "grad_phi "
   ]
  },
  {
   "cell_type": "code",
   "execution_count": 288,
   "id": "synthetic-supervision",
   "metadata": {},
   "outputs": [
    {
     "data": {
      "text/latex": [
       "$\\displaystyle \\left[\\begin{matrix}2.5 x + 1.0 y - 4.0 & - 1.25 x + 1.5 y\\end{matrix}\\right]$"
      ],
      "text/plain": [
       "Matrix([[2.5*x + 1.0*y - 4.0, -1.25*x + 1.5*y]])"
      ]
     },
     "execution_count": 288,
     "metadata": {},
     "output_type": "execute_result"
    }
   ],
   "source": [
    "X"
   ]
  },
  {
   "cell_type": "code",
   "execution_count": null,
   "id": "recognized-throat",
   "metadata": {},
   "outputs": [],
   "source": []
  }
 ],
 "metadata": {
  "kernelspec": {
   "display_name": "Python 3",
   "language": "python",
   "name": "python3"
  },
  "language_info": {
   "codemirror_mode": {
    "name": "ipython",
    "version": 3
   },
   "file_extension": ".py",
   "mimetype": "text/x-python",
   "name": "python",
   "nbconvert_exporter": "python",
   "pygments_lexer": "ipython3",
   "version": "3.7.0"
  }
 },
 "nbformat": 4,
 "nbformat_minor": 5
}
