{
 "cells": [
  {
   "cell_type": "code",
   "execution_count": 2,
   "id": "c369c038",
   "metadata": {},
   "outputs": [],
   "source": [
    "using Gridap\n",
    "using Gridap.Algebra;\n",
    "using Gridap.FESpaces\n",
    "using Gridap.ReferenceFEs\n",
    "using Gridap.Arrays\n",
    "using Gridap.Geometry\n",
    "using Gridap.Fields\n",
    "using Gridap.CellData\n",
    "\n",
    "using GridapGmsh\n",
    "\n",
    "using LinearAlgebra\n",
    "\n",
    "using FillArrays\n",
    "using SparseArrays"
   ]
  },
  {
   "cell_type": "code",
   "execution_count": 3,
   "id": "a392ce45",
   "metadata": {},
   "outputs": [],
   "source": [
    "try\n",
    "    using Gmsh\n",
    "catch\n",
    "    using gmsh\n",
    "end"
   ]
  },
  {
   "cell_type": "code",
   "execution_count": 192,
   "id": "73ba0c94",
   "metadata": {},
   "outputs": [],
   "source": [
    "ri = 19.1e-3;   # Cable inner radius\n",
    "ro = 37.5e-3;   # Insulation outer radius\n",
    "rj = 46.5e-3;   # Cable outer radius\n",
    "\n",
    "lc1 = 5e-3;     # Mesh density at outside of cable\n",
    "lc2 = 1e-3;   # Mesh density at the conductor edge\n",
    "lc3 = 30e-3;\n",
    "\n",
    "x1 =   0; y1 =  2/3 * sqrt(3) * rj;\n",
    "x2 = -rj*1.001; y2 = -1/3 * sqrt(3) * rj;\n",
    "x3 =  rj*1.001; y3 = -1/3 * sqrt(3) * rj;"
   ]
  },
  {
   "cell_type": "code",
   "execution_count": 47,
   "id": "f1629989",
   "metadata": {},
   "outputs": [
    {
     "data": {
      "text/plain": [
       "gmsh_add_circle (generic function with 1 method)"
      ]
     },
     "execution_count": 47,
     "metadata": {},
     "output_type": "execute_result"
    }
   ],
   "source": [
    "function gmsh_add_circle(mid, radius, lc)\n",
    "    geo = gmsh.model.geo;\n",
    "    \n",
    "    # Corner points\n",
    "    p1 = geo.addPoint(mid[1] + radius, mid[2], 0, lc);\n",
    "    p2 = geo.addPoint(mid[1] - radius, mid[2], 0, lc);\n",
    "    p3 = geo.addPoint(mid[1], mid[2], 0, 1);\n",
    "    points = [p1, p2];\n",
    "    \n",
    "    # Lines\n",
    "    l1 = geo.addCircleArc(p1, p3, p2);\n",
    "    l2 = geo.addCircleArc(p2, p3, p1);\n",
    "    lines = [l1, l2];\n",
    "    \n",
    "    # Curve loop\n",
    "    loop = geo.addCurveLoop(lines);\n",
    "    \n",
    "    return loop, lines, points;\n",
    "end"
   ]
  },
  {
   "cell_type": "code",
   "execution_count": 48,
   "id": "4de5b6d9",
   "metadata": {},
   "outputs": [],
   "source": [
    "gmsh.initialize()"
   ]
  },
  {
   "cell_type": "code",
   "execution_count": 49,
   "id": "364d1eaa",
   "metadata": {},
   "outputs": [
    {
     "name": "stdout",
     "output_type": "stream",
     "text": [
      "Info    : Meshing 1D...\n",
      "Info    : [  0%] Meshing curve 1 (Circle)\n",
      "Info    : [ 10%] Meshing curve 2 (Circle)\n",
      "Info    : [ 10%] Meshing curve 3 (Circle)\n",
      "Info    : [ 20%] Meshing curve 4 (Circle)\n",
      "Info    : [ 20%] Meshing curve 5 (Circle)\n",
      "Info    : [ 30%] Meshing curve 6 (Circle)\n",
      "Info    : [ 30%] Meshing curve 7 (Circle)\n",
      "Info    : [ 40%] Meshing curve 8 (Circle)\n",
      "Info    : [ 40%] Meshing curve 9 (Circle)\n",
      "Info    : [ 50%] Meshing curve 10 (Circle)\n",
      "Info    : [ 50%] Meshing curve 11 (Circle)\n",
      "Info    : [ 60%] Meshing curve 12 (Circle)\n",
      "Info    : [ 60%] Meshing curve 13 (Circle)\n",
      "Info    : [ 70%] Meshing curve 14 (Circle)\n",
      "Info    : [ 70%] Meshing curve 15 (Circle)\n",
      "Info    : [ 80%] Meshing curve 16 (Circle)\n",
      "Info    : [ 80%] Meshing curve 17 (Circle)\n",
      "Info    : [ 90%] Meshing curve 18 (Circle)\n",
      "Info    : [ 90%] Meshing curve 19 (Circle)\n",
      "Info    : [100%] Meshing curve 20 (Circle)\n",
      "Info    : Done meshing 1D (Wall 0s, CPU 0s)\n",
      "Info    : Meshing 2D...\n",
      "Info    : [  0%] Meshing surface 1 (Plane, Frontal-Delaunay)\n",
      "Info    : [ 10%] Meshing surface 2 (Plane, Frontal-Delaunay)\n",
      "Info    : [ 20%] Meshing surface 3 (Plane, Frontal-Delaunay)\n",
      "Info    : [ 30%] Meshing surface 4 (Plane, Frontal-Delaunay)\n",
      "Info    : [ 40%] Meshing surface 5 (Plane, Frontal-Delaunay)\n",
      "Info    : [ 50%] Meshing surface 6 (Plane, Frontal-Delaunay)\n",
      "Info    : [ 60%] Meshing surface 7 (Plane, Frontal-Delaunay)\n",
      "Info    : [ 70%] Meshing surface 8 (Plane, Frontal-Delaunay)\n",
      "Info    : [ 80%] Meshing surface 9 (Plane, Frontal-Delaunay)\n",
      "Info    : [ 90%] Meshing surface 10 (Plane, Frontal-Delaunay)\n",
      "Info    : Done meshing 2D (Wall 0.410241s, CPU 0.40625s)\n",
      "Info    : 9630 nodes 19952 elements\n",
      "Info    : Writing 'geo/hv_cable_trefoil.msh'...\n",
      "Info    : Done writing 'geo/hv_cable_trefoil.msh'\n"
     ]
    }
   ],
   "source": [
    "gmsh.model.add(\"cable_trefoil\")\n",
    "geo = gmsh.model.geo;\n",
    "\n",
    "## Domain\n",
    "domain_lp, domain_lines, _ = gmsh_add_circle([0, 0], 10*rj, lc3);\n",
    "\n",
    "## Cables\n",
    "con1_lp, _, _ = gmsh_add_circle([x1, y1], ri, lc2);\n",
    "ins1_lp, _, _ = gmsh_add_circle([x1, y1], ro, lc1);\n",
    "jac1_lp, _, _ = gmsh_add_circle([x1, y1], rj, lc1);\n",
    "\n",
    "con2_lp, _, _ = gmsh_add_circle([x2, y2], ri, lc2);\n",
    "ins2_lp, _, _ = gmsh_add_circle([x2, y2], ro, lc1);\n",
    "jac2_lp, _, _ = gmsh_add_circle([x2, y2], rj, lc1);\n",
    "\n",
    "con3_lp, _, _ = gmsh_add_circle([x3, y3], ri, lc2);\n",
    "ins3_lp, _, _ = gmsh_add_circle([x3, y3], ro, lc1);\n",
    "jac3_lp, _, _ = gmsh_add_circle([x3, y3], rj, lc1);\n",
    "\n",
    "## Plane surfaces\n",
    "domain_surf = geo.addPlaneSurface([domain_lp, jac1_lp, jac2_lp, jac3_lp])\n",
    "\n",
    "jac1_surf = geo.addPlaneSurface([jac1_lp, ins1_lp])\n",
    "jac2_surf = geo.addPlaneSurface([jac2_lp, ins2_lp])\n",
    "jac3_surf = geo.addPlaneSurface([jac3_lp, ins3_lp])\n",
    "\n",
    "ins1_surf = geo.addPlaneSurface([ins1_lp, con1_lp])\n",
    "ins2_surf = geo.addPlaneSurface([ins2_lp, con2_lp])\n",
    "ins3_surf = geo.addPlaneSurface([ins3_lp, con3_lp])\n",
    "\n",
    "con1_surf = geo.addPlaneSurface([con1_lp])\n",
    "con2_surf = geo.addPlaneSurface([con2_lp])\n",
    "con3_surf = geo.addPlaneSurface([con3_lp])\n",
    "\n",
    "geo.synchronize();\n",
    "\n",
    "## Physical domains\n",
    "boundary = geo.addPhysicalGroup(1, domain_lines)\n",
    "domain   = geo.addPhysicalGroup(2, [domain_surf])\n",
    "\n",
    "con1 = geo.addPhysicalGroup(2, [con1_surf])\n",
    "con2 = geo.addPhysicalGroup(2, [con2_surf])\n",
    "con3 = geo.addPhysicalGroup(2, [con3_surf])\n",
    "\n",
    "insulator = geo.addPhysicalGroup(2, [ins1_surf, ins2_surf, ins3_surf])\n",
    "jacket    = geo.addPhysicalGroup(2, [jac1_surf, jac2_surf, jac3_surf])\n",
    "\n",
    "gmsh.model.setPhysicalName(1, boundary, \"Boundary\")\n",
    "gmsh.model.setPhysicalName(2, domain, \"Air\")\n",
    "gmsh.model.setPhysicalName(2, con1, \"Conductor1\")\n",
    "gmsh.model.setPhysicalName(2, con2, \"Conductor2\")\n",
    "gmsh.model.setPhysicalName(2, con3, \"Conductor3\")\n",
    "gmsh.model.setPhysicalName(2, insulator, \"Insulator\")\n",
    "gmsh.model.setPhysicalName(2, jacket, \"Jacket\")\n",
    "\n",
    "geo.synchronize()\n",
    "\n",
    "gmsh.model.mesh.generate(2);\n",
    "\n",
    "gmsh.write(\"geo/hv_cable_trefoil.msh\")"
   ]
  },
  {
   "cell_type": "code",
   "execution_count": 50,
   "id": "7f791edb",
   "metadata": {},
   "outputs": [
    {
     "name": "stdout",
     "output_type": "stream",
     "text": [
      "-------------------------------------------------------\n",
      "Version       : 4.10.2\n",
      "License       : GNU General Public License\n",
      "Build OS      : Windows64-sdk\n",
      "Build date    : 19700101\n",
      "Build host    : amdci7\n",
      "Build options : 64Bit ALGLIB[contrib] ANN[contrib] Bamg Blossom Cairo DIntegration DomHex Eigen[contrib] Fltk GMP Gmm[contrib] Hxt Jpeg Kbipack MathEx[contrib] Mesh Metis[contrib] Mmg Mpeg Netgen NoSocklenT ONELAB ONELABMetamodel OpenCASCADE OpenCASCADE-CAF OpenGL OpenMP OptHom Parser Plugins Png Post QuadMeshingTools QuadTri Solver TetGen/BR Voro++[contrib] WinslowUntangler Zlib\n",
      "FLTK version  : 1.3.8\n",
      "OCC version   : 7.6.2\n",
      "Packaged by   : root\n",
      "Web site      : https://gmsh.info\n",
      "Issue tracker : https://gitlab.onelab.info/gmsh/gmsh/issues\n",
      "-------------------------------------------------------\n"
     ]
    }
   ],
   "source": [
    "gmsh.fltk.run()"
   ]
  },
  {
   "cell_type": "markdown",
   "id": "edc92c97",
   "metadata": {},
   "source": [
    "# Problem Setup"
   ]
  },
  {
   "cell_type": "code",
   "execution_count": 51,
   "id": "83d5417c",
   "metadata": {},
   "outputs": [],
   "source": [
    "I = 1000;             # Current in the cable [A]\n",
    "\n",
    "mu0 = 4*pi*1e-7;      # Permeability of vacuum\n",
    "f = 50;               # Frequency of the time-harmonic current\n",
    "omega = 2*pi*f;      \n",
    "\n",
    "sigma_cond = 3.69e7;  # Conductivity of aluminium"
   ]
  },
  {
   "cell_type": "markdown",
   "id": "6d5083d5",
   "metadata": {},
   "source": [
    "# Gridap Setup"
   ]
  },
  {
   "cell_type": "code",
   "execution_count": 52,
   "id": "361c8b39",
   "metadata": {},
   "outputs": [
    {
     "data": {
      "text/plain": [
       "norm_complex (generic function with 2 methods)"
      ]
     },
     "execution_count": 52,
     "metadata": {},
     "output_type": "execute_result"
    }
   ],
   "source": [
    "# Define norm of a complex vector for Gridap to use on the CellField which results from Bh = Ã¢ÂˆÂ‡(uh)\n",
    "norm_complex(a::VectorValue{2, ComplexF64}) = sqrt(norm(a[1])^2 + norm(a[2])^2)\n",
    "norm_complex(a::CellField) = Operation(norm_complex)(a)"
   ]
  },
  {
   "cell_type": "markdown",
   "id": "f6c95431",
   "metadata": {},
   "source": [
    "# Gridap"
   ]
  },
  {
   "cell_type": "code",
   "execution_count": 53,
   "id": "a4755d19",
   "metadata": {},
   "outputs": [
    {
     "name": "stdout",
     "output_type": "stream",
     "text": [
      "Info    : Reading 'geo/hv_cable_trefoil.msh'...\n",
      "Info    : 60 entities\n",
      "Info    : 9620 nodes\n",
      "Info    : 19238 elements\n",
      "Info    : Done reading 'geo/hv_cable_trefoil.msh'\n"
     ]
    },
    {
     "name": "stderr",
     "output_type": "stream",
     "text": [
      "Warning : Gmsh has aleady been initialized\n"
     ]
    },
    {
     "data": {
      "text/plain": [
       "TrialFESpace()"
      ]
     },
     "execution_count": 53,
     "metadata": {},
     "output_type": "execute_result"
    }
   ],
   "source": [
    "# Define Lagrangian reference element\n",
    "order = 2;\n",
    "reffe = ReferenceFE(lagrangian, Float64, order)\n",
    "\n",
    "# Load mesh\n",
    "model = GmshDiscreteModel(\"geo/hv_cable_trefoil.msh\")\n",
    "Th = Triangulation(model)\n",
    "Qh = CellQuadrature(Th, 2*order)\n",
    "\n",
    "# Construct Lagrangian test space with dirichlet condition on the right boundary node\n",
    "Vh = TestFESpace(model, reffe; conformity = :H1, dirichlet_tags = [\"Boundary\"], vector_type = Vector{ComplexF64})\n",
    "Uh = TrialFESpace(Vh, [0])"
   ]
  },
  {
   "cell_type": "code",
   "execution_count": 54,
   "id": "8705008b",
   "metadata": {},
   "outputs": [
    {
     "data": {
      "text/plain": [
       "fnu (generic function with 1 method)"
      ]
     },
     "execution_count": 54,
     "metadata": {},
     "output_type": "execute_result"
    }
   ],
   "source": [
    "labels = get_face_labeling(model)\n",
    "dimension = num_cell_dims(model)\n",
    "tags = get_face_tag(labels, dimension)\n",
    "\n",
    "# Construct a cell field consisting of the physical domain tags\n",
    "τ = CellField(tags, Th)\n",
    "\n",
    "const tag_con1 = get_tag_from_name(labels, \"Conductor1\");\n",
    "const tag_con2 = get_tag_from_name(labels, \"Conductor2\");\n",
    "const tag_con3 = get_tag_from_name(labels, \"Conductor3\");\n",
    "\n",
    "function fsource(tag)\n",
    "    return 0.0;\n",
    "end\n",
    "\n",
    "function fsigma(tag)\n",
    "    if tag == tag_con1 || tag == tag_con2 || tag == tag_con3\n",
    "        return sigma_cond;\n",
    "    else\n",
    "        return 0.0;\n",
    "    end\n",
    "end\n",
    "\n",
    "function fmur(tag)\n",
    "    return 1.0;\n",
    "end\n",
    "\n",
    "function fnu(tag)\n",
    "    return 1 / (mu0 * fmur(tag))\n",
    "end"
   ]
  },
  {
   "cell_type": "code",
   "execution_count": 55,
   "id": "844d359c",
   "metadata": {},
   "outputs": [],
   "source": [
    "dv = get_fe_basis(Vh);\n",
    "du = get_trial_fe_basis(Uh);\n",
    "\n",
    "# Calculate contributions of the cells to the linear system\n",
    "cellvals_A = ∫( (fnu ∘ τ) ⋅ ∇(du) ⋅ ∇(dv) - 1im * omega * (fsigma ∘ τ) ⋅ du ⋅ dv )*Qh;\n",
    "cellvals_f = ∫( (fsource ∘ τ) ⋅ dv )*Qh;\n",
    "\n",
    "# Assemble the linear system\n",
    "assem = SparseMatrixAssembler(Uh, Vh)\n",
    "σk = get_cell_dof_ids(Uh);\n",
    "\n",
    "rs = ([cellvals_f], [σk]);\n",
    "b = allocate_vector(assem, rs);\n",
    "assemble_vector!(b, assem, rs);\n",
    "\n",
    "rs = ([cellvals_A], [σk], [σk]);\n",
    "A = allocate_matrix(assem, rs);\n",
    "assemble_matrix!(A, assem, rs);"
   ]
  },
  {
   "cell_type": "code",
   "execution_count": 94,
   "id": "0299ca9b",
   "metadata": {},
   "outputs": [],
   "source": [
    "# Extend the linear system with an additional row and column per circuit equation\n",
    "N  = num_free_dofs(Uh);\n",
    "nc = 3;\n",
    "\n",
    "C = Matrix(UniformScaling(1), nc, nc);\n",
    "f2 = [\n",
    "    I * exp(1im * 0), \n",
    "    I * exp(1im * 2pi/3),\n",
    "    I * exp(-1im * 2pi/3)\n",
    "];\n",
    "\n",
    "# Calculate the cell contributions to the extra vectors\n",
    "Th_con1 = Triangulation(model, tags = \"Conductor1\"); Qh_con1 = CellQuadrature(Th_con1, 2*order)\n",
    "Th_con2 = Triangulation(model, tags = \"Conductor2\"); Qh_con2 = CellQuadrature(Th_con2, 2*order)\n",
    "Th_con3 = Triangulation(model, tags = \"Conductor3\"); Qh_con3 = CellQuadrature(Th_con3, 2*order)\n",
    "\n",
    "cellvals_b1T = ∫( (1/(pi*ri^2)) ⋅ dv )*Qh_con1;\n",
    "cellvals_b2T = ∫( (1/(pi*ri^2)) ⋅ dv )*Qh_con2;\n",
    "cellvals_b3T = ∫( (1/(pi*ri^2)) ⋅ dv )*Qh_con3;\n",
    "\n",
    "cellvals_b1  = ∫( (1im * omega * (fsigma ∘ τ)) ⋅ dv )*Qh_con1;\n",
    "cellvals_b2  = ∫( (1im * omega * (fsigma ∘ τ)) ⋅ dv )*Qh_con2;\n",
    "cellvals_b3  = ∫( (1im * omega * (fsigma ∘ τ)) ⋅ dv )*Qh_con3;\n",
    "\n",
    "# Assemble the circuit coupling equations into two extra vectors\n",
    "σk_con1 = get_cell_dof_ids(Uh, Th_con1);\n",
    "σk_con2 = get_cell_dof_ids(Uh, Th_con2);\n",
    "σk_con3 = get_cell_dof_ids(Uh, Th_con3);\n",
    "\n",
    "rs = ([cellvals_b1T], [σk_con1])\n",
    "b1T = allocate_vector(assem, rs)\n",
    "assemble_vector!(b1T, assem, rs);\n",
    "\n",
    "rs = ([cellvals_b2T], [σk_con2])\n",
    "b2T = allocate_vector(assem, rs)\n",
    "assemble_vector!(b2T, assem, rs);\n",
    "\n",
    "rs = ([cellvals_b3T], [σk_con3])\n",
    "b3T = allocate_vector(assem, rs)\n",
    "assemble_vector!(b3T, assem, rs);\n",
    "\n",
    "rs = ([cellvals_b1], [σk_con1])\n",
    "b1 = allocate_vector(assem, rs)\n",
    "assemble_vector!(b1, assem, rs);\n",
    "\n",
    "rs = ([cellvals_b2], [σk_con2])\n",
    "b2 = allocate_vector(assem, rs)\n",
    "assemble_vector!(b2, assem, rs);\n",
    "\n",
    "rs = ([cellvals_b3], [σk_con3])\n",
    "b3 = allocate_vector(assem, rs)\n",
    "assemble_vector!(b3, assem, rs);"
   ]
  },
  {
   "cell_type": "code",
   "execution_count": 95,
   "id": "5308d5f5",
   "metadata": {},
   "outputs": [],
   "source": [
    "# Create the modified system \\tilde{A} = [A BT; B C] and \\tilde{b} = [b1; b2]\n",
    "At = [A [b1T b2T b3T]; transpose([b1 b2 b3]) C];\n",
    "bt = [b; f2];\n",
    "\n",
    "# Solve the modified linear system and package the solution in a FEFunction\n",
    "u = At \\ bt;\n",
    "uh = FEFunction(Uh, u);"
   ]
  },
  {
   "cell_type": "code",
   "execution_count": 103,
   "id": "3919fe0c",
   "metadata": {},
   "outputs": [],
   "source": [
    "# Post-processing for magnetic field and current density\n",
    "Bh = norm_complex(∇(uh));\n",
    "\n",
    "function fsource(tag)\n",
    "    if tag == tag_con1\n",
    "        return u[end-2] / (pi * ri^2);\n",
    "    elseif tag == tag_con2\n",
    "        return u[end-1] / (pi * ri^2);\n",
    "    elseif tag == tag_con3\n",
    "        return u[end-0] / (pi * ri^2);\n",
    "    else\n",
    "        return 0.0 + 0.0im;\n",
    "    end\n",
    "end\n",
    "\n",
    "J0    = fsource ∘ τ; # Source current density\n",
    "Jeddy = 1im ⋅ omega ⋅ (fsigma ∘ τ) ⋅ mean(uh); # Eddy current density"
   ]
  },
  {
   "cell_type": "code",
   "execution_count": 104,
   "id": "36584377",
   "metadata": {},
   "outputs": [
    {
     "data": {
      "text/plain": [
       "([\"images/hvcable_gridap/trefoil.vtu\"],)"
      ]
     },
     "execution_count": 104,
     "metadata": {},
     "output_type": "execute_result"
    }
   ],
   "source": [
    "writevtk(Th, \"images/hvcable_gridap/trefoil\", cellfields=[\n",
    "    \"Az\"    => abs(uh), \n",
    "    \"normB\" => Bh,\n",
    "    \"normJ\" => abs(J0 + Jeddy)\n",
    "])"
   ]
  },
  {
   "cell_type": "code",
   "execution_count": 197,
   "id": "79a62225",
   "metadata": {},
   "outputs": [
    {
     "data": {
      "text/plain": [
       "2.8166762109595552e-5"
      ]
     },
     "execution_count": 197,
     "metadata": {},
     "output_type": "execute_result"
    }
   ],
   "source": [
    "dΩc1 = Measure(Th_con1, 2*order);\n",
    "dΩc2 = Measure(Th_con2, 2*order);\n",
    "dΩc3 = Measure(Th_con3, 2*order);\n",
    "\n",
    "Rac1 = ∫( abs(J0 + Jeddy) * abs(J0 + Jeddy) / (fsigma ∘ τ) )*dΩc1;\n",
    "Rac2 = ∫( abs(J0 + Jeddy) * abs(J0 + Jeddy) / (fsigma ∘ τ) )*dΩc2;\n",
    "Rac3 = ∫( abs(J0 + Jeddy) * abs(J0 + Jeddy) / (fsigma ∘ τ) )*dΩc3;\n",
    "\n",
    "I1   = ∑(∫( J0 + Jeddy )dΩc1)\n",
    "I2   = ∑(∫( J0 + Jeddy )dΩc2)\n",
    "I3   = ∑(∫( J0 + Jeddy )dΩc3)\n",
    "\n",
    "Rac1 = real(∑( Rac1 ) / abs(I1)^2)\n",
    "Rac2 = real(∑( Rac2 ) / abs(I2)^2)\n",
    "Rac3 = real(∑( Rac3 ) / abs(I3)^2)"
   ]
  },
  {
   "cell_type": "code",
   "execution_count": 198,
   "id": "45c06207",
   "metadata": {},
   "outputs": [
    {
     "name": "stdout",
     "output_type": "stream",
     "text": [
      "Rac1 = 28.16892217147174 uR/m\n",
      "Rac2 = 28.16662190026495 uR/m\n",
      "Rac3 = 28.166762109595552 uR/m\n"
     ]
    }
   ],
   "source": [
    "print(\"Rac1 = $(Rac1*1e6) uR/m\\nRac2 = $(Rac2*1e6) uR/m\\nRac3 = $(Rac3*1e6) uR/m\\n\")"
   ]
  },
  {
   "cell_type": "code",
   "execution_count": 203,
   "id": "8c88187a",
   "metadata": {},
   "outputs": [
    {
     "name": "stdout",
     "output_type": "stream",
     "text": [
      "Analytical Rac = 28.328348093898185\n"
     ]
    }
   ],
   "source": [
    "Rdc = 1 / (sigma_cond * pi * ri^2);\n",
    "\n",
    "# Skin effect\n",
    "ks = 1\n",
    "xs = sqrt(8*pi*f / Rdc * 1e-7 * ks)\n",
    "ys = xs^4 / (192 + 0.8 * xs^4);\n",
    "if(xs < 0 || xs > 2.8) error(\"Analytical formula not valid for given xs = {xs}\") end\n",
    "\n",
    "# Proximity effect\n",
    "kp = 1\n",
    "xp = sqrt(8*pi*f / Rdc * 1e-7 * kp)\n",
    "ap = xp^4 / (192 + 0.8 * xp^4);\n",
    "yp = ap * (ri / rj)^2 * (0.312 * (ri / rj)^2 + 1.18 / (ap + 0.27));\n",
    "if(xp < 0 || xp > 2.8) error(\"Analytical formula not valid for given xs = {xs}\") end\n",
    "\n",
    "Rac = Rdc * (1 + ys + yp)\n",
    "print(\"Analytical Rac = $(Rac * 1e6)\\n\")"
   ]
  },
  {
   "cell_type": "markdown",
   "id": "6b5c45ae",
   "metadata": {},
   "source": [
    "![Flux Density](images/hvcable_gridap/normB_trefoil.png)"
   ]
  },
  {
   "cell_type": "markdown",
   "id": "21428425",
   "metadata": {},
   "source": [
    "![Current Density](images/hvcable_gridap/normJ_trefoil.png)"
   ]
  }
 ],
 "metadata": {
  "kernelspec": {
   "display_name": "Julia 1.8.1",
   "language": "julia",
   "name": "julia-1.8"
  },
  "language_info": {
   "file_extension": ".jl",
   "mimetype": "application/julia",
   "name": "julia",
   "version": "1.8.1"
  }
 },
 "nbformat": 4,
 "nbformat_minor": 5
}
