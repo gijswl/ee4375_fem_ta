{
 "cells": [
  {
   "cell_type": "code",
   "execution_count": 1,
   "id": "ecd9b83c",
   "metadata": {},
   "outputs": [],
   "source": [
    "using Gridap\n",
    "using Gridap.Algebra;\n",
    "using Gridap.FESpaces\n",
    "using Gridap.ReferenceFEs\n",
    "using Gridap.Arrays\n",
    "using Gridap.Geometry\n",
    "using Gridap.Fields\n",
    "using Gridap.CellData\n",
    "\n",
    "using GridapGmsh\n",
    "\n",
    "using LinearAlgebra\n",
    "\n",
    "using FillArrays\n",
    "using SparseArrays"
   ]
  },
  {
   "cell_type": "code",
   "execution_count": 2,
   "id": "8376fe1f",
   "metadata": {},
   "outputs": [],
   "source": [
    "try\n",
    "    using Gmsh\n",
    "catch\n",
    "    using gmsh\n",
    "end"
   ]
  },
  {
   "cell_type": "code",
   "execution_count": 3,
   "id": "d141e2e0",
   "metadata": {},
   "outputs": [],
   "source": [
    "ri = 19.1e-3;   # Cable inner radius\n",
    "ro = 37.5e-3;   # Insulation outer radius\n",
    "rj = 46.5e-3;   # Cable outer radius\n",
    "\n",
    "lc1 = 5e-3;     # Mesh density at outside of cable\n",
    "lc2 = 1e-3;   # Mesh density at the conductor edge\n",
    "lc3 = 30e-3;\n",
    "\n",
    "x1 =     0; y1 = 0;\n",
    "x2 = -4*rj; y2 = 0;\n",
    "x3 =  4*rj; y3 = 0;"
   ]
  },
  {
   "cell_type": "code",
   "execution_count": 4,
   "id": "29ac9c61",
   "metadata": {},
   "outputs": [
    {
     "data": {
      "text/plain": [
       "gmsh_add_circle (generic function with 1 method)"
      ]
     },
     "execution_count": 4,
     "metadata": {},
     "output_type": "execute_result"
    }
   ],
   "source": [
    "function gmsh_add_circle(mid, radius, lc)\n",
    "    geo = gmsh.model.geo;\n",
    "    \n",
    "    # Corner points\n",
    "    p1 = geo.addPoint(mid[1] + radius, mid[2], 0, lc);\n",
    "    p2 = geo.addPoint(mid[1] - radius, mid[2], 0, lc);\n",
    "    p3 = geo.addPoint(mid[1], mid[2], 0, 1);\n",
    "    points = [p1, p2];\n",
    "    \n",
    "    # Lines\n",
    "    l1 = geo.addCircleArc(p1, p3, p2);\n",
    "    l2 = geo.addCircleArc(p2, p3, p1);\n",
    "    lines = [l1, l2];\n",
    "    \n",
    "    # Curve loop\n",
    "    loop = geo.addCurveLoop(lines);\n",
    "    \n",
    "    return loop, lines, points;\n",
    "end"
   ]
  },
  {
   "cell_type": "code",
   "execution_count": 5,
   "id": "3cacfc5f",
   "metadata": {},
   "outputs": [],
   "source": [
    "gmsh.initialize()"
   ]
  },
  {
   "cell_type": "code",
   "execution_count": 6,
   "id": "989965b8",
   "metadata": {},
   "outputs": [
    {
     "name": "stdout",
     "output_type": "stream",
     "text": [
      "Info    : Meshing 1D...\n",
      "Info    : [  0%] Meshing curve 1 (Circle)\n",
      "Info    : [ 10%] Meshing curve 2 (Circle)\n",
      "Info    : [ 10%] Meshing curve 3 (Circle)\n",
      "Info    : [ 20%] Meshing curve 4 (Circle)\n",
      "Info    : [ 20%] Meshing curve 5 (Circle)\n",
      "Info    : [ 30%] Meshing curve 6 (Circle)\n",
      "Info    : [ 30%] Meshing curve 7 (Circle)\n",
      "Info    : [ 40%] Meshing curve 8 (Circle)\n",
      "Info    : [ 40%] Meshing curve 9 (Circle)\n",
      "Info    : [ 50%] Meshing curve 10 (Circle)\n",
      "Info    : [ 50%] Meshing curve 11 (Circle)\n",
      "Info    : [ 60%] Meshing curve 12 (Circle)\n",
      "Info    : [ 60%] Meshing curve 13 (Circle)\n",
      "Info    : [ 70%] Meshing curve 14 (Circle)\n",
      "Info    : [ 70%] Meshing curve 15 (Circle)\n",
      "Info    : [ 80%] Meshing curve 16 (Circle)\n",
      "Info    : [ 80%] Meshing curve 17 (Circle)\n",
      "Info    : [ 90%] Meshing curve 18 (Circle)\n",
      "Info    : [ 90%] Meshing curve 19 (Circle)\n",
      "Info    : [100%] Meshing curve 20 (Circle)\n",
      "Info    : Done meshing 1D (Wall 0.00797796s, CPU 0.015625s)\n",
      "Info    : Meshing 2D...\n",
      "Info    : [  0%] Meshing surface 1 (Plane, Frontal-Delaunay)\n",
      "Info    : [ 10%] Meshing surface 2 (Plane, Frontal-Delaunay)\n",
      "Info    : [ 20%] Meshing surface 3 (Plane, Frontal-Delaunay)\n",
      "Info    : [ 30%] Meshing surface 4 (Plane, Frontal-Delaunay)\n",
      "Info    : [ 40%] Meshing surface 5 (Plane, Frontal-Delaunay)\n",
      "Info    : [ 50%] Meshing surface 6 (Plane, Frontal-Delaunay)\n",
      "Info    : [ 60%] Meshing surface 7 (Plane, Frontal-Delaunay)\n",
      "Info    : [ 70%] Meshing surface 8 (Plane, Frontal-Delaunay)\n",
      "Info    : [ 80%] Meshing surface 9 (Plane, Frontal-Delaunay)\n",
      "Info    : [ 90%] Meshing surface 10 (Plane, Frontal-Delaunay)\n",
      "Info    : Done meshing 2D (Wall 0.519615s, CPU 0.59375s)\n",
      "Info    : 10932 nodes 22556 elements\n",
      "Info    : Writing 'geo/hv_cable_flat.msh'...\n",
      "Info    : Done writing 'geo/hv_cable_flat.msh'\n"
     ]
    }
   ],
   "source": [
    "gmsh.model.add(\"cable_flat\")\n",
    "geo = gmsh.model.geo;\n",
    "\n",
    "## Domain\n",
    "domain_lp, domain_lines, _ = gmsh_add_circle([0, 0], 10*rj, lc3);\n",
    "\n",
    "## Cables\n",
    "con1_lp, _, _ = gmsh_add_circle([x1, y1], ri, lc2);\n",
    "ins1_lp, _, _ = gmsh_add_circle([x1, y1], ro, lc1);\n",
    "jac1_lp, _, _ = gmsh_add_circle([x1, y1], rj, lc1);\n",
    "\n",
    "con2_lp, _, _ = gmsh_add_circle([x2, y2], ri, lc2);\n",
    "ins2_lp, _, _ = gmsh_add_circle([x2, y2], ro, lc1);\n",
    "jac2_lp, _, _ = gmsh_add_circle([x2, y2], rj, lc1);\n",
    "\n",
    "con3_lp, _, _ = gmsh_add_circle([x3, y3], ri, lc2);\n",
    "ins3_lp, _, _ = gmsh_add_circle([x3, y3], ro, lc1);\n",
    "jac3_lp, _, _ = gmsh_add_circle([x3, y3], rj, lc1);\n",
    "\n",
    "## Plane surfaces\n",
    "domain_surf = geo.addPlaneSurface([domain_lp, jac1_lp, jac2_lp, jac3_lp])\n",
    "\n",
    "jac1_surf = geo.addPlaneSurface([jac1_lp, ins1_lp])\n",
    "jac2_surf = geo.addPlaneSurface([jac2_lp, ins2_lp])\n",
    "jac3_surf = geo.addPlaneSurface([jac3_lp, ins3_lp])\n",
    "\n",
    "ins1_surf = geo.addPlaneSurface([ins1_lp, con1_lp])\n",
    "ins2_surf = geo.addPlaneSurface([ins2_lp, con2_lp])\n",
    "ins3_surf = geo.addPlaneSurface([ins3_lp, con3_lp])\n",
    "\n",
    "con1_surf = geo.addPlaneSurface([con1_lp])\n",
    "con2_surf = geo.addPlaneSurface([con2_lp])\n",
    "con3_surf = geo.addPlaneSurface([con3_lp])\n",
    "\n",
    "geo.synchronize();\n",
    "\n",
    "## Physical domains\n",
    "boundary = geo.addPhysicalGroup(1, domain_lines)\n",
    "domain   = geo.addPhysicalGroup(2, [domain_surf])\n",
    "\n",
    "con1 = geo.addPhysicalGroup(2, [con1_surf])\n",
    "con2 = geo.addPhysicalGroup(2, [con2_surf])\n",
    "con3 = geo.addPhysicalGroup(2, [con3_surf])\n",
    "\n",
    "insulator = geo.addPhysicalGroup(2, [ins1_surf, ins2_surf, ins3_surf])\n",
    "jacket    = geo.addPhysicalGroup(2, [jac1_surf, jac2_surf, jac3_surf])\n",
    "\n",
    "gmsh.model.setPhysicalName(1, boundary, \"Boundary\")\n",
    "gmsh.model.setPhysicalName(2, domain, \"Air\")\n",
    "gmsh.model.setPhysicalName(2, con1, \"Conductor1\")\n",
    "gmsh.model.setPhysicalName(2, con2, \"Conductor2\")\n",
    "gmsh.model.setPhysicalName(2, con3, \"Conductor3\")\n",
    "gmsh.model.setPhysicalName(2, insulator, \"Insulator\")\n",
    "gmsh.model.setPhysicalName(2, jacket, \"Jacket\")\n",
    "\n",
    "geo.synchronize()\n",
    "\n",
    "gmsh.model.mesh.generate(2);\n",
    "\n",
    "gmsh.write(\"geo/hv_cable_flat.msh\")"
   ]
  },
  {
   "cell_type": "code",
   "execution_count": 7,
   "id": "0af9e8d6",
   "metadata": {},
   "outputs": [
    {
     "name": "stdout",
     "output_type": "stream",
     "text": [
      "-------------------------------------------------------\n",
      "Version       : 4.10.2\n",
      "License       : GNU General Public License\n",
      "Build OS      : Windows64-sdk\n",
      "Build date    : 19700101\n",
      "Build host    : amdci7\n",
      "Build options : 64Bit ALGLIB[contrib] ANN[contrib] Bamg Blossom Cairo DIntegration DomHex Eigen[contrib] Fltk GMP Gmm[contrib] Hxt Jpeg Kbipack MathEx[contrib] Mesh Metis[contrib] Mmg Mpeg Netgen NoSocklenT ONELAB ONELABMetamodel OpenCASCADE OpenCASCADE-CAF OpenGL OpenMP OptHom Parser Plugins Png Post QuadMeshingTools QuadTri Solver TetGen/BR Voro++[contrib] WinslowUntangler Zlib\n",
      "FLTK version  : 1.3.8\n",
      "OCC version   : 7.6.2\n",
      "Packaged by   : root\n",
      "Web site      : https://gmsh.info\n",
      "Issue tracker : https://gitlab.onelab.info/gmsh/gmsh/issues\n",
      "-------------------------------------------------------\n"
     ]
    },
    {
     "name": "stderr",
     "output_type": "stream",
     "text": [
      "\n",
      "(process:37068): GLib-GIO-WARNING **: 16:26:36.592: Unexpectedly, UWP app `SiemensPLMSoftware.JT2GoDesktop_14.1.1.0_x64__qtbmxjdagz8xc' (AUMId `SiemensPLMSoftware.JT2GoDesktop_qtbmxjdagz8xc!JT2GoDesktop') supports 18 extensions but has no verbs\n"
     ]
    }
   ],
   "source": [
    "gmsh.fltk.run()"
   ]
  },
  {
   "cell_type": "markdown",
   "id": "5404f76f",
   "metadata": {},
   "source": [
    "# Problem Setup"
   ]
  },
  {
   "cell_type": "code",
   "execution_count": 8,
   "id": "fcf840a2",
   "metadata": {},
   "outputs": [],
   "source": [
    "I = 1000;             # Current in the cable [A]\n",
    "\n",
    "mu0 = 4*pi*1e-7;      # Permeability of vacuum\n",
    "f = 50;               # Frequency of the time-harmonic current\n",
    "omega = 2*pi*f;      \n",
    "\n",
    "sigma_cond = 3.69e7;  # Conductivity of aluminium"
   ]
  },
  {
   "cell_type": "markdown",
   "id": "69a688c8",
   "metadata": {},
   "source": [
    "# Gridap Setup"
   ]
  },
  {
   "cell_type": "code",
   "execution_count": 9,
   "id": "49596443",
   "metadata": {},
   "outputs": [
    {
     "data": {
      "text/plain": [
       "norm_complex (generic function with 2 methods)"
      ]
     },
     "execution_count": 9,
     "metadata": {},
     "output_type": "execute_result"
    }
   ],
   "source": [
    "# Define norm of a complex vector for Gridap to use on the CellField which results from Bh = Ã¢ÂˆÂ‡(uh)\n",
    "norm_complex(a::VectorValue{2, ComplexF64}) = sqrt(norm(a[1])^2 + norm(a[2])^2)\n",
    "norm_complex(a::CellField) = Operation(norm_complex)(a)"
   ]
  },
  {
   "cell_type": "markdown",
   "id": "4900d60c",
   "metadata": {},
   "source": [
    "# Gridap"
   ]
  },
  {
   "cell_type": "code",
   "execution_count": 10,
   "id": "0d0759ee",
   "metadata": {},
   "outputs": [
    {
     "name": "stdout",
     "output_type": "stream",
     "text": [
      "Info    : Reading 'geo/hv_cable_flat.msh'...\n",
      "Info    : 60 entities\n",
      "Info    : 10922 nodes\n",
      "Info    : 21842 elements\n",
      "Info    : Done reading 'geo/hv_cable_flat.msh'\n"
     ]
    },
    {
     "name": "stderr",
     "output_type": "stream",
     "text": [
      "Warning : Gmsh has aleady been initialized\n"
     ]
    },
    {
     "data": {
      "text/plain": [
       "TrialFESpace()"
      ]
     },
     "execution_count": 10,
     "metadata": {},
     "output_type": "execute_result"
    }
   ],
   "source": [
    "# Define Lagrangian reference element\n",
    "order = 2;\n",
    "reffe = ReferenceFE(lagrangian, Float64, order)\n",
    "\n",
    "# Load mesh\n",
    "model = GmshDiscreteModel(\"geo/hv_cable_flat.msh\")\n",
    "Th = Triangulation(model)\n",
    "Qh = CellQuadrature(Th, 2*order)\n",
    "\n",
    "# Construct Lagrangian test space with dirichlet condition on the right boundary node\n",
    "Vh = TestFESpace(model, reffe; conformity = :H1, dirichlet_tags = [\"Boundary\"], vector_type = Vector{ComplexF64})\n",
    "Uh = TrialFESpace(Vh, [0])"
   ]
  },
  {
   "cell_type": "code",
   "execution_count": 11,
   "id": "4a694f26",
   "metadata": {},
   "outputs": [
    {
     "data": {
      "text/plain": [
       "fnu (generic function with 1 method)"
      ]
     },
     "execution_count": 11,
     "metadata": {},
     "output_type": "execute_result"
    }
   ],
   "source": [
    "labels = get_face_labeling(model)\n",
    "dimension = num_cell_dims(model)\n",
    "tags = get_face_tag(labels, dimension)\n",
    "\n",
    "# Construct a cell field consisting of the physical domain tags\n",
    "τ = CellField(tags, Th)\n",
    "\n",
    "const tag_con1 = get_tag_from_name(labels, \"Conductor1\");\n",
    "const tag_con2 = get_tag_from_name(labels, \"Conductor2\");\n",
    "const tag_con3 = get_tag_from_name(labels, \"Conductor3\");\n",
    "\n",
    "function fsource(tag)\n",
    "    return 0.0;\n",
    "end\n",
    "\n",
    "function fsigma(tag)\n",
    "    if tag == tag_con1 || tag == tag_con2 || tag == tag_con3\n",
    "        return sigma_cond;\n",
    "    else\n",
    "        return 0.0;\n",
    "    end\n",
    "end\n",
    "\n",
    "function fmur(tag)\n",
    "    return 1.0;\n",
    "end\n",
    "\n",
    "function fnu(tag)\n",
    "    return 1 / (mu0 * fmur(tag))\n",
    "end"
   ]
  },
  {
   "cell_type": "code",
   "execution_count": 12,
   "id": "902c9944",
   "metadata": {},
   "outputs": [],
   "source": [
    "dv = get_fe_basis(Vh);\n",
    "du = get_trial_fe_basis(Uh);\n",
    "\n",
    "# Calculate contributions of the cells to the linear system\n",
    "cellvals_A = ∫( (fnu ∘ τ) ⋅ ∇(du) ⋅ ∇(dv) - 1im * omega * (fsigma ∘ τ) ⋅ du ⋅ dv )*Qh;\n",
    "cellvals_f = ∫( (fsource ∘ τ) ⋅ dv )*Qh;\n",
    "\n",
    "# Assemble the linear system\n",
    "assem = SparseMatrixAssembler(Uh, Vh)\n",
    "σk = get_cell_dof_ids(Uh);\n",
    "\n",
    "rs = ([cellvals_f], [σk]);\n",
    "b = allocate_vector(assem, rs);\n",
    "assemble_vector!(b, assem, rs);\n",
    "\n",
    "rs = ([cellvals_A], [σk], [σk]);\n",
    "A = allocate_matrix(assem, rs);\n",
    "assemble_matrix!(A, assem, rs);"
   ]
  },
  {
   "cell_type": "code",
   "execution_count": 13,
   "id": "0674b7d0",
   "metadata": {},
   "outputs": [],
   "source": [
    "# Extend the linear system with an additional row and column per circuit equation\n",
    "N  = num_free_dofs(Uh);\n",
    "nc = 3;\n",
    "\n",
    "C = Matrix(UniformScaling(1), nc, nc);\n",
    "f2 = [\n",
    "    I * exp(1im * 0), \n",
    "    I * exp(1im * 2pi/3),\n",
    "    I * exp(-1im * 2pi/3)\n",
    "];\n",
    "\n",
    "# Calculate the cell contributions to the extra vectors\n",
    "Th_con1 = Triangulation(model, tags = \"Conductor1\"); Qh_con1 = CellQuadrature(Th_con1, 2*order)\n",
    "Th_con2 = Triangulation(model, tags = \"Conductor2\"); Qh_con2 = CellQuadrature(Th_con2, 2*order)\n",
    "Th_con3 = Triangulation(model, tags = \"Conductor3\"); Qh_con3 = CellQuadrature(Th_con3, 2*order)\n",
    "\n",
    "cellvals_b1T = ∫( (1/(pi*ri^2)) ⋅ dv )*Qh_con1;\n",
    "cellvals_b2T = ∫( (1/(pi*ri^2)) ⋅ dv )*Qh_con2;\n",
    "cellvals_b3T = ∫( (1/(pi*ri^2)) ⋅ dv )*Qh_con3;\n",
    "\n",
    "cellvals_b1  = ∫( (1im * omega * (fsigma ∘ τ)) ⋅ dv )*Qh_con1;\n",
    "cellvals_b2  = ∫( (1im * omega * (fsigma ∘ τ)) ⋅ dv )*Qh_con2;\n",
    "cellvals_b3  = ∫( (1im * omega * (fsigma ∘ τ)) ⋅ dv )*Qh_con3;\n",
    "\n",
    "# Assemble the circuit coupling equations into two extra vectors\n",
    "σk_con1 = get_cell_dof_ids(Uh, Th_con1);\n",
    "σk_con2 = get_cell_dof_ids(Uh, Th_con2);\n",
    "σk_con3 = get_cell_dof_ids(Uh, Th_con3);\n",
    "\n",
    "rs = ([cellvals_b1T], [σk_con1])\n",
    "b1T = allocate_vector(assem, rs)\n",
    "assemble_vector!(b1T, assem, rs);\n",
    "\n",
    "rs = ([cellvals_b2T], [σk_con2])\n",
    "b2T = allocate_vector(assem, rs)\n",
    "assemble_vector!(b2T, assem, rs);\n",
    "\n",
    "rs = ([cellvals_b3T], [σk_con3])\n",
    "b3T = allocate_vector(assem, rs)\n",
    "assemble_vector!(b3T, assem, rs);\n",
    "\n",
    "rs = ([cellvals_b1], [σk_con1])\n",
    "b1 = allocate_vector(assem, rs)\n",
    "assemble_vector!(b1, assem, rs);\n",
    "\n",
    "rs = ([cellvals_b2], [σk_con2])\n",
    "b2 = allocate_vector(assem, rs)\n",
    "assemble_vector!(b2, assem, rs);\n",
    "\n",
    "rs = ([cellvals_b3], [σk_con3])\n",
    "b3 = allocate_vector(assem, rs)\n",
    "assemble_vector!(b3, assem, rs);"
   ]
  },
  {
   "cell_type": "code",
   "execution_count": 14,
   "id": "e4218191",
   "metadata": {},
   "outputs": [],
   "source": [
    "# Create the modified system \\tilde{A} = [A BT; B C] and \\tilde{b} = [b1; b2]\n",
    "At = [A [b1T b2T b3T]; transpose([b1 b2 b3]) C];\n",
    "bt = [b; f2];\n",
    "\n",
    "# Solve the modified linear system and package the solution in a FEFunction\n",
    "u = At \\ bt;\n",
    "uh = FEFunction(Uh, u);"
   ]
  },
  {
   "cell_type": "code",
   "execution_count": 15,
   "id": "53ba49ff",
   "metadata": {},
   "outputs": [],
   "source": [
    "# Post-processing for magnetic field and current density\n",
    "Bh = norm_complex(∇(uh));\n",
    "\n",
    "function fsource(tag)\n",
    "    if tag == tag_con1\n",
    "        return u[end-2] / (pi * ri^2);\n",
    "    elseif tag == tag_con2\n",
    "        return u[end-1] / (pi * ri^2);\n",
    "    elseif tag == tag_con3\n",
    "        return u[end-0] / (pi * ri^2);\n",
    "    else\n",
    "        return 0.0 + 0.0im;\n",
    "    end\n",
    "end\n",
    "\n",
    "J0    = fsource ∘ τ; # Source current density\n",
    "Jeddy = 1im ⋅ omega ⋅ (fsigma ∘ τ) ⋅ mean(uh); # Eddy current density"
   ]
  },
  {
   "cell_type": "code",
   "execution_count": 16,
   "id": "5e46d792",
   "metadata": {},
   "outputs": [
    {
     "data": {
      "text/plain": [
       "([\"images/hvcable_gridap/flat.vtu\"],)"
      ]
     },
     "execution_count": 16,
     "metadata": {},
     "output_type": "execute_result"
    }
   ],
   "source": [
    "writevtk(Th, \"images/hvcable_gridap/flat\", cellfields=[\n",
    "    \"Az\"    => abs(uh), \n",
    "    \"normB\" => Bh,\n",
    "    \"normJ\" => abs(J0 + Jeddy)\n",
    "])"
   ]
  },
  {
   "cell_type": "code",
   "execution_count": 17,
   "id": "217b78a2",
   "metadata": {},
   "outputs": [
    {
     "data": {
      "text/plain": [
       "2.690997413808122e-5"
      ]
     },
     "execution_count": 17,
     "metadata": {},
     "output_type": "execute_result"
    }
   ],
   "source": [
    "dΩc1 = Measure(Th_con1, 2*order);\n",
    "dΩc2 = Measure(Th_con2, 2*order);\n",
    "dΩc3 = Measure(Th_con3, 2*order);\n",
    "\n",
    "Rac1 = ∫( abs(J0 + Jeddy) * abs(J0 + Jeddy) / (fsigma ∘ τ) )*dΩc1;\n",
    "Rac2 = ∫( abs(J0 + Jeddy) * abs(J0 + Jeddy) / (fsigma ∘ τ) )*dΩc2;\n",
    "Rac3 = ∫( abs(J0 + Jeddy) * abs(J0 + Jeddy) / (fsigma ∘ τ) )*dΩc3;\n",
    "\n",
    "I1   = ∑(∫( J0 + Jeddy )dΩc1)\n",
    "I2   = ∑(∫( J0 + Jeddy )dΩc2)\n",
    "I3   = ∑(∫( J0 + Jeddy )dΩc3)\n",
    "\n",
    "Rac1 = real(∑( Rac1 ) / abs(I1)^2)\n",
    "Rac2 = real(∑( Rac2 ) / abs(I2)^2)\n",
    "Rac3 = real(∑( Rac3 ) / abs(I3)^2)"
   ]
  },
  {
   "cell_type": "code",
   "execution_count": 18,
   "id": "3f44b63d",
   "metadata": {},
   "outputs": [
    {
     "name": "stdout",
     "output_type": "stream",
     "text": [
      "Rac1 = 27.29597891102474 uR/m\n",
      "Rac2 = 26.904576740497973 uR/m\n",
      "Rac3 = 26.90997413808122 uR/m\n"
     ]
    }
   ],
   "source": [
    "print(\"Rac1 = $(Rac1*1e6) uR/m\\nRac2 = $(Rac2*1e6) uR/m\\nRac3 = $(Rac3*1e6) uR/m\\n\")"
   ]
  },
  {
   "cell_type": "code",
   "execution_count": 27,
   "id": "f1dfcec7",
   "metadata": {},
   "outputs": [
    {
     "name": "stdout",
     "output_type": "stream",
     "text": [
      "Analytical Rac1 = 27.150588456763764 uR/m\n",
      "Analytical Rac2 = 26.951272176741796 uR/m\n",
      "Analytical Rac3 = 26.951272176741796 uR/m\n"
     ]
    }
   ],
   "source": [
    "Rdc = 1 / (sigma_cond * pi * ri^2);\n",
    "\n",
    "# Skin effect\n",
    "ks = 1\n",
    "xs = sqrt(8*pi*f / Rdc * 1e-7 * ks)\n",
    "ys = xs^4 / (192 + 0.8 * xs^4);\n",
    "if(xs < 0 || xs > 2.8) error(\"Analytical formula not valid for given xs = {xs}\") end\n",
    "\n",
    "# Proximity effect\n",
    "kp = 1\n",
    "xp = sqrt(8*pi*f / Rdc * 1e-7 * kp)\n",
    "ap = xp^4 / (192 + 0.8 * xp^4);\n",
    "\n",
    "yp1 = ap * (2*ri / (4*rj))^2 * (0.312 * (ri / rj)^2 + 1.18 / (ap + 0.27));\n",
    "yp2 = ap * (2*ri / sqrt(4*8*rj^2))^2 * (0.312 * (2*ri / sqrt(4*8*rj^2))^2 + 1.18 / (ap + 0.27));\n",
    "\n",
    "if(xp < 0 || xp > 2.8) error(\"Analytical formula not valid for given xs = {xs}\") end\n",
    "\n",
    "Rac1_a = Rdc * (1 + ys + yp1)\n",
    "Rac2_a = Rdc * (1 + ys + yp2)\n",
    "print(\"Analytical Rac1 = $(Rac1_a * 1e6) uR/m\\n\")\n",
    "print(\"Analytical Rac2 = $(Rac2_a * 1e6) uR/m\\n\")\n",
    "print(\"Analytical Rac3 = $(Rac2_a * 1e6) uR/m\\n\")"
   ]
  },
  {
   "cell_type": "markdown",
   "id": "5455d163",
   "metadata": {},
   "source": [
    "![Flux Density](images/hvcable_gridap/normB_flat.png)"
   ]
  },
  {
   "cell_type": "markdown",
   "id": "35078192",
   "metadata": {},
   "source": [
    "![Current Density](images/hvcable_gridap/normJ_flat.png)"
   ]
  }
 ],
 "metadata": {
  "kernelspec": {
   "display_name": "Julia 1.8.1",
   "language": "julia",
   "name": "julia-1.8"
  },
  "language_info": {
   "file_extension": ".jl",
   "mimetype": "application/julia",
   "name": "julia",
   "version": "1.8.1"
  }
 },
 "nbformat": 4,
 "nbformat_minor": 5
}
