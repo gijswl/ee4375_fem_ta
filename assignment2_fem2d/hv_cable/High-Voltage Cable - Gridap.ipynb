{
 "cells": [
  {
   "cell_type": "code",
   "execution_count": null,
   "id": "mobile-millennium",
   "metadata": {},
   "outputs": [],
   "source": [
    "using Gridap\n",
    "using Gridap.Algebra;\n",
    "using Gridap.FESpaces\n",
    "using Gridap.ReferenceFEs\n",
    "using Gridap.Arrays\n",
    "using Gridap.Geometry\n",
    "using Gridap.Fields\n",
    "using Gridap.CellData\n",
    "\n",
    "using GridapGmsh\n",
    "\n",
    "using LinearAlgebra\n",
    "\n",
    "using FillArrays\n",
    "using SparseArrays"
   ]
  },
  {
   "cell_type": "markdown",
   "id": "stock-commodity",
   "metadata": {},
   "source": [
    "# Geometry"
   ]
  },
  {
   "cell_type": "code",
   "execution_count": null,
   "id": "dynamic-amplifier",
   "metadata": {},
   "outputs": [],
   "source": [
    "ri = 19.1e-3;   # Cable inner radius\n",
    "ro = 37.5e-3;   # Cable outer radius\n",
    "\n",
    "lc1 = 2e-3;      # Mesh density at outside of cable\n",
    "lc2 = 0.1e-3;   # Mesh density at the conductor edge"
   ]
  },
  {
   "cell_type": "code",
   "execution_count": null,
   "id": "sixth-nursery",
   "metadata": {},
   "outputs": [],
   "source": [
    "gmsh.finalize()\n",
    "gmsh.initialize()\n",
    "\n",
    "gmsh.option.setNumber(\"General.Terminal\", 1)\n",
    "gmsh.model.add(\"cable_skin\")\n",
    "\n",
    "# Points\n",
    "gmsh.model.geo.addPoint(0, 0, 0, lc1, 1);\n",
    "gmsh.model.geo.addPoint(ri, 0, 0, lc2, 2);\n",
    "gmsh.model.geo.addPoint(ro, 0, 0, lc1, 3);\n",
    "gmsh.model.geo.addPoint(0, ri, 0, lc2, 4);\n",
    "gmsh.model.geo.addPoint(0, ro, 0, lc1, 5);\n",
    "\n",
    "# Lines\n",
    "gmsh.model.geo.addLine(1, 2, 1);\n",
    "gmsh.model.geo.addLine(2, 3, 2);\n",
    "gmsh.model.geo.addLine(1, 4, 3);\n",
    "gmsh.model.geo.addLine(4, 5, 4);\n",
    "gmsh.model.geo.addCircleArc(2, 1, 4, 5);\n",
    "gmsh.model.geo.addCircleArc(3, 1, 5, 6);\n",
    "\n",
    "# Surfaces\n",
    "gmsh.model.geo.addCurveLoop([1, 5, -3], 1)\n",
    "gmsh.model.geo.addCurveLoop([2, 6, -4, -5], 2)\n",
    "\n",
    "gmsh.model.geo.addPlaneSurface([1], 1)\n",
    "gmsh.model.geo.addPlaneSurface([2], 2)\n",
    "\n",
    "# Physics\n",
    "#  Dirichlet boundary on outside of cable\n",
    "gmsh.model.addPhysicalGroup(0, [3, 5], 1)\n",
    "gmsh.model.setPhysicalName(0, 1, \"D1p\")\n",
    "gmsh.model.addPhysicalGroup(1, [6], 1)\n",
    "gmsh.model.setPhysicalName(1, 1, \"D1\")\n",
    "\n",
    "#  Neumann boundary on two insides\n",
    "gmsh.model.addPhysicalGroup(0, [1, 2, 4], 2)\n",
    "gmsh.model.setPhysicalName(0, 2, \"N1p\")\n",
    "gmsh.model.addPhysicalGroup(1, [1, 2, 3, 4], 2)\n",
    "gmsh.model.setPhysicalName(1, 2, \"N1\")\n",
    "\n",
    "#  Material groups\n",
    "gmsh.model.addPhysicalGroup(2, [1], 1)\n",
    "gmsh.model.setPhysicalName(2, 1, \"conductor\")\n",
    "gmsh.model.addPhysicalGroup(2, [2], 2)\n",
    "gmsh.model.setPhysicalName(2, 2, \"insulator\")\n",
    "\n",
    "# Generate mesh\n",
    "gmsh.model.geo.synchronize()\n",
    "gmsh.model.mesh.generate(2)\n",
    "\n",
    "gmsh.write(\"geo/hv_cable.msh\")"
   ]
  },
  {
   "cell_type": "markdown",
   "id": "professional-petroleum",
   "metadata": {},
   "source": [
    "# Problem Setup"
   ]
  },
  {
   "cell_type": "code",
   "execution_count": null,
   "id": "structural-alaska",
   "metadata": {},
   "outputs": [],
   "source": [
    "I = 1000;             # Current in the cable [A]\n",
    "\n",
    "mu0 = 4*pi*1e-7;      # Permeability of vacuum\n",
    "f = 50;               # Frequency of the time-harmonic current\n",
    "omega = 2*pi*f;      \n",
    "\n",
    "sigma_cond = 3.69e7;  # Conductivity of aluminium"
   ]
  },
  {
   "cell_type": "markdown",
   "id": "sublime-network",
   "metadata": {},
   "source": [
    "# Gridap Setup"
   ]
  },
  {
   "cell_type": "code",
   "execution_count": null,
   "id": "gross-cheat",
   "metadata": {},
   "outputs": [],
   "source": [
    "# Define norm of a complex vector for Gridap to use on the CellField which results from Bh = ∇(uh)\n",
    "norm_complex(a::VectorValue{2, ComplexF64}) = sqrt(norm(a[1])^2 + norm(a[2])^2)\n",
    "norm_complex(a::CellField) = Operation(norm_complex)(a)"
   ]
  },
  {
   "cell_type": "markdown",
   "id": "extensive-housing",
   "metadata": {},
   "source": [
    "# Gridap Implementation"
   ]
  },
  {
   "cell_type": "code",
   "execution_count": null,
   "id": "aquatic-prospect",
   "metadata": {},
   "outputs": [],
   "source": [
    "# Load geometry from gmsh\n",
    "model = GmshDiscreteModel(\"geo/hv_cable.msh\")"
   ]
  },
  {
   "cell_type": "code",
   "execution_count": null,
   "id": "processed-prerequisite",
   "metadata": {},
   "outputs": [],
   "source": [
    "# Create a reference Lagrangian finite element space to use for the construction of test space V0\n",
    "order = 2\n",
    "reffe = LagrangianRefFE(Float64, Polytope(Fill(TET_AXIS, 2)...), order)\n",
    "\n",
    "# Define the test space Vh and trial space Uh\n",
    "Vh = FESpace(model, reffe; conformity=:H1, dirichlet_tags = [\"D1\", \"D1p\"], vector_type=Vector{ComplexF64})\n",
    "Uh = TrialFESpace(Vh, [0, 0])\n",
    "\n",
    "# Extract the triangulation from the model and create a quadrature on the cells (should be >2*order for exact integration of the mass matrix)\n",
    "Th = Triangulation(model)\n",
    "Qh = CellQuadrature(Th, 2*order)"
   ]
  },
  {
   "cell_type": "code",
   "execution_count": null,
   "id": "intensive-belief",
   "metadata": {},
   "outputs": [],
   "source": [
    "labels = get_face_labeling(model)\n",
    "dimension = num_cell_dims(model)\n",
    "tags = get_face_tag(labels, dimension)\n",
    "\n",
    "# Construct a cell field consisting of the physical domain tags\n",
    "τ = CellField(tags, Th)\n",
    "\n",
    "const tag_cond = get_tag_from_name(labels, \"conductor\");\n",
    "\n",
    "function fsource(tag)\n",
    "    return 0.0;\n",
    "end\n",
    "\n",
    "function fsigma(tag)\n",
    "    if tag == tag_cond\n",
    "        return sigma_cond;\n",
    "    else\n",
    "        return 0.0;\n",
    "    end\n",
    "end\n",
    "\n",
    "function fmur(tag)\n",
    "    return 1.0;\n",
    "end\n",
    "\n",
    "function fnu(tag)\n",
    "    return 1 / (mu0 * fmur(tag))\n",
    "end\n"
   ]
  },
  {
   "cell_type": "code",
   "execution_count": null,
   "id": "happy-driving",
   "metadata": {},
   "outputs": [],
   "source": [
    "dv = get_fe_basis(Vh);\n",
    "du = get_trial_fe_basis(Uh);\n",
    "\n",
    "# Calculate contributions of the cells to the linear system\n",
    "cellvals_A = ∫( (fnu ∘ τ) ⋅ ∇(du) ⋅ ∇(dv) - 1im * omega * (fsigma ∘ τ) ⋅ du ⋅ dv )*Qh;\n",
    "cellvals_f = ∫( (fsource ∘ τ) ⋅ dv )*Qh;\n",
    "\n",
    "# Assemble the linear system\n",
    "assem = SparseMatrixAssembler(Uh, Vh)\n",
    "σk = get_cell_dof_ids(Uh);\n",
    "\n",
    "rs = ([cellvals_f], [σk]);\n",
    "b = allocate_vector(assem, rs);\n",
    "assemble_vector!(b, assem, rs);\n",
    "\n",
    "rs = ([cellvals_A], [σk], [σk]);\n",
    "A = allocate_matrix(assem, rs);\n",
    "assemble_matrix!(A, assem, rs);"
   ]
  },
  {
   "cell_type": "code",
   "execution_count": null,
   "id": "legislative-amsterdam",
   "metadata": {},
   "outputs": [],
   "source": [
    "# Extend the linear system with an additional row and column per circuit equation\n",
    "N  = num_free_dofs(Uh);\n",
    "nc = 1;\n",
    "\n",
    "C = Matrix(UniformScaling(1), nc, nc);\n",
    "b2 = [I / 4];\n",
    "\n",
    "# Calculate the cell contributions to the extra vectors\n",
    "Thc = Triangulation(model, tags = \"conductor\")\n",
    "Qhc = CellQuadrature(Thc, 2*order)\n",
    "cellvals_BT = ∫( (4/(pi*ri^2)) ⋅ dv )*Qhc;\n",
    "cellvals_B  = ∫( (1im * omega * (fsigma ∘ τ)) ⋅ dv )*Qhc;\n",
    "\n",
    "# Assemble the circuit coupling equations into two extra vectors\n",
    "σck = get_cell_dof_ids(Uh, Thc);\n",
    "\n",
    "rs = ([cellvals_BT], [σck])\n",
    "BT = allocate_vector(assem, rs)\n",
    "assemble_vector!(BT, assem, rs);\n",
    "\n",
    "rs = ([cellvals_B], [σck])\n",
    "B = allocate_vector(assem, rs)\n",
    "assemble_vector!(B, assem, rs);"
   ]
  },
  {
   "cell_type": "code",
   "execution_count": null,
   "id": "horizontal-underground",
   "metadata": {},
   "outputs": [],
   "source": [
    "# Create the modified system \\tilde{A} = [A BT; B C] and \\tilde{b} = [b1; b2]\n",
    "At = [A BT; transpose(B) C];\n",
    "bt = [b; b2];\n",
    "\n",
    "# Solve the modified linear system and package the solution in a FEFunction\n",
    "u = At \\ bt;\n",
    "uh = FEFunction(Uh, u);"
   ]
  },
  {
   "cell_type": "code",
   "execution_count": null,
   "id": "satellite-hunter",
   "metadata": {},
   "outputs": [],
   "source": [
    "# Post-processing for magnetic field and current density\n",
    "Bh = norm_complex(gradient(uh));\n",
    "\n",
    "function fsource(tag)\n",
    "    if tag == tag_cond\n",
    "        return 4 * u[end] / (pi * ri^2);\n",
    "    else\n",
    "        return 0.0;\n",
    "    end\n",
    "end\n",
    "\n",
    "J0    = fsource ∘ τ; # Source current density\n",
    "Jeddy = 1im ⋅ omega ⋅ (fsigma ∘ τ) ⋅ mean(uh); # Eddy current density"
   ]
  },
  {
   "cell_type": "code",
   "execution_count": null,
   "id": "conservative-maldives",
   "metadata": {},
   "outputs": [],
   "source": [
    "writevtk(Th, \"images/hvcable_gridap/cable_50Hz\", cellfields=[\"Az\"=>abs(uh), \"normB\" => Bh, \"normJ\" => abs(J0 + Jeddy)])"
   ]
  },
  {
   "cell_type": "markdown",
   "id": "republican-joseph",
   "metadata": {},
   "source": [
    "At $f = 0\\,\\mathrm{Hz}$, the current is distributed uniformly. This is as expected, because there is no skin effect.\n",
    "![Current Density: DC](images/hvcable_gridap/normJ_0Hz.png)"
   ]
  },
  {
   "cell_type": "markdown",
   "id": "cloudy-memphis",
   "metadata": {},
   "source": [
    "At $f = 50\\,\\mathrm{Hz}$, the current begins to move outward due to the increasing skin effect.\n",
    "![Current Density: 50Hz](images/hvcable_gridap/normJ_50Hz.png)"
   ]
  },
  {
   "cell_type": "markdown",
   "id": "increased-generic",
   "metadata": {},
   "source": [
    "At $f = 1\\,\\mathrm{kHz}$, most of the current now flows along the surface of the conductor. The middle barely participates in the conduction process. The skin depth is approximately $\\delta = 2.6\\,\\mathrm{mm}$.\n",
    "![Current Density: 1kHz](images/hvcable_gridap/normJ_1kHz.png)"
   ]
  }
 ],
 "metadata": {
  "kernelspec": {
   "display_name": "Julia 1.8.1",
   "language": "julia",
   "name": "julia-1.8"
  },
  "language_info": {
   "file_extension": ".jl",
   "mimetype": "application/julia",
   "name": "julia",
   "version": "1.8.1"
  }
 },
 "nbformat": 4,
 "nbformat_minor": 5
}
