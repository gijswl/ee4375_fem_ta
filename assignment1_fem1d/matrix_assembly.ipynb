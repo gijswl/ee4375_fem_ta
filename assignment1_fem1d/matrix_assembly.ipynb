{
 "cells": [
  {
   "cell_type": "markdown",
   "id": "rough-service",
   "metadata": {},
   "source": [
    "# Matrix Assembly\n",
    "After generating the mesh and defining the domain properties (source function, diffusion coefficient, etc.), we must assemble the linear system $A u = f$, where $A$ is an $N \\times N$ matrix, $f$ is an $N$-element vector representing the source, and $u$ is the unknown.\n",
    "\n",
    "In a different notebook, we showed that each element of the mesh contributes to the $A$ matrix and $f$ vector by an elementary contribution $A_{e_i}$ and $f_{e_i}$. Our task is now to assemble these elementry contributions into the global matrices in an efficient manner. In this notebook, we will show different methods of performing this assembly."
   ]
  },
  {
   "cell_type": "code",
   "execution_count": 1,
   "id": "improved-evening",
   "metadata": {},
   "outputs": [],
   "source": [
    "using LinearAlgebra, SparseArrays\n",
    "using StructArrays\n",
    "\n",
    "using BenchmarkTools"
   ]
  },
  {
   "cell_type": "markdown",
   "id": "accepted-control",
   "metadata": {},
   "source": [
    "Using `generate_mesh` we can generate an 1D mesh on the domain $[0, 1]$ with an arbitrary number of elements $N_{el}$. This will be used for testing and benchmarking the matrix assembly functions."
   ]
  },
  {
   "cell_type": "code",
   "execution_count": 2,
   "id": "universal-judgment",
   "metadata": {},
   "outputs": [
    {
     "data": {
      "text/plain": [
       "generate_mesh (generic function with 1 method)"
      ]
     },
     "execution_count": 2,
     "metadata": {},
     "output_type": "execute_result"
    }
   ],
   "source": [
    "struct Element\n",
    "    p1::Float64\n",
    "    p2::Float64\n",
    "    e1::Int64\n",
    "    e2::Int64\n",
    "end \n",
    "\n",
    "function generate_mesh(Nel)\n",
    "    x = 0:1/Nel:1;\n",
    "\n",
    "    # Collect points (left and right nodes for each element) and edges (connectivity: indices of left and right nodes)\n",
    "    N = length(x);\n",
    "    points = collect( [x[i], x[i+1]] for i in 1:N-1) \n",
    "    edges  = collect( [i, i+1] for i in 1:N-1); \n",
    "\n",
    "    elem_ids = 1:length(edges)\n",
    "    e_group = ones(size(edges));\n",
    "    \n",
    "    #..Set the source function \n",
    "    fsource(group_id) = 1;\n",
    "    fsource_elem = map(fsource, e_group);\n",
    "\n",
    "    # Generate a struct array with the required data per element\n",
    "    mesh = StructArray{Element}((x[1:end-1], x[2:end], Vector(1:N-1), Vector(2:N)))\n",
    "\n",
    "    return mesh, N, elem_ids, fsource_elem\n",
    "end"
   ]
  },
  {
   "cell_type": "markdown",
   "id": "tamil-coaching",
   "metadata": {},
   "source": [
    "## Triple Loop\n",
    "The most naive implementation of matrix assembly is to loop over all the elements and for each element calculate the the local contribution and add it to the global matrix. This addition can be done in two ways:\n",
    "- By looping over the rows and columns of the local contributions (need two extra loops, hence triple loop assembly)\n",
    "- By adding the local contribution directly using proper matrix indexing (single loop, see below)\n",
    "\n",
    "Note that this approach has poor performance because a complete (dense) $N \\times N$ matrix must be allocated. This is quite a waste of memory because $A$ is sparse. Defining $A$ as sparse, e.g. using `spzeros` will definitely not improve performance because it is very expensive to perform operations on only parts of a sparse matrix, especially because it will change the sparsity pattern in this case."
   ]
  },
  {
   "cell_type": "code",
   "execution_count": 3,
   "id": "centered-skiing",
   "metadata": {},
   "outputs": [
    {
     "data": {
      "text/plain": [
       "assemble_matrices (generic function with 1 method)"
      ]
     },
     "execution_count": 3,
     "metadata": {},
     "output_type": "execute_result"
    }
   ],
   "source": [
    "function assemble_matrices(mesh, N, fsource_elem)\n",
    "    #..Initialize global matrix and right-hand side value \n",
    "    A = zeros(Float64, N, N);\n",
    "    f = zeros(Float64, N); \n",
    "\n",
    "    #..Perform loop over elements and assemble global matrix and vector \n",
    "    @inbounds for (i, el) = enumerate(mesh)\n",
    "        xl = el.p1; xr = el.p2;\n",
    "        j  = el.e1; k  = el.e2;        \n",
    "        h = xr - xl;\n",
    "\n",
    "        # Compute the elementary contributions (P1 elements)\n",
    "        floc = fsource_elem[i] * h / 2 * [1; 1];\n",
    "        Aloc = 1 / h * [1 -1; -1 1];\n",
    "\n",
    "        #....perform loop over nodes of the current element\n",
    "        #....and add local contribution Aloc to global matrix entity A\n",
    "        nodes = [j, k]\n",
    "        for x = 1:2\n",
    "            I     = nodes[x];\n",
    "            f[I] += floc[x]\n",
    "            for y = 1:2\n",
    "                J = nodes[y];\n",
    "                A[I,J] += Aloc[x, y]\n",
    "            end\n",
    "        end\n",
    "\n",
    "    end\n",
    "\n",
    "    #..handle the boundary conditions in the matrix and right-hand side vector \n",
    "    A[1,:]   = zeros(N);  A[1,1]     = 1;      f[1]   = 0;\n",
    "    A[end,:] = zeros(N);  A[end,end] = 1;      f[end] = 0;\n",
    "    \n",
    "    return A, f\n",
    "end"
   ]
  },
  {
   "cell_type": "code",
   "execution_count": 4,
   "id": "athletic-composition",
   "metadata": {},
   "outputs": [
    {
     "data": {
      "text/plain": [
       "BenchmarkTools.Trial: 24 samples with 1 evaluation.\n",
       " Range \u001b[90m(\u001b[39m\u001b[36m\u001b[1mmin\u001b[22m\u001b[39m … \u001b[35mmax\u001b[39m\u001b[90m):  \u001b[39m\u001b[36m\u001b[1m132.372 ms\u001b[22m\u001b[39m … \u001b[35m304.859 ms\u001b[39m  \u001b[90m┊\u001b[39m GC \u001b[90m(\u001b[39mmin … max\u001b[90m): \u001b[39m 0.00% … 35.00%\n",
       " Time  \u001b[90m(\u001b[39m\u001b[34m\u001b[1mmedian\u001b[22m\u001b[39m\u001b[90m):     \u001b[39m\u001b[34m\u001b[1m197.116 ms               \u001b[22m\u001b[39m\u001b[90m┊\u001b[39m GC \u001b[90m(\u001b[39mmedian\u001b[90m):    \u001b[39m16.21%\n",
       " Time  \u001b[90m(\u001b[39m\u001b[32m\u001b[1mmean\u001b[22m\u001b[39m ± \u001b[32mσ\u001b[39m\u001b[90m):   \u001b[39m\u001b[32m\u001b[1m211.343 ms\u001b[22m\u001b[39m ± \u001b[32m 59.385 ms\u001b[39m  \u001b[90m┊\u001b[39m GC \u001b[90m(\u001b[39mmean ± σ\u001b[90m):  \u001b[39m25.09% ± 20.86%\n",
       "\n",
       "  \u001b[39m▁\u001b[39m \u001b[39m \u001b[39m \u001b[39m \u001b[39m \u001b[39m \u001b[39m \u001b[39m \u001b[39m \u001b[39m \u001b[39m \u001b[39m \u001b[39m \u001b[39m█\u001b[39m \u001b[39m \u001b[39m \u001b[39m \u001b[39m \u001b[39m \u001b[39m \u001b[39m \u001b[34m \u001b[39m\u001b[39m \u001b[39m \u001b[39m \u001b[39m \u001b[32m \u001b[39m\u001b[39m \u001b[39m \u001b[39m \u001b[39m \u001b[39m \u001b[39m \u001b[39m \u001b[39m \u001b[39m▁\u001b[39m \u001b[39m \u001b[39m \u001b[39m \u001b[39m \u001b[39m \u001b[39m \u001b[39m \u001b[39m \u001b[39m \u001b[39m \u001b[39m \u001b[39m \u001b[39m \u001b[39m \u001b[39m \u001b[39m \u001b[39m \u001b[39m \u001b[39m \u001b[39m \u001b[39m \u001b[39m▄\u001b[39m \u001b[39m \n",
       "  \u001b[39m█\u001b[39m▆\u001b[39m▆\u001b[39m▁\u001b[39m▁\u001b[39m▁\u001b[39m▆\u001b[39m▁\u001b[39m▆\u001b[39m▁\u001b[39m▁\u001b[39m▁\u001b[39m▁\u001b[39m▁\u001b[39m█\u001b[39m▁\u001b[39m▁\u001b[39m▁\u001b[39m▁\u001b[39m▆\u001b[39m▁\u001b[39m▁\u001b[39m▆\u001b[34m▆\u001b[39m\u001b[39m▁\u001b[39m▁\u001b[39m▁\u001b[39m▁\u001b[32m▁\u001b[39m\u001b[39m▁\u001b[39m▁\u001b[39m▁\u001b[39m▁\u001b[39m▁\u001b[39m▁\u001b[39m▁\u001b[39m▆\u001b[39m█\u001b[39m▆\u001b[39m▆\u001b[39m▁\u001b[39m▁\u001b[39m▁\u001b[39m▁\u001b[39m▁\u001b[39m▁\u001b[39m▁\u001b[39m▁\u001b[39m▁\u001b[39m▁\u001b[39m▁\u001b[39m▆\u001b[39m▆\u001b[39m▆\u001b[39m▁\u001b[39m▁\u001b[39m▁\u001b[39m▁\u001b[39m▁\u001b[39m▁\u001b[39m█\u001b[39m \u001b[39m▁\n",
       "  132 ms\u001b[90m           Histogram: frequency by time\u001b[39m          305 ms \u001b[0m\u001b[1m<\u001b[22m\n",
       "\n",
       " Memory estimate\u001b[90m: \u001b[39m\u001b[33m767.90 MiB\u001b[39m, allocs estimate\u001b[90m: \u001b[39m\u001b[33m60009\u001b[39m."
      ]
     },
     "execution_count": 4,
     "metadata": {},
     "output_type": "execute_result"
    }
   ],
   "source": [
    "mesh, N, elem_ids, fsource_elem = generate_mesh(10000);\n",
    "\n",
    "@benchmark A, f = assemble_matrices(mesh, N, fsource_elem)"
   ]
  },
  {
   "cell_type": "code",
   "execution_count": 5,
   "id": "progressive-motorcycle",
   "metadata": {},
   "outputs": [
    {
     "name": "stdout",
     "output_type": "stream",
     "text": [
      "  135.945 ms (60009 allocations: 767.90 MiB)\n"
     ]
    },
    {
     "data": {
      "text/plain": [
       "([1.0 0.0 … 0.0 0.0; -10000.0 20000.0 … 0.0 0.0; … ; 0.0 0.0 … 20000.0000000022 -10000.0000000011; 0.0 0.0 … 0.0 1.0], [0.0, 0.0001, 9.999999999999999e-5, 0.0001, 0.00010000000000000002, 9.999999999999996e-5, 9.999999999999999e-5, 0.00010000000000000005, 9.999999999999999e-5, 9.999999999999999e-5  …  9.999999999998899e-5, 9.999999999998899e-5, 9.999999999998899e-5, 0.0001000000000000445, 0.0001000000000000445, 9.999999999998899e-5, 9.999999999998899e-5, 9.999999999998899e-5, 9.999999999998899e-5, 0.0])"
      ]
     },
     "execution_count": 5,
     "metadata": {},
     "output_type": "execute_result"
    }
   ],
   "source": [
    "@btime A, f = assemble_matrices(mesh, N, fsource_elem)"
   ]
  },
  {
   "cell_type": "markdown",
   "id": "fresh-ideal",
   "metadata": {},
   "source": [
    "## Single Loop\n",
    "The single loop assembly is very similar to the triple loop shown above. Instead of looping over the local contribution, we add it into the matrices directly:\n",
    "```julia\n",
    "f[nodes]        += floc;\n",
    "A[nodes, nodes] += Aloc;\n",
    "```\n",
    "where `nodes` is a two-element vector containing the left and right node of the element: $[x_l, x_r]$. Although this is more expressive than the triple loop, the benchmark shows that it decreases performance by a little bit."
   ]
  },
  {
   "cell_type": "code",
   "execution_count": 6,
   "id": "velvet-deputy",
   "metadata": {},
   "outputs": [
    {
     "data": {
      "text/plain": [
       "assemble_matrices (generic function with 1 method)"
      ]
     },
     "execution_count": 6,
     "metadata": {},
     "output_type": "execute_result"
    }
   ],
   "source": [
    "function assemble_matrices(mesh, N, fsource_elem)    \n",
    "    #..Initialize global matrix and right-hand side value \n",
    "    A = zeros(Float64, N, N);\n",
    "    f = zeros(Float64, N); \n",
    "\n",
    "    #..Perform loop over elements and assemble global matrix and vector \n",
    "    @inbounds for (i, el) = enumerate(mesh)\n",
    "        xl = el.p1; xr = el.p2;\n",
    "        j  = el.e1; k  = el.e2;        \n",
    "        h = xr - xl;\n",
    "\n",
    "        # Compute the elementary contributions (P1 elements)\n",
    "        floc = fsource_elem[i] * h / 2 * [1; 1];\n",
    "        Aloc = 1 / h * [1 -1; -1 1];\n",
    "\n",
    "        # Add local contributions to the global matrix\n",
    "        nodes = [j, k];\n",
    "        f[nodes]        += floc;\n",
    "        A[nodes, nodes] += Aloc;\n",
    "    end\n",
    "\n",
    "    #..handle the boundary conditions in the matrix and right-hand side vector \n",
    "    A[1,:]   = zeros(N);  A[1,1]     = 1;      f[1]   = 0;\n",
    "    A[end,:] = zeros(N);  A[end,end] = 1;      f[end] = 0;\n",
    "    \n",
    "    return A, f\n",
    "end"
   ]
  },
  {
   "cell_type": "code",
   "execution_count": 7,
   "id": "hundred-fifty",
   "metadata": {},
   "outputs": [
    {
     "data": {
      "text/plain": [
       "BenchmarkTools.Trial: 21 samples with 1 evaluation.\n",
       " Range \u001b[90m(\u001b[39m\u001b[36m\u001b[1mmin\u001b[22m\u001b[39m … \u001b[35mmax\u001b[39m\u001b[90m):  \u001b[39m\u001b[36m\u001b[1m136.073 ms\u001b[22m\u001b[39m … \u001b[35m340.459 ms\u001b[39m  \u001b[90m┊\u001b[39m GC \u001b[90m(\u001b[39mmin … max\u001b[90m): \u001b[39m 0.00% … 51.80%\n",
       " Time  \u001b[90m(\u001b[39m\u001b[34m\u001b[1mmedian\u001b[22m\u001b[39m\u001b[90m):     \u001b[39m\u001b[34m\u001b[1m188.546 ms               \u001b[22m\u001b[39m\u001b[90m┊\u001b[39m GC \u001b[90m(\u001b[39mmedian\u001b[90m):    \u001b[39m 1.93%\n",
       " Time  \u001b[90m(\u001b[39m\u001b[32m\u001b[1mmean\u001b[22m\u001b[39m ± \u001b[32mσ\u001b[39m\u001b[90m):   \u001b[39m\u001b[32m\u001b[1m217.885 ms\u001b[22m\u001b[39m ± \u001b[32m 68.220 ms\u001b[39m  \u001b[90m┊\u001b[39m GC \u001b[90m(\u001b[39mmean ± σ\u001b[90m):  \u001b[39m26.10% ± 21.99%\n",
       "\n",
       "  \u001b[39m \u001b[39m \u001b[39m \u001b[39m \u001b[39m▃\u001b[39m \u001b[39m \u001b[39m \u001b[39m \u001b[39m \u001b[39m \u001b[39m█\u001b[34m \u001b[39m\u001b[39m \u001b[39m \u001b[39m▃\u001b[39m \u001b[39m \u001b[39m \u001b[39m \u001b[39m \u001b[39m \u001b[39m \u001b[39m \u001b[32m \u001b[39m\u001b[39m \u001b[39m \u001b[39m \u001b[39m \u001b[39m \u001b[39m \u001b[39m \u001b[39m \u001b[39m \u001b[39m \u001b[39m \u001b[39m \u001b[39m \u001b[39m \u001b[39m \u001b[39m \u001b[39m \u001b[39m \u001b[39m \u001b[39m \u001b[39m \u001b[39m \u001b[39m \u001b[39m \u001b[39m \u001b[39m \u001b[39m \u001b[39m \u001b[39m \u001b[39m \u001b[39m \u001b[39m \u001b[39m \u001b[39m \u001b[39m \u001b[39m \u001b[39m \u001b[39m \n",
       "  \u001b[39m▇\u001b[39m▇\u001b[39m▁\u001b[39m▇\u001b[39m█\u001b[39m▁\u001b[39m▁\u001b[39m▇\u001b[39m▁\u001b[39m▁\u001b[39m▁\u001b[39m█\u001b[34m▇\u001b[39m\u001b[39m▁\u001b[39m▁\u001b[39m█\u001b[39m▁\u001b[39m▁\u001b[39m▁\u001b[39m▁\u001b[39m▁\u001b[39m▁\u001b[39m▁\u001b[39m▁\u001b[32m▁\u001b[39m\u001b[39m▁\u001b[39m▁\u001b[39m▁\u001b[39m▁\u001b[39m▁\u001b[39m▁\u001b[39m▁\u001b[39m▇\u001b[39m▁\u001b[39m▇\u001b[39m▁\u001b[39m▁\u001b[39m▇\u001b[39m▁\u001b[39m▁\u001b[39m▁\u001b[39m▁\u001b[39m▁\u001b[39m▇\u001b[39m▁\u001b[39m▁\u001b[39m▁\u001b[39m▇\u001b[39m▁\u001b[39m▇\u001b[39m▁\u001b[39m▇\u001b[39m▁\u001b[39m▁\u001b[39m▁\u001b[39m▇\u001b[39m▁\u001b[39m▁\u001b[39m▁\u001b[39m▁\u001b[39m▇\u001b[39m \u001b[39m▁\n",
       "  136 ms\u001b[90m           Histogram: frequency by time\u001b[39m          340 ms \u001b[0m\u001b[1m<\u001b[22m\n",
       "\n",
       " Memory estimate\u001b[90m: \u001b[39m\u001b[33m771.26 MiB\u001b[39m, allocs estimate\u001b[90m: \u001b[39m\u001b[33m100009\u001b[39m."
      ]
     },
     "execution_count": 7,
     "metadata": {},
     "output_type": "execute_result"
    }
   ],
   "source": [
    "mesh, N, elem_ids, fsource_elem = generate_mesh(10000);\n",
    "\n",
    "@benchmark A, f = assemble_matrices(mesh, N, fsource_elem)"
   ]
  },
  {
   "cell_type": "code",
   "execution_count": 8,
   "id": "ceramic-hamilton",
   "metadata": {},
   "outputs": [
    {
     "name": "stdout",
     "output_type": "stream",
     "text": [
      "  134.222 ms (100009 allocations: 771.26 MiB)\n"
     ]
    },
    {
     "data": {
      "text/plain": [
       "([1.0 0.0 … 0.0 0.0; -10000.0 20000.0 … 0.0 0.0; … ; 0.0 0.0 … 20000.0000000022 -10000.0000000011; 0.0 0.0 … 0.0 1.0], [0.0, 0.0001, 9.999999999999999e-5, 0.0001, 0.00010000000000000002, 9.999999999999996e-5, 9.999999999999999e-5, 0.00010000000000000005, 9.999999999999999e-5, 9.999999999999999e-5  …  9.999999999998899e-5, 9.999999999998899e-5, 9.999999999998899e-5, 0.0001000000000000445, 0.0001000000000000445, 9.999999999998899e-5, 9.999999999998899e-5, 9.999999999998899e-5, 9.999999999998899e-5, 0.0])"
      ]
     },
     "execution_count": 8,
     "metadata": {},
     "output_type": "execute_result"
    }
   ],
   "source": [
    "@btime A, f = assemble_matrices(mesh, N, fsource_elem)"
   ]
  },
  {
   "cell_type": "markdown",
   "id": "integrated-awareness",
   "metadata": {},
   "source": [
    "## Single Loop with Pre-allocation\n",
    "If the matrices need to be assembled many times (for example, for each linear solver step in a non-linear problem), it is very inefficient to allocate a new matrix for each step. Instead, we can _preallocate_ $A$ and $f$. To save memory, we let $A$ be a sparse matrix in this case. In the preallocation, we also create the correct sparsity pattern based on the mesh."
   ]
  },
  {
   "cell_type": "code",
   "execution_count": 9,
   "id": "outdoor-breakfast",
   "metadata": {},
   "outputs": [
    {
     "data": {
      "text/plain": [
       "prealloc_matrix (generic function with 1 method)"
      ]
     },
     "execution_count": 9,
     "metadata": {},
     "output_type": "execute_result"
    }
   ],
   "source": [
    "function prealloc_matrix(mesh, N)\n",
    "    # Initialize vectors for sparse matrix construction\n",
    "    I = zeros(Int64, 4 * (N - 1))\n",
    "    J = similar(I);\n",
    "    V = zeros(Float64, length(I));\n",
    "    \n",
    "    # Allocate f vector\n",
    "    f = zeros(N)\n",
    "    \n",
    "    @inbounds for (i, el) = enumerate(mesh)\n",
    "        idx = 4*(i-1) + 1 : 4*i;\n",
    "        j  = el.e1; k  = el.e2;\n",
    "        \n",
    "        I[idx] = [j, k, j, k];\n",
    "        J[idx] = [j, j, k, k];\n",
    "        V[idx] = [1 1 1 1];      # The values are unimportant, just for allocating sparsity pattern\n",
    "    end\n",
    "    \n",
    "    # Create sparse matrix and zero all the entries\n",
    "    # The sparsity pattern stays intact\n",
    "    A = sparse(I, J, V)\n",
    "    fill!(A.nzval, 0)\n",
    "    \n",
    "    return A, f;\n",
    "end"
   ]
  },
  {
   "cell_type": "markdown",
   "id": "through-foster",
   "metadata": {},
   "source": [
    "Next, we can use an in-place function to insert the correct values in $A$ and $f$. A triple loop is used here because benchmarking has shown that this is much more efficient (for sparse matrices especially) than using the vector indexing in the single-loop assembly.\n",
    "\n",
    "Note that we must fill the matrix and vector with zero before we start assembly."
   ]
  },
  {
   "cell_type": "code",
   "execution_count": 10,
   "id": "limited-shopping",
   "metadata": {},
   "outputs": [
    {
     "data": {
      "text/plain": [
       "assemble_matrices! (generic function with 1 method)"
      ]
     },
     "execution_count": 10,
     "metadata": {},
     "output_type": "execute_result"
    }
   ],
   "source": [
    "function assemble_matrices!(A, f, mesh, fsource_elem)\n",
    "    fill!(A.nzval, 0)\n",
    "    fill!(f, 0)\n",
    "    \n",
    "    Aloc = zeros(2, 2)\n",
    "    floc = zeros(2)\n",
    "    \n",
    "    #..Perform loop over elements and assemble global matrix and vector \n",
    "    @inbounds for (i, el) = enumerate(mesh)\n",
    "        xl = el.p1; xr = el.p2;\n",
    "        j  = el.e1; k  = el.e2;        \n",
    "        h = xr - xl;\n",
    "\n",
    "        # Compute the elementary contributions (P1 elements)\n",
    "        floc[:] = fsource_elem[i] * h / 2 * [1; 1];\n",
    "        Aloc[:] = 1 / h * [1 -1; -1 1];\n",
    "\n",
    "        # Add local contributions to the global matrix\n",
    "        nodes = [j, k];\n",
    "        for x = 1:2\n",
    "            I     = nodes[x];\n",
    "            f[I] += floc[x]\n",
    "            for y = 1:2\n",
    "                J = nodes[y];\n",
    "                A[I,J] += Aloc[x, y]\n",
    "            end\n",
    "        end\n",
    "    end\n",
    "    \n",
    "    #..handle the boundary conditions in the matrix and right-hand side vector \n",
    "    A[1,:]   = zeros(N);  A[1,1]     = 1;      f[1]   = 0;\n",
    "    A[end,:] = zeros(N);  A[end,end] = 1;      f[end] = 0;\n",
    "end"
   ]
  },
  {
   "cell_type": "code",
   "execution_count": 11,
   "id": "ideal-break",
   "metadata": {},
   "outputs": [
    {
     "data": {
      "text/plain": [
       "BenchmarkTools.Trial: 807 samples with 1 evaluation.\n",
       " Range \u001b[90m(\u001b[39m\u001b[36m\u001b[1mmin\u001b[22m\u001b[39m … \u001b[35mmax\u001b[39m\u001b[90m):  \u001b[39m\u001b[36m\u001b[1m3.637 ms\u001b[22m\u001b[39m … \u001b[35m115.854 ms\u001b[39m  \u001b[90m┊\u001b[39m GC \u001b[90m(\u001b[39mmin … max\u001b[90m): \u001b[39m 0.00% … 96.20%\n",
       " Time  \u001b[90m(\u001b[39m\u001b[34m\u001b[1mmedian\u001b[22m\u001b[39m\u001b[90m):     \u001b[39m\u001b[34m\u001b[1m5.639 ms               \u001b[22m\u001b[39m\u001b[90m┊\u001b[39m GC \u001b[90m(\u001b[39mmedian\u001b[90m):    \u001b[39m 0.00%\n",
       " Time  \u001b[90m(\u001b[39m\u001b[32m\u001b[1mmean\u001b[22m\u001b[39m ± \u001b[32mσ\u001b[39m\u001b[90m):   \u001b[39m\u001b[32m\u001b[1m6.193 ms\u001b[22m\u001b[39m ± \u001b[32m  8.579 ms\u001b[39m  \u001b[90m┊\u001b[39m GC \u001b[90m(\u001b[39mmean ± σ\u001b[90m):  \u001b[39m11.99% ±  8.19%\n",
       "\n",
       "  \u001b[39m \u001b[39m▁\u001b[39m▄\u001b[39m \u001b[39m \u001b[39m \u001b[39m \u001b[39m \u001b[39m \u001b[39m \u001b[39m \u001b[39m \u001b[39m \u001b[39m \u001b[39m \u001b[39m \u001b[39m \u001b[39m▃\u001b[39m▅\u001b[39m▆\u001b[34m█\u001b[39m\u001b[39m▆\u001b[39m▄\u001b[39m▃\u001b[39m \u001b[39m \u001b[32m \u001b[39m\u001b[39m \u001b[39m \u001b[39m \u001b[39m \u001b[39m \u001b[39m \u001b[39m \u001b[39m \u001b[39m \u001b[39m \u001b[39m \u001b[39m \u001b[39m \u001b[39m \u001b[39m \u001b[39m \u001b[39m \u001b[39m \u001b[39m \u001b[39m \u001b[39m \u001b[39m \u001b[39m \u001b[39m \u001b[39m \u001b[39m \u001b[39m \u001b[39m \u001b[39m \u001b[39m \u001b[39m \u001b[39m \u001b[39m \u001b[39m \n",
       "  \u001b[39m▅\u001b[39m█\u001b[39m█\u001b[39m█\u001b[39m▇\u001b[39m▅\u001b[39m▅\u001b[39m▄\u001b[39m▆\u001b[39m▅\u001b[39m▄\u001b[39m▅\u001b[39m▅\u001b[39m█\u001b[39m▇\u001b[39m▄\u001b[39m▅\u001b[39m█\u001b[39m█\u001b[39m█\u001b[34m█\u001b[39m\u001b[39m█\u001b[39m█\u001b[39m█\u001b[39m█\u001b[39m█\u001b[32m▆\u001b[39m\u001b[39m▄\u001b[39m▁\u001b[39m▆\u001b[39m▁\u001b[39m▁\u001b[39m▁\u001b[39m▄\u001b[39m▄\u001b[39m▁\u001b[39m▁\u001b[39m▁\u001b[39m▁\u001b[39m▁\u001b[39m▁\u001b[39m▄\u001b[39m▁\u001b[39m▁\u001b[39m▁\u001b[39m▁\u001b[39m▁\u001b[39m▁\u001b[39m▁\u001b[39m▁\u001b[39m▁\u001b[39m▁\u001b[39m▁\u001b[39m▄\u001b[39m▁\u001b[39m▁\u001b[39m▁\u001b[39m▁\u001b[39m▅\u001b[39m \u001b[39m█\n",
       "  3.64 ms\u001b[90m      \u001b[39m\u001b[90mHistogram: \u001b[39m\u001b[90m\u001b[1mlog(\u001b[22m\u001b[39m\u001b[90mfrequency\u001b[39m\u001b[90m\u001b[1m)\u001b[22m\u001b[39m\u001b[90m by time\u001b[39m      9.47 ms \u001b[0m\u001b[1m<\u001b[22m\n",
       "\n",
       " Memory estimate\u001b[90m: \u001b[39m\u001b[33m5.96 MiB\u001b[39m, allocs estimate\u001b[90m: \u001b[39m\u001b[33m60037\u001b[39m."
      ]
     },
     "execution_count": 11,
     "metadata": {},
     "output_type": "execute_result"
    }
   ],
   "source": [
    "mesh, N, elem_ids, fsource_elem = generate_mesh(10000);\n",
    "A, f = prealloc_matrix(mesh, N);\n",
    "\n",
    "@benchmark assemble_matrices!(A, f, mesh, fsource_elem)"
   ]
  },
  {
   "cell_type": "code",
   "execution_count": 12,
   "id": "addressed-percentage",
   "metadata": {},
   "outputs": [
    {
     "name": "stdout",
     "output_type": "stream",
     "text": [
      "  3.686 ms (60037 allocations: 5.96 MiB)\n"
     ]
    },
    {
     "data": {
      "text/plain": [
       "0"
      ]
     },
     "execution_count": 12,
     "metadata": {},
     "output_type": "execute_result"
    }
   ],
   "source": [
    "@btime assemble_matrices!(A, f, mesh, fsource_elem)"
   ]
  },
  {
   "cell_type": "markdown",
   "id": "infrared-lease",
   "metadata": {},
   "source": [
    "Observe that this is much more efficient than the other two approaches shown until now. This is due to\n",
    "1. Preallocation of the matrix\n",
    "2. Usage of sparse matrices"
   ]
  },
  {
   "cell_type": "markdown",
   "id": "quality-crisis",
   "metadata": {},
   "source": [
    "## Single Loop with Sparse\n",
    "We can also use the `sparse(I, J, V)` function to build sparse matrices. The main advantage of this is that it does not require us to perform any expensive operations on the sparse matrix (remember: indexing a sparse matrix is much less efficient than indexing a dense matrix).\n",
    "\n",
    "Instead, we build three arrays containing the indices of the non-zero entries (`I` and `J`) and their values (`V`). This can then be converted into a sparse matrix using the standard function `sparse(I, J, V)`. This approach is slightly less efficient than using preallocation."
   ]
  },
  {
   "cell_type": "code",
   "execution_count": 13,
   "id": "internal-computer",
   "metadata": {},
   "outputs": [
    {
     "data": {
      "text/plain": [
       "assemble_matrices (generic function with 1 method)"
      ]
     },
     "execution_count": 13,
     "metadata": {},
     "output_type": "execute_result"
    }
   ],
   "source": [
    "function assemble_matrices(mesh, N, fsource_elem)\n",
    "    # Initialize vectors for sparse matrix construction\n",
    "    I = zeros(Int64, 4 * (N - 1))\n",
    "    J = similar(I);\n",
    "    V = zeros(Float64, length(I));\n",
    "    \n",
    "    # Initialize right-hand side vector\n",
    "    f = zeros(Float64, N); \n",
    "    \n",
    "    #..Perform loop over elements and assemble global matrix and vector \n",
    "    @inbounds for (i, el) = enumerate(mesh)\n",
    "        idx = 4*(i-1) + 1 : 4*i;\n",
    "        xl = el.p1; xr = el.p2;\n",
    "        j  = el.e1; k  = el.e2;\n",
    "        \n",
    "        h  = xr - xl;\n",
    "        \n",
    "        #\n",
    "        f[[j, k]] += fsource_elem[i] * h / 2 * [1; 1];\n",
    "        \n",
    "        # Matrix contribution\n",
    "        I[idx] = [j, k, j, k];\n",
    "        J[idx] = [j, j, k, k];\n",
    "        V[idx] = 1/h * [1 -1 -1 1];\n",
    "    end\n",
    "    \n",
    "    A = sparse(I, J, V)\n",
    "    \n",
    "    #..handle the boundary conditions in the matrix and right-hand side vector \n",
    "    A[1,:]   = zeros(N);  A[1,1]     = 1;      f[1]   = 0;\n",
    "    A[end,:] = zeros(N);  A[end,end] = 1;      f[end] = 0;\n",
    "    \n",
    "    return A, f\n",
    "end"
   ]
  },
  {
   "cell_type": "code",
   "execution_count": 14,
   "id": "photographic-draft",
   "metadata": {},
   "outputs": [
    {
     "data": {
      "text/plain": [
       "BenchmarkTools.Trial: 609 samples with 1 evaluation.\n",
       " Range \u001b[90m(\u001b[39m\u001b[36m\u001b[1mmin\u001b[22m\u001b[39m … \u001b[35mmax\u001b[39m\u001b[90m):  \u001b[39m\u001b[36m\u001b[1m3.706 ms\u001b[22m\u001b[39m … \u001b[35m100.576 ms\u001b[39m  \u001b[90m┊\u001b[39m GC \u001b[90m(\u001b[39mmin … max\u001b[90m): \u001b[39m 0.00% … 92.70%\n",
       " Time  \u001b[90m(\u001b[39m\u001b[34m\u001b[1mmedian\u001b[22m\u001b[39m\u001b[90m):     \u001b[39m\u001b[34m\u001b[1m7.780 ms               \u001b[22m\u001b[39m\u001b[90m┊\u001b[39m GC \u001b[90m(\u001b[39mmedian\u001b[90m):    \u001b[39m 0.00%\n",
       " Time  \u001b[90m(\u001b[39m\u001b[32m\u001b[1mmean\u001b[22m\u001b[39m ± \u001b[32mσ\u001b[39m\u001b[90m):   \u001b[39m\u001b[32m\u001b[1m8.207 ms\u001b[22m\u001b[39m ± \u001b[32m  9.771 ms\u001b[39m  \u001b[90m┊\u001b[39m GC \u001b[90m(\u001b[39mmean ± σ\u001b[90m):  \u001b[39m13.77% ± 10.67%\n",
       "\n",
       "  \u001b[39m \u001b[39m \u001b[39m█\u001b[34m \u001b[39m\u001b[39m \u001b[39m \u001b[39m \u001b[39m \u001b[39m \u001b[39m \u001b[39m \u001b[39m \u001b[39m \u001b[39m \u001b[39m \u001b[39m \u001b[39m \u001b[39m \u001b[39m \u001b[39m \u001b[39m \u001b[39m \u001b[39m \u001b[39m \u001b[39m \u001b[39m \u001b[39m \u001b[39m \u001b[39m \u001b[39m \u001b[39m \u001b[39m \u001b[39m \u001b[39m \u001b[39m \u001b[39m \u001b[39m \u001b[39m \u001b[39m \u001b[39m \u001b[39m \u001b[39m \u001b[39m \u001b[39m \u001b[39m \u001b[39m \u001b[39m \u001b[39m \u001b[39m \u001b[39m \u001b[39m \u001b[39m \u001b[39m \u001b[39m \u001b[39m \u001b[39m \u001b[39m \u001b[39m \u001b[39m \u001b[39m \u001b[39m \n",
       "  \u001b[39m▅\u001b[39m▃\u001b[39m█\u001b[34m▄\u001b[39m\u001b[39m▂\u001b[39m▁\u001b[39m▁\u001b[39m▁\u001b[39m▁\u001b[39m▁\u001b[39m▁\u001b[39m▁\u001b[39m▁\u001b[39m▁\u001b[39m▁\u001b[39m▁\u001b[39m▁\u001b[39m▁\u001b[39m▁\u001b[39m▁\u001b[39m▁\u001b[39m▁\u001b[39m▁\u001b[39m▁\u001b[39m▁\u001b[39m▁\u001b[39m▁\u001b[39m▁\u001b[39m▁\u001b[39m▁\u001b[39m▁\u001b[39m▁\u001b[39m▁\u001b[39m▁\u001b[39m▁\u001b[39m▁\u001b[39m▁\u001b[39m▁\u001b[39m▁\u001b[39m▁\u001b[39m▁\u001b[39m▁\u001b[39m▁\u001b[39m▁\u001b[39m▁\u001b[39m▁\u001b[39m▁\u001b[39m▁\u001b[39m▁\u001b[39m▁\u001b[39m▁\u001b[39m▁\u001b[39m▁\u001b[39m▁\u001b[39m▁\u001b[39m▁\u001b[39m▁\u001b[39m▁\u001b[39m▂\u001b[39m \u001b[39m▂\n",
       "  3.71 ms\u001b[90m         Histogram: frequency by time\u001b[39m        88.3 ms \u001b[0m\u001b[1m<\u001b[22m\n",
       "\n",
       " Memory estimate\u001b[90m: \u001b[39m\u001b[33m11.14 MiB\u001b[39m, allocs estimate\u001b[90m: \u001b[39m\u001b[33m90061\u001b[39m."
      ]
     },
     "execution_count": 14,
     "metadata": {},
     "output_type": "execute_result"
    }
   ],
   "source": [
    "mesh, N, elem_ids, fsource_elem = generate_mesh(10000);\n",
    "\n",
    "@benchmark A, f = assemble_matrices(mesh, N, fsource_elem)"
   ]
  },
  {
   "cell_type": "code",
   "execution_count": 15,
   "id": "endless-parent",
   "metadata": {},
   "outputs": [
    {
     "name": "stdout",
     "output_type": "stream",
     "text": [
      "  3.641 ms (90061 allocations: 11.14 MiB)\n"
     ]
    },
    {
     "data": {
      "text/plain": [
       "(sparse([1, 2, 1, 2, 3, 2, 3, 4, 3, 4  …  9998, 9999, 9998, 9999, 10000, 9999, 10000, 10001, 10000, 10001], [1, 1, 2, 2, 2, 3, 3, 3, 4, 4  …  9998, 9998, 9999, 9999, 9999, 10000, 10000, 10000, 10001, 10001], [1.0, -10000.0, 0.0, 20000.0, -10000.0, -10000.0, 20000.000000000004, -10000.000000000004, -10000.000000000004, 20000.0  …  20000.0000000022, -10000.0000000011, -10000.0000000011, 20000.0000000022, -10000.0000000011, -10000.0000000011, 20000.0000000022, 0.0, -10000.0000000011, 1.0], 10001, 10001), [0.0, 0.0001, 9.999999999999999e-5, 0.0001, 0.00010000000000000002, 9.999999999999996e-5, 9.999999999999999e-5, 0.00010000000000000005, 9.999999999999999e-5, 9.999999999999999e-5  …  9.999999999998899e-5, 9.999999999998899e-5, 9.999999999998899e-5, 0.0001000000000000445, 0.0001000000000000445, 9.999999999998899e-5, 9.999999999998899e-5, 9.999999999998899e-5, 9.999999999998899e-5, 0.0])"
      ]
     },
     "execution_count": 15,
     "metadata": {},
     "output_type": "execute_result"
    }
   ],
   "source": [
    "@btime A, f = assemble_matrices(mesh, N, fsource_elem)"
   ]
  },
  {
   "cell_type": "markdown",
   "id": "comic-amsterdam",
   "metadata": {},
   "source": [
    "## No Loop\n",
    "We can make use of the functional programming methods `map` and `reduce` to assemble the $A$ matrix without needing any loops.\n",
    "\n",
    "The performance of this code is discussed on Discourse: https://discourse.julialang.org/t/different-performance-between-reduce-map-and-mapreduce/85149\n",
    "\n",
    "Note: still missing assembly of $f$ vector"
   ]
  },
  {
   "cell_type": "code",
   "execution_count": 16,
   "id": "chemical-state",
   "metadata": {},
   "outputs": [
    {
     "data": {
      "text/plain": [
       "generate_mesh (generic function with 1 method)"
      ]
     },
     "execution_count": 16,
     "metadata": {},
     "output_type": "execute_result"
    }
   ],
   "source": [
    "function generate_mesh(Nel)\n",
    "    x = 0:1/Nel:1;\n",
    "\n",
    "    # Collect points (left and right nodes for each element) and edges (connectivity: indices of left and right nodes)\n",
    "    N = length(x);\n",
    "    points = collect( [x[i], x[i+1]] for i in 1:N-1) \n",
    "    edges  = collect( [i, i+1] for i in 1:N-1); \n",
    "\n",
    "    elem_ids = 1:length(edges)\n",
    "    e_group = ones(size(edges));\n",
    "    \n",
    "    #..Set the source function \n",
    "    fsource(group_id) = 1;\n",
    "    fsource_elem = map(fsource, e_group);\n",
    "    \n",
    "    return x, edges, N, elem_ids, fsource_elem\n",
    "end"
   ]
  },
  {
   "cell_type": "code",
   "execution_count": 17,
   "id": "surface-office",
   "metadata": {
    "scrolled": false
   },
   "outputs": [
    {
     "data": {
      "text/plain": [
       "compute_element_area (generic function with 1 method)"
      ]
     },
     "execution_count": 17,
     "metadata": {},
     "output_type": "execute_result"
    }
   ],
   "source": [
    "# Compute the length h of an element, given its ID and the global list of elements and points\n",
    "function compute_element_area(elem_id, e, p)\n",
    "    area_id = p[e[elem_id][2]] - p[e[elem_id][1]]\n",
    "    return area_id\n",
    "end"
   ]
  },
  {
   "cell_type": "code",
   "execution_count": 22,
   "id": "arranged-closer",
   "metadata": {},
   "outputs": [
    {
     "data": {
      "text/plain": [
       "assemble_matrices (generic function with 2 methods)"
      ]
     },
     "execution_count": 22,
     "metadata": {},
     "output_type": "execute_result"
    }
   ],
   "source": [
    "function assemble_matrices(elem_area, elems, x, N)        \n",
    "    # Generate index vectors\n",
    "    I = reduce(vcat, view.(elems, Ref([1, 2, 1, 2])))\n",
    "    J = reduce(vcat, view.(elems, Ref([1, 1, 2, 2])))\n",
    "    \n",
    "    # Generate matrix contributions\n",
    "    Atempl = [1, -1, -1, 1];\n",
    "    V = reduce(vcat, map(h -> Atempl / h, elem_area));\n",
    "    \n",
    "    return sparse(I, J, V, N, N)\n",
    "end"
   ]
  },
  {
   "cell_type": "code",
   "execution_count": 23,
   "id": "handmade-shoot",
   "metadata": {
    "scrolled": false
   },
   "outputs": [
    {
     "data": {
      "text/plain": [
       "BenchmarkTools.Trial: 2136 samples with 1 evaluation.\n",
       " Range \u001b[90m(\u001b[39m\u001b[36m\u001b[1mmin\u001b[22m\u001b[39m … \u001b[35mmax\u001b[39m\u001b[90m):  \u001b[39m\u001b[36m\u001b[1m1.135 ms\u001b[22m\u001b[39m … \u001b[35m76.296 ms\u001b[39m  \u001b[90m┊\u001b[39m GC \u001b[90m(\u001b[39mmin … max\u001b[90m): \u001b[39m 0.00% … 96.80%\n",
       " Time  \u001b[90m(\u001b[39m\u001b[34m\u001b[1mmedian\u001b[22m\u001b[39m\u001b[90m):     \u001b[39m\u001b[34m\u001b[1m2.401 ms              \u001b[22m\u001b[39m\u001b[90m┊\u001b[39m GC \u001b[90m(\u001b[39mmedian\u001b[90m):    \u001b[39m 0.00%\n",
       " Time  \u001b[90m(\u001b[39m\u001b[32m\u001b[1mmean\u001b[22m\u001b[39m ± \u001b[32mσ\u001b[39m\u001b[90m):   \u001b[39m\u001b[32m\u001b[1m2.335 ms\u001b[22m\u001b[39m ± \u001b[32m 3.757 ms\u001b[39m  \u001b[90m┊\u001b[39m GC \u001b[90m(\u001b[39mmean ± σ\u001b[90m):  \u001b[39m11.35% ±  6.91%\n",
       "\n",
       "  \u001b[39m \u001b[39m▇\u001b[39m \u001b[39m \u001b[39m \u001b[39m \u001b[39m \u001b[39m \u001b[39m \u001b[39m \u001b[39m \u001b[39m \u001b[39m \u001b[39m \u001b[39m \u001b[39m \u001b[39m \u001b[39m \u001b[39m \u001b[39m \u001b[39m \u001b[39m \u001b[39m \u001b[39m \u001b[39m \u001b[39m \u001b[39m \u001b[39m \u001b[39m \u001b[39m \u001b[39m \u001b[32m \u001b[39m\u001b[39m▁\u001b[34m▂\u001b[39m\u001b[39m█\u001b[39m▅\u001b[39m \u001b[39m \u001b[39m \u001b[39m \u001b[39m \u001b[39m \u001b[39m \u001b[39m \u001b[39m \u001b[39m \u001b[39m \u001b[39m \u001b[39m \u001b[39m \u001b[39m \u001b[39m \u001b[39m \u001b[39m \u001b[39m \u001b[39m \u001b[39m \u001b[39m \u001b[39m \u001b[39m \n",
       "  \u001b[39m█\u001b[39m█\u001b[39m█\u001b[39m▅\u001b[39m▅\u001b[39m▄\u001b[39m▃\u001b[39m▃\u001b[39m▂\u001b[39m▃\u001b[39m▅\u001b[39m▆\u001b[39m▄\u001b[39m▃\u001b[39m▂\u001b[39m▃\u001b[39m▂\u001b[39m▂\u001b[39m▂\u001b[39m▂\u001b[39m▂\u001b[39m▂\u001b[39m▂\u001b[39m▂\u001b[39m▂\u001b[39m▄\u001b[39m▄\u001b[39m▃\u001b[39m▂\u001b[39m▂\u001b[39m▂\u001b[32m▆\u001b[39m\u001b[39m█\u001b[34m█\u001b[39m\u001b[39m█\u001b[39m█\u001b[39m█\u001b[39m▅\u001b[39m▅\u001b[39m▄\u001b[39m▄\u001b[39m▆\u001b[39m▅\u001b[39m▃\u001b[39m▃\u001b[39m▂\u001b[39m▃\u001b[39m▂\u001b[39m▂\u001b[39m▂\u001b[39m▂\u001b[39m▁\u001b[39m▂\u001b[39m▁\u001b[39m▂\u001b[39m▂\u001b[39m▂\u001b[39m▂\u001b[39m \u001b[39m▃\n",
       "  1.13 ms\u001b[90m        Histogram: frequency by time\u001b[39m        3.36 ms \u001b[0m\u001b[1m<\u001b[22m\n",
       "\n",
       " Memory estimate\u001b[90m: \u001b[39m\u001b[33m4.05 MiB\u001b[39m, allocs estimate\u001b[90m: \u001b[39m\u001b[33m10041\u001b[39m."
      ]
     },
     "execution_count": 23,
     "metadata": {},
     "output_type": "execute_result"
    }
   ],
   "source": [
    "x, edges, N, elem_ids, fsource_elem = generate_mesh(10000);\n",
    "\n",
    "# Calculate element length h\n",
    "elem_area = map(elem_id -> compute_element_area(elem_id, edges, x), elem_ids);\n",
    "\n",
    "@benchmark A = assemble_matrices(elem_area, edges, x, N)"
   ]
  },
  {
   "cell_type": "code",
   "execution_count": 24,
   "id": "technological-kentucky",
   "metadata": {},
   "outputs": [
    {
     "name": "stdout",
     "output_type": "stream",
     "text": [
      "  1.142 ms (10042 allocations: 4.05 MiB)\n"
     ]
    },
    {
     "data": {
      "text/plain": [
       "10001×10001 SparseMatrixCSC{Float64, Int64} with 30001 stored entries:\n",
       "⠻⣦⡀⠀⠀⠀⠀⠀⠀⠀⠀⠀⠀⠀⠀⠀⠀⠀⠀⠀⠀⠀⠀⠀⠀⠀⠀⠀⠀⠀⠀⠀⠀⠀⠀⠀⠀⠀⠀⠀\n",
       "⠀⠈⠻⣦⡀⠀⠀⠀⠀⠀⠀⠀⠀⠀⠀⠀⠀⠀⠀⠀⠀⠀⠀⠀⠀⠀⠀⠀⠀⠀⠀⠀⠀⠀⠀⠀⠀⠀⠀⠀\n",
       "⠀⠀⠀⠈⠻⣦⡀⠀⠀⠀⠀⠀⠀⠀⠀⠀⠀⠀⠀⠀⠀⠀⠀⠀⠀⠀⠀⠀⠀⠀⠀⠀⠀⠀⠀⠀⠀⠀⠀⠀\n",
       "⠀⠀⠀⠀⠀⠈⠻⣦⡀⠀⠀⠀⠀⠀⠀⠀⠀⠀⠀⠀⠀⠀⠀⠀⠀⠀⠀⠀⠀⠀⠀⠀⠀⠀⠀⠀⠀⠀⠀⠀\n",
       "⠀⠀⠀⠀⠀⠀⠀⠈⠻⣦⡀⠀⠀⠀⠀⠀⠀⠀⠀⠀⠀⠀⠀⠀⠀⠀⠀⠀⠀⠀⠀⠀⠀⠀⠀⠀⠀⠀⠀⠀\n",
       "⠀⠀⠀⠀⠀⠀⠀⠀⠀⠈⠻⣦⡀⠀⠀⠀⠀⠀⠀⠀⠀⠀⠀⠀⠀⠀⠀⠀⠀⠀⠀⠀⠀⠀⠀⠀⠀⠀⠀⠀\n",
       "⠀⠀⠀⠀⠀⠀⠀⠀⠀⠀⠀⠈⠻⣦⡀⠀⠀⠀⠀⠀⠀⠀⠀⠀⠀⠀⠀⠀⠀⠀⠀⠀⠀⠀⠀⠀⠀⠀⠀⠀\n",
       "⠀⠀⠀⠀⠀⠀⠀⠀⠀⠀⠀⠀⠀⠈⠻⣦⡀⠀⠀⠀⠀⠀⠀⠀⠀⠀⠀⠀⠀⠀⠀⠀⠀⠀⠀⠀⠀⠀⠀⠀\n",
       "⠀⠀⠀⠀⠀⠀⠀⠀⠀⠀⠀⠀⠀⠀⠀⠈⠻⣦⡀⠀⠀⠀⠀⠀⠀⠀⠀⠀⠀⠀⠀⠀⠀⠀⠀⠀⠀⠀⠀⠀\n",
       "⠀⠀⠀⠀⠀⠀⠀⠀⠀⠀⠀⠀⠀⠀⠀⠀⠀⠈⠻⣦⡀⠀⠀⠀⠀⠀⠀⠀⠀⠀⠀⠀⠀⠀⠀⠀⠀⠀⠀⠀\n",
       "⠀⠀⠀⠀⠀⠀⠀⠀⠀⠀⠀⠀⠀⠀⠀⠀⠀⠀⠀⠈⠻⣦⡀⠀⠀⠀⠀⠀⠀⠀⠀⠀⠀⠀⠀⠀⠀⠀⠀⠀\n",
       "⠀⠀⠀⠀⠀⠀⠀⠀⠀⠀⠀⠀⠀⠀⠀⠀⠀⠀⠀⠀⠀⠈⠻⣦⡀⠀⠀⠀⠀⠀⠀⠀⠀⠀⠀⠀⠀⠀⠀⠀\n",
       "⠀⠀⠀⠀⠀⠀⠀⠀⠀⠀⠀⠀⠀⠀⠀⠀⠀⠀⠀⠀⠀⠀⠀⠈⠻⣦⡀⠀⠀⠀⠀⠀⠀⠀⠀⠀⠀⠀⠀⠀\n",
       "⠀⠀⠀⠀⠀⠀⠀⠀⠀⠀⠀⠀⠀⠀⠀⠀⠀⠀⠀⠀⠀⠀⠀⠀⠀⠈⠻⣦⡀⠀⠀⠀⠀⠀⠀⠀⠀⠀⠀⠀\n",
       "⠀⠀⠀⠀⠀⠀⠀⠀⠀⠀⠀⠀⠀⠀⠀⠀⠀⠀⠀⠀⠀⠀⠀⠀⠀⠀⠀⠈⠻⣦⡀⠀⠀⠀⠀⠀⠀⠀⠀⠀\n",
       "⠀⠀⠀⠀⠀⠀⠀⠀⠀⠀⠀⠀⠀⠀⠀⠀⠀⠀⠀⠀⠀⠀⠀⠀⠀⠀⠀⠀⠀⠈⠻⣦⡀⠀⠀⠀⠀⠀⠀⠀\n",
       "⠀⠀⠀⠀⠀⠀⠀⠀⠀⠀⠀⠀⠀⠀⠀⠀⠀⠀⠀⠀⠀⠀⠀⠀⠀⠀⠀⠀⠀⠀⠀⠈⠻⣦⡀⠀⠀⠀⠀⠀\n",
       "⠀⠀⠀⠀⠀⠀⠀⠀⠀⠀⠀⠀⠀⠀⠀⠀⠀⠀⠀⠀⠀⠀⠀⠀⠀⠀⠀⠀⠀⠀⠀⠀⠀⠈⠻⣦⡀⠀⠀⠀\n",
       "⠀⠀⠀⠀⠀⠀⠀⠀⠀⠀⠀⠀⠀⠀⠀⠀⠀⠀⠀⠀⠀⠀⠀⠀⠀⠀⠀⠀⠀⠀⠀⠀⠀⠀⠀⠈⠻⣦⡀⠀\n",
       "⠀⠀⠀⠀⠀⠀⠀⠀⠀⠀⠀⠀⠀⠀⠀⠀⠀⠀⠀⠀⠀⠀⠀⠀⠀⠀⠀⠀⠀⠀⠀⠀⠀⠀⠀⠀⠀⠈⠻⣦"
      ]
     },
     "execution_count": 24,
     "metadata": {},
     "output_type": "execute_result"
    }
   ],
   "source": [
    "@btime A = assemble_matrices(elem_ids, edges, x, length(x))"
   ]
  }
 ],
 "metadata": {
  "kernelspec": {
   "display_name": "Julia 1.7.1",
   "language": "julia",
   "name": "julia-1.7"
  },
  "language_info": {
   "file_extension": ".jl",
   "mimetype": "application/julia",
   "name": "julia",
   "version": "1.7.1"
  }
 },
 "nbformat": 4,
 "nbformat_minor": 5
}
