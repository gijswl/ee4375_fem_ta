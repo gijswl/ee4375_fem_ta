{
 "cells": [
  {
   "cell_type": "markdown",
   "id": "rough-service",
   "metadata": {},
   "source": [
    "# Matrix Assembly"
   ]
  },
  {
   "cell_type": "code",
   "execution_count": 1,
   "id": "improved-evening",
   "metadata": {},
   "outputs": [],
   "source": [
    "using LinearAlgebra, SparseArrays\n",
    "using StructArrays\n",
    "\n",
    "using BenchmarkTools"
   ]
  },
  {
   "cell_type": "code",
   "execution_count": 2,
   "id": "universal-judgment",
   "metadata": {},
   "outputs": [
    {
     "data": {
      "text/plain": [
       "generate_mesh (generic function with 1 method)"
      ]
     },
     "execution_count": 2,
     "metadata": {},
     "output_type": "execute_result"
    }
   ],
   "source": [
    "function generate_mesh(Nel)\n",
    "    x = 0:1/Nel:1;\n",
    "\n",
    "    # Collect points (left and right nodes for each element) and edges (connectivity: indices of left and right nodes)\n",
    "    N = length(x);\n",
    "    points = collect( [x[i], x[i+1]] for i in 1:N-1) \n",
    "    edges  = collect( [i, i+1] for i in 1:N-1); \n",
    "\n",
    "    elem_ids = 1:length(edges)\n",
    "    e_group = ones(size(edges));\n",
    "    \n",
    "    #..Set the source function \n",
    "    fsource(group_id) = 1;\n",
    "    fsource_elem = map(fsource, e_group);\n",
    "\n",
    "\n",
    "    return N, points, edges, x, elem_ids, e_group, fsource_elem\n",
    "end"
   ]
  },
  {
   "cell_type": "markdown",
   "id": "tamil-coaching",
   "metadata": {},
   "source": [
    "## Triple Loop"
   ]
  },
  {
   "cell_type": "code",
   "execution_count": 3,
   "id": "centered-skiing",
   "metadata": {},
   "outputs": [
    {
     "data": {
      "text/plain": [
       "assemble_matrices (generic function with 1 method)"
      ]
     },
     "execution_count": 3,
     "metadata": {},
     "output_type": "execute_result"
    }
   ],
   "source": [
    "function assemble_matrices(edges, points, N, fsource_elem)\n",
    "    #..Initialize global matrix and right-hand side value \n",
    "    A = zeros(Float64, N, N);\n",
    "    f = zeros(Float64, N); \n",
    "\n",
    "    #..Perform loop over elements and assemble global matrix and vector \n",
    "    @inbounds for (i, nodes) = enumerate(edges)\n",
    "        xl, xr = points[i,:][1]\n",
    "        h = xr - xl;\n",
    "\n",
    "        floc = fsource_elem[i] * h / 2 * [1; 1];\n",
    "        Aloc = 1 / h * [1 -1; -1 1];\n",
    "\n",
    "        #....perform loop over nodes of the current element\n",
    "        #....and add local contribution Aloc to global matrix entity A\n",
    "        for j = 1:2\n",
    "            I = nodes[j];\n",
    "            f[I] += floc[j]\n",
    "            for k = 1:2\n",
    "                J = nodes[k];\n",
    "                A[I,J] += Aloc[j,k]\n",
    "            end\n",
    "        end\n",
    "\n",
    "    end\n",
    "\n",
    "    #..handle the boundary conditions in the matrix and right-hand side vector \n",
    "    A[1,:]   = zeros(N);  A[1,1]     = 1;      f[1]   = 0;\n",
    "    A[end,:] = zeros(N);  A[end,end] = 1;      f[end] = 0;\n",
    "    \n",
    "    return A, f\n",
    "end"
   ]
  },
  {
   "cell_type": "code",
   "execution_count": 4,
   "id": "athletic-composition",
   "metadata": {},
   "outputs": [
    {
     "data": {
      "text/plain": [
       "BenchmarkTools.Trial: 17 samples with 1 evaluation.\n",
       " Range \u001b[90m(\u001b[39m\u001b[36m\u001b[1mmin\u001b[22m\u001b[39m … \u001b[35mmax\u001b[39m\u001b[90m):  \u001b[39m\u001b[36m\u001b[1m182.952 ms\u001b[22m\u001b[39m … \u001b[35m421.822 ms\u001b[39m  \u001b[90m┊\u001b[39m GC \u001b[90m(\u001b[39mmin … max\u001b[90m): \u001b[39m 0.00% … 39.53%\n",
       " Time  \u001b[90m(\u001b[39m\u001b[34m\u001b[1mmedian\u001b[22m\u001b[39m\u001b[90m):     \u001b[39m\u001b[34m\u001b[1m306.971 ms               \u001b[22m\u001b[39m\u001b[90m┊\u001b[39m GC \u001b[90m(\u001b[39mmedian\u001b[90m):    \u001b[39m30.79%\n",
       " Time  \u001b[90m(\u001b[39m\u001b[32m\u001b[1mmean\u001b[22m\u001b[39m ± \u001b[32mσ\u001b[39m\u001b[90m):   \u001b[39m\u001b[32m\u001b[1m313.496 ms\u001b[22m\u001b[39m ± \u001b[32m 93.300 ms\u001b[39m  \u001b[90m┊\u001b[39m GC \u001b[90m(\u001b[39mmean ± σ\u001b[90m):  \u001b[39m25.75% ± 20.05%\n",
       "\n",
       "  \u001b[39m▁\u001b[39m█\u001b[39m▁\u001b[39m \u001b[39m \u001b[39m \u001b[39m \u001b[39m \u001b[39m \u001b[39m \u001b[39m \u001b[39m \u001b[39m \u001b[39m \u001b[39m▁\u001b[39m \u001b[39m \u001b[39m▁\u001b[39m \u001b[39m \u001b[39m \u001b[39m \u001b[39m \u001b[39m \u001b[39m█\u001b[34m \u001b[39m\u001b[39m \u001b[39m \u001b[39m \u001b[39m \u001b[39m \u001b[39m▁\u001b[39m \u001b[32m \u001b[39m\u001b[39m \u001b[39m \u001b[39m \u001b[39m \u001b[39m \u001b[39m \u001b[39m \u001b[39m \u001b[39m \u001b[39m \u001b[39m \u001b[39m \u001b[39m \u001b[39m \u001b[39m \u001b[39m \u001b[39m \u001b[39m \u001b[39m▁\u001b[39m▁\u001b[39m \u001b[39m█\u001b[39m█\u001b[39m \u001b[39m▁\u001b[39m \u001b[39m▁\u001b[39m \u001b[39m \n",
       "  \u001b[39m█\u001b[39m█\u001b[39m█\u001b[39m▁\u001b[39m▁\u001b[39m▁\u001b[39m▁\u001b[39m▁\u001b[39m▁\u001b[39m▁\u001b[39m▁\u001b[39m▁\u001b[39m▁\u001b[39m▁\u001b[39m█\u001b[39m▁\u001b[39m▁\u001b[39m█\u001b[39m▁\u001b[39m▁\u001b[39m▁\u001b[39m▁\u001b[39m▁\u001b[39m▁\u001b[39m█\u001b[34m▁\u001b[39m\u001b[39m▁\u001b[39m▁\u001b[39m▁\u001b[39m▁\u001b[39m▁\u001b[39m█\u001b[39m▁\u001b[32m▁\u001b[39m\u001b[39m▁\u001b[39m▁\u001b[39m▁\u001b[39m▁\u001b[39m▁\u001b[39m▁\u001b[39m▁\u001b[39m▁\u001b[39m▁\u001b[39m▁\u001b[39m▁\u001b[39m▁\u001b[39m▁\u001b[39m▁\u001b[39m▁\u001b[39m▁\u001b[39m▁\u001b[39m▁\u001b[39m█\u001b[39m█\u001b[39m▁\u001b[39m█\u001b[39m█\u001b[39m▁\u001b[39m█\u001b[39m▁\u001b[39m█\u001b[39m \u001b[39m▁\n",
       "  183 ms\u001b[90m           Histogram: frequency by time\u001b[39m          422 ms \u001b[0m\u001b[1m<\u001b[22m\n",
       "\n",
       " Memory estimate\u001b[90m: \u001b[39m\u001b[33m767.75 MiB\u001b[39m, allocs estimate\u001b[90m: \u001b[39m\u001b[33m60009\u001b[39m."
      ]
     },
     "execution_count": 4,
     "metadata": {},
     "output_type": "execute_result"
    }
   ],
   "source": [
    "N, points, edges, _, _, _, fsource_elem = generate_mesh(10000);\n",
    "\n",
    "@benchmark A, f = assemble_matrices(edges, points, N, fsource_elem)"
   ]
  },
  {
   "cell_type": "markdown",
   "id": "fresh-ideal",
   "metadata": {},
   "source": [
    "## Single Loop"
   ]
  },
  {
   "cell_type": "code",
   "execution_count": 5,
   "id": "velvet-deputy",
   "metadata": {},
   "outputs": [
    {
     "data": {
      "text/plain": [
       "assemble_matrices (generic function with 1 method)"
      ]
     },
     "execution_count": 5,
     "metadata": {},
     "output_type": "execute_result"
    }
   ],
   "source": [
    "function assemble_matrices(edges, points, N, fsource_elem)    \n",
    "    #..Initialize global matrix and right-hand side value \n",
    "    A = zeros(Float64, N, N);\n",
    "    f = zeros(Float64, N); \n",
    "\n",
    "    #..Perform loop over elements and assemble global matrix and vector \n",
    "    @inbounds for (i, nodes) = enumerate(edges)\n",
    "        xl, xr = points[i,:][1]\n",
    "        h = xr - xl;\n",
    "\n",
    "        floc = fsource_elem[i] * h / 2 * [1; 1];\n",
    "        Aloc = 1 / h * [1 -1; -1 1];\n",
    "\n",
    "        f[nodes] += floc;\n",
    "        A[nodes, nodes] += Aloc;\n",
    "    end\n",
    "\n",
    "    #..handle the boundary conditions in the matrix and right-hand side vector \n",
    "    A[1,:]   = zeros(N);  A[1,1]     = 1;      f[1]   = 0;\n",
    "    A[end,:] = zeros(N);  A[end,end] = 1;      f[end] = 0;\n",
    "    \n",
    "    return A, f\n",
    "end"
   ]
  },
  {
   "cell_type": "code",
   "execution_count": 6,
   "id": "hundred-fifty",
   "metadata": {},
   "outputs": [
    {
     "data": {
      "text/plain": [
       "BenchmarkTools.Trial: 18 samples with 1 evaluation.\n",
       " Range \u001b[90m(\u001b[39m\u001b[36m\u001b[1mmin\u001b[22m\u001b[39m … \u001b[35mmax\u001b[39m\u001b[90m):  \u001b[39m\u001b[36m\u001b[1m145.762 ms\u001b[22m\u001b[39m … \u001b[35m302.383 ms\u001b[39m  \u001b[90m┊\u001b[39m GC \u001b[90m(\u001b[39mmin … max\u001b[90m): \u001b[39m 1.27% … 47.33%\n",
       " Time  \u001b[90m(\u001b[39m\u001b[34m\u001b[1mmedian\u001b[22m\u001b[39m\u001b[90m):     \u001b[39m\u001b[34m\u001b[1m237.718 ms               \u001b[22m\u001b[39m\u001b[90m┊\u001b[39m GC \u001b[90m(\u001b[39mmedian\u001b[90m):    \u001b[39m24.53%\n",
       " Time  \u001b[90m(\u001b[39m\u001b[32m\u001b[1mmean\u001b[22m\u001b[39m ± \u001b[32mσ\u001b[39m\u001b[90m):   \u001b[39m\u001b[32m\u001b[1m232.572 ms\u001b[22m\u001b[39m ± \u001b[32m 46.201 ms\u001b[39m  \u001b[90m┊\u001b[39m GC \u001b[90m(\u001b[39mmean ± σ\u001b[90m):  \u001b[39m24.78% ± 15.49%\n",
       "\n",
       "  \u001b[39m▁\u001b[39m▁\u001b[39m \u001b[39m \u001b[39m \u001b[39m \u001b[39m \u001b[39m \u001b[39m \u001b[39m \u001b[39m \u001b[39m \u001b[39m \u001b[39m \u001b[39m▁\u001b[39m \u001b[39m▁\u001b[39m \u001b[39m \u001b[39m \u001b[39m▁\u001b[39m \u001b[39m \u001b[39m \u001b[39m \u001b[39m▁\u001b[39m \u001b[39m \u001b[39m \u001b[39m▁\u001b[39m \u001b[39m \u001b[39m \u001b[39m \u001b[32m▁\u001b[39m\u001b[39m█\u001b[34m \u001b[39m\u001b[39m \u001b[39m▁\u001b[39m▁\u001b[39m▁\u001b[39m \u001b[39m \u001b[39m \u001b[39m \u001b[39m \u001b[39m \u001b[39m \u001b[39m \u001b[39m \u001b[39m \u001b[39m \u001b[39m▁\u001b[39m█\u001b[39m▁\u001b[39m \u001b[39m \u001b[39m \u001b[39m \u001b[39m \u001b[39m▁\u001b[39m \u001b[39m \n",
       "  \u001b[39m█\u001b[39m█\u001b[39m▁\u001b[39m▁\u001b[39m▁\u001b[39m▁\u001b[39m▁\u001b[39m▁\u001b[39m▁\u001b[39m▁\u001b[39m▁\u001b[39m▁\u001b[39m▁\u001b[39m▁\u001b[39m█\u001b[39m▁\u001b[39m█\u001b[39m▁\u001b[39m▁\u001b[39m▁\u001b[39m█\u001b[39m▁\u001b[39m▁\u001b[39m▁\u001b[39m▁\u001b[39m█\u001b[39m▁\u001b[39m▁\u001b[39m▁\u001b[39m█\u001b[39m▁\u001b[39m▁\u001b[39m▁\u001b[39m▁\u001b[32m█\u001b[39m\u001b[39m█\u001b[34m▁\u001b[39m\u001b[39m▁\u001b[39m█\u001b[39m█\u001b[39m█\u001b[39m▁\u001b[39m▁\u001b[39m▁\u001b[39m▁\u001b[39m▁\u001b[39m▁\u001b[39m▁\u001b[39m▁\u001b[39m▁\u001b[39m▁\u001b[39m▁\u001b[39m█\u001b[39m█\u001b[39m█\u001b[39m▁\u001b[39m▁\u001b[39m▁\u001b[39m▁\u001b[39m▁\u001b[39m█\u001b[39m \u001b[39m▁\n",
       "  146 ms\u001b[90m           Histogram: frequency by time\u001b[39m          302 ms \u001b[0m\u001b[1m<\u001b[22m\n",
       "\n",
       " Memory estimate\u001b[90m: \u001b[39m\u001b[33m771.10 MiB\u001b[39m, allocs estimate\u001b[90m: \u001b[39m\u001b[33m100009\u001b[39m."
      ]
     },
     "execution_count": 6,
     "metadata": {},
     "output_type": "execute_result"
    }
   ],
   "source": [
    "N, points, edges, _, _, _, fsource_elem = generate_mesh(10000);\n",
    "\n",
    "@benchmark A = assemble_matrices(edges, points, N, fsource_elem)"
   ]
  },
  {
   "cell_type": "markdown",
   "id": "integrated-awareness",
   "metadata": {},
   "source": [
    "## Single Loop with Pre-allocation"
   ]
  },
  {
   "cell_type": "markdown",
   "id": "quality-crisis",
   "metadata": {},
   "source": [
    "## Single Loop with Sparse"
   ]
  },
  {
   "cell_type": "code",
   "execution_count": 7,
   "id": "internal-computer",
   "metadata": {},
   "outputs": [
    {
     "data": {
      "text/plain": [
       "assemble_matrices (generic function with 2 methods)"
      ]
     },
     "execution_count": 7,
     "metadata": {},
     "output_type": "execute_result"
    }
   ],
   "source": [
    "struct Element\n",
    "    p1::Float64\n",
    "    p2::Float64\n",
    "    e1::Int64\n",
    "    e2::Int64\n",
    "end \n",
    "\n",
    "function assemble_matrices(mesh, N, fsource_elem)\n",
    "    # Initialize vectors for sparse matrix construction\n",
    "    I = zeros(Int64, 4 * (N - 1))\n",
    "    J = similar(I);\n",
    "    V = zeros(Float64, length(I));\n",
    "    \n",
    "    # Initialize right-hand side vector\n",
    "    f = zeros(Float64, N); \n",
    "    \n",
    "    #..Perform loop over elements and assemble global matrix and vector \n",
    "    @inbounds for (i, el) = enumerate(mesh)\n",
    "        idx = 4*(i-1) + 1 : 4*i;\n",
    "        xl = el.p1; xr = el.p2;\n",
    "        h  = xr - xl;\n",
    "        \n",
    "        j  = el.e1;\n",
    "        k  = el.e2;\n",
    "        \n",
    "        #\n",
    "        f[[j, k]] += fsource_elem[i] * h / 2 * [1; 1];\n",
    "        \n",
    "        # Matrix contribution\n",
    "        I[idx] = [j, k, j, k];\n",
    "        J[idx] = [j, j, k, k];\n",
    "        V[idx] = 1/h * [1 -1 -1 1];\n",
    "    end\n",
    "    \n",
    "    A = sparse(I, J, V)\n",
    "    \n",
    "    #..handle the boundary conditions in the matrix and right-hand side vector \n",
    "    A[1,:]   = zeros(N);  A[1,1]     = 1;      f[1]   = 0;\n",
    "    A[end,:] = zeros(N);  A[end,end] = 1;      f[end] = 0;\n",
    "    \n",
    "    return A, f\n",
    "end"
   ]
  },
  {
   "cell_type": "code",
   "execution_count": 8,
   "id": "photographic-draft",
   "metadata": {},
   "outputs": [
    {
     "data": {
      "text/plain": [
       "BenchmarkTools.Trial: 1014 samples with 1 evaluation.\n",
       " Range \u001b[90m(\u001b[39m\u001b[36m\u001b[1mmin\u001b[22m\u001b[39m … \u001b[35mmax\u001b[39m\u001b[90m):  \u001b[39m\u001b[36m\u001b[1m3.677 ms\u001b[22m\u001b[39m … \u001b[35m10.053 ms\u001b[39m  \u001b[90m┊\u001b[39m GC \u001b[90m(\u001b[39mmin … max\u001b[90m): \u001b[39m 0.00% … 48.56%\n",
       " Time  \u001b[90m(\u001b[39m\u001b[34m\u001b[1mmedian\u001b[22m\u001b[39m\u001b[90m):     \u001b[39m\u001b[34m\u001b[1m4.367 ms              \u001b[22m\u001b[39m\u001b[90m┊\u001b[39m GC \u001b[90m(\u001b[39mmedian\u001b[90m):    \u001b[39m 0.00%\n",
       " Time  \u001b[90m(\u001b[39m\u001b[32m\u001b[1mmean\u001b[22m\u001b[39m ± \u001b[32mσ\u001b[39m\u001b[90m):   \u001b[39m\u001b[32m\u001b[1m4.928 ms\u001b[22m\u001b[39m ± \u001b[32m 1.459 ms\u001b[39m  \u001b[90m┊\u001b[39m GC \u001b[90m(\u001b[39mmean ± σ\u001b[90m):  \u001b[39m15.84% ± 18.49%\n",
       "\n",
       "  \u001b[39m█\u001b[39m█\u001b[39m▆\u001b[39m▃\u001b[39m▂\u001b[39m \u001b[39m \u001b[34m▃\u001b[39m\u001b[39m▂\u001b[39m▁\u001b[39m▅\u001b[39m▅\u001b[39m▄\u001b[32m▂\u001b[39m\u001b[39m \u001b[39m \u001b[39m \u001b[39m \u001b[39m \u001b[39m \u001b[39m \u001b[39m \u001b[39m \u001b[39m \u001b[39m \u001b[39m \u001b[39m \u001b[39m \u001b[39m \u001b[39m \u001b[39m \u001b[39m▄\u001b[39m▄\u001b[39m▃\u001b[39m▂\u001b[39m▂\u001b[39m▁\u001b[39m \u001b[39m▁\u001b[39m \u001b[39m \u001b[39m \u001b[39m \u001b[39m \u001b[39m \u001b[39m \u001b[39m \u001b[39m \u001b[39m \u001b[39m \u001b[39m \u001b[39m \u001b[39m \u001b[39m \u001b[39m \u001b[39m \u001b[39m \u001b[39m \u001b[39m \u001b[39m \n",
       "  \u001b[39m█\u001b[39m█\u001b[39m█\u001b[39m█\u001b[39m█\u001b[39m█\u001b[39m▇\u001b[34m█\u001b[39m\u001b[39m█\u001b[39m█\u001b[39m█\u001b[39m█\u001b[39m█\u001b[32m█\u001b[39m\u001b[39m█\u001b[39m▄\u001b[39m▅\u001b[39m▆\u001b[39m▄\u001b[39m▁\u001b[39m▁\u001b[39m▄\u001b[39m▁\u001b[39m▁\u001b[39m▁\u001b[39m▁\u001b[39m▁\u001b[39m▁\u001b[39m▁\u001b[39m▁\u001b[39m█\u001b[39m█\u001b[39m█\u001b[39m█\u001b[39m█\u001b[39m█\u001b[39m█\u001b[39m▇\u001b[39m█\u001b[39m█\u001b[39m█\u001b[39m▇\u001b[39m▆\u001b[39m▆\u001b[39m▇\u001b[39m▄\u001b[39m▅\u001b[39m▁\u001b[39m▅\u001b[39m▅\u001b[39m▅\u001b[39m▄\u001b[39m▇\u001b[39m▅\u001b[39m▆\u001b[39m▅\u001b[39m▄\u001b[39m▆\u001b[39m \u001b[39m█\n",
       "  3.68 ms\u001b[90m      \u001b[39m\u001b[90mHistogram: \u001b[39m\u001b[90m\u001b[1mlog(\u001b[22m\u001b[39m\u001b[90mfrequency\u001b[39m\u001b[90m\u001b[1m)\u001b[22m\u001b[39m\u001b[90m by time\u001b[39m     9.16 ms \u001b[0m\u001b[1m<\u001b[22m\n",
       "\n",
       " Memory estimate\u001b[90m: \u001b[39m\u001b[33m11.14 MiB\u001b[39m, allocs estimate\u001b[90m: \u001b[39m\u001b[33m90061\u001b[39m."
      ]
     },
     "execution_count": 8,
     "metadata": {},
     "output_type": "execute_result"
    }
   ],
   "source": [
    "N, _, _, x, _, _, fsource_elem = generate_mesh(10000);\n",
    "mesh = StructArray{Element}((x[1:end-1], x[2:end], Vector(1:N-1), Vector(2:N)))\n",
    "\n",
    "@benchmark A, f = assemble_matrices(mesh, N, fsource_elem)"
   ]
  },
  {
   "cell_type": "markdown",
   "id": "comic-amsterdam",
   "metadata": {},
   "source": [
    "## No Loop\n",
    "This does not seem to be a very efficient use of ``mapreduce``, next step: study the use of ``map()`` and ``mapreduce()`` and maybe write about this in a notebook about general Julia usage?\n",
    "\n",
    "Note: still missing assembly of $f$ vector"
   ]
  },
  {
   "cell_type": "code",
   "execution_count": 9,
   "id": "surface-office",
   "metadata": {
    "scrolled": false
   },
   "outputs": [
    {
     "data": {
      "text/plain": [
       "compute_element_area (generic function with 1 method)"
      ]
     },
     "execution_count": 9,
     "metadata": {},
     "output_type": "execute_result"
    }
   ],
   "source": [
    "function compute_element_area(elem_id, e, p)\n",
    "    area_id = p[e[elem_id][2]] - p[e[elem_id][1]]\n",
    "    return area_id\n",
    "end"
   ]
  },
  {
   "cell_type": "code",
   "execution_count": 10,
   "id": "arranged-closer",
   "metadata": {},
   "outputs": [
    {
     "data": {
      "text/plain": [
       "assemble_matrices (generic function with 2 methods)"
      ]
     },
     "execution_count": 10,
     "metadata": {},
     "output_type": "execute_result"
    }
   ],
   "source": [
    "function assemble_matrices(elem_ids, edges, x, N)\n",
    "    Atempl = [1, -1, -1, 1];\n",
    "    \n",
    "    # Calculate element length h\n",
    "    elem_area = map(elem_id -> compute_element_area(elem_id, edges, x), elem_ids);\n",
    "    \n",
    "    # Generate index vectors\n",
    "    I = mapreduce(e -> e[[1, 2, 1, 2]], vcat, edges)\n",
    "    J = mapreduce(e -> e[[1, 1, 2, 2]], vcat, edges)\n",
    "    \n",
    "    # Generate matrix contributions\n",
    "    V = mapreduce(h -> Atempl / h, vcat, elem_area);\n",
    "    \n",
    "    return sparse(I, J, V, N, N)\n",
    "end"
   ]
  },
  {
   "cell_type": "code",
   "execution_count": 11,
   "id": "handmade-shoot",
   "metadata": {
    "scrolled": false
   },
   "outputs": [
    {
     "data": {
      "text/plain": [
       "BenchmarkTools.Trial: 92 samples with 1 evaluation.\n",
       " Range \u001b[90m(\u001b[39m\u001b[36m\u001b[1mmin\u001b[22m\u001b[39m … \u001b[35mmax\u001b[39m\u001b[90m):  \u001b[39m\u001b[36m\u001b[1m42.685 ms\u001b[22m\u001b[39m … \u001b[35m220.885 ms\u001b[39m  \u001b[90m┊\u001b[39m GC \u001b[90m(\u001b[39mmin … max\u001b[90m): \u001b[39m18.40% … 71.70%\n",
       " Time  \u001b[90m(\u001b[39m\u001b[34m\u001b[1mmedian\u001b[22m\u001b[39m\u001b[90m):     \u001b[39m\u001b[34m\u001b[1m51.008 ms               \u001b[22m\u001b[39m\u001b[90m┊\u001b[39m GC \u001b[90m(\u001b[39mmedian\u001b[90m):    \u001b[39m18.25%\n",
       " Time  \u001b[90m(\u001b[39m\u001b[32m\u001b[1mmean\u001b[22m\u001b[39m ± \u001b[32mσ\u001b[39m\u001b[90m):   \u001b[39m\u001b[32m\u001b[1m54.739 ms\u001b[22m\u001b[39m ± \u001b[32m 19.227 ms\u001b[39m  \u001b[90m┊\u001b[39m GC \u001b[90m(\u001b[39mmean ± σ\u001b[90m):  \u001b[39m20.89% ±  5.69%\n",
       "\n",
       "  \u001b[39m▁\u001b[39m \u001b[39m▆\u001b[39m▃\u001b[39m \u001b[39m▆\u001b[39m \u001b[39m█\u001b[39m \u001b[39m▆\u001b[39m▃\u001b[39m \u001b[39m▆\u001b[34m▃\u001b[39m\u001b[39m▁\u001b[39m \u001b[39m \u001b[39m▃\u001b[39m▃\u001b[39m \u001b[32m \u001b[39m\u001b[39m▃\u001b[39m \u001b[39m \u001b[39m \u001b[39m \u001b[39m \u001b[39m \u001b[39m \u001b[39m \u001b[39m \u001b[39m▃\u001b[39m \u001b[39m \u001b[39m \u001b[39m \u001b[39m \u001b[39m \u001b[39m \u001b[39m \u001b[39m \u001b[39m \u001b[39m \u001b[39m \u001b[39m \u001b[39m \u001b[39m \u001b[39m \u001b[39m \u001b[39m \u001b[39m \u001b[39m \u001b[39m \u001b[39m \u001b[39m \u001b[39m \u001b[39m \u001b[39m \u001b[39m \u001b[39m \u001b[39m \u001b[39m \n",
       "  \u001b[39m█\u001b[39m▄\u001b[39m█\u001b[39m█\u001b[39m▄\u001b[39m█\u001b[39m▇\u001b[39m█\u001b[39m▇\u001b[39m█\u001b[39m█\u001b[39m▇\u001b[39m█\u001b[34m█\u001b[39m\u001b[39m█\u001b[39m▄\u001b[39m▁\u001b[39m█\u001b[39m█\u001b[39m▇\u001b[32m▄\u001b[39m\u001b[39m█\u001b[39m▄\u001b[39m▄\u001b[39m▁\u001b[39m▄\u001b[39m▇\u001b[39m▇\u001b[39m▄\u001b[39m▁\u001b[39m▄\u001b[39m█\u001b[39m▁\u001b[39m▄\u001b[39m▁\u001b[39m▁\u001b[39m▁\u001b[39m▁\u001b[39m▇\u001b[39m▄\u001b[39m▁\u001b[39m▁\u001b[39m▄\u001b[39m▄\u001b[39m▁\u001b[39m▄\u001b[39m▁\u001b[39m▄\u001b[39m▁\u001b[39m▁\u001b[39m▁\u001b[39m▁\u001b[39m▁\u001b[39m▁\u001b[39m▁\u001b[39m▁\u001b[39m▁\u001b[39m▄\u001b[39m▁\u001b[39m▄\u001b[39m \u001b[39m▁\n",
       "  42.7 ms\u001b[90m         Histogram: frequency by time\u001b[39m         79.3 ms \u001b[0m\u001b[1m<\u001b[22m\n",
       "\n",
       " Memory estimate\u001b[90m: \u001b[39m\u001b[33m299.78 MiB\u001b[39m, allocs estimate\u001b[90m: \u001b[39m\u001b[33m85488\u001b[39m."
      ]
     },
     "execution_count": 11,
     "metadata": {},
     "output_type": "execute_result"
    }
   ],
   "source": [
    "N, points, edges, x, elem_ids = generate_mesh(10000);\n",
    "\n",
    "@benchmark A = assemble_matrices(elem_ids, edges, x, length(x))"
   ]
  },
  {
   "cell_type": "code",
   "execution_count": null,
   "id": "still-spine",
   "metadata": {},
   "outputs": [],
   "source": []
  }
 ],
 "metadata": {
  "kernelspec": {
   "display_name": "Julia 1.7.1",
   "language": "julia",
   "name": "julia-1.7"
  },
  "language_info": {
   "file_extension": ".jl",
   "mimetype": "application/julia",
   "name": "julia",
   "version": "1.7.1"
  }
 },
 "nbformat": 4,
 "nbformat_minor": 5
}
