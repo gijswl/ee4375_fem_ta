{
 "cells": [
  {
   "cell_type": "markdown",
   "id": "rough-service",
   "metadata": {},
   "source": [
    "# Matrix Assembly"
   ]
  },
  {
   "cell_type": "code",
   "execution_count": 1,
   "id": "improved-evening",
   "metadata": {},
   "outputs": [],
   "source": [
    "using LinearAlgebra, SparseArrays\n",
    "using BenchmarkTools"
   ]
  },
  {
   "cell_type": "code",
   "execution_count": 2,
   "id": "universal-judgment",
   "metadata": {},
   "outputs": [
    {
     "data": {
      "text/plain": [
       "generate_mesh (generic function with 1 method)"
      ]
     },
     "execution_count": 2,
     "metadata": {},
     "output_type": "execute_result"
    }
   ],
   "source": [
    "function generate_mesh(Nel)\n",
    "    x = 0:1/Nel:1;\n",
    "\n",
    "    # Collect points (left and right nodes for each element) and edges (connectivity: indices of left and right nodes)\n",
    "    N = length(x);\n",
    "    points = collect( [x[i], x[i+1]] for i in 1:N-1) \n",
    "    edges  = collect( [i, i+1] for i in 1:N-1); \n",
    "\n",
    "    elem_ids = 1:length(edges)\n",
    "    e_group = ones(size(edges));\n",
    "    \n",
    "    #..Set the source function \n",
    "    fsource(group_id) = 1;\n",
    "    fsource_elem = map(fsource, e_group);\n",
    "\n",
    "\n",
    "    return N, points, edges, x, elem_ids, e_group, fsource_elem\n",
    "end"
   ]
  },
  {
   "cell_type": "markdown",
   "id": "tamil-coaching",
   "metadata": {},
   "source": [
    "## Triple Loop"
   ]
  },
  {
   "cell_type": "code",
   "execution_count": 3,
   "id": "centered-skiing",
   "metadata": {},
   "outputs": [
    {
     "data": {
      "text/plain": [
       "assemble_matrices (generic function with 1 method)"
      ]
     },
     "execution_count": 3,
     "metadata": {},
     "output_type": "execute_result"
    }
   ],
   "source": [
    "function assemble_matrices(edges, points, N, fsource_elem)\n",
    "    #..Initialize global matrix and right-hand side value \n",
    "    A = zeros(Float64, N, N);\n",
    "    f = zeros(Float64, N); \n",
    "\n",
    "    #..Perform loop over elements and assemble global matrix and vector \n",
    "    for (i, nodes) = enumerate(edges)\n",
    "        xl, xr = points[i,:][1]\n",
    "        h = xr - xl;\n",
    "\n",
    "        floc = fsource_elem[i] * h / 2 * [1; 1];\n",
    "        Aloc = 1 / h * [1 -1; -1 1];\n",
    "\n",
    "        #....perform loop over nodes of the current element\n",
    "        #....and add local contribution Aloc to global matrix entity A\n",
    "        for j = 1:2\n",
    "            I = nodes[j];\n",
    "            f[I] += floc[j]\n",
    "            for k = 1:2\n",
    "                J = nodes[k];\n",
    "                A[I,J] += Aloc[j,k]\n",
    "            end\n",
    "        end\n",
    "\n",
    "    end\n",
    "\n",
    "    #..handle the boundary conditions in the matrix and right-hand side vector \n",
    "    A[1,:]   = zeros(N);  A[1,1]     = 1;      f[1]   = 0;\n",
    "    A[end,:] = zeros(N);  A[end,end] = 1;      f[end] = 0;\n",
    "    \n",
    "    return A, f\n",
    "end"
   ]
  },
  {
   "cell_type": "code",
   "execution_count": 4,
   "id": "athletic-composition",
   "metadata": {},
   "outputs": [
    {
     "data": {
      "text/plain": [
       "BenchmarkTools.Trial: 15 samples with 1 evaluation.\n",
       " Range \u001b[90m(\u001b[39m\u001b[36m\u001b[1mmin\u001b[22m\u001b[39m … \u001b[35mmax\u001b[39m\u001b[90m):  \u001b[39m\u001b[36m\u001b[1m138.615 ms\u001b[22m\u001b[39m … \u001b[35m   1.099 s\u001b[39m  \u001b[90m┊\u001b[39m GC \u001b[90m(\u001b[39mmin … max\u001b[90m): \u001b[39m 0.11% …  9.37%\n",
       " Time  \u001b[90m(\u001b[39m\u001b[34m\u001b[1mmedian\u001b[22m\u001b[39m\u001b[90m):     \u001b[39m\u001b[34m\u001b[1m274.242 ms               \u001b[22m\u001b[39m\u001b[90m┊\u001b[39m GC \u001b[90m(\u001b[39mmedian\u001b[90m):    \u001b[39m22.36%\n",
       " Time  \u001b[90m(\u001b[39m\u001b[32m\u001b[1mmean\u001b[22m\u001b[39m ± \u001b[32mσ\u001b[39m\u001b[90m):   \u001b[39m\u001b[32m\u001b[1m299.739 ms\u001b[22m\u001b[39m ± \u001b[32m228.828 ms\u001b[39m  \u001b[90m┊\u001b[39m GC \u001b[90m(\u001b[39mmean ± σ\u001b[90m):  \u001b[39m19.96% ± 15.94%\n",
       "\n",
       "  \u001b[39m▃\u001b[39m \u001b[39m \u001b[39m \u001b[39m \u001b[39m▃\u001b[34m \u001b[39m\u001b[39m \u001b[39m▃\u001b[39m█\u001b[32m \u001b[39m\u001b[39m▃\u001b[39m \u001b[39m \u001b[39m \u001b[39m \u001b[39m \u001b[39m \u001b[39m \u001b[39m \u001b[39m \u001b[39m \u001b[39m \u001b[39m \u001b[39m \u001b[39m \u001b[39m \u001b[39m \u001b[39m \u001b[39m \u001b[39m \u001b[39m \u001b[39m \u001b[39m \u001b[39m \u001b[39m \u001b[39m \u001b[39m \u001b[39m \u001b[39m \u001b[39m \u001b[39m \u001b[39m \u001b[39m \u001b[39m \u001b[39m \u001b[39m \u001b[39m \u001b[39m \u001b[39m \u001b[39m \u001b[39m \u001b[39m \u001b[39m \u001b[39m \u001b[39m \u001b[39m \u001b[39m \u001b[39m \u001b[39m \u001b[39m \u001b[39m \u001b[39m \n",
       "  \u001b[39m█\u001b[39m▇\u001b[39m▁\u001b[39m▁\u001b[39m▇\u001b[39m█\u001b[34m▇\u001b[39m\u001b[39m▁\u001b[39m█\u001b[39m█\u001b[32m▁\u001b[39m\u001b[39m█\u001b[39m▁\u001b[39m▁\u001b[39m▁\u001b[39m▁\u001b[39m▁\u001b[39m▁\u001b[39m▁\u001b[39m▁\u001b[39m▁\u001b[39m▁\u001b[39m▁\u001b[39m▁\u001b[39m▁\u001b[39m▁\u001b[39m▁\u001b[39m▁\u001b[39m▁\u001b[39m▁\u001b[39m▁\u001b[39m▁\u001b[39m▁\u001b[39m▁\u001b[39m▁\u001b[39m▁\u001b[39m▁\u001b[39m▁\u001b[39m▁\u001b[39m▁\u001b[39m▁\u001b[39m▁\u001b[39m▁\u001b[39m▁\u001b[39m▁\u001b[39m▁\u001b[39m▁\u001b[39m▁\u001b[39m▁\u001b[39m▁\u001b[39m▁\u001b[39m▁\u001b[39m▁\u001b[39m▁\u001b[39m▁\u001b[39m▁\u001b[39m▁\u001b[39m▁\u001b[39m▁\u001b[39m▁\u001b[39m▇\u001b[39m \u001b[39m▁\n",
       "  139 ms\u001b[90m           Histogram: frequency by time\u001b[39m           1.1 s \u001b[0m\u001b[1m<\u001b[22m\n",
       "\n",
       " Memory estimate\u001b[90m: \u001b[39m\u001b[33m767.75 MiB\u001b[39m, allocs estimate\u001b[90m: \u001b[39m\u001b[33m60009\u001b[39m."
      ]
     },
     "execution_count": 4,
     "metadata": {},
     "output_type": "execute_result"
    }
   ],
   "source": [
    "N, points, edges, _, _, _, fsource_elem = generate_mesh(10000);\n",
    "\n",
    "@benchmark A, f = assemble_matrices(edges, points, N, fsource_elem)"
   ]
  },
  {
   "cell_type": "markdown",
   "id": "fresh-ideal",
   "metadata": {},
   "source": [
    "## Single Loop"
   ]
  },
  {
   "cell_type": "code",
   "execution_count": 5,
   "id": "velvet-deputy",
   "metadata": {},
   "outputs": [
    {
     "data": {
      "text/plain": [
       "assemble_matrices (generic function with 1 method)"
      ]
     },
     "execution_count": 5,
     "metadata": {},
     "output_type": "execute_result"
    }
   ],
   "source": [
    "function assemble_matrices(edges, points, N, fsource_elem)    \n",
    "    #..Initialize global matrix and right-hand side value \n",
    "    A = zeros(Float64, N, N);\n",
    "    f = zeros(Float64, N); \n",
    "\n",
    "    #..Perform loop over elements and assemble global matrix and vector \n",
    "    for (i, nodes) = enumerate(edges)\n",
    "        xl, xr = points[i,:][1]\n",
    "        h = xr - xl;\n",
    "\n",
    "        floc = fsource_elem[i] * h / 2 * [1; 1];\n",
    "        Aloc = 1 / h * [1 -1; -1 1];\n",
    "\n",
    "        f[nodes] += floc;\n",
    "        A[nodes, nodes] += Aloc;\n",
    "    end\n",
    "\n",
    "    #..handle the boundary conditions in the matrix and right-hand side vector \n",
    "    A[1,:]   = zeros(N);  A[1,1]     = 1;      f[1]   = 0;\n",
    "    A[end,:] = zeros(N);  A[end,end] = 1;      f[end] = 0;\n",
    "    \n",
    "    return A, f\n",
    "end"
   ]
  },
  {
   "cell_type": "code",
   "execution_count": 6,
   "id": "hundred-fifty",
   "metadata": {},
   "outputs": [
    {
     "data": {
      "text/plain": [
       "BenchmarkTools.Trial: 17 samples with 1 evaluation.\n",
       " Range \u001b[90m(\u001b[39m\u001b[36m\u001b[1mmin\u001b[22m\u001b[39m … \u001b[35mmax\u001b[39m\u001b[90m):  \u001b[39m\u001b[36m\u001b[1m160.367 ms\u001b[22m\u001b[39m … \u001b[35m342.028 ms\u001b[39m  \u001b[90m┊\u001b[39m GC \u001b[90m(\u001b[39mmin … max\u001b[90m): \u001b[39m 0.32% … 33.44%\n",
       " Time  \u001b[90m(\u001b[39m\u001b[34m\u001b[1mmedian\u001b[22m\u001b[39m\u001b[90m):     \u001b[39m\u001b[34m\u001b[1m270.010 ms               \u001b[22m\u001b[39m\u001b[90m┊\u001b[39m GC \u001b[90m(\u001b[39mmedian\u001b[90m):    \u001b[39m21.31%\n",
       " Time  \u001b[90m(\u001b[39m\u001b[32m\u001b[1mmean\u001b[22m\u001b[39m ± \u001b[32mσ\u001b[39m\u001b[90m):   \u001b[39m\u001b[32m\u001b[1m269.316 ms\u001b[22m\u001b[39m ± \u001b[32m 44.885 ms\u001b[39m  \u001b[90m┊\u001b[39m GC \u001b[90m(\u001b[39mmean ± σ\u001b[90m):  \u001b[39m23.41% ± 10.07%\n",
       "\n",
       "  \u001b[39m▁\u001b[39m \u001b[39m \u001b[39m \u001b[39m \u001b[39m \u001b[39m \u001b[39m \u001b[39m \u001b[39m \u001b[39m \u001b[39m \u001b[39m \u001b[39m \u001b[39m \u001b[39m \u001b[39m \u001b[39m▁\u001b[39m \u001b[39m \u001b[39m \u001b[39m \u001b[39m \u001b[39m \u001b[39m \u001b[39m \u001b[39m▁\u001b[39m \u001b[39m▁\u001b[39m▁\u001b[39m \u001b[39m \u001b[39m▁\u001b[39m▁\u001b[34m▁\u001b[39m\u001b[39m \u001b[39m█\u001b[32m█\u001b[39m\u001b[39m \u001b[39m \u001b[39m \u001b[39m \u001b[39m \u001b[39m \u001b[39m \u001b[39m \u001b[39m▁\u001b[39m \u001b[39m \u001b[39m \u001b[39m \u001b[39m \u001b[39m▁\u001b[39m▁\u001b[39m \u001b[39m \u001b[39m \u001b[39m▁\u001b[39m \u001b[39m \u001b[39m▁\u001b[39m \u001b[39m \n",
       "  \u001b[39m█\u001b[39m▁\u001b[39m▁\u001b[39m▁\u001b[39m▁\u001b[39m▁\u001b[39m▁\u001b[39m▁\u001b[39m▁\u001b[39m▁\u001b[39m▁\u001b[39m▁\u001b[39m▁\u001b[39m▁\u001b[39m▁\u001b[39m▁\u001b[39m▁\u001b[39m█\u001b[39m▁\u001b[39m▁\u001b[39m▁\u001b[39m▁\u001b[39m▁\u001b[39m▁\u001b[39m▁\u001b[39m▁\u001b[39m█\u001b[39m▁\u001b[39m█\u001b[39m█\u001b[39m▁\u001b[39m▁\u001b[39m█\u001b[39m█\u001b[34m█\u001b[39m\u001b[39m▁\u001b[39m█\u001b[32m█\u001b[39m\u001b[39m▁\u001b[39m▁\u001b[39m▁\u001b[39m▁\u001b[39m▁\u001b[39m▁\u001b[39m▁\u001b[39m▁\u001b[39m█\u001b[39m▁\u001b[39m▁\u001b[39m▁\u001b[39m▁\u001b[39m▁\u001b[39m█\u001b[39m█\u001b[39m▁\u001b[39m▁\u001b[39m▁\u001b[39m█\u001b[39m▁\u001b[39m▁\u001b[39m█\u001b[39m \u001b[39m▁\n",
       "  160 ms\u001b[90m           Histogram: frequency by time\u001b[39m          342 ms \u001b[0m\u001b[1m<\u001b[22m\n",
       "\n",
       " Memory estimate\u001b[90m: \u001b[39m\u001b[33m771.10 MiB\u001b[39m, allocs estimate\u001b[90m: \u001b[39m\u001b[33m100009\u001b[39m."
      ]
     },
     "execution_count": 6,
     "metadata": {},
     "output_type": "execute_result"
    }
   ],
   "source": [
    "N, points, edges, _, _, _, fsource_elem = generate_mesh(10000);\n",
    "\n",
    "@benchmark A = assemble_matrices(edges, points, N, fsource_elem)"
   ]
  },
  {
   "cell_type": "markdown",
   "id": "integrated-awareness",
   "metadata": {},
   "source": [
    "## Single Loop with Pre-allocation"
   ]
  },
  {
   "cell_type": "markdown",
   "id": "quality-crisis",
   "metadata": {},
   "source": [
    "## Single Loop with Sparse"
   ]
  },
  {
   "cell_type": "code",
   "execution_count": 7,
   "id": "internal-computer",
   "metadata": {},
   "outputs": [
    {
     "data": {
      "text/plain": [
       "assemble_matrices (generic function with 1 method)"
      ]
     },
     "execution_count": 7,
     "metadata": {},
     "output_type": "execute_result"
    }
   ],
   "source": [
    "function assemble_matrices(edges, points, N, fsource_elem)\n",
    "    # Initialize vectors for sparse matrix construction\n",
    "    I = zeros(Int64, 4*length(edges))\n",
    "    J = similar(I);\n",
    "    V = zeros(Float64, length(I));\n",
    "    \n",
    "    # Initialize right-hand side vector\n",
    "    f = zeros(Float64, N); \n",
    "    \n",
    "    #..Perform loop over elements and assemble global matrix and vector \n",
    "    for (i, nodes) = enumerate(edges)\n",
    "        idx = 4*(i-1) + 1 : 4*i;\n",
    "        h   = points[i][2] - points[i][1];\n",
    "        \n",
    "        #\n",
    "        f[nodes] += fsource_elem[i] * h / 2 * [1; 1];\n",
    "        \n",
    "        # Matrix contribution\n",
    "        I[idx] = nodes[[1, 2, 1, 2]];\n",
    "        J[idx] = nodes[[1, 1, 2, 2]];\n",
    "        V[idx] = 1/h * [1 -1 -1 1];\n",
    "    end\n",
    "    \n",
    "    A = sparse(I, J, V)\n",
    "    \n",
    "    #..handle the boundary conditions in the matrix and right-hand side vector \n",
    "    A[1,:]   = zeros(N);  A[1,1]     = 1;      f[1]   = 0;\n",
    "    A[end,:] = zeros(N);  A[end,end] = 1;      f[end] = 0;\n",
    "    \n",
    "    return A, f\n",
    "end"
   ]
  },
  {
   "cell_type": "code",
   "execution_count": 8,
   "id": "photographic-draft",
   "metadata": {},
   "outputs": [
    {
     "data": {
      "text/plain": [
       "BenchmarkTools.Trial: 865 samples with 1 evaluation.\n",
       " Range \u001b[90m(\u001b[39m\u001b[36m\u001b[1mmin\u001b[22m\u001b[39m … \u001b[35mmax\u001b[39m\u001b[90m):  \u001b[39m\u001b[36m\u001b[1m4.058 ms\u001b[22m\u001b[39m … \u001b[35m24.755 ms\u001b[39m  \u001b[90m┊\u001b[39m GC \u001b[90m(\u001b[39mmin … max\u001b[90m): \u001b[39m 0.00% … 78.61%\n",
       " Time  \u001b[90m(\u001b[39m\u001b[34m\u001b[1mmedian\u001b[22m\u001b[39m\u001b[90m):     \u001b[39m\u001b[34m\u001b[1m5.272 ms              \u001b[22m\u001b[39m\u001b[90m┊\u001b[39m GC \u001b[90m(\u001b[39mmedian\u001b[90m):    \u001b[39m 0.00%\n",
       " Time  \u001b[90m(\u001b[39m\u001b[32m\u001b[1mmean\u001b[22m\u001b[39m ± \u001b[32mσ\u001b[39m\u001b[90m):   \u001b[39m\u001b[32m\u001b[1m5.774 ms\u001b[22m\u001b[39m ± \u001b[32m 1.858 ms\u001b[39m  \u001b[90m┊\u001b[39m GC \u001b[90m(\u001b[39mmean ± σ\u001b[90m):  \u001b[39m14.77% ± 17.11%\n",
       "\n",
       "  \u001b[39m█\u001b[39m█\u001b[39m▄\u001b[39m \u001b[39m \u001b[39m \u001b[39m \u001b[39m \u001b[39m \u001b[34m \u001b[39m\u001b[39m \u001b[39m \u001b[39m \u001b[32m \u001b[39m\u001b[39m \u001b[39m \u001b[39m \u001b[39m \u001b[39m \u001b[39m \u001b[39m \u001b[39m \u001b[39m \u001b[39m \u001b[39m \u001b[39m \u001b[39m \u001b[39m \u001b[39m \u001b[39m \u001b[39m \u001b[39m \u001b[39m \u001b[39m \u001b[39m \u001b[39m \u001b[39m \u001b[39m \u001b[39m \u001b[39m \u001b[39m \u001b[39m \u001b[39m \u001b[39m \u001b[39m \u001b[39m \u001b[39m \u001b[39m \u001b[39m \u001b[39m \u001b[39m \u001b[39m \u001b[39m \u001b[39m \u001b[39m \u001b[39m \u001b[39m \u001b[39m \u001b[39m \u001b[39m \n",
       "  \u001b[39m█\u001b[39m█\u001b[39m█\u001b[39m█\u001b[39m▅\u001b[39m▃\u001b[39m▄\u001b[39m▄\u001b[39m█\u001b[34m▇\u001b[39m\u001b[39m▆\u001b[39m█\u001b[39m▅\u001b[32m▅\u001b[39m\u001b[39m▅\u001b[39m▃\u001b[39m▃\u001b[39m▂\u001b[39m▃\u001b[39m▅\u001b[39m▄\u001b[39m▆\u001b[39m▆\u001b[39m▅\u001b[39m▄\u001b[39m▃\u001b[39m▃\u001b[39m▃\u001b[39m▃\u001b[39m▃\u001b[39m▃\u001b[39m▃\u001b[39m▃\u001b[39m▄\u001b[39m▃\u001b[39m▃\u001b[39m▃\u001b[39m▃\u001b[39m▂\u001b[39m▃\u001b[39m▂\u001b[39m▂\u001b[39m▃\u001b[39m▃\u001b[39m▂\u001b[39m▂\u001b[39m▁\u001b[39m▂\u001b[39m▂\u001b[39m▁\u001b[39m▂\u001b[39m▂\u001b[39m▂\u001b[39m▁\u001b[39m▂\u001b[39m▁\u001b[39m▁\u001b[39m▂\u001b[39m \u001b[39m▃\n",
       "  4.06 ms\u001b[90m        Histogram: frequency by time\u001b[39m        11.6 ms \u001b[0m\u001b[1m<\u001b[22m\n",
       "\n",
       " Memory estimate\u001b[90m: \u001b[39m\u001b[33m12.21 MiB\u001b[39m, allocs estimate\u001b[90m: \u001b[39m\u001b[33m100061\u001b[39m."
      ]
     },
     "execution_count": 8,
     "metadata": {},
     "output_type": "execute_result"
    }
   ],
   "source": [
    "N, points, edges, _, _, _, fsource_elem = generate_mesh(10000);\n",
    "\n",
    "@benchmark A, f = assemble_matrices(edges, points, N, fsource_elem)"
   ]
  },
  {
   "cell_type": "markdown",
   "id": "comic-amsterdam",
   "metadata": {},
   "source": [
    "## No Loop\n",
    "This does not seem to be a very efficient use of ``mapreduce``, next step: study the use of ``map()`` and ``mapreduce()`` and maybe write about this in a notebook about general Julia usage?\n",
    "\n",
    "Note: still missing assembly of $f$ vector"
   ]
  },
  {
   "cell_type": "code",
   "execution_count": 9,
   "id": "surface-office",
   "metadata": {
    "scrolled": false
   },
   "outputs": [
    {
     "data": {
      "text/plain": [
       "compute_element_area (generic function with 1 method)"
      ]
     },
     "execution_count": 9,
     "metadata": {},
     "output_type": "execute_result"
    }
   ],
   "source": [
    "function compute_element_area(elem_id, e, p)\n",
    "    area_id = p[e[elem_id][2]] - p[e[elem_id][1]]\n",
    "    return area_id\n",
    "end"
   ]
  },
  {
   "cell_type": "code",
   "execution_count": 10,
   "id": "arranged-closer",
   "metadata": {},
   "outputs": [
    {
     "data": {
      "text/plain": [
       "assemble_matrices (generic function with 1 method)"
      ]
     },
     "execution_count": 10,
     "metadata": {},
     "output_type": "execute_result"
    }
   ],
   "source": [
    "function assemble_matrices(elem_ids, edges, x, N)\n",
    "    Atempl = [1, -1, -1, 1];\n",
    "    \n",
    "    # Calculate element length h\n",
    "    elem_area = map(elem_id -> compute_element_area(elem_id, edges, x), elem_ids);\n",
    "    \n",
    "    # Generate index vectors\n",
    "    I = mapreduce(e -> e[[1, 2, 1, 2]], vcat, edges)\n",
    "    J = mapreduce(e -> e[[1, 1, 2, 2]], vcat, edges)\n",
    "    \n",
    "    # Generate matrix contributions\n",
    "    V = mapreduce(h -> Atempl / h, vcat, elem_area);\n",
    "    \n",
    "    return sparse(I, J, V, N, N)\n",
    "end"
   ]
  },
  {
   "cell_type": "code",
   "execution_count": 11,
   "id": "handmade-shoot",
   "metadata": {
    "scrolled": false
   },
   "outputs": [
    {
     "data": {
      "text/plain": [
       "BenchmarkTools.Trial: 92 samples with 1 evaluation.\n",
       " Range \u001b[90m(\u001b[39m\u001b[36m\u001b[1mmin\u001b[22m\u001b[39m … \u001b[35mmax\u001b[39m\u001b[90m):  \u001b[39m\u001b[36m\u001b[1m42.413 ms\u001b[22m\u001b[39m … \u001b[35m212.333 ms\u001b[39m  \u001b[90m┊\u001b[39m GC \u001b[90m(\u001b[39mmin … max\u001b[90m): \u001b[39m17.89% … 74.96%\n",
       " Time  \u001b[90m(\u001b[39m\u001b[34m\u001b[1mmedian\u001b[22m\u001b[39m\u001b[90m):     \u001b[39m\u001b[34m\u001b[1m50.816 ms               \u001b[22m\u001b[39m\u001b[90m┊\u001b[39m GC \u001b[90m(\u001b[39mmedian\u001b[90m):    \u001b[39m18.37%\n",
       " Time  \u001b[90m(\u001b[39m\u001b[32m\u001b[1mmean\u001b[22m\u001b[39m ± \u001b[32mσ\u001b[39m\u001b[90m):   \u001b[39m\u001b[32m\u001b[1m54.790 ms\u001b[22m\u001b[39m ± \u001b[32m 18.693 ms\u001b[39m  \u001b[90m┊\u001b[39m GC \u001b[90m(\u001b[39mmean ± σ\u001b[90m):  \u001b[39m20.93% ±  6.12%\n",
       "\n",
       "  \u001b[39m \u001b[39m▃\u001b[39m█\u001b[39m \u001b[39m▁\u001b[39m▃\u001b[39m \u001b[39m█\u001b[39m \u001b[39m \u001b[39m \u001b[39m▁\u001b[34m▄\u001b[39m\u001b[39m \u001b[39m▁\u001b[39m \u001b[39m \u001b[39m \u001b[32m \u001b[39m\u001b[39m \u001b[39m \u001b[39m \u001b[39m▁\u001b[39m \u001b[39m \u001b[39m \u001b[39m▃\u001b[39m \u001b[39m \u001b[39m \u001b[39m \u001b[39m \u001b[39m \u001b[39m \u001b[39m \u001b[39m \u001b[39m \u001b[39m \u001b[39m \u001b[39m \u001b[39m \u001b[39m \u001b[39m \u001b[39m \u001b[39m \u001b[39m \u001b[39m \u001b[39m \u001b[39m \u001b[39m \u001b[39m \u001b[39m \u001b[39m \u001b[39m \u001b[39m \u001b[39m \u001b[39m \u001b[39m \u001b[39m \u001b[39m \u001b[39m \u001b[39m \n",
       "  \u001b[39m▆\u001b[39m█\u001b[39m█\u001b[39m▄\u001b[39m█\u001b[39m█\u001b[39m▆\u001b[39m█\u001b[39m▆\u001b[39m▆\u001b[39m▆\u001b[39m█\u001b[34m█\u001b[39m\u001b[39m▄\u001b[39m█\u001b[39m▆\u001b[39m▄\u001b[39m▄\u001b[32m▆\u001b[39m\u001b[39m▁\u001b[39m▁\u001b[39m▁\u001b[39m█\u001b[39m▇\u001b[39m▁\u001b[39m▆\u001b[39m█\u001b[39m▆\u001b[39m▁\u001b[39m▄\u001b[39m▄\u001b[39m▁\u001b[39m▄\u001b[39m▆\u001b[39m▁\u001b[39m▆\u001b[39m▁\u001b[39m▁\u001b[39m▄\u001b[39m▄\u001b[39m▁\u001b[39m▄\u001b[39m▁\u001b[39m▁\u001b[39m▆\u001b[39m▁\u001b[39m▁\u001b[39m▁\u001b[39m▁\u001b[39m▁\u001b[39m▁\u001b[39m▁\u001b[39m▁\u001b[39m▁\u001b[39m▁\u001b[39m▁\u001b[39m▁\u001b[39m▁\u001b[39m▁\u001b[39m▄\u001b[39m \u001b[39m▁\n",
       "  42.4 ms\u001b[90m         Histogram: frequency by time\u001b[39m         83.9 ms \u001b[0m\u001b[1m<\u001b[22m\n",
       "\n",
       " Memory estimate\u001b[90m: \u001b[39m\u001b[33m299.78 MiB\u001b[39m, allocs estimate\u001b[90m: \u001b[39m\u001b[33m85488\u001b[39m."
      ]
     },
     "execution_count": 11,
     "metadata": {},
     "output_type": "execute_result"
    }
   ],
   "source": [
    "N, points, edges, x, elem_ids = generate_mesh(10000);\n",
    "@benchmark A = assemble_matrices(elem_ids, edges, x, length(x))"
   ]
  }
 ],
 "metadata": {
  "kernelspec": {
   "display_name": "Julia 1.7.1",
   "language": "julia",
   "name": "julia-1.7"
  },
  "language_info": {
   "file_extension": ".jl",
   "mimetype": "application/julia",
   "name": "julia",
   "version": "1.7.1"
  }
 },
 "nbformat": 4,
 "nbformat_minor": 5
}
