{
 "cells": [
  {
   "cell_type": "markdown",
   "metadata": {
    "collapsed": true
   },
   "source": [
    "# 1D FEM: Symbolic Computation of Elementary Stiffness and Mass Matrix "
   ]
  },
  {
   "cell_type": "code",
   "execution_count": 12,
   "metadata": {},
   "outputs": [
    {
     "name": "stdout",
     "output_type": "stream",
     "text": [
      "Succesfully imported numpy -- Version: 1.19.5\n",
      "Succesfully imported scipy -- Version: 1.6.0\n",
      "Succesfully imported sympy -- Version: 1.7.1\n"
     ]
    }
   ],
   "source": [
    "import numpy as np\n",
    "print(\"Succesfully imported %s -- Version: %s\"%(np.__name__,np.__version__))\n",
    "import scipy\n",
    "print(\"Succesfully imported %s -- Version: %s\"%(scipy.__name__,scipy.__version__))\n",
    "import sympy as sym \n",
    "print(\"Succesfully imported %s -- Version: %s\"%(sym.__name__,sym.__version__))\n",
    "\n",
    "import matplotlib.pyplot as plt"
   ]
  },
  {
   "cell_type": "markdown",
   "metadata": {},
   "source": [
    "## Section 1/2: Linear Shape Function"
   ]
  },
  {
   "cell_type": "markdown",
   "metadata": {},
   "source": [
    "### Assume element length 1 and thus no scaling with mesh width"
   ]
  },
  {
   "cell_type": "code",
   "execution_count": 2,
   "metadata": {},
   "outputs": [
    {
     "name": "stdout",
     "output_type": "stream",
     "text": [
      "contribution to the stiffness matrix\n",
      "⎡1   -1⎤\n",
      "⎢      ⎥\n",
      "⎣-1  1 ⎦\n",
      "contribution to the mass matrix\n",
      "⎡1/3  1/6⎤\n",
      "⎢        ⎥\n",
      "⎣1/6  1/3⎦\n"
     ]
    },
    {
     "data": {
      "text/plain": [
       "(None, None)"
      ]
     },
     "execution_count": 2,
     "metadata": {},
     "output_type": "execute_result"
    }
   ],
   "source": [
    "sym.var('x')\n",
    "phi1 = 1-x\n",
    "phi2 = x\n",
    "phi = sym.Matrix([phi1, phi2])\n",
    "dphi = sym.diff(phi, x)\n",
    "A = sym.integrate(dphi*sym.Transpose(dphi), (x, 0.,1))\n",
    "M = sym.integrate(phi*sym.Transpose(phi), (x, 0.,1))\n",
    "print('contribution to the stiffness matrix'), sym.pprint(A)\n",
    "print('contribution to the mass matrix'), sym.pprint(M)"
   ]
  },
  {
   "cell_type": "code",
   "execution_count": 13,
   "metadata": {},
   "outputs": [
    {
     "data": {
      "image/png": "[encoded data removed]",
      "text/plain": [
       "<Figure size 432x288 with 1 Axes>"
      ]
     },
     "metadata": {
      "needs_background": "light"
     },
     "output_type": "display_data"
    }
   ],
   "source": [
    "#..lambdify the symbolic expression \n",
    "phi1_lambda = sym.lambdify(x, phi1)\n",
    "phi2_lambda = sym.lambdify(x, phi2)\n",
    "\n",
    "#..sample the lambda expression for the computed solution \n",
    "nsamples = 100 \n",
    "xvec = np.linspace(0,1,nsamples)\n",
    "phi1_vec = phi1_lambda(xvec)\n",
    "phi2_vec = phi2_lambda(xvec)\n",
    "\n",
    "#..plot the computed solution \n",
    "plt.plot(xvec,phi1_vec,label='phi1')\n",
    "plt.plot(xvec,phi2_vec,label='phi2')\n",
    "plt.xlabel('x')\n",
    "plt.legend(loc='best')\n",
    "plt.grid()\n",
    "plt.show()"
   ]
  },
  {
   "cell_type": "markdown",
   "metadata": {},
   "source": [
    "### Assume element length h and thus scaling with h "
   ]
  },
  {
   "cell_type": "code",
   "execution_count": 33,
   "metadata": {},
   "outputs": [
    {
     "name": "stdout",
     "output_type": "stream",
     "text": [
      "contribution to the stiffness matrix\n",
      "⎡ 1   -1 ⎤\n",
      "⎢ ─   ───⎥\n",
      "⎢ h    h ⎥\n",
      "⎢        ⎥\n",
      "⎢-1    1 ⎥\n",
      "⎢───   ─ ⎥\n",
      "⎣ h    h ⎦\n",
      "contribution to the mass matrix\n",
      "⎡h  h⎤\n",
      "⎢─  ─⎥\n",
      "⎢3  6⎥\n",
      "⎢    ⎥\n",
      "⎢h  h⎥\n",
      "⎢─  ─⎥\n",
      "⎣6  3⎦\n"
     ]
    },
    {
     "data": {
      "text/plain": [
       "(None, None)"
      ]
     },
     "execution_count": 33,
     "metadata": {},
     "output_type": "execute_result"
    }
   ],
   "source": [
    "sym.var('x')\n",
    "sym.var('xl')\n",
    "sym.var('h')\n",
    "phi1 = (xl-x)/(h)\n",
    "phi2 = (x-xl-h)/(h)\n",
    "phi = sym.Matrix([phi1, phi2])\n",
    "dphi = sym.diff(phi, x)\n",
    "A = sym.integrate(dphi*sym.Transpose(dphi), (x, xl, xl+h))\n",
    "M = sym.integrate(phi*sym.Transpose(phi), (x, xl, xl+h))\n",
    "print('contribution to the stiffness matrix'), sym.pprint(sym.simplify(A))\n",
    "print('contribution to the mass matrix'), sym.pprint(sym.simplify(M))"
   ]
  },
  {
   "cell_type": "markdown",
   "metadata": {},
   "source": [
    "## Section 2.2: Quadratic Shape Functions"
   ]
  },
  {
   "cell_type": "markdown",
   "metadata": {},
   "source": [
    "### Assume element length 1 and thus no scaling with mesh width"
   ]
  },
  {
   "cell_type": "code",
   "execution_count": 55,
   "metadata": {},
   "outputs": [
    {
     "name": "stdout",
     "output_type": "stream",
     "text": [
      "contribution to the stiffness matrix\n",
      "⎡2.33333333333333   -2.66666666666667  0.333333333333332⎤\n",
      "⎢                                                       ⎥\n",
      "⎢-2.66666666666667        16/3         -2.66666666666667⎥\n",
      "⎢                                                       ⎥\n",
      "⎣0.333333333333332  -2.66666666666667  2.33333333333333 ⎦\n",
      "contribution to the mass matrix\n",
      "⎡ 0.133333333333333   0.0666666666666673  -0.0333333333333332⎤\n",
      "⎢                                                            ⎥\n",
      "⎢0.0666666666666673          8/15         0.0666666666666667 ⎥\n",
      "⎢                                                            ⎥\n",
      "⎣-0.0333333333333332  0.0666666666666667   0.133333333333333 ⎦\n"
     ]
    },
    {
     "data": {
      "image/png": "[encoded data removed]",
      "text/plain": [
       "<Figure size 432x288 with 1 Axes>"
      ]
     },
     "metadata": {
      "needs_background": "light"
     },
     "output_type": "display_data"
    }
   ],
   "source": [
    "sym.var('x')\n",
    "phi1 = 2*(1-x)*(0.5-x)\n",
    "phi2 = 4*x*(1-x)\n",
    "phi3 = 2*x*(x-0.5)\n",
    "phi = sym.Matrix([phi1, phi2, phi3])\n",
    "dphi = sym.diff(phi, x)\n",
    "A = sym.integrate(dphi*sym.Transpose(dphi), (x, 0.,1))\n",
    "M = sym.integrate(phi*sym.Transpose(phi), (x, 0.,1))\n",
    "print('contribution to the stiffness matrix'), sym.pprint(A)\n",
    "print('contribution to the mass matrix'), sym.pprint(M)\n",
    "\n",
    "#..lambdify the symbolic expression \n",
    "phi1_lambda = sym.lambdify(x, phi1)\n",
    "phi2_lambda = sym.lambdify(x, phi2)\n",
    "phi3_lambda = sym.lambdify(x, phi3)\n",
    "\n",
    "#..sample the lambda expression for the computed solution \n",
    "nsamples = 100 \n",
    "xvec = np.linspace(0,1,nsamples)\n",
    "phi1_vec = phi1_lambda(xvec)\n",
    "phi2_vec = phi2_lambda(xvec)\n",
    "phi3_vec = phi3_lambda(xvec)\n",
    "\n",
    "#..plot the computed solution \n",
    "plt.plot(xvec,phi1_vec,label='phi1')\n",
    "plt.plot(xvec,phi2_vec,label='phi2')\n",
    "plt.plot(xvec,phi3_vec,label='phi3')\n",
    "plt.xlabel('x')\n",
    "plt.legend(loc='best')\n",
    "plt.grid()\n",
    "plt.show()"
   ]
  },
  {
   "cell_type": "markdown",
   "metadata": {},
   "source": [
    "### Assume element length h and thus scaling with h"
   ]
  },
  {
   "cell_type": "code",
   "execution_count": 90,
   "metadata": {},
   "outputs": [
    {
     "name": "stdout",
     "output_type": "stream",
     "text": [
      "contribution to the stiffness matrix\n",
      "⎡ 7   -8   -1 ⎤\n",
      "⎢───  ───  ───⎥\n",
      "⎢3⋅h  3⋅h  3⋅h⎥\n",
      "⎢             ⎥\n",
      "⎢-8    16   8 ⎥\n",
      "⎢───  ───  ───⎥\n",
      "⎢3⋅h  3⋅h  3⋅h⎥\n",
      "⎢             ⎥\n",
      "⎢-1    8    7 ⎥\n",
      "⎢───  ───  ───⎥\n",
      "⎣3⋅h  3⋅h  3⋅h⎦\n",
      "contribution to the mass matrix\n",
      "⎡2⋅h  h    h  ⎤\n",
      "⎢───  ──   ── ⎥\n",
      "⎢ 15  15   30 ⎥\n",
      "⎢             ⎥\n",
      "⎢h    8⋅h  -h ⎥\n",
      "⎢──   ───  ───⎥\n",
      "⎢15    15   15⎥\n",
      "⎢             ⎥\n",
      "⎢h    -h   2⋅h⎥\n",
      "⎢──   ───  ───⎥\n",
      "⎣30    15   15⎦\n"
     ]
    },
    {
     "ename": "TypeError",
     "evalue": "Argument must be either a string, dict or module but it is: h",
     "output_type": "error",
     "traceback": [
      "\u001b[1;31m---------------------------------------------------------------------------\u001b[0m",
      "\u001b[1;31mTypeError\u001b[0m                                 Traceback (most recent call last)",
      "\u001b[1;32m<ipython-input-90-52f2e0ff812c>\u001b[0m in \u001b[0;36m<module>\u001b[1;34m\u001b[0m\n\u001b[0;32m     13\u001b[0m \u001b[1;33m\u001b[0m\u001b[0m\n\u001b[0;32m     14\u001b[0m \u001b[1;31m#..lambdify the symbolic expression\u001b[0m\u001b[1;33m\u001b[0m\u001b[1;33m\u001b[0m\u001b[0m\n\u001b[1;32m---> 15\u001b[1;33m \u001b[0mphi1_lambda\u001b[0m \u001b[1;33m=\u001b[0m \u001b[0msym\u001b[0m\u001b[1;33m.\u001b[0m\u001b[0mlambdify\u001b[0m\u001b[1;33m(\u001b[0m\u001b[0mx\u001b[0m\u001b[1;33m,\u001b[0m \u001b[0mxl\u001b[0m\u001b[1;33m,\u001b[0m \u001b[0mh\u001b[0m\u001b[1;33m,\u001b[0m \u001b[0mphi1\u001b[0m\u001b[1;33m)\u001b[0m\u001b[1;33m\u001b[0m\u001b[0m\n\u001b[0m\u001b[0;32m     16\u001b[0m \u001b[0mphi2_lambda\u001b[0m \u001b[1;33m=\u001b[0m \u001b[0msym\u001b[0m\u001b[1;33m.\u001b[0m\u001b[0mlambdify\u001b[0m\u001b[1;33m(\u001b[0m\u001b[0mx\u001b[0m\u001b[1;33m,\u001b[0m \u001b[0mxl\u001b[0m\u001b[1;33m,\u001b[0m \u001b[0mh\u001b[0m\u001b[1;33m,\u001b[0m \u001b[0mphi2\u001b[0m\u001b[1;33m)\u001b[0m\u001b[1;33m\u001b[0m\u001b[0m\n\u001b[0;32m     17\u001b[0m \u001b[0mphi3_lambda\u001b[0m \u001b[1;33m=\u001b[0m \u001b[0msym\u001b[0m\u001b[1;33m.\u001b[0m\u001b[0mlambdify\u001b[0m\u001b[1;33m(\u001b[0m\u001b[0mx\u001b[0m\u001b[1;33m,\u001b[0m \u001b[0mxl\u001b[0m\u001b[1;33m,\u001b[0m \u001b[0mh\u001b[0m\u001b[1;33m,\u001b[0m \u001b[0mphi3\u001b[0m\u001b[1;33m)\u001b[0m\u001b[1;33m\u001b[0m\u001b[0m\n",
      "\u001b[1;32md:\\users\\gijsw\\appdata\\local\\programs\\python\\python37-32\\lib\\site-packages\\sympy\\utilities\\lambdify.py\u001b[0m in \u001b[0;36mlambdify\u001b[1;34m(args, expr, modules, printer, use_imps, dummify)\u001b[0m\n\u001b[0;32m    770\u001b[0m     \u001b[0mnamespace\u001b[0m \u001b[1;33m=\u001b[0m \u001b[1;33m{\u001b[0m\u001b[1;33m}\u001b[0m \u001b[1;31m# type: Dict[str, Any]\u001b[0m\u001b[1;33m\u001b[0m\u001b[0m\n\u001b[0;32m    771\u001b[0m     \u001b[1;32mfor\u001b[0m \u001b[0mm\u001b[0m \u001b[1;32min\u001b[0m \u001b[0mnamespaces\u001b[0m\u001b[1;33m[\u001b[0m\u001b[1;33m:\u001b[0m\u001b[1;33m:\u001b[0m\u001b[1;33m-\u001b[0m\u001b[1;36m1\u001b[0m\u001b[1;33m]\u001b[0m\u001b[1;33m:\u001b[0m\u001b[1;33m\u001b[0m\u001b[0m\n\u001b[1;32m--> 772\u001b[1;33m         \u001b[0mbuf\u001b[0m \u001b[1;33m=\u001b[0m \u001b[0m_get_namespace\u001b[0m\u001b[1;33m(\u001b[0m\u001b[0mm\u001b[0m\u001b[1;33m)\u001b[0m\u001b[1;33m\u001b[0m\u001b[0m\n\u001b[0m\u001b[0;32m    773\u001b[0m         \u001b[0mnamespace\u001b[0m\u001b[1;33m.\u001b[0m\u001b[0mupdate\u001b[0m\u001b[1;33m(\u001b[0m\u001b[0mbuf\u001b[0m\u001b[1;33m)\u001b[0m\u001b[1;33m\u001b[0m\u001b[0m\n\u001b[0;32m    774\u001b[0m \u001b[1;33m\u001b[0m\u001b[0m\n",
      "\u001b[1;32md:\\users\\gijsw\\appdata\\local\\programs\\python\\python37-32\\lib\\site-packages\\sympy\\utilities\\lambdify.py\u001b[0m in \u001b[0;36m_get_namespace\u001b[1;34m(m)\u001b[0m\n\u001b[0;32m    909\u001b[0m         \u001b[1;32mreturn\u001b[0m \u001b[0mm\u001b[0m\u001b[1;33m.\u001b[0m\u001b[0m__dict__\u001b[0m\u001b[1;33m\u001b[0m\u001b[0m\n\u001b[0;32m    910\u001b[0m     \u001b[1;32melse\u001b[0m\u001b[1;33m:\u001b[0m\u001b[1;33m\u001b[0m\u001b[0m\n\u001b[1;32m--> 911\u001b[1;33m         \u001b[1;32mraise\u001b[0m \u001b[0mTypeError\u001b[0m\u001b[1;33m(\u001b[0m\u001b[1;34m\"Argument must be either a string, dict or module but it is: %s\"\u001b[0m \u001b[1;33m%\u001b[0m \u001b[0mm\u001b[0m\u001b[1;33m)\u001b[0m\u001b[1;33m\u001b[0m\u001b[0m\n\u001b[0m\u001b[0;32m    912\u001b[0m \u001b[1;33m\u001b[0m\u001b[0m\n\u001b[0;32m    913\u001b[0m \u001b[1;32mdef\u001b[0m \u001b[0mlambdastr\u001b[0m\u001b[1;33m(\u001b[0m\u001b[0margs\u001b[0m\u001b[1;33m,\u001b[0m \u001b[0mexpr\u001b[0m\u001b[1;33m,\u001b[0m \u001b[0mprinter\u001b[0m\u001b[1;33m=\u001b[0m\u001b[1;32mNone\u001b[0m\u001b[1;33m,\u001b[0m \u001b[0mdummify\u001b[0m\u001b[1;33m=\u001b[0m\u001b[1;32mNone\u001b[0m\u001b[1;33m)\u001b[0m\u001b[1;33m:\u001b[0m\u001b[1;33m\u001b[0m\u001b[0m\n",
      "\u001b[1;31mTypeError\u001b[0m: Argument must be either a string, dict or module but it is: h"
     ]
    }
   ],
   "source": [
    "sym.var('x')\n",
    "sym.var('xl')\n",
    "sym.var('h')\n",
    "phi1 = (xl-x)*(x-xl-h/2)/(h*h/2)\n",
    "phi2 = (x-xl)*(x-xl-h)/(h*h/4)\n",
    "phi3 = (x-xl-h)*(x-xl-h/2)/(h*h/2)\n",
    "phi = sym.Matrix([phi1, phi2, phi3])\n",
    "dphi = sym.diff(phi, x)\n",
    "A = sym.integrate(dphi*sym.Transpose(dphi), (x, xl, xl+h))\n",
    "M = sym.integrate(phi*sym.Transpose(phi), (x, xl, xl+h))\n",
    "print('contribution to the stiffness matrix'), sym.pprint(sym.simplify(A))\n",
    "print('contribution to the mass matrix'), sym.pprint(sym.simplify(M))\n",
    "\n",
    "#..lambdify the symbolic expression \n",
    "phi1_lambda = sym.lambdify(x, xl, h, phi1)\n",
    "phi2_lambda = sym.lambdify(x, xl, h, phi2)\n",
    "phi3_lambda = sym.lambdify(x, xl, h, phi3)\n",
    "\n",
    "#..sample the lambda expression for the computed solution \n",
    "nsamples = 100 \n",
    "xvec = np.linspace(0,1,nsamples)\n",
    "phi1_vec = phi1_lambda(xvec,0.2,0.1)\n",
    "phi2_vec = phi2_lambda(xvec,0.2,0.1)\n",
    "phi3_vec = phi3_lambda(xvec,0.2,0.1)\n",
    "\n",
    "#..plot the computed solution \n",
    "plt.plot(xvec,phi1_vec,label='phi1')\n",
    "plt.plot(xvec,phi2_vec,label='phi2')\n",
    "plt.plot(xvec,phi3_vec,label='phi3')\n",
    "plt.xlabel('x')\n",
    "plt.legend(loc='best')\n",
    "plt.grid()\n",
    "plt.show()"
   ]
  },
  {
   "cell_type": "code",
   "execution_count": null,
   "metadata": {},
   "outputs": [],
   "source": []
  },
  {
   "cell_type": "markdown",
   "metadata": {},
   "source": [
    "# Generate polynomial shape functions"
   ]
  },
  {
   "cell_type": "code",
   "execution_count": 179,
   "metadata": {},
   "outputs": [
    {
     "data": {
      "text/latex": [
       "$\\displaystyle \\left[\\begin{matrix}1.0 - \\frac{3.0 x}{h} + \\frac{2.0 x^{2}}{h^{2}}\\\\\\frac{4.0 x}{h} - \\frac{4.0 x^{2}}{h^{2}}\\\\- \\frac{1.0 x}{h} + \\frac{2.0 x^{2}}{h^{2}}\\end{matrix}\\right]$"
      ],
      "text/plain": [
       "Matrix([\n",
       "[1.0 - 3.0*x/h + 2.0*x**2/h**2],\n",
       "[      4.0*x/h - 4.0*x**2/h**2],\n",
       "[     -1.0*x/h + 2.0*x**2/h**2]])"
      ]
     },
     "execution_count": 179,
     "metadata": {},
     "output_type": "execute_result"
    }
   ],
   "source": [
    "sym.var('x');\n",
    "sym.var('h');\n",
    "\n",
    "n = 2;     # Order of the shape functions\n",
    "N = n + 1;\n",
    "\n",
    "a = list(map(lambda i: i/n * h, range(0, N, 1)))\n",
    "A = list(map(lambda i: [ x**i for x in a], reversed(range(0, N, 1))))\n",
    "X = list(map(lambda i: x**i, reversed(range(0, N, 1))))\n",
    "\n",
    "D = sym.Matrix([a for a in A])\n",
    "X = sym.Matrix([x for x in X])\n",
    "\n",
    "E = D.inv()\n",
    "\n",
    "phi = E * X\n",
    "phi"
   ]
  },
  {
   "cell_type": "code",
   "execution_count": 180,
   "metadata": {},
   "outputs": [
    {
     "data": {
      "image/png": "[encoded data removed]",
      "text/plain": [
       "<Figure size 432x288 with 1 Axes>"
      ]
     },
     "metadata": {
      "needs_background": "light"
     },
     "output_type": "display_data"
    }
   ],
   "source": [
    "h_num = 0.5;\n",
    "phi_lambda = sym.lambdify(x, phi.subs(h, h_num))\n",
    "\n",
    "nsamples = 100 \n",
    "xvec = np.linspace(0,h_num,nsamples)\n",
    "phi_vec = phi_lambda(xvec)\n",
    "\n",
    "for i in range(0, N, 1):\n",
    "    plt.plot(xvec, phi_vec[i][0][:], label='phi' + str(i+1))\n",
    "\n",
    "plt.xlabel('x')\n",
    "plt.legend(loc='best')\n",
    "plt.grid()\n",
    "plt.show()"
   ]
  },
  {
   "cell_type": "code",
   "execution_count": 176,
   "metadata": {},
   "outputs": [
    {
     "name": "stdout",
     "output_type": "stream",
     "text": [
      "contribution to the stiffness matrix\n",
      "⎡ 2.33333333333333   -2.66666666666667   0.333333333333332 ⎤\n",
      "⎢ ────────────────   ──────────────────  ───────────────── ⎥\n",
      "⎢        h                   h                   h         ⎥\n",
      "⎢                                                          ⎥\n",
      "⎢-2.66666666666667    5.33333333333333   -2.66666666666667 ⎥\n",
      "⎢──────────────────   ────────────────   ──────────────────⎥\n",
      "⎢        h                   h                   h         ⎥\n",
      "⎢                                                          ⎥\n",
      "⎢0.333333333333332   -2.66666666666667    2.33333333333333 ⎥\n",
      "⎢─────────────────   ──────────────────   ──────────────── ⎥\n",
      "⎣        h                   h                   h         ⎦\n",
      "contribution to the mass matrix\n",
      "⎡ 0.133333333333333⋅h   0.0666666666666673⋅h  -0.0333333333333332⋅h⎤\n",
      "⎢                                                                  ⎥\n",
      "⎢0.0666666666666673⋅h   0.533333333333333⋅h   0.0666666666666667⋅h ⎥\n",
      "⎢                                                                  ⎥\n",
      "⎣-0.0333333333333332⋅h  0.0666666666666667⋅h   0.133333333333333⋅h ⎦\n"
     ]
    },
    {
     "data": {
      "text/plain": [
       "(None, None)"
      ]
     },
     "execution_count": 176,
     "metadata": {},
     "output_type": "execute_result"
    }
   ],
   "source": [
    "dphi = sym.diff(phi, x)\n",
    "\n",
    "A = sym.integrate(dphi*sym.Transpose(dphi), (x, 0.,h))\n",
    "M = sym.integrate(phi*sym.Transpose(phi), (x, 0.,h))\n",
    "\n",
    "print('contribution to the stiffness matrix'), sym.pprint(sym.simplify(A))\n",
    "print('contribution to the mass matrix'), sym.pprint(sym.simplify(M))"
   ]
  },
  {
   "cell_type": "code",
   "execution_count": null,
   "metadata": {},
   "outputs": [],
   "source": []
  }
 ],
 "metadata": {
  "kernelspec": {
   "display_name": "Python 3",
   "language": "python",
   "name": "python3"
  },
  "language_info": {
   "codemirror_mode": {
    "name": "ipython",
    "version": 3
   },
   "file_extension": ".py",
   "mimetype": "text/x-python",
   "name": "python",
   "nbconvert_exporter": "python",
   "pygments_lexer": "ipython3",
   "version": "3.7.0"
  }
 },
 "nbformat": 4,
 "nbformat_minor": 2
}
