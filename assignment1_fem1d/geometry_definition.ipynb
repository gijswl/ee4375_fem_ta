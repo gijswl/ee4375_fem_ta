{
 "cells": [
  {
   "cell_type": "markdown",
   "id": "offensive-scheduling",
   "metadata": {},
   "source": [
    "# Assignment 1: Geometry Definition"
   ]
  },
  {
   "cell_type": "markdown",
   "id": "controlled-probe",
   "metadata": {},
   "source": [
    "<img src=\"figures/core_geometry_def.png\" alt=\"Geometry Definition\" width=\"400\"/>"
   ]
  },
  {
   "cell_type": "markdown",
   "id": "handy-powder",
   "metadata": {},
   "source": []
  },
  {
   "cell_type": "markdown",
   "id": "professional-measurement",
   "metadata": {},
   "source": [
    "## Implementation in gmsh"
   ]
  },
  {
   "cell_type": "code",
   "execution_count": 32,
   "id": "literary-market",
   "metadata": {},
   "outputs": [],
   "source": [
    "x0 = -0.1;\n",
    "x1 = 0.1;\n",
    "\n",
    "a = 100.3e-3;\n",
    "b = 73.15e-3;\n",
    "c = 27.5e-3;\n",
    "\n",
    "lc1 = 0.1;\n",
    "lc2 = 1e-3;"
   ]
  },
  {
   "cell_type": "code",
   "execution_count": 33,
   "id": "interested-clark",
   "metadata": {},
   "outputs": [
    {
     "name": "stderr",
     "output_type": "stream",
     "text": [
      "Warning : Gmsh has aleady been initialized\n"
     ]
    }
   ],
   "source": [
    "using gmsh\n",
    "\n",
    "gmsh.initialize()"
   ]
  },
  {
   "cell_type": "code",
   "execution_count": 34,
   "id": "incorrect-nigeria",
   "metadata": {},
   "outputs": [
    {
     "name": "stdout",
     "output_type": "stream",
     "text": [
      "Info    : Meshing 1D...\n",
      "Info    : [  0%] Meshing curve 1 (Line)\n",
      "Info    : [ 20%] Meshing curve 2 (Line)\n",
      "Info    : [ 30%] Meshing curve 3 (Line)\n",
      "Info    : [ 50%] Meshing curve 4 (Line)\n",
      "Info    : [ 60%] Meshing curve 5 (Line)\n",
      "Info    : [ 80%] Meshing curve 6 (Line)\n",
      "Info    : [ 90%] Meshing curve 7 (Line)\n",
      "Info    : Done meshing 1D (Wall 0.0554399s, CPU 0s)\n",
      "Info    : 114 nodes 121 elements\n",
      "Info    : Writing 'geo/coil_geo.msh'...\n",
      "Info    : Done writing 'geo/coil_geo.msh'\n"
     ]
    },
    {
     "name": "stderr",
     "output_type": "stream",
     "text": [
      "Warning : Unknown entity of dimension 1 and tag 1 in physical group 1\n",
      "Warning : Unknown entity of dimension 1 and tag 7 in physical group 1\n",
      "Warning : Unknown entity of dimension 1 and tag 2 in physical group 2\n",
      "Warning : Unknown entity of dimension 1 and tag 4 in physical group 2\n",
      "Warning : Unknown entity of dimension 1 and tag 6 in physical group 2\n",
      "Warning : Unknown entity of dimension 1 and tag 3 in physical group 3\n",
      "Warning : Unknown entity of dimension 1 and tag 5 in physical group 4\n",
      "Warning : Unknown entity of dimension 0 and tag 1 in physical group 1\n",
      "Warning : Unknown entity of dimension 0 and tag 2 in physical group 1\n"
     ]
    }
   ],
   "source": [
    "gmsh.option.setNumber(\"General.Terminal\", 1)     # Enable printing information to terminal\n",
    "gmsh.model.add(\"inductor\")                       # Create a new model\n",
    "geo = gmsh.model.geo;\n",
    "\n",
    "# Points\n",
    "geo.addPoint(x0, 0, 0, lc1, 1)\n",
    "geo.addPoint(x1, 0, 0, lc1, 2)\n",
    "\n",
    "geo.addPoint(-a/2, 0, 0, lc2, 3)\n",
    "geo.addPoint(-b/2, 0, 0, lc2, 4)\n",
    "geo.addPoint(-c/2, 0, 0, lc2, 5)\n",
    "geo.addPoint(c/2, 0, 0, lc2, 6)\n",
    "geo.addPoint(b/2, 0, 0, lc2, 7)\n",
    "geo.addPoint(a/2, 0, 0, lc2, 8)\n",
    "\n",
    "# Lines\n",
    "geo.addLine(1, 3, 1)\n",
    "geo.addLine(3, 4, 2)\n",
    "geo.addLine(4, 5, 3)\n",
    "geo.addLine(5, 6, 4)\n",
    "geo.addLine(6, 7, 5)\n",
    "geo.addLine(7, 8, 6)\n",
    "geo.addLine(8, 2, 7)\n",
    "\n",
    "# Physical properties\n",
    "gmsh.model.addPhysicalGroup(1, [1, 7], 1)    # Air\n",
    "gmsh.model.addPhysicalGroup(1, [2, 4, 6], 2) # Core\n",
    "gmsh.model.addPhysicalGroup(1, [3], 3)       # Coil left\n",
    "gmsh.model.addPhysicalGroup(1, [5], 4)       # Coil right\n",
    "gmsh.model.addPhysicalGroup(0, [1,2], 1)     # Dirichlet boundary condition\n",
    "\n",
    "gmsh.model.setPhysicalName(1, 1, \"Air\")\n",
    "gmsh.model.setPhysicalName(1, 2, \"Core\")\n",
    "gmsh.model.setPhysicalName(1, 3, \"Coil\")\n",
    "gmsh.model.setPhysicalName(0, 1, \"D\") \n",
    "\n",
    "# Generate mesh\n",
    "geo.synchronize()\n",
    "gmsh.model.mesh.generate(1)\n",
    "\n",
    "gmsh.write(\"geo/coil_geo.msh\")"
   ]
  }
 ],
 "metadata": {
  "kernelspec": {
   "display_name": "Julia 1.7.1",
   "language": "julia",
   "name": "julia-1.7"
  },
  "language_info": {
   "file_extension": ".jl",
   "mimetype": "application/julia",
   "name": "julia",
   "version": "1.7.1"
  }
 },
 "nbformat": 4,
 "nbformat_minor": 5
}
