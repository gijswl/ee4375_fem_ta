{
 "cells": [
  {
   "cell_type": "markdown",
   "id": "offensive-scheduling",
   "metadata": {},
   "source": [
    "# Assignment 1: Geometry Definition\n",
    "The geometry of the first assignment (1D FEM) will be based on an inductor with the core (``Ferroxcube E100/60/28``) shown in the figure below. This is an E core (half), with two core halves making up a complete core. \n",
    "\n",
    "To model the magnetostatic fields in this configuration, we take the domain as a horizontal line through the center of the two core halves. This is obviously an approximation: by taking the one-dimensional domain like this, we are implicitly assuming that the geometry is invariant in the upward direction (which is not entirely true)."
   ]
  },
  {
   "cell_type": "markdown",
   "id": "controlled-probe",
   "metadata": {},
   "source": [
    "<img src=\"figures/core_geometry_def.png\" alt=\"Geometry Definition\" width=\"400\"/>   "
   ]
  },
  {
   "cell_type": "markdown",
   "id": "handy-powder",
   "metadata": {},
   "source": [
    "The dimensions given in the figure are\n",
    "\n",
    "| Dimension | Value     |\n",
    "|:----------|-----------|\n",
    "| A         | 100.30 mm |\n",
    "| B         |  73.15 mm |\n",
    "| C         |  27.50 mm |\n",
    "| D         |  59.40 mm |\n",
    "| E         |  46.85 mm |\n",
    "| F         |  27.50 mm |\n",
    "\n",
    "This core is made of the 3C92 material, which is a manganese-zinc (MnZn) ferrite with a high permeability $\\mu_r = 1500$ and a high saturation flux density $B_{sat} = 540\\,\\mathrm{mT}$. It is suitable for power inductors operating up to $0.2\\,\\mathrm{MHz}$."
   ]
  },
  {
   "cell_type": "markdown",
   "id": "lesbian-vaccine",
   "metadata": {},
   "source": [
    "## Inductor Design\n",
    "To determine the required values of current density, a simple inductor is designed using the core mentioned above. For an inductance of $1.1\\,\\mathrm{mH}$, $N = 15$ turns are required. To ensure that the core does not saturate, the maximum current (for a flux density of $B_{max} = 300\\,\\mathrm{mT}$) is\n",
    "$$ i_{max} = \\frac{N B_{max} A}{L} = 3.15\\,\\mathrm{A} $$\n",
    "Taking into account the 15 turns and the total window area, the current density for this maximum current will be\n",
    "$$ J = \\frac{N i_{max}}{A_{window}} = 2.2 \\cdot 10^{4}\\,\\mathrm{A/m^2} = 2.2 \\,\\mathrm{A/cm^2} $$"
   ]
  },
  {
   "cell_type": "markdown",
   "id": "professional-measurement",
   "metadata": {},
   "source": [
    "## Implementation in gmsh"
   ]
  },
  {
   "cell_type": "code",
   "execution_count": 2,
   "id": "literary-market",
   "metadata": {},
   "outputs": [],
   "source": [
    "# Simulation domain\n",
    "x0 = -0.1;\n",
    "x1 = 0.1;\n",
    "\n",
    "# Core dimensions\n",
    "a = 100.3e-3;\n",
    "b = 73.15e-3;\n",
    "c = 27.5e-3;\n",
    "\n",
    "# Mesh density\n",
    "lc1 = 0.1;    # At x0 and x1\n",
    "lc2 = 1e-3;   # At the core"
   ]
  },
  {
   "cell_type": "code",
   "execution_count": 3,
   "id": "interested-clark",
   "metadata": {},
   "outputs": [],
   "source": [
    "using gmsh\n",
    "\n",
    "gmsh.finalize()\n",
    "gmsh.initialize()"
   ]
  },
  {
   "cell_type": "code",
   "execution_count": 4,
   "id": "incorrect-nigeria",
   "metadata": {
    "scrolled": true
   },
   "outputs": [
    {
     "name": "stdout",
     "output_type": "stream",
     "text": [
      "Info    : Meshing 1D...\n",
      "Info    : [  0%] Meshing curve 1 (Line)\n",
      "Info    : [ 20%] Meshing curve 2 (Line)\n",
      "Info    : [ 30%] Meshing curve 3 (Line)\n",
      "Info    : [ 50%] Meshing curve 4 (Line)\n",
      "Info    : [ 60%] Meshing curve 5 (Line)\n",
      "Info    : [ 80%] Meshing curve 6 (Line)\n",
      "Info    : [ 90%] Meshing curve 7 (Line)\n",
      "Info    : Done meshing 1D (Wall 0.0145791s, CPU 0s)\n",
      "Info    : 114 nodes 121 elements\n",
      "Info    : Writing 'geo/coil_geo.msh'...\n",
      "Info    : Done writing 'geo/coil_geo.msh'\n"
     ]
    }
   ],
   "source": [
    "gmsh.option.setNumber(\"General.Terminal\", 1)     # Enable printing information to terminal\n",
    "gmsh.model.add(\"inductor\")                       # Create a new model\n",
    "geo = gmsh.model.geo;\n",
    "\n",
    "# Points\n",
    "geo.addPoint(x0, 0, 0, lc1, 1)\n",
    "geo.addPoint(x1, 0, 0, lc1, 2)\n",
    "\n",
    "geo.addPoint(-a/2, 0, 0, lc2, 3)\n",
    "geo.addPoint(-b/2, 0, 0, lc2, 4)\n",
    "geo.addPoint(-c/2, 0, 0, lc2, 5)\n",
    "geo.addPoint(c/2, 0, 0, lc2, 6)\n",
    "geo.addPoint(b/2, 0, 0, lc2, 7)\n",
    "geo.addPoint(a/2, 0, 0, lc2, 8)\n",
    "\n",
    "# Lines\n",
    "geo.addLine(1, 3, 1)\n",
    "geo.addLine(3, 4, 2)\n",
    "geo.addLine(4, 5, 3)\n",
    "geo.addLine(5, 6, 4)\n",
    "geo.addLine(6, 7, 5)\n",
    "geo.addLine(7, 8, 6)\n",
    "geo.addLine(8, 2, 7)\n",
    "\n",
    "# If the geometry is not synchronized before creating physical groups, a warning will be displayed:\n",
    "#    \"Unknown entity of dimension %d and tag %d in physical group %d\"\n",
    "# Synchronizing at this point ensures that the geometry data and model agree on the set of entities.\n",
    "geo.synchronize() \n",
    "\n",
    "# Physical properties\n",
    "gmsh.model.addPhysicalGroup(1, [1, 7], 1)       # Air\n",
    "gmsh.model.addPhysicalGroup(1, [2, 4, 6], 2)    # Core\n",
    "gmsh.model.addPhysicalGroup(1, [3], 3)          # Coil left\n",
    "gmsh.model.addPhysicalGroup(1, [5], 4)          # Coil right\n",
    "gmsh.model.addPhysicalGroup(0, [1, 2], 5)       # Dirichlet boundary condition at x0 and x1\n",
    "\n",
    "gmsh.model.setPhysicalName(1, 1, \"Air\")\n",
    "gmsh.model.setPhysicalName(1, 2, \"Core\")\n",
    "gmsh.model.setPhysicalName(1, 3, \"Coil left\")\n",
    "gmsh.model.setPhysicalName(1, 4, \"Coil right\")\n",
    "gmsh.model.setPhysicalName(0, 5, \"D\") \n",
    "\n",
    "# Generate mesh\n",
    "gmsh.model.mesh.generate(1)\n",
    "\n",
    "gmsh.write(\"geo/coil_geo.msh\")"
   ]
  },
  {
   "cell_type": "code",
   "execution_count": null,
   "id": "addressed-trauma",
   "metadata": {},
   "outputs": [],
   "source": [
    "gmsh.fltk.run()"
   ]
  },
  {
   "cell_type": "markdown",
   "id": "altered-graphic",
   "metadata": {},
   "source": [
    "## Material Definition\n",
    "According to the core parameters and inductor design presented above, the material properties should be modeled as shown in the table.\n",
    "\n",
    "| Domain       | ID | Permeability $\\mu_r$ | Conductivity $\\sigma\\,\\mathrm{[S/m]}$ | Current density $J_z\\,\\mathrm{[A/m^2]}$ |\n",
    "|:-------------|----|----------------------|---------------------------------------|-----------------------------------------|\n",
    "| Air          | 1  | 1                    | 0                                     | 0                                       |\n",
    "| Core         | 2  | 1500                 | 0.2                                   | 0                                       |\n",
    "| Coil (left)  | 3  | 1                    | 0                                     | $+J$                                    |\n",
    "| Coil (right) | 4  | 1                    | 0                                     | $-J$                                    |\n",
    "\n",
    "Note that in reality, the coil also has conductivity. However, we will not model it like this to prevent eddy currents from being induced into the windings. While it is possible to model this, each of the turns in the winding should then be drawn separately in the geometry."
   ]
  },
  {
   "cell_type": "code",
   "execution_count": 4,
   "id": "nasty-diabetes",
   "metadata": {},
   "outputs": [],
   "source": [
    "# Current density\n",
    "J = 2.2e4;\n",
    "fsource(group_id) = J * (group_id == 3) - J * (group_id == 4);\n",
    "\n",
    "# Permeability\n",
    "mu0 = 4e-7 * pi; # Permeability of vacuum\n",
    "mu_r = 1500;\n",
    "fmu(group_id) = mu0 + (mu_r - 1) * mu0 * (group_id == 2);\n",
    "fnu(group_id) = 1 / fmu(group_id);\n",
    "\n",
    "# Conductivity\n",
    "sigma_core = 0.2;\n",
    "fsigma(group_id) = sigma_core * (group_id == 2);"
   ]
  }
 ],
 "metadata": {
  "kernelspec": {
   "display_name": "Julia 1.7.1",
   "language": "julia",
   "name": "julia-1.7"
  },
  "language_info": {
   "file_extension": ".jl",
   "mimetype": "application/julia",
   "name": "julia",
   "version": "1.7.1"
  }
 },
 "nbformat": 4,
 "nbformat_minor": 5
}
