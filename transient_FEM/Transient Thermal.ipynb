{
 "cells": [
  {
   "cell_type": "markdown",
   "id": "07abaf7d",
   "metadata": {},
   "source": [
    "# 1D Stationary"
   ]
  },
  {
   "cell_type": "code",
   "execution_count": 3,
   "id": "7e635719",
   "metadata": {},
   "outputs": [],
   "source": [
    "using gmsh\n",
    "\n",
    "using Gridap, GridapGmsh\n",
    "using Gridap.Fields, Gridap.Geometry"
   ]
  },
  {
   "cell_type": "markdown",
   "id": "243db509",
   "metadata": {},
   "source": [
    "## Generate Mesh"
   ]
  },
  {
   "cell_type": "code",
   "execution_count": 4,
   "id": "c786a252",
   "metadata": {},
   "outputs": [],
   "source": [
    "T0 = 20.0;\n",
    "P  = 10;\n",
    "L  = 5;\n",
    "\n",
    "lc1 = 0.01;"
   ]
  },
  {
   "cell_type": "code",
   "execution_count": 5,
   "id": "afe96519",
   "metadata": {},
   "outputs": [
    {
     "name": "stdout",
     "output_type": "stream",
     "text": [
      "Info    : Meshing 1D...\n",
      "Info    : Meshing curve 1 (Line)\n",
      "Info    : Done meshing 1D (Wall 0s, CPU 0s)\n",
      "Info    : 501 nodes 502 elements\n",
      "Info    : Writing 'geo/bar_type3.msh'...\n",
      "Info    : Done writing 'geo/bar_type3.msh'\n"
     ]
    }
   ],
   "source": [
    "gmsh.initialize()\n",
    "\n",
    "gmsh.model.add(\"bar_type3\")\n",
    "geo  = gmsh.model.geo;\n",
    "mesh = gmsh.model.mesh;\n",
    "\n",
    "# Points\n",
    "geo.addPoint(0, 0, 0, lc1, 1)\n",
    "geo.addPoint(L, 0, 0, lc1, 2)\n",
    "\n",
    "# Lines\n",
    "geo.addLine(1, 2, 1)\n",
    "\n",
    "geo.synchronize()\n",
    "\n",
    "# Physical domains\n",
    "geo.addPhysicalGroup(0, [1], 1)\n",
    "geo.addPhysicalGroup(0, [2], 2)\n",
    "gmsh.model.setPhysicalName(0, 1, \"bnd_left\")\n",
    "gmsh.model.setPhysicalName(0, 2, \"bnd_right\")\n",
    "\n",
    "geo.addPhysicalGroup(1, [1], 1)\n",
    "gmsh.model.setPhysicalName(1, 1, \"domain\")\n",
    "\n",
    "geo.synchronize()\n",
    "\n",
    "# Generate mesh\n",
    "mesh.generate(1);\n",
    "gmsh.write(\"geo/bar_type3.msh\")"
   ]
  },
  {
   "cell_type": "code",
   "execution_count": 6,
   "id": "67f45db9",
   "metadata": {},
   "outputs": [
    {
     "name": "stdout",
     "output_type": "stream",
     "text": [
      "-------------------------------------------------------\n",
      "Version       : 4.9.4\n",
      "License       : GNU General Public License\n",
      "Build OS      : Windows64-sdk\n",
      "Build date    : 20220203\n",
      "Build host    : gmsh.info\n",
      "Build options : 64Bit ALGLIB[contrib] ANN[contrib] Bamg Blas[petsc] Blossom Cgns DIntegration DomHex Eigen[contrib] Fltk Gmm[contrib] Hxt Jpeg Kbipack Lapack[petsc] MathEx[contrib] Med Mesh Metis[contrib] Mmg Mpeg Netgen NoSocklenT ONELAB ONELABMetamodel OpenCASCADE OpenCASCADE-CAF OpenGL OpenMP OptHom PETSc Parser Plugins Png Post QuadMeshingTools QuadTri Solver TetGen/BR Voro++[contrib] WinslowUntangler Zlib\n",
      "FLTK version  : 1.4.0\n",
      "PETSc version : 3.15.0 (real arithmtic)\n",
      "OCC version   : 7.6.0\n",
      "MED version   : 4.1.0\n",
      "Packaged by   : nt authority system\n",
      "Web site      : https://gmsh.info\n",
      "Issue tracker : https://gitlab.onelab.info/gmsh/gmsh/issues\n",
      "-------------------------------------------------------\n"
     ]
    }
   ],
   "source": [
    "gmsh.fltk.run()"
   ]
  },
  {
   "cell_type": "markdown",
   "id": "3facfd04",
   "metadata": {},
   "source": [
    "## Gridap"
   ]
  },
  {
   "cell_type": "code",
   "execution_count": 7,
   "id": "bc300fb1",
   "metadata": {},
   "outputs": [
    {
     "name": "stdout",
     "output_type": "stream",
     "text": [
      "Info    : Reading 'geo/bar_type3.msh'...\n",
      "Info    : 3 entities\n",
      "Info    : 501 nodes\n",
      "Info    : 502 elements\n",
      "Info    : Done reading 'geo/bar_type3.msh'\n"
     ]
    },
    {
     "data": {
      "text/plain": [
       "TrialFESpace()"
      ]
     },
     "execution_count": 7,
     "metadata": {},
     "output_type": "execute_result"
    }
   ],
   "source": [
    "# Define Lagrangian reference element\n",
    "order = 2;\n",
    "reffe = ReferenceFE(lagrangian, Float64, order)\n",
    "\n",
    "# Load mesh\n",
    "model = GmshDiscreteModel(\"geo/bar_type3.msh\")\n",
    "Ω = Triangulation(model)\n",
    "dΩ = Measure(Ω, 2*order)\n",
    "Γ = BoundaryTriangulation(model, tags = [\"bnd_left\"])\n",
    "dΓ = Measure(Γ, 2*order)\n",
    "\n",
    "# Construct Lagrangian test space\n",
    "V = TestFESpace(model, reffe, dirichlet_tags = [\"bnd_right\"])\n",
    "U = TrialFESpace(V, [T0])"
   ]
  },
  {
   "cell_type": "code",
   "execution_count": 8,
   "id": "bd448018",
   "metadata": {},
   "outputs": [],
   "source": [
    "a(u,v) = ∫( ∇(u) ⋅ ∇(v) )dΩ\n",
    "b(v)   = ∫( 0 * v )dΩ + ∫( P * v )dΓ\n",
    "\n",
    "op = AffineFEOperator(a, b, U, V)\n",
    "\n",
    "# Solve the linear FE system with LU solver\n",
    "ls = LUSolver()\n",
    "solver = LinearFESolver(ls)\n",
    "uh = solve(solver, op);\n",
    "\n",
    "Qh = -∇(uh);"
   ]
  },
  {
   "cell_type": "code",
   "execution_count": 9,
   "id": "79c524c9",
   "metadata": {},
   "outputs": [
    {
     "data": {
      "text/plain": [
       "([\"sol/sol_1d_stationary.vtu\"],)"
      ]
     },
     "execution_count": 9,
     "metadata": {},
     "output_type": "execute_result"
    }
   ],
   "source": [
    "writevtk(Ω,\"sol/sol_1d_stationary\",cellfields=[\"Th\"=>uh,\"Qh\"=>Qh])"
   ]
  },
  {
   "cell_type": "markdown",
   "id": "9dc754c8",
   "metadata": {},
   "source": [
    "# 1D Transient"
   ]
  },
  {
   "cell_type": "markdown",
   "id": "30082d76",
   "metadata": {},
   "source": [
    "## Gridap"
   ]
  },
  {
   "cell_type": "code",
   "execution_count": 10,
   "id": "696a2ed6",
   "metadata": {},
   "outputs": [
    {
     "name": "stdout",
     "output_type": "stream",
     "text": [
      "Info    : Reading 'geo/bar_type3.msh'...\n",
      "Info    : 3 entities\n",
      "Info    : 501 nodes\n",
      "Info    : 502 elements\n",
      "Info    : Done reading 'geo/bar_type3.msh'\n"
     ]
    }
   ],
   "source": [
    "# Define Lagrangian reference element\n",
    "order = 2;\n",
    "reffe = ReferenceFE(lagrangian, Float64, order)\n",
    "\n",
    "# Load mesh\n",
    "model = GmshDiscreteModel(\"geo/bar_type3.msh\")\n",
    "Ω = Triangulation(model)\n",
    "dΩ = Measure(Ω, 2*order)\n",
    "Γ = BoundaryTriangulation(model, tags = [\"bnd_left\"])\n",
    "dΓ = Measure(Γ, 2*order)\n",
    "\n",
    "# Construct Lagrangian test space\n",
    "V = TestFESpace(model, reffe, dirichlet_tags = [\"bnd_right\"])\n",
    "\n",
    "# Build a transient trial space with Dirichlet conditions\n",
    "g(x, t::Real) = T0 * (x[1] == L);\n",
    "g(t::Real) = x -> g(x,t)\n",
    "U  = TransientTrialFESpace(V, g)\n",
    "\n",
    "Pf(t) = P * (t > 1);"
   ]
  },
  {
   "cell_type": "code",
   "execution_count": 11,
   "id": "8b554beb",
   "metadata": {},
   "outputs": [
    {
     "data": {
      "text/plain": [
       "TransientFEOperatorFromWeakForm()"
      ]
     },
     "execution_count": 11,
     "metadata": {},
     "output_type": "execute_result"
    }
   ],
   "source": [
    "m(t,u,v) = ∫( v * u )dΩ\n",
    "a(t,u,v) = ∫( ∇(u) ⋅ ∇(v) )dΩ\n",
    "b(t,v) = ∫( 0 * v )dΩ + ∫( Pf(t) * v )dΓ\n",
    "\n",
    "op = TransientAffineFEOperator(m, a, b, U, V)"
   ]
  },
  {
   "cell_type": "code",
   "execution_count": 12,
   "id": "8aab061a",
   "metadata": {
    "scrolled": true
   },
   "outputs": [
    {
     "data": {
      "text/plain": [
       "Gridap.ODEs.TransientFETools.TransientFESolution(GenericODESolution(), TransientTrialFESpace{Gridap.FESpaces.UnconstrainedFESpace{Vector{Float64}, Nothing}, TrialFESpace{Gridap.FESpaces.UnconstrainedFESpace{Vector{Float64}, Nothing}}}(UnconstrainedFESpace(), g, TrialFESpace()))"
      ]
     },
     "execution_count": 12,
     "metadata": {},
     "output_type": "execute_result"
    }
   ],
   "source": [
    "solver = LUSolver()\n",
    "\n",
    "Δt = 0.25;\n",
    "θ = 1\n",
    "ode_solver = ThetaMethod(solver, Δt, θ)\n",
    "\n",
    "u0 = interpolate_everywhere(T0, U(0.0))\n",
    "t0 = 0.0\n",
    "T = 50;\n",
    "\n",
    "uht = solve(ode_solver, op, u0, t0, T)"
   ]
  },
  {
   "cell_type": "code",
   "execution_count": 13,
   "id": "16c5b45c",
   "metadata": {},
   "outputs": [
    {
     "data": {
      "text/plain": [
       "201-element Vector{String}:\n",
       " \"sol/sol_1d_transient.pvd\"\n",
       " \"sol/sol_1d_transient_0.25.vtu\"\n",
       " \"sol/sol_1d_transient_0.5.vtu\"\n",
       " \"sol/sol_1d_transient_0.75.vtu\"\n",
       " \"sol/sol_1d_transient_1.0.vtu\"\n",
       " \"sol/sol_1d_transient_1.25.vtu\"\n",
       " \"sol/sol_1d_transient_1.5.vtu\"\n",
       " \"sol/sol_1d_transient_1.75.vtu\"\n",
       " \"sol/sol_1d_transient_2.0.vtu\"\n",
       " \"sol/sol_1d_transient_2.25.vtu\"\n",
       " \"sol/sol_1d_transient_2.5.vtu\"\n",
       " \"sol/sol_1d_transient_2.75.vtu\"\n",
       " \"sol/sol_1d_transient_3.0.vtu\"\n",
       " ⋮\n",
       " \"sol/sol_1d_transient_47.25.vtu\"\n",
       " \"sol/sol_1d_transient_47.5.vtu\"\n",
       " \"sol/sol_1d_transient_47.75.vtu\"\n",
       " \"sol/sol_1d_transient_48.0.vtu\"\n",
       " \"sol/sol_1d_transient_48.25.vtu\"\n",
       " \"sol/sol_1d_transient_48.5.vtu\"\n",
       " \"sol/sol_1d_transient_48.75.vtu\"\n",
       " \"sol/sol_1d_transient_49.0.vtu\"\n",
       " \"sol/sol_1d_transient_49.25.vtu\"\n",
       " \"sol/sol_1d_transient_49.5.vtu\"\n",
       " \"sol/sol_1d_transient_49.75.vtu\"\n",
       " \"sol/sol_1d_transient_50.0.vtu\""
      ]
     },
     "execution_count": 13,
     "metadata": {},
     "output_type": "execute_result"
    }
   ],
   "source": [
    "createpvd(\"sol/sol_1d_transient\") do pvd\n",
    "    for (uh,t) in uht\n",
    "        Qh = -∇(uh);\n",
    "        \n",
    "        pvd[t] = createvtk(Ω, \"sol/sol_1d_transient_$t\" * \".vtu\", cellfields=[\"Th\" => uh, \"Qh\" => Qh])\n",
    "    end\n",
    "end"
   ]
  },
  {
   "cell_type": "markdown",
   "id": "ef399ff5",
   "metadata": {},
   "source": [
    "# 2D Transient"
   ]
  },
  {
   "cell_type": "code",
   "execution_count": 136,
   "id": "4aca62ed",
   "metadata": {},
   "outputs": [
    {
     "name": "stdout",
     "output_type": "stream",
     "text": [
      "Info    : Reading 'geo/coupled_inductor.msh'...\n",
      "Info    : 47 entities\n",
      "Info    : 6957 nodes\n",
      "Info    : 13912 elements\n",
      "Info    : Done reading 'geo/coupled_inductor.msh'\n"
     ]
    },
    {
     "data": {
      "text/plain": [
       "TransientTrialFESpace{Gridap.FESpaces.UnconstrainedFESpace{Vector{Float64}, Nothing}, TrialFESpace{Gridap.FESpaces.UnconstrainedFESpace{Vector{Float64}, Nothing}}}(UnconstrainedFESpace(), g, TrialFESpace())"
      ]
     },
     "execution_count": 136,
     "metadata": {},
     "output_type": "execute_result"
    }
   ],
   "source": [
    "# Define Lagrangian reference element\n",
    "order = 2;\n",
    "reffe = ReferenceFE(lagrangian, Float64, order)\n",
    "\n",
    "# Load mesh\n",
    "model = GmshDiscreteModel(\"geo/coupled_inductor.msh\")\n",
    "Ω = Triangulation(model)\n",
    "dΩ = Measure(Ω, 2*order)\n",
    "#Γ = BoundaryTriangulation(model, tags = [\"bnd_left\"])\n",
    "#dΓ = Measure(Γ, 2*order)\n",
    "\n",
    "# Construct Lagrangian test space\n",
    "V = TestFESpace(model, reffe, dirichlet_tags = [\"dirichlet\"])\n",
    "\n",
    "# Build a transient trial space with Dirichlet conditions\n",
    "g(x, t::Real) = 0;\n",
    "g(t::Real) = x -> g(x,t)\n",
    "U  = TransientTrialFESpace(V, g)"
   ]
  },
  {
   "cell_type": "code",
   "execution_count": 159,
   "id": "cf7f5059",
   "metadata": {},
   "outputs": [],
   "source": [
    "labels = get_face_labeling(model)\n",
    "dimension = num_cell_dims(model)\n",
    "tags = get_face_tag(labels, dimension)\n",
    "\n",
    "const tag_air = get_tag_from_name(labels, \"Air\")\n",
    "const tag_core = get_tag_from_name(labels, \"Core\")\n",
    "const tag_wdg_left = get_tag_from_name(labels, \"Winding Left\")\n",
    "const tag_wdg_right = get_tag_from_name(labels, \"Winding Right\")\n",
    "\n",
    "function rcp(tag)\n",
    "    if(tag == tag_air)\n",
    "        return 1.225 * 700;\n",
    "    elseif(tag == tag_core)\n",
    "        return 5.0e3 * 750;\n",
    "    elseif(tag == tag_wdg_left || tag == tag_wdg_right)\n",
    "        return 8.96e3 * 1.46e3;\n",
    "    else\n",
    "        error(\"rho * cp not defined for tag {$tag}\")\n",
    "        return -1;\n",
    "    end\n",
    "end\n",
    "\n",
    "function k(tag)\n",
    "    if(tag == tag_air)\n",
    "        return 0.025;\n",
    "    elseif(tag == tag_core)\n",
    "        return 4;\n",
    "    elseif(tag == tag_wdg_left || tag == tag_wdg_right)\n",
    "        return 398;\n",
    "    else\n",
    "        error(\"k not defined for tag {$tag}\")\n",
    "        return -1;\n",
    "    end\n",
    "end\n",
    "\n",
    "function Psource(tag)\n",
    "    if(tag == tag_air)\n",
    "        return 0.0;\n",
    "    elseif(tag == tag_core)\n",
    "        return 50.0 / 190e-6;\n",
    "    elseif(tag == tag_wdg_left || tag == tag_wdg_right)\n",
    "        return 50.0 / 60e-6;\n",
    "    else\n",
    "        error(\"Psource not defined for tag {$tag}\")\n",
    "        return -1;\n",
    "    end\n",
    "end\n",
    "\n",
    "Pf(t) = 0;\n",
    "\n",
    "τ = CellField(tags, Ω);"
   ]
  },
  {
   "cell_type": "code",
   "execution_count": 160,
   "id": "7bd62aac",
   "metadata": {},
   "outputs": [
    {
     "data": {
      "text/plain": [
       "TransientFEOperatorFromWeakForm()"
      ]
     },
     "execution_count": 160,
     "metadata": {},
     "output_type": "execute_result"
    }
   ],
   "source": [
    "m(t,u,v) = ∫( (rcp ∘ τ) * v * u )dΩ\n",
    "a(t,u,v) = ∫( (k ∘ τ) * ∇(u) ⋅ ∇(v) )dΩ\n",
    "b(t,v) = ∫( (Psource ∘ τ) * v )dΩ; #+ ∫( Pf(t) * v )dΓ\n",
    "\n",
    "op = TransientAffineFEOperator(m, a, b, U, V)"
   ]
  },
  {
   "cell_type": "code",
   "execution_count": 161,
   "id": "8bb2c86a",
   "metadata": {},
   "outputs": [
    {
     "data": {
      "text/plain": [
       "Gridap.ODEs.TransientFETools.TransientFESolution(GenericODESolution(), TransientTrialFESpace{Gridap.FESpaces.UnconstrainedFESpace{Vector{Float64}, Nothing}, TrialFESpace{Gridap.FESpaces.UnconstrainedFESpace{Vector{Float64}, Nothing}}}(UnconstrainedFESpace(), g, TrialFESpace()))"
      ]
     },
     "execution_count": 161,
     "metadata": {},
     "output_type": "execute_result"
    }
   ],
   "source": [
    "solver = LUSolver()\n",
    "\n",
    "Δt = 2;\n",
    "θ = 0.75\n",
    "ode_solver = ThetaMethod(solver, Δt, θ)\n",
    "\n",
    "u0 = interpolate_everywhere(0, U(0.0))\n",
    "t0 = 0.0\n",
    "T = 200;\n",
    "\n",
    "uht = solve(ode_solver, op, u0, t0, T)"
   ]
  },
  {
   "cell_type": "code",
   "execution_count": 162,
   "id": "a4fbcfc2",
   "metadata": {},
   "outputs": [
    {
     "data": {
      "text/plain": [
       "101-element Vector{String}:\n",
       " \"sol/sol_2d_transient.pvd\"\n",
       " \"sol/sol_2d_transient_2.0.vtu\"\n",
       " \"sol/sol_2d_transient_4.0.vtu\"\n",
       " \"sol/sol_2d_transient_6.0.vtu\"\n",
       " \"sol/sol_2d_transient_8.0.vtu\"\n",
       " \"sol/sol_2d_transient_10.0.vtu\"\n",
       " \"sol/sol_2d_transient_12.0.vtu\"\n",
       " \"sol/sol_2d_transient_14.0.vtu\"\n",
       " \"sol/sol_2d_transient_16.0.vtu\"\n",
       " \"sol/sol_2d_transient_18.0.vtu\"\n",
       " \"sol/sol_2d_transient_20.0.vtu\"\n",
       " \"sol/sol_2d_transient_22.0.vtu\"\n",
       " \"sol/sol_2d_transient_24.0.vtu\"\n",
       " ⋮\n",
       " \"sol/sol_2d_transient_178.0.vtu\"\n",
       " \"sol/sol_2d_transient_180.0.vtu\"\n",
       " \"sol/sol_2d_transient_182.0.vtu\"\n",
       " \"sol/sol_2d_transient_184.0.vtu\"\n",
       " \"sol/sol_2d_transient_186.0.vtu\"\n",
       " \"sol/sol_2d_transient_188.0.vtu\"\n",
       " \"sol/sol_2d_transient_190.0.vtu\"\n",
       " \"sol/sol_2d_transient_192.0.vtu\"\n",
       " \"sol/sol_2d_transient_194.0.vtu\"\n",
       " \"sol/sol_2d_transient_196.0.vtu\"\n",
       " \"sol/sol_2d_transient_198.0.vtu\"\n",
       " \"sol/sol_2d_transient_200.0.vtu\""
      ]
     },
     "execution_count": 162,
     "metadata": {},
     "output_type": "execute_result"
    }
   ],
   "source": [
    "createpvd(\"sol/sol_2d_transient\") do pvd\n",
    "    for (uh,t) in uht\n",
    "        Qh = -∇(uh);\n",
    "        \n",
    "        pvd[t] = createvtk(Ω, \"sol/sol_2d_transient_$t\" * \".vtu\", cellfields=[\"Th\" => uh, \"Qh\" => Qh])\n",
    "    end\n",
    "end"
   ]
  },
  {
   "cell_type": "code",
   "execution_count": null,
   "id": "78854d5d",
   "metadata": {},
   "outputs": [],
   "source": []
  }
 ],
 "metadata": {
  "kernelspec": {
   "display_name": "Julia 1.7.1",
   "language": "julia",
   "name": "julia-1.7"
  },
  "language_info": {
   "file_extension": ".jl",
   "mimetype": "application/julia",
   "name": "julia",
   "version": "1.7.1"
  }
 },
 "nbformat": 4,
 "nbformat_minor": 5
}
